{
 "cells": [
  {
   "cell_type": "markdown",
   "metadata": {},
   "source": [
    "## Ethereum - RPC client"
   ]
  },
  {
   "cell_type": "code",
   "execution_count": 1,
   "metadata": {
    "collapsed": true
   },
   "outputs": [],
   "source": [
    "from IPython.core.interactiveshell import InteractiveShell\n",
    "InteractiveShell.ast_node_interactivity = \"all\""
   ]
  },
  {
   "cell_type": "markdown",
   "metadata": {},
   "source": [
    "In this notebook I will try out the RPC client of Ethereum using Python. See [JSON RPC](https://github.com/ethereum/wiki/wiki/JSON-RPC) for more information on JSON RPC ."
   ]
  },
  {
   "cell_type": "code",
   "execution_count": 2,
   "metadata": {},
   "outputs": [
    {
     "data": {
      "text/plain": [
       "'3.6.0 |Anaconda 4.3.0 (64-bit)| (default, Dec 23 2016, 12:22:00) \\n[GCC 4.4.7 20120313 (Red Hat 4.4.7-1)]'"
      ]
     },
     "execution_count": 2,
     "metadata": {},
     "output_type": "execute_result"
    }
   ],
   "source": [
    "import sys\n",
    "sys.version"
   ]
  },
  {
   "cell_type": "markdown",
   "metadata": {},
   "source": [
    "### Prepare environment"
   ]
  },
  {
   "cell_type": "markdown",
   "metadata": {},
   "source": [
    "Install the Python [RPC client](https://pypi.python.org/pypi/ethereum-rpc-client) for Ethereum. [Github](https://github.com/ConsenSys/ethjsonrpc)\n",
    "```shell\n",
    "jitsejan@jjvps:~$ pip install ethereum-rpc-client\n",
    "```"
   ]
  },
  {
   "cell_type": "markdown",
   "metadata": {},
   "source": [
    "Start the blockchain making sure RPC is enabled.\n",
    "```shell\n",
    "jitsejan@jjvps:~$ geth --networkid 23 --nodiscover --maxpeers 0  --port 30333 --rpc\n",
    "```"
   ]
  },
  {
   "cell_type": "markdown",
   "metadata": {},
   "source": [
    "Verify that geth is running and the account is listed."
   ]
  },
  {
   "cell_type": "code",
   "execution_count": 3,
   "metadata": {},
   "outputs": [
    {
     "name": "stdout",
     "output_type": "stream",
     "text": [
      "Account #0: {8cf9deda0712f2291fb16739f8759e4a0a575854} keystore:///home/jitsejan/.ethereum/keystore/UTC--2017-05-01T14-58-43.532247863Z--8cf9deda0712f2291fb16739f8759e4a0a575854\r\n"
     ]
    }
   ],
   "source": [
    "!geth account list"
   ]
  },
  {
   "cell_type": "markdown",
   "metadata": {},
   "source": [
    "### Connect to the RPC client"
   ]
  },
  {
   "cell_type": "code",
   "execution_count": 4,
   "metadata": {
    "collapsed": true
   },
   "outputs": [],
   "source": [
    "from eth_rpc_client import Client\n",
    "client = Client(host=\"127.0.0.1\", port=\"8545\")"
   ]
  },
  {
   "cell_type": "markdown",
   "metadata": {},
   "source": [
    "### Inspect the client"
   ]
  },
  {
   "cell_type": "code",
   "execution_count": 5,
   "metadata": {},
   "outputs": [
    {
     "data": {
      "text/plain": [
       "\u001b[0;33mabstract class:\u001b[0m\n",
       "    \u001b[0;36m__subclasshook__\u001b[0m\n",
       "\u001b[0;33mattribute access:\u001b[0m\n",
       "    \u001b[0;36m__delattr__\u001b[0m\u001b[1;30m, \u001b[0m\u001b[0;36m__dir__\u001b[0m\u001b[1;30m, \u001b[0m\u001b[0;36m__getattribute__\u001b[0m\u001b[1;30m, \u001b[0m\u001b[0;36m__setattr__\u001b[0m\n",
       "\u001b[0;33mclass customization:\u001b[0m\n",
       "    \u001b[0;36m__init_subclass__\u001b[0m\n",
       "\u001b[0;33mobject customization:\u001b[0m\n",
       "    \u001b[0;36m__format__\u001b[0m\u001b[1;30m, \u001b[0m\u001b[0;36m__hash__\u001b[0m\u001b[1;30m, \u001b[0m\u001b[0;36m__init__\u001b[0m\u001b[1;30m, \u001b[0m\u001b[0;36m__new__\u001b[0m\u001b[1;30m, \u001b[0m\u001b[0;36m__repr__\u001b[0m\u001b[1;30m, \u001b[0m\u001b[0;36m__sizeof__\u001b[0m\u001b[1;30m, \u001b[0m\u001b[0;36m__str__\u001b[0m\n",
       "\u001b[0;33mother:\u001b[0m\n",
       "    \u001b[0;36m_coinbase_cache\u001b[0m\u001b[1;30m, \u001b[0m\u001b[0;36m_coinbase_cache_til\u001b[0m\u001b[1;30m, \u001b[0m\u001b[0;36m_nonce\u001b[0m\u001b[1;30m, \u001b[0m\u001b[0;36masync_timeout\u001b[0m\u001b[1;30m, \u001b[0m\u001b[0;36mhost\u001b[0m\u001b[1;30m, \u001b[0m\u001b[0;36mis_async\u001b[0m\u001b[1;30m, \u001b[0m\u001b[0;36mport\u001b[0m\u001b[1;30m, \u001b[0m\u001b[0;36mrequest_queue\u001b[0m\u001b[1;30m, \u001b[0m\u001b[0;36mrequest_thread\u001b[0m\u001b[1;30m, \u001b[0m\u001b[0;36mresults\u001b[0m\u001b[1;30m, \u001b[0m\u001b[0;36msession\u001b[0m\n",
       "\u001b[0;33mpickle:\u001b[0m\n",
       "    \u001b[0;36m__reduce__\u001b[0m\u001b[1;30m, \u001b[0m\u001b[0;36m__reduce_ex__\u001b[0m\n",
       "\u001b[0;33mrich comparison:\u001b[0m\n",
       "    \u001b[0;36m__eq__\u001b[0m\u001b[1;30m, \u001b[0m\u001b[0;36m__ge__\u001b[0m\u001b[1;30m, \u001b[0m\u001b[0;36m__gt__\u001b[0m\u001b[1;30m, \u001b[0m\u001b[0;36m__le__\u001b[0m\u001b[1;30m, \u001b[0m\u001b[0;36m__lt__\u001b[0m\u001b[1;30m, \u001b[0m\u001b[0;36m__ne__\u001b[0m\n",
       "\u001b[0;33mspecial attribute:\u001b[0m\n",
       "    \u001b[0;36m__class__\u001b[0m\u001b[1;30m, \u001b[0m\u001b[0;36m__dict__\u001b[0m\u001b[1;30m, \u001b[0m\u001b[0;36m__doc__\u001b[0m\u001b[1;30m, \u001b[0m\u001b[0;36m__module__\u001b[0m\u001b[1;30m, \u001b[0m\u001b[0;36m__weakref__\u001b[0m\n",
       "\u001b[0;33mdescriptor:\u001b[0m\n",
       "    \u001b[0;36mdefault_from_address:\u001b[0m \u001b[1;30m@property with getter, Cache the coinbase address so that we don't make two requests for every\u001b[0m\n",
       "\u001b[0;33mfunction:\u001b[0m\n",
       "    \u001b[0;36m_make_request:\u001b[0m \u001b[1;30m\u001b[0m\n",
       "    \u001b[0;36mcall:\u001b[0m \u001b[1;30mhttps://github.com/ethereum/wiki/wiki/JSON-RPC#eth_call\u001b[0m\n",
       "    \u001b[0;36mconstruct_json_request:\u001b[0m \u001b[1;30m\u001b[0m\n",
       "    \u001b[0;36mget_accounts:\u001b[0m \u001b[1;30mhttps://github.com/ethereum/wiki/wiki/JSON-RPC#eth_accounts\u001b[0m\n",
       "    \u001b[0;36mget_balance:\u001b[0m \u001b[1;30mhttps://github.com/ethereum/wiki/wiki/JSON-RPC#eth_getbalance\u001b[0m\n",
       "    \u001b[0;36mget_block_by_hash:\u001b[0m \u001b[1;30mhttps://github.com/ethereum/wiki/wiki/JSON-RPC#eth_getblockbyhash\u001b[0m\n",
       "    \u001b[0;36mget_block_by_number:\u001b[0m \u001b[1;30mhttps://github.com/ethereum/wiki/wiki/JSON-RPC#eth_getblockbynumber\u001b[0m\n",
       "    \u001b[0;36mget_block_number:\u001b[0m \u001b[1;30mhttps://github.com/ethereum/wiki/wiki/JSON-RPC#eth_blocknumber<F37>\u001b[0m\n",
       "    \u001b[0;36mget_code:\u001b[0m \u001b[1;30mhttps://github.com/ethereum/wiki/wiki/JSON-RPC#eth_getcode\u001b[0m\n",
       "    \u001b[0;36mget_coinbase:\u001b[0m \u001b[1;30mhttps://github.com/ethereum/wiki/wiki/JSON-RPC#eth_coinbase\u001b[0m\n",
       "    \u001b[0;36mget_filter_changes:\u001b[0m \u001b[1;30mhttps://github.com/ethereum/wiki/wiki/JSON-RPC#eth_getfilterchanges\u001b[0m\n",
       "    \u001b[0;36mget_filter_logs:\u001b[0m \u001b[1;30mhttps://github.com/ethereum/wiki/wiki/JSON-RPC#eth_getfilterlogs\u001b[0m\n",
       "    \u001b[0;36mget_gas_price:\u001b[0m \u001b[1;30mhttps://github.com/ethereum/wiki/wiki/JSON-RPC#eth_gasprice\u001b[0m\n",
       "    \u001b[0;36mget_logs:\u001b[0m \u001b[1;30mhttps://github.com/ethereum/wiki/wiki/JSON-RPC#eth_getlogs\u001b[0m\n",
       "    \u001b[0;36mget_max_gas:\u001b[0m \u001b[1;30m\u001b[0m\n",
       "    \u001b[0;36mget_nonce:\u001b[0m \u001b[1;30m\u001b[0m\n",
       "    \u001b[0;36mget_transaction_by_hash:\u001b[0m \u001b[1;30mhttps://github.com/ethereum/wiki/wiki/JSON-RPC#eth_gettransactionbyhash\u001b[0m\n",
       "    \u001b[0;36mget_transaction_receipt:\u001b[0m \u001b[1;30mhttps://github.com/ethereum/wiki/wiki/JSON-RPC#eth_gettransactionreceipt\u001b[0m\n",
       "    \u001b[0;36mmake_request:\u001b[0m \u001b[1;30m\u001b[0m\n",
       "    \u001b[0;36mnew_block_filter:\u001b[0m \u001b[1;30mhttps://github.com/ethereum/wiki/wiki/JSON-RPC#eth_newblockfilter\u001b[0m\n",
       "    \u001b[0;36mnew_filter:\u001b[0m \u001b[1;30mhttps://github.com/ethereum/wiki/wiki/JSON-RPC#eth_newfilter\u001b[0m\n",
       "    \u001b[0;36mnew_pending_transaction_filter:\u001b[0m \u001b[1;30mhttps://github.com/ethereum/wiki/wiki/JSON-RPC#eth_newpendingtransactionfilter\u001b[0m\n",
       "    \u001b[0;36mprocess_requests:\u001b[0m \u001b[1;30mLoop that runs in a thread to process requests synchronously.\u001b[0m\n",
       "    \u001b[0;36msend_transaction:\u001b[0m \u001b[1;30mhttps://github.com/ethereum/wiki/wiki/JSON-RPC#eth_sendtransaction\u001b[0m\n",
       "    \u001b[0;36muninstall_filter:\u001b[0m \u001b[1;30mhttps://github.com/ethereum/wiki/wiki/JSON-RPC#eth_uninstallfilter\u001b[0m\n",
       "    \u001b[0;36mwait_for_block:\u001b[0m \u001b[1;30m\u001b[0m\n",
       "    \u001b[0;36mwait_for_transaction:\u001b[0m \u001b[1;30m\u001b[0m"
      ]
     },
     "execution_count": 5,
     "metadata": {},
     "output_type": "execute_result"
    }
   ],
   "source": [
    "import pdir\n",
    "pdir(client)"
   ]
  },
  {
   "cell_type": "markdown",
   "metadata": {},
   "source": [
    "### Get the coinbase for the blockchain"
   ]
  },
  {
   "cell_type": "code",
   "execution_count": 6,
   "metadata": {},
   "outputs": [
    {
     "data": {
      "text/plain": [
       "'0x8cf9deda0712f2291fb16739f8759e4a0a575854'"
      ]
     },
     "execution_count": 6,
     "metadata": {},
     "output_type": "execute_result"
    }
   ],
   "source": [
    "address = client.get_coinbase()\n",
    "address"
   ]
  },
  {
   "cell_type": "markdown",
   "metadata": {},
   "source": [
    "### Retrieve the balance of the main address"
   ]
  },
  {
   "cell_type": "code",
   "execution_count": 7,
   "metadata": {},
   "outputs": [
    {
     "data": {
      "text/plain": [
       "135000419895999999940"
      ]
     },
     "execution_count": 7,
     "metadata": {},
     "output_type": "execute_result"
    }
   ],
   "source": [
    "client.get_balance(address)"
   ]
  },
  {
   "cell_type": "markdown",
   "metadata": {},
   "source": [
    "Set the addresses of the two other machines:"
   ]
  },
  {
   "cell_type": "code",
   "execution_count": 8,
   "metadata": {
    "collapsed": true
   },
   "outputs": [],
   "source": [
    "address_vps_one = \"0xc257beaea430afb3a09640ce7f020c906331f805\"\n",
    "address_vps_two = \"0xe86ee31b7d32b743907fa7438c422a1803717deb\""
   ]
  },
  {
   "cell_type": "code",
   "execution_count": 9,
   "metadata": {},
   "outputs": [
    {
     "data": {
      "text/plain": [
       "6999160060000000000"
      ]
     },
     "execution_count": 9,
     "metadata": {},
     "output_type": "execute_result"
    },
    {
     "data": {
      "text/plain": [
       "83000420044000000060"
      ]
     },
     "execution_count": 9,
     "metadata": {},
     "output_type": "execute_result"
    }
   ],
   "source": [
    "client.get_balance(address_vps_one)\n",
    "client.get_balance(address_vps_two)"
   ]
  },
  {
   "cell_type": "markdown",
   "metadata": {},
   "source": [
    "## Transaction\n",
    "Lets send 12 Ether from the main machine to VPS one."
   ]
  },
  {
   "cell_type": "code",
   "execution_count": 10,
   "metadata": {
    "collapsed": true
   },
   "outputs": [],
   "source": [
    "amount = 12 # Ether\n",
    "sending_address = address\n",
    "receiving_address = address_vps_one"
   ]
  },
  {
   "cell_type": "markdown",
   "metadata": {},
   "source": [
    "1 GWEI = 0.000000001 Ether"
   ]
  },
  {
   "cell_type": "markdown",
   "metadata": {},
   "source": [
    "### Get the password to unlock the sending account"
   ]
  },
  {
   "cell_type": "code",
   "execution_count": 11,
   "metadata": {},
   "outputs": [
    {
     "name": "stdout",
     "output_type": "stream",
     "text": [
      "Enter the password for the sender: ········\n"
     ]
    }
   ],
   "source": [
    "from getpass import getpass  \n",
    "pw = getpass(prompt='Enter the password for the sender: ')"
   ]
  },
  {
   "cell_type": "markdown",
   "metadata": {},
   "source": [
    "### Unlock the account via the command line\n",
    "(By lack of a better way)"
   ]
  },
  {
   "cell_type": "code",
   "execution_count": 12,
   "metadata": {},
   "outputs": [
    {
     "name": "stdout",
     "output_type": "stream",
     "text": [
      "Account is unlocked!\n"
     ]
    }
   ],
   "source": [
    "command = r'geth --exec \"personal.unlockAccount(\\\"%s\\\", \\\"%s\\\");\" attach ' % (sending_address, pw)\n",
    "result = !$command\n",
    "if result[0] != 'true':\n",
    "    print('Fail: %s' % result[0])\n",
    "else:\n",
    "    print('Account is unlocked!')"
   ]
  },
  {
   "cell_type": "markdown",
   "metadata": {},
   "source": [
    "### Send the transaction"
   ]
  },
  {
   "cell_type": "code",
   "execution_count": 13,
   "metadata": {
    "scrolled": true
   },
   "outputs": [],
   "source": [
    "tx_hash = client.send_transaction(to=receiving_address, _from=sending_address, value=amount * 10**9)"
   ]
  },
  {
   "cell_type": "markdown",
   "metadata": {},
   "source": [
    "### Check the transaction details"
   ]
  },
  {
   "cell_type": "code",
   "execution_count": 14,
   "metadata": {
    "scrolled": false
   },
   "outputs": [
    {
     "data": {
      "text/plain": [
       "{'blockHash': '0x0000000000000000000000000000000000000000000000000000000000000000',\n",
       " 'blockNumber': None,\n",
       " 'from': '0x8cf9deda0712f2291fb16739f8759e4a0a575854',\n",
       " 'gas': '0x15f90',\n",
       " 'gasPrice': '0x4a817c800',\n",
       " 'hash': '0x3d1a193ccfccc4e9ab2a411044069deeec2feef31a594bbf73726b463e8e90b4',\n",
       " 'input': '0x',\n",
       " 'nonce': '0xb',\n",
       " 'r': '0xe8698846a461938e800698fcc34570e0c4e9a3425f0bc441bf3e0716dab7b3e0',\n",
       " 's': '0x4fcd9bda8a1e98a7b0e8d953dec0cc733238c383d97393aa15c43963551f8daf',\n",
       " 'to': '0xc257beaea430afb3a09640ce7f020c906331f805',\n",
       " 'transactionIndex': '0x0',\n",
       " 'v': '0x42',\n",
       " 'value': '0x2cb417800'}"
      ]
     },
     "execution_count": 14,
     "metadata": {},
     "output_type": "execute_result"
    }
   ],
   "source": [
    "client.get_transaction_by_hash(tx_hash)"
   ]
  },
  {
   "cell_type": "markdown",
   "metadata": {},
   "source": [
    "### Perform one mining step\n",
    "Execute the miner to validate the transaction."
   ]
  },
  {
   "cell_type": "code",
   "execution_count": 15,
   "metadata": {
    "collapsed": true
   },
   "outputs": [],
   "source": [
    "prev_balance_sen = client.get_balance(sending_address)\n",
    "prev_balance_rec = client.get_balance(receiving_address)"
   ]
  },
  {
   "cell_type": "code",
   "execution_count": 16,
   "metadata": {},
   "outputs": [
    {
     "name": "stdout",
     "output_type": "stream",
     "text": [
      "Mining finished!\n"
     ]
    }
   ],
   "source": [
    "result = !geth --exec \"miner.start();admin.sleepBlocks(1);miner.stop();\" attach\n",
    "if result[0] != 'true':\n",
    "    print('Fail: %s' % result[0])\n",
    "else:\n",
    "    print(\"Mining finished!\")"
   ]
  },
  {
   "cell_type": "markdown",
   "metadata": {},
   "source": [
    "### Check if the Ether has been received"
   ]
  },
  {
   "cell_type": "code",
   "execution_count": 17,
   "metadata": {},
   "outputs": [
    {
     "name": "stdout",
     "output_type": "stream",
     "text": [
      "Received 12000000000\n"
     ]
    }
   ],
   "source": [
    "print(\"Received %d\"% (client.get_balance(receiving_address)-prev_balance_rec))"
   ]
  },
  {
   "cell_type": "markdown",
   "metadata": {},
   "source": [
    "### Check if the Ether was sent\n",
    "First check the difference in the balance."
   ]
  },
  {
   "cell_type": "code",
   "execution_count": 18,
   "metadata": {},
   "outputs": [
    {
     "name": "stdout",
     "output_type": "stream",
     "text": [
      "Difference of the sender 4999999988000000000\n"
     ]
    }
   ],
   "source": [
    "print(\"Difference of the sender %d\"% (client.get_balance(sending_address)-prev_balance_sen))"
   ]
  },
  {
   "cell_type": "markdown",
   "metadata": {},
   "source": [
    "For mining, the miner will get a mining bonus."
   ]
  },
  {
   "cell_type": "code",
   "execution_count": 19,
   "metadata": {
    "collapsed": true
   },
   "outputs": [],
   "source": [
    "mining_bonus = 5000000000000000000"
   ]
  },
  {
   "cell_type": "markdown",
   "metadata": {},
   "source": [
    "To get the amount of Ether sent we need to substract the mining bonus."
   ]
  },
  {
   "cell_type": "code",
   "execution_count": 20,
   "metadata": {},
   "outputs": [
    {
     "name": "stdout",
     "output_type": "stream",
     "text": [
      "Amount difference: -12000000000\n"
     ]
    }
   ],
   "source": [
    "print(\"Amount difference: %d\" % int(client.get_balance(sending_address)-prev_balance_sen - mining_bonus))"
   ]
  }
 ],
 "metadata": {
  "kernelspec": {
   "display_name": "Python 3",
   "language": "python",
   "name": "python3"
  },
  "language_info": {
   "codemirror_mode": {
    "name": "ipython",
    "version": 3
   },
   "file_extension": ".py",
   "mimetype": "text/x-python",
   "name": "python",
   "nbconvert_exporter": "python",
   "pygments_lexer": "ipython3",
   "version": "3.6.0"
  }
 },
 "nbformat": 4,
 "nbformat_minor": 2
}
