{
 "cells": [
  {
   "cell_type": "markdown",
   "metadata": {},
   "source": [
    "My first experience with [MongoDB](https://www.mongodb.com/mongodb-3.4). I will install MongoDB and Pymongo, insert some data and query it. Next step will be to tryout [monary](https://bitbucket.org/djcbeach/monary/wiki/Home), but for this notebook it is out of scope."
   ]
  },
  {
   "cell_type": "markdown",
   "metadata": {
    "collapsed": true
   },
   "source": [
    "## Installation steps\n",
    "Run the following commands to install MongoDB.\n",
    "``` shell\n",
    "jitsejan@vps:/$ sudo apt-key adv --keyserver hkp://keyserver.ubuntu.com:80 --recv 0C49F3730359A14518585931BC711F9BA15703C6\n",
    "jitsejan@jjvps:/$ echo \"deb [ arch=amd64,arm64 ] http://repo.mongodb.org/apt/ubuntu xenial/mongodb-org/3.4 multiverse\" | sudo tee /etc/apt/sources.list.d/mongodb-org-3.4.list\n",
    "jitsejan@jjvps:/$ sudo apt-get update\n",
    "jitsejan@jjvps:/$ sudo apt-get install -y mongodb-org\n",
    "```"
   ]
  },
  {
   "cell_type": "markdown",
   "metadata": {},
   "source": [
    "## Start MongoDB\n",
    "``` shell\n",
    "jitsejan@jjvps:/$ sudo service mongod start\n",
    "```"
   ]
  },
  {
   "cell_type": "code",
   "execution_count": 1,
   "metadata": {
    "collapsed": false
   },
   "outputs": [
    {
     "name": "stdout",
     "output_type": "stream",
     "text": [
      "2017-04-05T10:33:15.620-0400 W FTDC     [initandlisten] Error checking directory '/sys/block': No such file or directory\r\n",
      "2017-04-05T10:33:15.621-0400 I FTDC     [initandlisten] Initializing full-time diagnostic data capture with directory '/var/lib/mongodb/diagnostic.data'\r\n",
      "2017-04-05T10:33:15.621-0400 I NETWORK  [thread1] waiting for connections on port 27017\r\n",
      "2017-04-05T10:34:27.470-0400 I NETWORK  [conn4] received client metadata from 127.0.0.1:34370 conn4: { driver: { name: \"PyMongo\", version: \"3.4.0\" }, os: { type: \"Linux\", name: \"debian stretch/sid\", architecture: \"x86_64\", version: \"2.6.32-042stab120.16\" }, platform: \"CPython 3.6.0.final.0\" }\r\n",
      "2017-04-05T10:40:10.716-0400 I COMMAND  [conn4] dropDatabase nintendo_db starting\r\n",
      "2017-04-05T10:40:10.723-0400 I COMMAND  [conn4] dropDatabase nintendo_db finished\r\n",
      "2017-04-05T10:40:26.823-0400 I NETWORK  [conn5] received client metadata from 127.0.0.1:42910 conn5: { driver: { name: \"PyMongo\", version: \"3.4.0\" }, os: { type: \"Linux\", name: \"debian stretch/sid\", architecture: \"x86_64\", version: \"2.6.32-042stab120.16\" }, platform: \"CPython 3.6.0.final.0\" }\r\n",
      "2017-04-05T10:40:26.831-0400 I NETWORK  [conn6] received client metadata from 127.0.0.1:42912 conn6: { driver: { name: \"PyMongo\", version: \"3.4.0\" }, os: { type: \"Linux\", name: \"debian stretch/sid\", architecture: \"x86_64\", version: \"2.6.32-042stab120.16\" }, platform: \"CPython 3.6.0.final.0\" }\r\n",
      "2017-04-05T10:53:00.408-0400 I NETWORK  [conn7] received client metadata from 127.0.0.1:35700 conn7: { driver: { name: \"PyMongo\", version: \"3.4.0\" }, os: { type: \"Linux\", name: \"debian stretch/sid\", architecture: \"x86_64\", version: \"2.6.32-042stab120.16\" }, platform: \"CPython 3.6.0.final.0\" }\r\n",
      "2017-04-05T10:53:00.410-0400 I NETWORK  [conn8] received client metadata from 127.0.0.1:35702 conn8: { driver: { name: \"PyMongo\", version: \"3.4.0\" }, os: { type: \"Linux\", name: \"debian stretch/sid\", architecture: \"x86_64\", version: \"2.6.32-042stab120.16\" }, platform: \"CPython 3.6.0.final.0\" }\r\n"
     ]
    }
   ],
   "source": [
    "!tail /var/log/mongodb/mongod.log"
   ]
  },
  {
   "cell_type": "markdown",
   "metadata": {},
   "source": [
    "## Install Python module\n",
    "Use [Pymongo](https://api.mongodb.com/python/current/) to communicate with MongoDB."
   ]
  },
  {
   "cell_type": "code",
   "execution_count": 2,
   "metadata": {
    "collapsed": false
   },
   "outputs": [
    {
     "name": "stdout",
     "output_type": "stream",
     "text": [
      "Requirement already satisfied: pymongo in /home/jitsejan/anaconda3/lib/python3.6/site-packages\r\n"
     ]
    }
   ],
   "source": [
    "!pip install pymongo"
   ]
  },
  {
   "cell_type": "markdown",
   "metadata": {},
   "source": [
    "## Connect to MongoDB"
   ]
  },
  {
   "cell_type": "code",
   "execution_count": 3,
   "metadata": {
    "collapsed": false
   },
   "outputs": [
    {
     "name": "stdout",
     "output_type": "stream",
     "text": [
      "3.4.0\n"
     ]
    }
   ],
   "source": [
    "import pymongo\n",
    "print(pymongo.version)\n",
    "client = pymongo.MongoClient('mongodb://localhost:27017/')"
   ]
  },
  {
   "cell_type": "markdown",
   "metadata": {},
   "source": [
    "### Check which databases already exist"
   ]
  },
  {
   "cell_type": "code",
   "execution_count": 4,
   "metadata": {
    "collapsed": false
   },
   "outputs": [
    {
     "data": {
      "text/plain": [
       "['admin', 'local', 'nintendo_db']"
      ]
     },
     "execution_count": 4,
     "metadata": {},
     "output_type": "execute_result"
    }
   ],
   "source": [
    "client.database_names()"
   ]
  },
  {
   "cell_type": "markdown",
   "metadata": {},
   "source": [
    "### Create a new database\n",
    "You can create a database by simply selecting the non-existing database. Only when a document is written, the database will physically be created."
   ]
  },
  {
   "cell_type": "code",
   "execution_count": 5,
   "metadata": {
    "collapsed": false
   },
   "outputs": [
    {
     "data": {
      "text/plain": [
       "Database(MongoClient(host=['localhost:27017'], document_class=dict, tz_aware=False, connect=True), 'nintendo_db')"
      ]
     },
     "execution_count": 5,
     "metadata": {},
     "output_type": "execute_result"
    }
   ],
   "source": [
    "db = client.nintendo_db\n",
    "db"
   ]
  },
  {
   "cell_type": "markdown",
   "metadata": {},
   "source": [
    "### Create a new collection"
   ]
  },
  {
   "cell_type": "code",
   "execution_count": 6,
   "metadata": {
    "collapsed": false
   },
   "outputs": [
    {
     "data": {
      "text/plain": [
       "Collection(Database(MongoClient(host=['localhost:27017'], document_class=dict, tz_aware=False, connect=True), 'nintendo_db'), 'characters')"
      ]
     },
     "execution_count": 6,
     "metadata": {},
     "output_type": "execute_result"
    }
   ],
   "source": [
    "characters = db.characters\n",
    "characters"
   ]
  },
  {
   "cell_type": "markdown",
   "metadata": {},
   "source": [
    "### Create documents\n",
    "For simplicity, I will use the data that I have used in another notebook for creating documents."
   ]
  },
  {
   "cell_type": "code",
   "execution_count": 7,
   "metadata": {
    "collapsed": false
   },
   "outputs": [
    {
     "data": {
      "text/html": [
       "<div>\n",
       "<table border=\"1\" class=\"dataframe\">\n",
       "  <thead>\n",
       "    <tr style=\"text-align: right;\">\n",
       "      <th></th>\n",
       "      <th>id</th>\n",
       "      <th>name</th>\n",
       "      <th>description</th>\n",
       "      <th>color</th>\n",
       "      <th>occupation</th>\n",
       "      <th>picture</th>\n",
       "    </tr>\n",
       "  </thead>\n",
       "  <tbody>\n",
       "    <tr>\n",
       "      <th>0</th>\n",
       "      <td>2</td>\n",
       "      <td>Luigi</td>\n",
       "      <td>This is Luigi</td>\n",
       "      <td>green</td>\n",
       "      <td>plumber</td>\n",
       "      <td>https://upload.wikimedia.org/wikipedia/en/f/f1...</td>\n",
       "    </tr>\n",
       "    <tr>\n",
       "      <th>1</th>\n",
       "      <td>1</td>\n",
       "      <td>Mario</td>\n",
       "      <td>This is Mario</td>\n",
       "      <td>red</td>\n",
       "      <td>plumber</td>\n",
       "      <td>https://upload.wikimedia.org/wikipedia/en/9/99...</td>\n",
       "    </tr>\n",
       "    <tr>\n",
       "      <th>2</th>\n",
       "      <td>3</td>\n",
       "      <td>Peach</td>\n",
       "      <td>My name is Peach</td>\n",
       "      <td>pink</td>\n",
       "      <td>princess</td>\n",
       "      <td>https://s-media-cache-ak0.pinimg.com/originals...</td>\n",
       "    </tr>\n",
       "    <tr>\n",
       "      <th>3</th>\n",
       "      <td>4</td>\n",
       "      <td>Toad</td>\n",
       "      <td>I like funghi</td>\n",
       "      <td>red</td>\n",
       "      <td>NaN</td>\n",
       "      <td>https://upload.wikimedia.org/wikipedia/en/d/d1...</td>\n",
       "    </tr>\n",
       "  </tbody>\n",
       "</table>\n",
       "</div>"
      ],
      "text/plain": [
       "   id   name       description  color occupation  \\\n",
       "0   2  Luigi     This is Luigi  green    plumber   \n",
       "1   1  Mario     This is Mario    red    plumber   \n",
       "2   3  Peach  My name is Peach   pink   princess   \n",
       "3   4   Toad     I like funghi    red        NaN   \n",
       "\n",
       "                                             picture  \n",
       "0  https://upload.wikimedia.org/wikipedia/en/f/f1...  \n",
       "1  https://upload.wikimedia.org/wikipedia/en/9/99...  \n",
       "2  https://s-media-cache-ak0.pinimg.com/originals...  \n",
       "3  https://upload.wikimedia.org/wikipedia/en/d/d1...  "
      ]
     },
     "execution_count": 7,
     "metadata": {},
     "output_type": "execute_result"
    }
   ],
   "source": [
    "import pandas as pd\n",
    "character_df = pd.read_csv('../data/nintendo_characters.csv')\n",
    "character_df"
   ]
  },
  {
   "cell_type": "code",
   "execution_count": 8,
   "metadata": {
    "collapsed": false
   },
   "outputs": [
    {
     "name": "stdout",
     "output_type": "stream",
     "text": [
      "{\n",
      "    \"id\": 2,\n",
      "    \"name\": \"Luigi\",\n",
      "    \"description\": \"This is Luigi\",\n",
      "    \"color\": \"green\",\n",
      "    \"occupation\": \"plumber\",\n",
      "    \"picture\": \"https://upload.wikimedia.org/wikipedia/en/f/f1/LuigiNSMBW.png\"\n",
      "}\n"
     ]
    }
   ],
   "source": [
    "import json\n",
    "characters_dict = character_df.to_dict(orient='records')\n",
    "print(json.dumps(characters_dict[0], indent=4))"
   ]
  },
  {
   "cell_type": "code",
   "execution_count": 9,
   "metadata": {
    "collapsed": false
   },
   "outputs": [
    {
     "name": "stdout",
     "output_type": "stream",
     "text": [
      "58e504df6221ac77482eae4e\n",
      "58e504df6221ac77482eae4f\n",
      "58e504df6221ac77482eae50\n",
      "58e504df6221ac77482eae51\n"
     ]
    }
   ],
   "source": [
    "for character in characters_dict:\n",
    "    character_id = characters.insert_one(character).inserted_id\n",
    "    print(character_id)"
   ]
  },
  {
   "cell_type": "markdown",
   "metadata": {},
   "source": [
    "### Verify the new collection has been created"
   ]
  },
  {
   "cell_type": "code",
   "execution_count": 10,
   "metadata": {
    "collapsed": false
   },
   "outputs": [
    {
     "data": {
      "text/plain": [
       "['characters']"
      ]
     },
     "execution_count": 10,
     "metadata": {},
     "output_type": "execute_result"
    }
   ],
   "source": [
    "db.collection_names(include_system_collections=False)"
   ]
  },
  {
   "cell_type": "markdown",
   "metadata": {},
   "source": [
    "### Verify the characters have been added\n",
    "Check the number of documents for the characters collection."
   ]
  },
  {
   "cell_type": "code",
   "execution_count": 11,
   "metadata": {
    "collapsed": false
   },
   "outputs": [
    {
     "data": {
      "text/plain": [
       "8"
      ]
     },
     "execution_count": 11,
     "metadata": {},
     "output_type": "execute_result"
    }
   ],
   "source": [
    "characters.count()"
   ]
  },
  {
   "cell_type": "markdown",
   "metadata": {},
   "source": [
    "Check if Luigi is in the database."
   ]
  },
  {
   "cell_type": "code",
   "execution_count": 12,
   "metadata": {
    "collapsed": false
   },
   "outputs": [
    {
     "data": {
      "text/plain": [
       "{'_id': ObjectId('58e501db6221ac72c8a3106b'),\n",
       " 'color': 'green',\n",
       " 'description': 'This is Luigi',\n",
       " 'id': 2,\n",
       " 'name': 'Luigi',\n",
       " 'occupation': 'plumber',\n",
       " 'picture': 'https://upload.wikimedia.org/wikipedia/en/f/f1/LuigiNSMBW.png'}"
      ]
     },
     "execution_count": 12,
     "metadata": {},
     "output_type": "execute_result"
    }
   ],
   "source": [
    "characters.find_one({\"name\": \"Luigi\"})"
   ]
  },
  {
   "cell_type": "markdown",
   "metadata": {},
   "source": [
    "### Retrieve all documents in the characters collection"
   ]
  },
  {
   "cell_type": "code",
   "execution_count": 13,
   "metadata": {
    "collapsed": false
   },
   "outputs": [
    {
     "data": {
      "text/plain": [
       "{'_id': ObjectId('58e501db6221ac72c8a3106b'),\n",
       " 'color': 'green',\n",
       " 'description': 'This is Luigi',\n",
       " 'id': 2,\n",
       " 'name': 'Luigi',\n",
       " 'occupation': 'plumber',\n",
       " 'picture': 'https://upload.wikimedia.org/wikipedia/en/f/f1/LuigiNSMBW.png'}"
      ]
     },
     "execution_count": 13,
     "metadata": {},
     "output_type": "execute_result"
    }
   ],
   "source": [
    "characters_from_db = list(characters.find({}))\n",
    "characters_from_db[0]"
   ]
  },
  {
   "cell_type": "markdown",
   "metadata": {},
   "source": [
    "### Find the red characters\n",
    "Only retrieve the name and description of the character."
   ]
  },
  {
   "cell_type": "code",
   "execution_count": 14,
   "metadata": {
    "collapsed": false
   },
   "outputs": [
    {
     "data": {
      "text/plain": [
       "[{'description': 'This is Mario', 'name': 'Mario'},\n",
       " {'description': 'I like funghi', 'name': 'Toad'},\n",
       " {'description': 'This is Mario', 'name': 'Mario'},\n",
       " {'description': 'I like funghi', 'name': 'Toad'}]"
      ]
     },
     "execution_count": 14,
     "metadata": {},
     "output_type": "execute_result"
    }
   ],
   "source": [
    "red_characters = list(characters.find({\"color\": \"red\"}, {\"name\":1, \"description\":1, \"_id\":0}))\n",
    "red_characters"
   ]
  },
  {
   "cell_type": "markdown",
   "metadata": {},
   "source": [
    "### Create a dataframe from the results"
   ]
  },
  {
   "cell_type": "code",
   "execution_count": 15,
   "metadata": {
    "collapsed": false
   },
   "outputs": [
    {
     "data": {
      "text/html": [
       "<div>\n",
       "<table border=\"1\" class=\"dataframe\">\n",
       "  <thead>\n",
       "    <tr style=\"text-align: right;\">\n",
       "      <th></th>\n",
       "      <th>description</th>\n",
       "      <th>name</th>\n",
       "    </tr>\n",
       "  </thead>\n",
       "  <tbody>\n",
       "    <tr>\n",
       "      <th>0</th>\n",
       "      <td>This is Mario</td>\n",
       "      <td>Mario</td>\n",
       "    </tr>\n",
       "    <tr>\n",
       "      <th>1</th>\n",
       "      <td>I like funghi</td>\n",
       "      <td>Toad</td>\n",
       "    </tr>\n",
       "    <tr>\n",
       "      <th>2</th>\n",
       "      <td>This is Mario</td>\n",
       "      <td>Mario</td>\n",
       "    </tr>\n",
       "    <tr>\n",
       "      <th>3</th>\n",
       "      <td>I like funghi</td>\n",
       "      <td>Toad</td>\n",
       "    </tr>\n",
       "  </tbody>\n",
       "</table>\n",
       "</div>"
      ],
      "text/plain": [
       "     description   name\n",
       "0  This is Mario  Mario\n",
       "1  I like funghi   Toad\n",
       "2  This is Mario  Mario\n",
       "3  I like funghi   Toad"
      ]
     },
     "execution_count": 15,
     "metadata": {},
     "output_type": "execute_result"
    }
   ],
   "source": [
    "import pandas as pd\n",
    "red_characters_df = pd.DataFrame.from_dict(red_characters)\n",
    "red_characters_df"
   ]
  },
  {
   "cell_type": "markdown",
   "metadata": {
    "collapsed": true
   },
   "source": [
    "### Drop the database"
   ]
  },
  {
   "cell_type": "code",
   "execution_count": 16,
   "metadata": {
    "collapsed": false
   },
   "outputs": [],
   "source": [
    "client.drop_database('nintendo_db')"
   ]
  }
 ],
 "metadata": {
  "kernelspec": {
   "display_name": "Python 3",
   "language": "python",
   "name": "python3"
  },
  "language_info": {
   "codemirror_mode": {
    "name": "ipython",
    "version": 3
   },
   "file_extension": ".py",
   "mimetype": "text/x-python",
   "name": "python",
   "nbconvert_exporter": "python",
   "pygments_lexer": "ipython3",
   "version": "3.6.0"
  }
 },
 "nbformat": 4,
 "nbformat_minor": 2
}
