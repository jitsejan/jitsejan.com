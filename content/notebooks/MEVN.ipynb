{
 "cells": [
  {
   "cell_type": "markdown",
   "metadata": {},
   "source": [
    "In this notebook I want to play with Jupyter and show the steps of how to create a MEVN application from a notebook. Normally I would do this in the normal Linux terminal and a text editor, but since we can combine code, explanation and shell commands, I want to create a story in this notebook which hopefully will be of any help of people experimenting with full-stack development. I will create the application, use some simple Linux tricks and use Selenium to test the application.\n",
    "\n",
    "Please note development like this is far from optimal, but I think it is very cool what you can achieve without leaving your notebook, knowing a bit of Docker, Linux and Python.\n",
    "\n",
    "The original notebook can be found [here](https://github.com/jitsejan/notebooks/blob/master/notebooks/MEVN.ipynb).\n",
    "\n",
    "\n",
    "## Objective\n",
    "Setup an application with the following elements\n",
    "\n",
    "* [MongoDB](https://www.mongodb.com/)\n",
    "* [ExpressJS](https://expressjs.com/)\n",
    "* [VueJS](https://vuejs.org/)\n",
    "* [NodeJS](https://nodejs.org/en/)\n",
    "\n",
    "using\n",
    "\n",
    "* [Jupyter](http://jupyter.org/) notebook\n",
    "* [Docker](https://www.docker.com/)\n",
    "* [Scrapy](https://scrapy.org/)\n",
    "* [PyMongo](https://api.mongodb.com/python/current/)\n",
    "* [Selenium](http://www.seleniumhq.org/)"
   ]
  },
  {
   "cell_type": "markdown",
   "metadata": {},
   "source": [
    "<img class=\"logo\" src=\"http://files.jitsejan.com/logos/jupyter.PNG\" />"
   ]
  },
  {
   "cell_type": "markdown",
   "metadata": {},
   "source": [
    "### Notebook settings"
   ]
  },
  {
   "cell_type": "code",
   "execution_count": 1,
   "metadata": {},
   "outputs": [
    {
     "data": {
      "text/html": [
       "<style>\n",
       "img.logo{\n",
       "    height: 100px;\n",
       "}\n",
       "\n",
       "img.screenshot{\n",
       "    max-width:500px; \n",
       "    -webkit-filter: drop-shadow(5px 5px 5px #222);\n",
       "    filter: drop-shadow(2px 5px 5px #222);\n",
       "    margin: 50px auto;\n",
       "}\n",
       "</style>"
      ],
      "text/plain": [
       "<IPython.core.display.HTML object>"
      ]
     },
     "metadata": {},
     "output_type": "display_data"
    }
   ],
   "source": [
    "%%html\n",
    "<style>\n",
    "img.logo{\n",
    "    height: 100px;\n",
    "}\n",
    "\n",
    "img.screenshot{\n",
    "    max-width:500px; \n",
    "    -webkit-filter: drop-shadow(5px 5px 5px #222);\n",
    "    filter: drop-shadow(2px 5px 5px #222);\n",
    "    margin: 50px auto;\n",
    "}\n",
    "</style>"
   ]
  },
  {
   "cell_type": "markdown",
   "metadata": {},
   "source": [
    "Clean up the images from earlier runs."
   ]
  },
  {
   "cell_type": "code",
   "execution_count": 2,
   "metadata": {},
   "outputs": [
    {
     "name": "stdout",
     "output_type": "stream",
     "text": [
      "rm: cannot remove '*.png': No such file or directory\r\n"
     ]
    }
   ],
   "source": [
    "rm *.png"
   ]
  },
  {
   "cell_type": "code",
   "execution_count": 3,
   "metadata": {},
   "outputs": [],
   "source": [
    "from IPython.core.interactiveshell import InteractiveShell\n",
    "InteractiveShell.ast_node_interactivity = \"all\""
   ]
  },
  {
   "cell_type": "code",
   "execution_count": 4,
   "metadata": {},
   "outputs": [
    {
     "name": "stdout",
     "output_type": "stream",
     "text": [
      "4.4.0\r\n"
     ]
    }
   ],
   "source": [
    "!jupyter --version"
   ]
  },
  {
   "cell_type": "code",
   "execution_count": 5,
   "metadata": {},
   "outputs": [
    {
     "name": "stdout",
     "output_type": "stream",
     "text": [
      "5.2.2\r\n"
     ]
    }
   ],
   "source": [
    "!jupyter notebook --version"
   ]
  },
  {
   "cell_type": "markdown",
   "metadata": {},
   "source": [
    "<img class=\"logo\" src=\"http://files.jitsejan.com/logos/python.PNG\"/>\n",
    "### Python version"
   ]
  },
  {
   "cell_type": "code",
   "execution_count": 6,
   "metadata": {},
   "outputs": [
    {
     "data": {
      "text/plain": [
       "'3.5.2'"
      ]
     },
     "execution_count": 6,
     "metadata": {},
     "output_type": "execute_result"
    }
   ],
   "source": [
    "import platform\n",
    "platform.python_version()"
   ]
  },
  {
   "cell_type": "markdown",
   "metadata": {},
   "source": [
    "<img class=\"logo\" src=\"http://files.jitsejan.com/logos/docker.PNG\"/>\n",
    "\n",
    "## Docker setup\n",
    "### Docker version"
   ]
  },
  {
   "cell_type": "code",
   "execution_count": 7,
   "metadata": {},
   "outputs": [
    {
     "name": "stdout",
     "output_type": "stream",
     "text": [
      "Client:\r\n",
      " Version:      17.09.0-ce\r\n",
      " API version:  1.32\r\n",
      " Go version:   go1.8.3\r\n",
      " Git commit:   afdb6d4\r\n",
      " Built:        Tue Sep 26 22:42:18 2017\r\n",
      " OS/Arch:      linux/amd64\r\n",
      "\r\n",
      "Server:\r\n",
      " Version:      17.09.0-ce\r\n",
      " API version:  1.32 (minimum version 1.12)\r\n",
      " Go version:   go1.8.3\r\n",
      " Git commit:   afdb6d4\r\n",
      " Built:        Tue Sep 26 22:40:56 2017\r\n",
      " OS/Arch:      linux/amd64\r\n",
      " Experimental: false\r\n"
     ]
    }
   ],
   "source": [
    "!docker version"
   ]
  },
  {
   "cell_type": "code",
   "execution_count": 8,
   "metadata": {},
   "outputs": [
    {
     "name": "stdout",
     "output_type": "stream",
     "text": [
      "CONTAINER ID        IMAGE                               COMMAND                  CREATED             STATUS              PORTS                      NAMES\r\n",
      "3661951201a7        selenium/standalone-chrome:latest   \"/opt/bin/entry_po...\"   About an hour ago   Up About an hour    0.0.0.0:4444->4444/tcp     selenium\r\n",
      "a1358fd1eb57        mongo:latest                        \"docker-entrypoint...\"   2 hours ago         Up 2 hours          0.0.0.0:27017->27017/tcp   mongo\r\n"
     ]
    }
   ],
   "source": [
    "!docker ps"
   ]
  },
  {
   "cell_type": "markdown",
   "metadata": {},
   "source": [
    "### Docker client\n",
    "#### Setup the client"
   ]
  },
  {
   "cell_type": "markdown",
   "metadata": {},
   "source": [
    "```bash\n",
    "pip3 install docker\n",
    "```"
   ]
  },
  {
   "cell_type": "code",
   "execution_count": 9,
   "metadata": {},
   "outputs": [],
   "source": [
    "import docker\n",
    "docker_client = docker.from_env()"
   ]
  },
  {
   "cell_type": "markdown",
   "metadata": {},
   "source": [
    "#### Available containers"
   ]
  },
  {
   "cell_type": "code",
   "execution_count": 10,
   "metadata": {},
   "outputs": [
    {
     "name": "stdout",
     "output_type": "stream",
     "text": [
      "name=selenium (id=3661951201a72dbb9cf29c6246d1650d9d67ec3b27254ad6f748a27aed6a6ea4)\n",
      "name=mongo (id=a1358fd1eb57cdcde386873a8134057da60ea9793c809ec6e9ba74a7867886fd)\n"
     ]
    }
   ],
   "source": [
    "for cntr in docker_client.containers.list():\n",
    "    print(\"name={} (id={})\".format(cntr.name, cntr.id))"
   ]
  },
  {
   "cell_type": "markdown",
   "metadata": {},
   "source": [
    "<img class=\"logo\" src=\"http://files.jitsejan.com/logos/mongodb.PNG\"/>\n",
    "\n",
    "## MongoDB"
   ]
  },
  {
   "cell_type": "markdown",
   "metadata": {},
   "source": [
    "Check if the Mongo Docker container is running, otherwise, start the container."
   ]
  },
  {
   "cell_type": "code",
   "execution_count": 11,
   "metadata": {},
   "outputs": [],
   "source": [
    "mongo_running = False\n",
    "for cntr in docker_client.containers.list():\n",
    "    if 'mongo' in cntr.attrs['Config']['Image']:\n",
    "        mongo_running = True\n",
    "        container = cntr\n",
    "if mongo_running is False:\n",
    "    container = docker_client.containers.run(\"mongo:latest\", name='mongo', ports={'27017': '27017'}, detach=True)"
   ]
  },
  {
   "cell_type": "code",
   "execution_count": 12,
   "metadata": {},
   "outputs": [
    {
     "data": {
      "text/plain": [
       "<Container: a1358fd1eb>"
      ]
     },
     "execution_count": 12,
     "metadata": {},
     "output_type": "execute_result"
    }
   ],
   "source": [
    "container"
   ]
  },
  {
   "cell_type": "markdown",
   "metadata": {},
   "source": [
    "Verification that the Mongo container is running:"
   ]
  },
  {
   "cell_type": "code",
   "execution_count": 13,
   "metadata": {},
   "outputs": [
    {
     "name": "stdout",
     "output_type": "stream",
     "text": [
      "a1358fd1eb57        mongo:latest                        \"docker-entrypoint...\"   2 hours ago         Up 2 hours          0.0.0.0:27017->27017/tcp   mongo\r\n"
     ]
    }
   ],
   "source": [
    "!docker ps | grep mongo"
   ]
  },
  {
   "cell_type": "markdown",
   "metadata": {},
   "source": [
    "See [Documentation](https://api.mongodb.com/python/current/installation.html) to install PyMongo.\n",
    "\n",
    "```shell\n",
    "$ pip install pymongo\n",
    "```"
   ]
  },
  {
   "cell_type": "markdown",
   "metadata": {},
   "source": [
    "```bash\n",
    "pip3 install pymongo\n",
    "```"
   ]
  },
  {
   "cell_type": "code",
   "execution_count": 14,
   "metadata": {},
   "outputs": [],
   "source": [
    "from pymongo import MongoClient\n",
    "mongo_client = MongoClient('localhost', 27017)"
   ]
  },
  {
   "cell_type": "markdown",
   "metadata": {},
   "source": [
    "<img class=\"logo\" src=\"http://files.jitsejan.com/logos/scrapy.PNG\"/>\n",
    "\n",
    "## Data gathering\n",
    "\n",
    "Create the Scrapy pipeline to write the scraping results to MongoDB."
   ]
  },
  {
   "cell_type": "code",
   "execution_count": 15,
   "metadata": {},
   "outputs": [],
   "source": [
    "import pymongo\n",
    "\n",
    "class MongoPipeline(object):\n",
    "\n",
    "    collection_name = 'games'\n",
    "\n",
    "    def __init__(self, mongo_uri, mongo_db):\n",
    "        self.mongo_uri = mongo_uri\n",
    "        self.mongo_db = mongo_db\n",
    "\n",
    "    @classmethod\n",
    "    def from_crawler(cls, crawler):\n",
    "        return cls(\n",
    "            mongo_uri=crawler.settings.get('MONGO_URI'),\n",
    "            mongo_db=crawler.settings.get('MONGO_DATABASE', 'items')\n",
    "        )\n",
    "\n",
    "    def open_spider(self, spider):\n",
    "        self.client = pymongo.MongoClient(self.mongo_uri)\n",
    "        self.db = self.client[self.mongo_db]\n",
    "\n",
    "    def close_spider(self, spider):\n",
    "        self.client.close()\n",
    "\n",
    "    def process_item(self, item, spider):\n",
    "        self.db[self.collection_name].insert_one(dict(item))\n",
    "        return item"
   ]
  },
  {
   "cell_type": "markdown",
   "metadata": {},
   "source": [
    "Retrieving data from https://www.nintendo.co.jp/ir/en/finance/software/index.html with the following markup:\n",
    "\n",
    "```html\n",
    "<ul class=\"sales_layout\">\n",
    "    <li class=\"sales_layout_list\">\n",
    "        <div class=\"ta_l\">\n",
    "            <p class=\"sales_title\">The Legend of Zelda:<br> Breath of the Wild</p>\n",
    "            <p class=\"sales_value\"><span>4.70</span> million pcs.</p>\n",
    "        </div>\n",
    "        <div class=\"ta_r\">\n",
    "            <p>\n",
    "                <img src=\"./img/data_switch_001.png\" alt=\"\" width=\"110\" height=\"\" class=\"sales_product1\">\n",
    "            </p>\n",
    "        </div>\n",
    "    </li>\n",
    "</ul>\n",
    "```\n",
    "\n",
    "Using Scrapy we can gather the data in a convenient way."
   ]
  },
  {
   "cell_type": "markdown",
   "metadata": {},
   "source": [
    "```bash\n",
    "pip3 install scrapy\n",
    "```"
   ]
  },
  {
   "cell_type": "code",
   "execution_count": 16,
   "metadata": {},
   "outputs": [],
   "source": [
    "import logging\n",
    "import scrapy\n",
    "from scrapy.crawler import CrawlerProcess\n",
    "import re\n",
    "\n",
    "class ConsoleSpider(scrapy.Spider):\n",
    "    name = \"games\"\n",
    "    start_urls = [\n",
    "        \"https://www.nintendo.co.jp/ir/en/finance/software/index.html\",\n",
    "        \"https://www.nintendo.co.jp/ir/en/finance/software/wiiu.html\",\n",
    "        \"https://www.nintendo.co.jp/ir/en/finance/software/3ds.html\",\n",
    "        \"https://www.nintendo.co.jp/ir/en/finance/software/wii.html\",\n",
    "        \"https://www.nintendo.co.jp/ir/en/finance/software/ds.html\"\n",
    "    ]\n",
    "    custom_settings = {\n",
    "        'LOG_LEVEL': logging.CRITICAL,\n",
    "        'DOWNLOAD_DELAY': .25,\n",
    "        'RANDOMIZE_DOWNLOAD_DELAY': True,\n",
    "        'ITEM_PIPELINES': {\n",
    "            '__main__.MongoPipeline': 300,\n",
    "        },\n",
    "        'MONGO_URI': 'mongodb://localhost:27017',\n",
    "        'MONGO_DATABASE': 'nintendo'\n",
    "    }\n",
    "\n",
    "    def parse(self, response):\n",
    "         for cons in response.css('li.sales_layout_list'):\n",
    "            yield {\n",
    "                'console': response.css('div.tab div.tabInner span::text').extract_first(),\n",
    "                'name': cons.css('p.sales_title::text').extract_first().strip(),\n",
    "                'image': 'https://www.nintendo.co.jp/ir/en/finance/software' + cons.css('p img::attr(src)').extract_first()[1:],\n",
    "                'sales': cons.css('p.sales_value span::text').extract()[0].strip()\n",
    "            }"
   ]
  },
  {
   "cell_type": "code",
   "execution_count": 17,
   "metadata": {},
   "outputs": [
    {
     "name": "stderr",
     "output_type": "stream",
     "text": [
      "2018-01-15 19:01:14 [scrapy.utils.log] INFO: Scrapy 1.5.0 started (bot: scrapybot)\n",
      "2018-01-15 19:01:14 [scrapy.utils.log] INFO: Versions: lxml 4.1.1.0, libxml2 2.9.7, cssselect 1.0.3, parsel 1.3.1, w3lib 1.18.0, Twisted 17.9.0, Python 3.5.2 (default, Nov 23 2017, 16:37:01) - [GCC 5.4.0 20160609], pyOpenSSL 17.5.0 (OpenSSL 1.1.0g  2 Nov 2017), cryptography 2.1.4, Platform Linux-4.4.0-x86_64-with-Ubuntu-16.04-xenial\n",
      "2018-01-15 19:01:14 [scrapy.crawler] INFO: Overridden settings: {'LOG_LEVEL': 50, 'DOWNLOAD_DELAY': 0.25, 'USER_AGENT': 'Mozilla/4.0 (compatible; MSIE 7.0; Windows NT 5.1)'}\n"
     ]
    },
    {
     "data": {
      "text/plain": [
       "<Deferred at 0x7f38eda7bc50>"
      ]
     },
     "execution_count": 17,
     "metadata": {},
     "output_type": "execute_result"
    }
   ],
   "source": [
    "process = CrawlerProcess({\n",
    "    'USER_AGENT': 'Mozilla/4.0 (compatible; MSIE 7.0; Windows NT 5.1)'\n",
    "})\n",
    "\n",
    "process.crawl(ConsoleSpider)\n",
    "process.start()"
   ]
  },
  {
   "cell_type": "markdown",
   "metadata": {},
   "source": [
    "#### Verify the Nintendo database is created"
   ]
  },
  {
   "cell_type": "code",
   "execution_count": 18,
   "metadata": {},
   "outputs": [
    {
     "name": "stdout",
     "output_type": "stream",
     "text": [
      "Database found!\n"
     ]
    }
   ],
   "source": [
    "if 'nintendo' in mongo_client.database_names():\n",
    "    print('Database found!')"
   ]
  },
  {
   "cell_type": "markdown",
   "metadata": {},
   "source": [
    "#### Verify the games collection is created inside the Nintendo database"
   ]
  },
  {
   "cell_type": "code",
   "execution_count": 19,
   "metadata": {},
   "outputs": [
    {
     "name": "stdout",
     "output_type": "stream",
     "text": [
      "Collection found!\n"
     ]
    }
   ],
   "source": [
    "db = mongo_client['nintendo']\n",
    "if 'games' in db.collection_names():\n",
    "    print('Collection found!')"
   ]
  },
  {
   "cell_type": "markdown",
   "metadata": {},
   "source": [
    "#### Retrieve the games from the collection"
   ]
  },
  {
   "cell_type": "code",
   "execution_count": 20,
   "metadata": {},
   "outputs": [],
   "source": [
    "games = list(db['games'].find({}))"
   ]
  },
  {
   "cell_type": "code",
   "execution_count": 21,
   "metadata": {},
   "outputs": [
    {
     "name": "stdout",
     "output_type": "stream",
     "text": [
      "Found 270 games\n"
     ]
    }
   ],
   "source": [
    "print(\"Found {} games\".format(len(games)))"
   ]
  },
  {
   "cell_type": "markdown",
   "metadata": {},
   "source": [
    "## Retrieve the images\n",
    "#### Delete the old images"
   ]
  },
  {
   "cell_type": "code",
   "execution_count": 22,
   "metadata": {},
   "outputs": [],
   "source": [
    "!rm -rf images/*"
   ]
  },
  {
   "cell_type": "code",
   "execution_count": 23,
   "metadata": {
    "scrolled": true
   },
   "outputs": [
    {
     "name": "stdout",
     "output_type": "stream",
     "text": [
      "--2018-01-15 19:01:16--  http://images/data_switch_001.png\r\n",
      "Resolving images (images)... 167.114.148.224\r\n",
      "Connecting to images (images)|167.114.148.224|:80... connected.\r\n",
      "HTTP request sent, awaiting response... 301 Moved Permanently\r\n",
      "Location: https://images/data_switch_001.png [following]\r\n",
      "--2018-01-15 19:01:16--  https://images/data_switch_001.png\r\n",
      "Connecting to images (images)|167.114.148.224|:443... connected.\r\n",
      "WARNING: no certificate subject alternative name matches\r\n",
      "\trequested host name 'images'.\r\n",
      "HTTP request sent, awaiting response... 502 Bad Gateway\r\n",
      "2018-01-15 19:01:16 ERROR 502: Bad Gateway.\r\n",
      "\r\n"
     ]
    },
    {
     "data": {
      "text/plain": [
       "ObjectId('5a5d4dd96d99ba7541d6780a')"
      ]
     },
     "execution_count": 23,
     "metadata": {},
     "output_type": "execute_result"
    },
    {
     "name": "stdout",
     "output_type": "stream",
     "text": [
      "--2018-01-15 19:01:16--  http://images/data_switch_002.png\r\n",
      "Resolving images (images)... 167.114.148.224\r\n",
      "Connecting to images (images)|167.114.148.224|:80... connected.\r\n",
      "HTTP request sent, awaiting response... 301 Moved Permanently\r\n",
      "Location: https://images/data_switch_002.png [following]\r\n",
      "--2018-01-15 19:01:16--  https://images/data_switch_002.png\r\n",
      "Connecting to images (images)|167.114.148.224|:443... connected.\r\n",
      "WARNING: no certificate subject alternative name matches\r\n",
      "\trequested host name 'images'.\r\n",
      "HTTP request sent, awaiting response... 502 Bad Gateway\r\n",
      "2018-01-15 19:01:16 ERROR 502: Bad Gateway.\r\n",
      "\r\n"
     ]
    },
    {
     "data": {
      "text/plain": [
       "ObjectId('5a5d4dd96d99ba7541d6780b')"
      ]
     },
     "execution_count": 23,
     "metadata": {},
     "output_type": "execute_result"
    },
    {
     "name": "stdout",
     "output_type": "stream",
     "text": [
      "--2018-01-15 19:01:16--  http://images/data_switch_005.png\r\n",
      "Resolving images (images)... 167.114.148.224\r\n",
      "Connecting to images (images)|167.114.148.224|:80... connected.\r\n",
      "HTTP request sent, awaiting response... 301 Moved Permanently\r\n",
      "Location: https://images/data_switch_005.png [following]\r\n",
      "--2018-01-15 19:01:16--  https://images/data_switch_005.png\r\n",
      "Connecting to images (images)|167.114.148.224|:443... connected.\r\n",
      "WARNING: no certificate subject alternative name matches\r\n",
      "\trequested host name 'images'.\r\n",
      "HTTP request sent, awaiting response... 502 Bad Gateway\r\n",
      "2018-01-15 19:01:16 ERROR 502: Bad Gateway.\r\n",
      "\r\n"
     ]
    },
    {
     "data": {
      "text/plain": [
       "ObjectId('5a5d4dd96d99ba7541d6780c')"
      ]
     },
     "execution_count": 23,
     "metadata": {},
     "output_type": "execute_result"
    },
    {
     "name": "stdout",
     "output_type": "stream",
     "text": [
      "--2018-01-15 19:01:16--  http://images/data_switch_003.png\r\n",
      "Resolving images (images)... 167.114.148.224\r\n",
      "Connecting to images (images)|167.114.148.224|:80... connected.\r\n",
      "HTTP request sent, awaiting response... 301 Moved Permanently\r\n",
      "Location: https://images/data_switch_003.png [following]\r\n",
      "--2018-01-15 19:01:16--  https://images/data_switch_003.png\r\n",
      "Connecting to images (images)|167.114.148.224|:443... connected.\r\n",
      "WARNING: no certificate subject alternative name matches\r\n",
      "\trequested host name 'images'.\r\n",
      "HTTP request sent, awaiting response... 502 Bad Gateway\r\n",
      "2018-01-15 19:01:16 ERROR 502: Bad Gateway.\r\n",
      "\r\n"
     ]
    },
    {
     "data": {
      "text/plain": [
       "ObjectId('5a5d4dd96d99ba7541d6780d')"
      ]
     },
     "execution_count": 23,
     "metadata": {},
     "output_type": "execute_result"
    },
    {
     "name": "stdout",
     "output_type": "stream",
     "text": [
      "--2018-01-15 19:01:16--  http://images/data_switch_004.png\r\n",
      "Resolving images (images)... 167.114.148.224\r\n",
      "Connecting to images (images)|167.114.148.224|:80... connected.\r\n",
      "HTTP request sent, awaiting response... 301 Moved Permanently\r\n",
      "Location: https://images/data_switch_004.png [following]\r\n",
      "--2018-01-15 19:01:16--  https://images/data_switch_004.png\r\n",
      "Connecting to images (images)|167.114.148.224|:443... connected.\r\n",
      "WARNING: no certificate subject alternative name matches\r\n",
      "\trequested host name 'images'.\r\n",
      "HTTP request sent, awaiting response... 502 Bad Gateway\r\n",
      "2018-01-15 19:01:16 ERROR 502: Bad Gateway.\r\n",
      "\r\n"
     ]
    },
    {
     "data": {
      "text/plain": [
       "ObjectId('5a5d4dd96d99ba7541d6780e')"
      ]
     },
     "execution_count": 23,
     "metadata": {},
     "output_type": "execute_result"
    },
    {
     "name": "stdout",
     "output_type": "stream",
     "text": [
      "--2018-01-15 19:01:16--  http://images/data_wiiu_mariokart8.png\r\n",
      "Resolving images (images)... 167.114.148.224\r\n",
      "Connecting to images (images)|167.114.148.224|:80... connected.\r\n",
      "HTTP request sent, awaiting response... 301 Moved Permanently\r\n",
      "Location: https://images/data_wiiu_mariokart8.png [following]\r\n",
      "--2018-01-15 19:01:16--  https://images/data_wiiu_mariokart8.png\r\n",
      "Connecting to images (images)|167.114.148.224|:443... connected.\r\n",
      "WARNING: no certificate subject alternative name matches\r\n",
      "\trequested host name 'images'.\r\n",
      "HTTP request sent, awaiting response... 502 Bad Gateway\r\n",
      "2018-01-15 19:01:16 ERROR 502: Bad Gateway.\r\n",
      "\r\n"
     ]
    },
    {
     "data": {
      "text/plain": [
       "ObjectId('5a5d4dd96d99ba7541d6780f')"
      ]
     },
     "execution_count": 23,
     "metadata": {},
     "output_type": "execute_result"
    },
    {
     "name": "stdout",
     "output_type": "stream",
     "text": [
      "--2018-01-15 19:01:17--  http://images/data_wiiu_newmariou.png\r\n",
      "Resolving images (images)... 167.114.148.224\r\n",
      "Connecting to images (images)|167.114.148.224|:80... connected.\r\n",
      "HTTP request sent, awaiting response... 301 Moved Permanently\r\n",
      "Location: https://images/data_wiiu_newmariou.png [following]\r\n",
      "--2018-01-15 19:01:17--  https://images/data_wiiu_newmariou.png\r\n",
      "Connecting to images (images)|167.114.148.224|:443... connected.\r\n",
      "WARNING: no certificate subject alternative name matches\r\n",
      "\trequested host name 'images'.\r\n",
      "HTTP request sent, awaiting response... 502 Bad Gateway\r\n",
      "2018-01-15 19:01:17 ERROR 502: Bad Gateway.\r\n",
      "\r\n"
     ]
    },
    {
     "data": {
      "text/plain": [
       "ObjectId('5a5d4dd96d99ba7541d67810')"
      ]
     },
     "execution_count": 23,
     "metadata": {},
     "output_type": "execute_result"
    },
    {
     "name": "stdout",
     "output_type": "stream",
     "text": [
      "--2018-01-15 19:01:17--  http://images/data_wiiu_mario3dworld.png\r\n",
      "Resolving images (images)... 167.114.148.224\r\n",
      "Connecting to images (images)|167.114.148.224|:80... connected.\r\n",
      "HTTP request sent, awaiting response... 301 Moved Permanently\r\n",
      "Location: https://images/data_wiiu_mario3dworld.png [following]\r\n",
      "--2018-01-15 19:01:17--  https://images/data_wiiu_mario3dworld.png\r\n",
      "Connecting to images (images)|167.114.148.224|:443... connected.\r\n",
      "WARNING: no certificate subject alternative name matches\r\n",
      "\trequested host name 'images'.\r\n",
      "HTTP request sent, awaiting response... 502 Bad Gateway\r\n",
      "2018-01-15 19:01:17 ERROR 502: Bad Gateway.\r\n",
      "\r\n"
     ]
    },
    {
     "data": {
      "text/plain": [
       "ObjectId('5a5d4dd96d99ba7541d67811')"
      ]
     },
     "execution_count": 23,
     "metadata": {},
     "output_type": "execute_result"
    },
    {
     "name": "stdout",
     "output_type": "stream",
     "text": [
      "--2018-01-15 19:01:17--  http://images/data_wiiu_smashbros.png\r\n",
      "Resolving images (images)... 167.114.148.224\r\n",
      "Connecting to images (images)|167.114.148.224|:80... connected.\r\n",
      "HTTP request sent, awaiting response... 301 Moved Permanently\r\n",
      "Location: https://images/data_wiiu_smashbros.png [following]\r\n",
      "--2018-01-15 19:01:17--  https://images/data_wiiu_smashbros.png\r\n",
      "Connecting to images (images)|167.114.148.224|:443... connected.\r\n",
      "WARNING: no certificate subject alternative name matches\r\n",
      "\trequested host name 'images'.\r\n",
      "HTTP request sent, awaiting response... 502 Bad Gateway\r\n",
      "2018-01-15 19:01:17 ERROR 502: Bad Gateway.\r\n",
      "\r\n"
     ]
    },
    {
     "data": {
      "text/plain": [
       "ObjectId('5a5d4dd96d99ba7541d67812')"
      ]
     },
     "execution_count": 23,
     "metadata": {},
     "output_type": "execute_result"
    },
    {
     "name": "stdout",
     "output_type": "stream",
     "text": [
      "--2018-01-15 19:01:17--  http://images/data_wiiu_nintendoland.png\r\n",
      "Resolving images (images)... 167.114.148.224\r\n",
      "Connecting to images (images)|167.114.148.224|:80... connected.\r\n",
      "HTTP request sent, awaiting response... 301 Moved Permanently\r\n",
      "Location: https://images/data_wiiu_nintendoland.png [following]\r\n",
      "--2018-01-15 19:01:17--  https://images/data_wiiu_nintendoland.png\r\n",
      "Connecting to images (images)|167.114.148.224|:443... connected.\r\n",
      "WARNING: no certificate subject alternative name matches\r\n",
      "\trequested host name 'images'.\r\n",
      "HTTP request sent, awaiting response... 502 Bad Gateway\r\n",
      "2018-01-15 19:01:17 ERROR 502: Bad Gateway.\r\n",
      "\r\n"
     ]
    },
    {
     "data": {
      "text/plain": [
       "ObjectId('5a5d4dd96d99ba7541d67813')"
      ]
     },
     "execution_count": 23,
     "metadata": {},
     "output_type": "execute_result"
    },
    {
     "name": "stdout",
     "output_type": "stream",
     "text": [
      "--2018-01-15 19:01:18--  http://images/data_wiiu_splatoon.jpg\r\n",
      "Resolving images (images)... 167.114.148.224\r\n",
      "Connecting to images (images)|167.114.148.224|:80... connected.\r\n",
      "HTTP request sent, awaiting response... 301 Moved Permanently\r\n",
      "Location: https://images/data_wiiu_splatoon.jpg [following]\r\n",
      "--2018-01-15 19:01:18--  https://images/data_wiiu_splatoon.jpg\r\n",
      "Connecting to images (images)|167.114.148.224|:443... connected.\r\n",
      "WARNING: no certificate subject alternative name matches\r\n",
      "\trequested host name 'images'.\r\n",
      "HTTP request sent, awaiting response... 502 Bad Gateway\r\n",
      "2018-01-15 19:01:18 ERROR 502: Bad Gateway.\r\n",
      "\r\n"
     ]
    },
    {
     "data": {
      "text/plain": [
       "ObjectId('5a5d4dd96d99ba7541d67814')"
      ]
     },
     "execution_count": 23,
     "metadata": {},
     "output_type": "execute_result"
    },
    {
     "name": "stdout",
     "output_type": "stream",
     "text": [
      "--2018-01-15 19:01:18--  http://images/data_wiiu_supermariomaker.png\r\n",
      "Resolving images (images)... 167.114.148.224\r\n",
      "Connecting to images (images)|167.114.148.224|:80... connected.\r\n",
      "HTTP request sent, awaiting response... 301 Moved Permanently\r\n",
      "Location: https://images/data_wiiu_supermariomaker.png [following]\r\n",
      "--2018-01-15 19:01:18--  https://images/data_wiiu_supermariomaker.png\r\n",
      "Connecting to images (images)|167.114.148.224|:443... connected.\r\n",
      "WARNING: no certificate subject alternative name matches\r\n",
      "\trequested host name 'images'.\r\n",
      "HTTP request sent, awaiting response... 502 Bad Gateway\r\n",
      "2018-01-15 19:01:18 ERROR 502: Bad Gateway.\r\n",
      "\r\n"
     ]
    },
    {
     "data": {
      "text/plain": [
       "ObjectId('5a5d4dd96d99ba7541d67815')"
      ]
     },
     "execution_count": 23,
     "metadata": {},
     "output_type": "execute_result"
    },
    {
     "name": "stdout",
     "output_type": "stream",
     "text": [
      "--2018-01-15 19:01:18--  http://images/data_wiiu_newsuperluigiu.png\r\n",
      "Resolving images (images)... 167.114.148.224\r\n",
      "Connecting to images (images)|167.114.148.224|:80... connected.\r\n",
      "HTTP request sent, awaiting response... 301 Moved Permanently\r\n",
      "Location: https://images/data_wiiu_newsuperluigiu.png [following]\r\n",
      "--2018-01-15 19:01:18--  https://images/data_wiiu_newsuperluigiu.png\r\n",
      "Connecting to images (images)|167.114.148.224|:443... connected.\r\n",
      "WARNING: no certificate subject alternative name matches\r\n",
      "\trequested host name 'images'.\r\n",
      "HTTP request sent, awaiting response... 502 Bad Gateway\r\n",
      "2018-01-15 19:01:18 ERROR 502: Bad Gateway.\r\n",
      "\r\n"
     ]
    },
    {
     "data": {
      "text/plain": [
       "ObjectId('5a5d4dd96d99ba7541d67816')"
      ]
     },
     "execution_count": 23,
     "metadata": {},
     "output_type": "execute_result"
    },
    {
     "name": "stdout",
     "output_type": "stream",
     "text": [
      "--2018-01-15 19:01:18--  http://images/data_wiiu_zeldahd.png\r\n",
      "Resolving images (images)... 167.114.148.224\r\n",
      "Connecting to images (images)|167.114.148.224|:80... connected.\r\n",
      "HTTP request sent, awaiting response... 301 Moved Permanently\r\n",
      "Location: https://images/data_wiiu_zeldahd.png [following]\r\n",
      "--2018-01-15 19:01:18--  https://images/data_wiiu_zeldahd.png\r\n",
      "Connecting to images (images)|167.114.148.224|:443... connected.\r\n",
      "WARNING: no certificate subject alternative name matches\r\n",
      "\trequested host name 'images'.\r\n",
      "HTTP request sent, awaiting response... 502 Bad Gateway\r\n",
      "2018-01-15 19:01:18 ERROR 502: Bad Gateway.\r\n",
      "\r\n"
     ]
    },
    {
     "data": {
      "text/plain": [
       "ObjectId('5a5d4dd96d99ba7541d67817')"
      ]
     },
     "execution_count": 23,
     "metadata": {},
     "output_type": "execute_result"
    },
    {
     "name": "stdout",
     "output_type": "stream",
     "text": [
      "--2018-01-15 19:01:18--  http://images/data_wiiu_marioparty10.jpg\r\n",
      "Resolving images (images)... 167.114.148.224\r\n",
      "Connecting to images (images)|167.114.148.224|:80... connected.\r\n",
      "HTTP request sent, awaiting response... 301 Moved Permanently\r\n",
      "Location: https://images/data_wiiu_marioparty10.jpg [following]\r\n",
      "--2018-01-15 19:01:18--  https://images/data_wiiu_marioparty10.jpg\r\n",
      "Connecting to images (images)|167.114.148.224|:443... connected.\r\n",
      "WARNING: no certificate subject alternative name matches\r\n",
      "\trequested host name 'images'.\r\n",
      "HTTP request sent, awaiting response... 502 Bad Gateway\r\n",
      "2018-01-15 19:01:18 ERROR 502: Bad Gateway.\r\n",
      "\r\n"
     ]
    },
    {
     "data": {
      "text/plain": [
       "ObjectId('5a5d4dd96d99ba7541d67818')"
      ]
     },
     "execution_count": 23,
     "metadata": {},
     "output_type": "execute_result"
    },
    {
     "name": "stdout",
     "output_type": "stream",
     "text": [
      "--2018-01-15 19:01:18--  http://images/data_3ds_pokemonxy.jpg\r\n",
      "Resolving images (images)... 167.114.148.224\r\n",
      "Connecting to images (images)|167.114.148.224|:80... connected.\r\n",
      "HTTP request sent, awaiting response... 301 Moved Permanently\r\n",
      "Location: https://images/data_3ds_pokemonxy.jpg [following]\r\n",
      "--2018-01-15 19:01:19--  https://images/data_3ds_pokemonxy.jpg\r\n",
      "Connecting to images (images)|167.114.148.224|:443... connected.\r\n",
      "WARNING: no certificate subject alternative name matches\r\n",
      "\trequested host name 'images'.\r\n",
      "HTTP request sent, awaiting response... 502 Bad Gateway\r\n",
      "2018-01-15 19:01:19 ERROR 502: Bad Gateway.\r\n",
      "\r\n"
     ]
    },
    {
     "data": {
      "text/plain": [
       "ObjectId('5a5d4dd96d99ba7541d67819')"
      ]
     },
     "execution_count": 23,
     "metadata": {},
     "output_type": "execute_result"
    },
    {
     "name": "stdout",
     "output_type": "stream",
     "text": [
      "--2018-01-15 19:01:19--  http://images/data_3ds_002.jpg\r\n",
      "Resolving images (images)... 167.114.148.224\r\n",
      "Connecting to images (images)|167.114.148.224|:80... connected.\r\n",
      "HTTP request sent, awaiting response... 301 Moved Permanently\r\n",
      "Location: https://images/data_3ds_002.jpg [following]\r\n",
      "--2018-01-15 19:01:19--  https://images/data_3ds_002.jpg\r\n",
      "Connecting to images (images)|167.114.148.224|:443... connected.\r\n",
      "WARNING: no certificate subject alternative name matches\r\n",
      "\trequested host name 'images'.\r\n",
      "HTTP request sent, awaiting response... 502 Bad Gateway\r\n",
      "2018-01-15 19:01:19 ERROR 502: Bad Gateway.\r\n",
      "\r\n"
     ]
    },
    {
     "data": {
      "text/plain": [
       "ObjectId('5a5d4dd96d99ba7541d6781a')"
      ]
     },
     "execution_count": 23,
     "metadata": {},
     "output_type": "execute_result"
    },
    {
     "name": "stdout",
     "output_type": "stream",
     "text": [
      "--2018-01-15 19:01:19--  http://images/data_3ds_pokemonsunmoon.jpg\r\n",
      "Resolving images (images)... 167.114.148.224\r\n",
      "Connecting to images (images)|167.114.148.224|:80... connected.\r\n",
      "HTTP request sent, awaiting response... 301 Moved Permanently\r\n",
      "Location: https://images/data_3ds_pokemonsunmoon.jpg [following]\r\n",
      "--2018-01-15 19:01:19--  https://images/data_3ds_pokemonsunmoon.jpg\r\n",
      "Connecting to images (images)|167.114.148.224|:443... connected.\r\n",
      "WARNING: no certificate subject alternative name matches\r\n",
      "\trequested host name 'images'.\r\n",
      "HTTP request sent, awaiting response... 502 Bad Gateway\r\n",
      "2018-01-15 19:01:19 ERROR 502: Bad Gateway.\r\n",
      "\r\n"
     ]
    },
    {
     "data": {
      "text/plain": [
       "ObjectId('5a5d4dd96d99ba7541d6781b')"
      ]
     },
     "execution_count": 23,
     "metadata": {},
     "output_type": "execute_result"
    },
    {
     "name": "stdout",
     "output_type": "stream",
     "text": [
      "--2018-01-15 19:01:19--  http://images/data_3ds_pokemonoras.jpg\r\n",
      "Resolving images (images)... 167.114.148.224\r\n",
      "Connecting to images (images)|167.114.148.224|:80... connected.\r\n",
      "HTTP request sent, awaiting response... 301 Moved Permanently\r\n",
      "Location: https://images/data_3ds_pokemonoras.jpg [following]\r\n",
      "--2018-01-15 19:01:19--  https://images/data_3ds_pokemonoras.jpg\r\n",
      "Connecting to images (images)|167.114.148.224|:443... connected.\r\n",
      "WARNING: no certificate subject alternative name matches\r\n",
      "\trequested host name 'images'.\r\n",
      "HTTP request sent, awaiting response... 502 Bad Gateway\r\n",
      "2018-01-15 19:01:19 ERROR 502: Bad Gateway.\r\n",
      "\r\n"
     ]
    },
    {
     "data": {
      "text/plain": [
       "ObjectId('5a5d4dd96d99ba7541d6781c')"
      ]
     },
     "execution_count": 23,
     "metadata": {},
     "output_type": "execute_result"
    },
    {
     "name": "stdout",
     "output_type": "stream",
     "text": [
      "--2018-01-15 19:01:19--  http://images/data_3ds_003.jpg\r\n",
      "Resolving images (images)... 167.114.148.224\r\n",
      "Connecting to images (images)|167.114.148.224|:80... connected.\r\n",
      "HTTP request sent, awaiting response... 301 Moved Permanently\r\n",
      "Location: https://images/data_3ds_003.jpg [following]\r\n",
      "--2018-01-15 19:01:19--  https://images/data_3ds_003.jpg\r\n",
      "Connecting to images (images)|167.114.148.224|:443... connected.\r\n",
      "WARNING: no certificate subject alternative name matches\r\n",
      "\trequested host name 'images'.\r\n",
      "HTTP request sent, awaiting response... 502 Bad Gateway\r\n",
      "2018-01-15 19:01:19 ERROR 502: Bad Gateway.\r\n",
      "\r\n"
     ]
    },
    {
     "data": {
      "text/plain": [
       "ObjectId('5a5d4dd96d99ba7541d6781d')"
      ]
     },
     "execution_count": 23,
     "metadata": {},
     "output_type": "execute_result"
    },
    {
     "name": "stdout",
     "output_type": "stream",
     "text": [
      "--2018-01-15 19:01:19--  http://images/data_3ds_001.jpg\r\n",
      "Resolving images (images)... 167.114.148.224\r\n",
      "Connecting to images (images)|167.114.148.224|:80... connected.\r\n",
      "HTTP request sent, awaiting response... 301 Moved Permanently\r\n",
      "Location: https://images/data_3ds_001.jpg [following]\r\n",
      "--2018-01-15 19:01:19--  https://images/data_3ds_001.jpg\r\n",
      "Connecting to images (images)|167.114.148.224|:443... connected.\r\n",
      "WARNING: no certificate subject alternative name matches\r\n",
      "\trequested host name 'images'.\r\n",
      "HTTP request sent, awaiting response... 502 Bad Gateway\r\n",
      "2018-01-15 19:01:19 ERROR 502: Bad Gateway.\r\n",
      "\r\n"
     ]
    },
    {
     "data": {
      "text/plain": [
       "ObjectId('5a5d4dd96d99ba7541d6781e')"
      ]
     },
     "execution_count": 23,
     "metadata": {},
     "output_type": "execute_result"
    },
    {
     "name": "stdout",
     "output_type": "stream",
     "text": [
      "--2018-01-15 19:01:20--  http://images/data_3ds_004.jpg\r\n",
      "Resolving images (images)... 167.114.148.224\r\n",
      "Connecting to images (images)|167.114.148.224|:80... connected.\r\n",
      "HTTP request sent, awaiting response... 301 Moved Permanently\r\n",
      "Location: https://images/data_3ds_004.jpg [following]\r\n",
      "--2018-01-15 19:01:20--  https://images/data_3ds_004.jpg\r\n",
      "Connecting to images (images)|167.114.148.224|:443... connected.\r\n",
      "WARNING: no certificate subject alternative name matches\r\n",
      "\trequested host name 'images'.\r\n",
      "HTTP request sent, awaiting response... 502 Bad Gateway\r\n",
      "2018-01-15 19:01:20 ERROR 502: Bad Gateway.\r\n",
      "\r\n"
     ]
    },
    {
     "data": {
      "text/plain": [
       "ObjectId('5a5d4dd96d99ba7541d6781f')"
      ]
     },
     "execution_count": 23,
     "metadata": {},
     "output_type": "execute_result"
    },
    {
     "name": "stdout",
     "output_type": "stream",
     "text": [
      "--2018-01-15 19:01:20--  http://images/data_3ds_smashbros.jpg\r\n",
      "Resolving images (images)... 167.114.148.224\r\n",
      "Connecting to images (images)|167.114.148.224|:80... connected.\r\n",
      "HTTP request sent, awaiting response... 301 Moved Permanently\r\n",
      "Location: https://images/data_3ds_smashbros.jpg [following]\r\n",
      "--2018-01-15 19:01:20--  https://images/data_3ds_smashbros.jpg\r\n",
      "Connecting to images (images)|167.114.148.224|:443... connected.\r\n",
      "WARNING: no certificate subject alternative name matches\r\n",
      "\trequested host name 'images'.\r\n",
      "HTTP request sent, awaiting response... 502 Bad Gateway\r\n",
      "2018-01-15 19:01:20 ERROR 502: Bad Gateway.\r\n",
      "\r\n"
     ]
    },
    {
     "data": {
      "text/plain": [
       "ObjectId('5a5d4dd96d99ba7541d67820')"
      ]
     },
     "execution_count": 23,
     "metadata": {},
     "output_type": "execute_result"
    },
    {
     "name": "stdout",
     "output_type": "stream",
     "text": [
      "--2018-01-15 19:01:20--  http://images/data_3ds_tomodachicollection.jpg\r\n",
      "Resolving images (images)... 167.114.148.224\r\n",
      "Connecting to images (images)|167.114.148.224|:80... connected.\r\n",
      "HTTP request sent, awaiting response... 301 Moved Permanently\r\n",
      "Location: https://images/data_3ds_tomodachicollection.jpg [following]\r\n",
      "--2018-01-15 19:01:20--  https://images/data_3ds_tomodachicollection.jpg\r\n",
      "Connecting to images (images)|167.114.148.224|:443... connected.\r\n",
      "WARNING: no certificate subject alternative name matches\r\n",
      "\trequested host name 'images'.\r\n",
      "HTTP request sent, awaiting response... 502 Bad Gateway\r\n",
      "2018-01-15 19:01:20 ERROR 502: Bad Gateway.\r\n",
      "\r\n"
     ]
    },
    {
     "data": {
      "text/plain": [
       "ObjectId('5a5d4dd96d99ba7541d67821')"
      ]
     },
     "execution_count": 23,
     "metadata": {},
     "output_type": "execute_result"
    },
    {
     "name": "stdout",
     "output_type": "stream",
     "text": [
      "--2018-01-15 19:01:20--  http://images/data_3ds_009.jpg\r\n",
      "Resolving images (images)... 167.114.148.224\r\n",
      "Connecting to images (images)|167.114.148.224|:80... connected.\r\n",
      "HTTP request sent, awaiting response... 301 Moved Permanently\r\n",
      "Location: https://images/data_3ds_009.jpg [following]\r\n",
      "--2018-01-15 19:01:20--  https://images/data_3ds_009.jpg\r\n",
      "Connecting to images (images)|167.114.148.224|:443... connected.\r\n",
      "WARNING: no certificate subject alternative name matches\r\n",
      "\trequested host name 'images'.\r\n",
      "HTTP request sent, awaiting response... 502 Bad Gateway\r\n",
      "2018-01-15 19:01:20 ERROR 502: Bad Gateway.\r\n",
      "\r\n"
     ]
    },
    {
     "data": {
      "text/plain": [
       "ObjectId('5a5d4dd96d99ba7541d67822')"
      ]
     },
     "execution_count": 23,
     "metadata": {},
     "output_type": "execute_result"
    },
    {
     "name": "stdout",
     "output_type": "stream",
     "text": [
      "--2018-01-15 19:01:21--  http://images/data_wii_001.jpg\r\n",
      "Resolving images (images)... 167.114.148.224\r\n",
      "Connecting to images (images)|167.114.148.224|:80... connected.\r\n",
      "HTTP request sent, awaiting response... 301 Moved Permanently\r\n",
      "Location: https://images/data_wii_001.jpg [following]\r\n",
      "--2018-01-15 19:01:21--  https://images/data_wii_001.jpg\r\n",
      "Connecting to images (images)|167.114.148.224|:443... connected.\r\n",
      "WARNING: no certificate subject alternative name matches\r\n",
      "\trequested host name 'images'.\r\n",
      "HTTP request sent, awaiting response... 502 Bad Gateway\r\n",
      "2018-01-15 19:01:21 ERROR 502: Bad Gateway.\r\n",
      "\r\n"
     ]
    },
    {
     "data": {
      "text/plain": [
       "ObjectId('5a5d4dd96d99ba7541d67823')"
      ]
     },
     "execution_count": 23,
     "metadata": {},
     "output_type": "execute_result"
    },
    {
     "name": "stdout",
     "output_type": "stream",
     "text": [
      "--2018-01-15 19:01:21--  http://images/data_wii_002.jpg\r\n",
      "Resolving images (images)... 167.114.148.224\r\n",
      "Connecting to images (images)|167.114.148.224|:80... connected.\r\n",
      "HTTP request sent, awaiting response... 301 Moved Permanently\r\n",
      "Location: https://images/data_wii_002.jpg [following]\r\n",
      "--2018-01-15 19:01:21--  https://images/data_wii_002.jpg\r\n",
      "Connecting to images (images)|167.114.148.224|:443... connected.\r\n",
      "WARNING: no certificate subject alternative name matches\r\n",
      "\trequested host name 'images'.\r\n",
      "HTTP request sent, awaiting response... 502 Bad Gateway\r\n",
      "2018-01-15 19:01:21 ERROR 502: Bad Gateway.\r\n",
      "\r\n"
     ]
    },
    {
     "data": {
      "text/plain": [
       "ObjectId('5a5d4dd96d99ba7541d67824')"
      ]
     },
     "execution_count": 23,
     "metadata": {},
     "output_type": "execute_result"
    },
    {
     "name": "stdout",
     "output_type": "stream",
     "text": [
      "--2018-01-15 19:01:22--  http://images/data_wii_003.jpg\r\n",
      "Resolving images (images)... 167.114.148.224\r\n",
      "Connecting to images (images)|167.114.148.224|:80... connected.\r\n",
      "HTTP request sent, awaiting response... 301 Moved Permanently\r\n",
      "Location: https://images/data_wii_003.jpg [following]\r\n",
      "--2018-01-15 19:01:22--  https://images/data_wii_003.jpg\r\n",
      "Connecting to images (images)|167.114.148.224|:443... connected.\r\n",
      "WARNING: no certificate subject alternative name matches\r\n",
      "\trequested host name 'images'.\r\n",
      "HTTP request sent, awaiting response... 502 Bad Gateway\r\n",
      "2018-01-15 19:01:22 ERROR 502: Bad Gateway.\r\n",
      "\r\n"
     ]
    },
    {
     "data": {
      "text/plain": [
       "ObjectId('5a5d4dd96d99ba7541d67825')"
      ]
     },
     "execution_count": 23,
     "metadata": {},
     "output_type": "execute_result"
    },
    {
     "name": "stdout",
     "output_type": "stream",
     "text": [
      "--2018-01-15 19:01:22--  http://images/data_wii_005.jpg\r\n",
      "Resolving images (images)... 167.114.148.224\r\n",
      "Connecting to images (images)|167.114.148.224|:80... connected.\r\n",
      "HTTP request sent, awaiting response... 301 Moved Permanently\r\n",
      "Location: https://images/data_wii_005.jpg [following]\r\n",
      "--2018-01-15 19:01:22--  https://images/data_wii_005.jpg\r\n",
      "Connecting to images (images)|167.114.148.224|:443... connected.\r\n",
      "WARNING: no certificate subject alternative name matches\r\n",
      "\trequested host name 'images'.\r\n",
      "HTTP request sent, awaiting response... 502 Bad Gateway\r\n",
      "2018-01-15 19:01:22 ERROR 502: Bad Gateway.\r\n",
      "\r\n"
     ]
    },
    {
     "data": {
      "text/plain": [
       "ObjectId('5a5d4dd96d99ba7541d67826')"
      ]
     },
     "execution_count": 23,
     "metadata": {},
     "output_type": "execute_result"
    },
    {
     "name": "stdout",
     "output_type": "stream",
     "text": [
      "--2018-01-15 19:01:22--  http://images/data_wii_004.jpg\r\n",
      "Resolving images (images)... 167.114.148.224\r\n",
      "Connecting to images (images)|167.114.148.224|:80... connected.\r\n",
      "HTTP request sent, awaiting response... 301 Moved Permanently\r\n",
      "Location: https://images/data_wii_004.jpg [following]\r\n",
      "--2018-01-15 19:01:22--  https://images/data_wii_004.jpg\r\n",
      "Connecting to images (images)|167.114.148.224|:443... connected.\r\n",
      "WARNING: no certificate subject alternative name matches\r\n",
      "\trequested host name 'images'.\r\n",
      "HTTP request sent, awaiting response... 502 Bad Gateway\r\n",
      "2018-01-15 19:01:22 ERROR 502: Bad Gateway.\r\n",
      "\r\n"
     ]
    },
    {
     "data": {
      "text/plain": [
       "ObjectId('5a5d4dd96d99ba7541d67827')"
      ]
     },
     "execution_count": 23,
     "metadata": {},
     "output_type": "execute_result"
    },
    {
     "name": "stdout",
     "output_type": "stream",
     "text": [
      "--2018-01-15 19:01:22--  http://images/data_wii_006.jpg\r\n",
      "Resolving images (images)... 167.114.148.224\r\n",
      "Connecting to images (images)|167.114.148.224|:80... connected.\r\n",
      "HTTP request sent, awaiting response... 301 Moved Permanently\r\n",
      "Location: https://images/data_wii_006.jpg [following]\r\n",
      "--2018-01-15 19:01:22--  https://images/data_wii_006.jpg\r\n",
      "Connecting to images (images)|167.114.148.224|:443... connected.\r\n",
      "WARNING: no certificate subject alternative name matches\r\n",
      "\trequested host name 'images'.\r\n",
      "HTTP request sent, awaiting response... 502 Bad Gateway\r\n",
      "2018-01-15 19:01:22 ERROR 502: Bad Gateway.\r\n",
      "\r\n"
     ]
    },
    {
     "data": {
      "text/plain": [
       "ObjectId('5a5d4dd96d99ba7541d67828')"
      ]
     },
     "execution_count": 23,
     "metadata": {},
     "output_type": "execute_result"
    },
    {
     "name": "stdout",
     "output_type": "stream",
     "text": [
      "--2018-01-15 19:01:23--  http://images/data_wii_007.jpg\r\n",
      "Resolving images (images)... 167.114.148.224\r\n",
      "Connecting to images (images)|167.114.148.224|:80... connected.\r\n",
      "HTTP request sent, awaiting response... 301 Moved Permanently\r\n",
      "Location: https://images/data_wii_007.jpg [following]\r\n",
      "--2018-01-15 19:01:23--  https://images/data_wii_007.jpg\r\n",
      "Connecting to images (images)|167.114.148.224|:443... connected.\r\n",
      "WARNING: no certificate subject alternative name matches\r\n",
      "\trequested host name 'images'.\r\n",
      "HTTP request sent, awaiting response... 502 Bad Gateway\r\n",
      "2018-01-15 19:01:23 ERROR 502: Bad Gateway.\r\n",
      "\r\n"
     ]
    },
    {
     "data": {
      "text/plain": [
       "ObjectId('5a5d4dd96d99ba7541d67829')"
      ]
     },
     "execution_count": 23,
     "metadata": {},
     "output_type": "execute_result"
    },
    {
     "name": "stdout",
     "output_type": "stream",
     "text": [
      "--2018-01-15 19:01:23--  http://images/data_wii_009.jpg\r\n",
      "Resolving images (images)... 167.114.148.224\r\n",
      "Connecting to images (images)|167.114.148.224|:80... connected.\r\n",
      "HTTP request sent, awaiting response... 301 Moved Permanently\r\n",
      "Location: https://images/data_wii_009.jpg [following]\r\n",
      "--2018-01-15 19:01:23--  https://images/data_wii_009.jpg\r\n",
      "Connecting to images (images)|167.114.148.224|:443... connected.\r\n",
      "WARNING: no certificate subject alternative name matches\r\n",
      "\trequested host name 'images'.\r\n",
      "HTTP request sent, awaiting response... 502 Bad Gateway\r\n",
      "2018-01-15 19:01:23 ERROR 502: Bad Gateway.\r\n",
      "\r\n"
     ]
    },
    {
     "data": {
      "text/plain": [
       "ObjectId('5a5d4dd96d99ba7541d6782a')"
      ]
     },
     "execution_count": 23,
     "metadata": {},
     "output_type": "execute_result"
    },
    {
     "name": "stdout",
     "output_type": "stream",
     "text": [
      "--2018-01-15 19:01:23--  http://images/data_wii_008.jpg\r\n",
      "Resolving images (images)... 167.114.148.224\r\n",
      "Connecting to images (images)|167.114.148.224|:80... connected.\r\n",
      "HTTP request sent, awaiting response... 301 Moved Permanently\r\n",
      "Location: https://images/data_wii_008.jpg [following]\r\n",
      "--2018-01-15 19:01:23--  https://images/data_wii_008.jpg\r\n",
      "Connecting to images (images)|167.114.148.224|:443... connected.\r\n",
      "WARNING: no certificate subject alternative name matches\r\n",
      "\trequested host name 'images'.\r\n",
      "HTTP request sent, awaiting response... 502 Bad Gateway\r\n",
      "2018-01-15 19:01:23 ERROR 502: Bad Gateway.\r\n",
      "\r\n"
     ]
    },
    {
     "data": {
      "text/plain": [
       "ObjectId('5a5d4dd96d99ba7541d6782b')"
      ]
     },
     "execution_count": 23,
     "metadata": {},
     "output_type": "execute_result"
    },
    {
     "name": "stdout",
     "output_type": "stream",
     "text": [
      "--2018-01-15 19:01:23--  http://images/data_wii_wiiparty.jpg\r\n",
      "Resolving images (images)... 167.114.148.224\r\n",
      "Connecting to images (images)|167.114.148.224|:80... connected.\r\n",
      "HTTP request sent, awaiting response... 301 Moved Permanently\r\n",
      "Location: https://images/data_wii_wiiparty.jpg [following]\r\n",
      "--2018-01-15 19:01:23--  https://images/data_wii_wiiparty.jpg\r\n",
      "Connecting to images (images)|167.114.148.224|:443... connected.\r\n",
      "WARNING: no certificate subject alternative name matches\r\n",
      "\trequested host name 'images'.\r\n",
      "HTTP request sent, awaiting response... 502 Bad Gateway\r\n",
      "2018-01-15 19:01:23 ERROR 502: Bad Gateway.\r\n",
      "\r\n"
     ]
    },
    {
     "data": {
      "text/plain": [
       "ObjectId('5a5d4dd96d99ba7541d6782c')"
      ]
     },
     "execution_count": 23,
     "metadata": {},
     "output_type": "execute_result"
    },
    {
     "name": "stdout",
     "output_type": "stream",
     "text": [
      "--2018-01-15 19:01:24--  http://images/data_ds_001.jpg\r\n",
      "Resolving images (images)... 167.114.148.224\r\n",
      "Connecting to images (images)|167.114.148.224|:80... connected.\r\n",
      "HTTP request sent, awaiting response... 301 Moved Permanently\r\n",
      "Location: https://images/data_ds_001.jpg [following]\r\n",
      "--2018-01-15 19:01:24--  https://images/data_ds_001.jpg\r\n",
      "Connecting to images (images)|167.114.148.224|:443... connected.\r\n",
      "WARNING: no certificate subject alternative name matches\r\n",
      "\trequested host name 'images'.\r\n",
      "HTTP request sent, awaiting response... 502 Bad Gateway\r\n",
      "2018-01-15 19:01:24 ERROR 502: Bad Gateway.\r\n",
      "\r\n"
     ]
    },
    {
     "data": {
      "text/plain": [
       "ObjectId('5a5d4dd96d99ba7541d6782d')"
      ]
     },
     "execution_count": 23,
     "metadata": {},
     "output_type": "execute_result"
    },
    {
     "name": "stdout",
     "output_type": "stream",
     "text": [
      "--2018-01-15 19:01:24--  http://images/data_ds_003.jpg\r\n",
      "Resolving images (images)... 167.114.148.224\r\n",
      "Connecting to images (images)|167.114.148.224|:80... connected.\r\n",
      "HTTP request sent, awaiting response... 301 Moved Permanently\r\n",
      "Location: https://images/data_ds_003.jpg [following]\r\n",
      "--2018-01-15 19:01:24--  https://images/data_ds_003.jpg\r\n",
      "Connecting to images (images)|167.114.148.224|:443... connected.\r\n",
      "WARNING: no certificate subject alternative name matches\r\n",
      "\trequested host name 'images'.\r\n",
      "HTTP request sent, awaiting response... 502 Bad Gateway\r\n",
      "2018-01-15 19:01:24 ERROR 502: Bad Gateway.\r\n",
      "\r\n"
     ]
    },
    {
     "data": {
      "text/plain": [
       "ObjectId('5a5d4dd96d99ba7541d6782e')"
      ]
     },
     "execution_count": 23,
     "metadata": {},
     "output_type": "execute_result"
    },
    {
     "name": "stdout",
     "output_type": "stream",
     "text": [
      "--2018-01-15 19:01:24--  http://images/data_ds_002.jpg\r\n",
      "Resolving images (images)... 167.114.148.224\r\n",
      "Connecting to images (images)|167.114.148.224|:80... connected.\r\n",
      "HTTP request sent, awaiting response... 301 Moved Permanently\r\n",
      "Location: https://images/data_ds_002.jpg [following]\r\n",
      "--2018-01-15 19:01:24--  https://images/data_ds_002.jpg\r\n",
      "Connecting to images (images)|167.114.148.224|:443... connected.\r\n",
      "WARNING: no certificate subject alternative name matches\r\n",
      "\trequested host name 'images'.\r\n",
      "HTTP request sent, awaiting response... 502 Bad Gateway\r\n",
      "2018-01-15 19:01:24 ERROR 502: Bad Gateway.\r\n",
      "\r\n"
     ]
    },
    {
     "data": {
      "text/plain": [
       "ObjectId('5a5d4dd96d99ba7541d6782f')"
      ]
     },
     "execution_count": 23,
     "metadata": {},
     "output_type": "execute_result"
    },
    {
     "name": "stdout",
     "output_type": "stream",
     "text": [
      "--2018-01-15 19:01:24--  http://images/data_ds_004.jpg\r\n",
      "Resolving images (images)... 167.114.148.224\r\n",
      "Connecting to images (images)|167.114.148.224|:80... connected.\r\n",
      "HTTP request sent, awaiting response... 301 Moved Permanently\r\n",
      "Location: https://images/data_ds_004.jpg [following]\r\n",
      "--2018-01-15 19:01:24--  https://images/data_ds_004.jpg\r\n",
      "Connecting to images (images)|167.114.148.224|:443... connected.\r\n",
      "WARNING: no certificate subject alternative name matches\r\n",
      "\trequested host name 'images'.\r\n",
      "HTTP request sent, awaiting response... 502 Bad Gateway\r\n",
      "2018-01-15 19:01:24 ERROR 502: Bad Gateway.\r\n",
      "\r\n"
     ]
    },
    {
     "data": {
      "text/plain": [
       "ObjectId('5a5d4dd96d99ba7541d67830')"
      ]
     },
     "execution_count": 23,
     "metadata": {},
     "output_type": "execute_result"
    },
    {
     "name": "stdout",
     "output_type": "stream",
     "text": [
      "--2018-01-15 19:01:24--  http://images/data_ds_006.jpg\r\n",
      "Resolving images (images)... 167.114.148.224\r\n",
      "Connecting to images (images)|167.114.148.224|:80... connected.\r\n",
      "HTTP request sent, awaiting response... 301 Moved Permanently\r\n",
      "Location: https://images/data_ds_006.jpg [following]\r\n",
      "--2018-01-15 19:01:24--  https://images/data_ds_006.jpg\r\n",
      "Connecting to images (images)|167.114.148.224|:443... connected.\r\n",
      "WARNING: no certificate subject alternative name matches\r\n",
      "\trequested host name 'images'.\r\n",
      "HTTP request sent, awaiting response... 502 Bad Gateway\r\n",
      "2018-01-15 19:01:24 ERROR 502: Bad Gateway.\r\n",
      "\r\n"
     ]
    },
    {
     "data": {
      "text/plain": [
       "ObjectId('5a5d4dd96d99ba7541d67831')"
      ]
     },
     "execution_count": 23,
     "metadata": {},
     "output_type": "execute_result"
    },
    {
     "name": "stdout",
     "output_type": "stream",
     "text": [
      "--2018-01-15 19:01:24--  http://images/data_ds_007.jpg\r\n",
      "Resolving images (images)... 167.114.148.224\r\n",
      "Connecting to images (images)|167.114.148.224|:80... connected.\r\n",
      "HTTP request sent, awaiting response... 301 Moved Permanently\r\n",
      "Location: https://images/data_ds_007.jpg [following]\r\n",
      "--2018-01-15 19:01:24--  https://images/data_ds_007.jpg\r\n",
      "Connecting to images (images)|167.114.148.224|:443... connected.\r\n",
      "WARNING: no certificate subject alternative name matches\r\n",
      "\trequested host name 'images'.\r\n",
      "HTTP request sent, awaiting response... 502 Bad Gateway\r\n",
      "2018-01-15 19:01:24 ERROR 502: Bad Gateway.\r\n",
      "\r\n"
     ]
    },
    {
     "data": {
      "text/plain": [
       "ObjectId('5a5d4dd96d99ba7541d67832')"
      ]
     },
     "execution_count": 23,
     "metadata": {},
     "output_type": "execute_result"
    },
    {
     "name": "stdout",
     "output_type": "stream",
     "text": [
      "--2018-01-15 19:01:25--  http://images/data_ds_005.jpg\r\n",
      "Resolving images (images)... 167.114.148.224\r\n",
      "Connecting to images (images)|167.114.148.224|:80... connected.\r\n",
      "HTTP request sent, awaiting response... 301 Moved Permanently\r\n",
      "Location: https://images/data_ds_005.jpg [following]\r\n",
      "--2018-01-15 19:01:25--  https://images/data_ds_005.jpg\r\n",
      "Connecting to images (images)|167.114.148.224|:443... connected.\r\n",
      "WARNING: no certificate subject alternative name matches\r\n",
      "\trequested host name 'images'.\r\n",
      "HTTP request sent, awaiting response... 502 Bad Gateway\r\n",
      "2018-01-15 19:01:25 ERROR 502: Bad Gateway.\r\n",
      "\r\n"
     ]
    },
    {
     "data": {
      "text/plain": [
       "ObjectId('5a5d4dd96d99ba7541d67833')"
      ]
     },
     "execution_count": 23,
     "metadata": {},
     "output_type": "execute_result"
    },
    {
     "name": "stdout",
     "output_type": "stream",
     "text": [
      "--2018-01-15 19:01:25--  http://images/data_ds_008.jpg\r\n",
      "Resolving images (images)... 167.114.148.224\r\n",
      "Connecting to images (images)|167.114.148.224|:80... connected.\r\n",
      "HTTP request sent, awaiting response... 301 Moved Permanently\r\n",
      "Location: https://images/data_ds_008.jpg [following]\r\n",
      "--2018-01-15 19:01:25--  https://images/data_ds_008.jpg\r\n",
      "Connecting to images (images)|167.114.148.224|:443... connected.\r\n",
      "WARNING: no certificate subject alternative name matches\r\n",
      "\trequested host name 'images'.\r\n",
      "HTTP request sent, awaiting response... 502 Bad Gateway\r\n",
      "2018-01-15 19:01:25 ERROR 502: Bad Gateway.\r\n",
      "\r\n"
     ]
    },
    {
     "data": {
      "text/plain": [
       "ObjectId('5a5d4dd96d99ba7541d67834')"
      ]
     },
     "execution_count": 23,
     "metadata": {},
     "output_type": "execute_result"
    },
    {
     "name": "stdout",
     "output_type": "stream",
     "text": [
      "--2018-01-15 19:01:25--  http://images/data_ds_010.jpg\r\n",
      "Resolving images (images)... 167.114.148.224\r\n",
      "Connecting to images (images)|167.114.148.224|:80... connected.\r\n",
      "HTTP request sent, awaiting response... 301 Moved Permanently\r\n",
      "Location: https://images/data_ds_010.jpg [following]\r\n",
      "--2018-01-15 19:01:25--  https://images/data_ds_010.jpg\r\n",
      "Connecting to images (images)|167.114.148.224|:443... connected.\r\n",
      "WARNING: no certificate subject alternative name matches\r\n",
      "\trequested host name 'images'.\r\n",
      "HTTP request sent, awaiting response... 502 Bad Gateway\r\n",
      "2018-01-15 19:01:25 ERROR 502: Bad Gateway.\r\n",
      "\r\n"
     ]
    },
    {
     "data": {
      "text/plain": [
       "ObjectId('5a5d4dd96d99ba7541d67835')"
      ]
     },
     "execution_count": 23,
     "metadata": {},
     "output_type": "execute_result"
    },
    {
     "name": "stdout",
     "output_type": "stream",
     "text": [
      "--2018-01-15 19:01:25--  http://images/data_ds_009.jpg\r\n",
      "Resolving images (images)... 167.114.148.224\r\n",
      "Connecting to images (images)|167.114.148.224|:80... connected.\r\n",
      "HTTP request sent, awaiting response... 301 Moved Permanently\r\n",
      "Location: https://images/data_ds_009.jpg [following]\r\n",
      "--2018-01-15 19:01:25--  https://images/data_ds_009.jpg\r\n",
      "Connecting to images (images)|167.114.148.224|:443... connected.\r\n",
      "WARNING: no certificate subject alternative name matches\r\n",
      "\trequested host name 'images'.\r\n",
      "HTTP request sent, awaiting response... 502 Bad Gateway\r\n",
      "2018-01-15 19:01:25 ERROR 502: Bad Gateway.\r\n",
      "\r\n"
     ]
    },
    {
     "data": {
      "text/plain": [
       "ObjectId('5a5d4dd96d99ba7541d67836')"
      ]
     },
     "execution_count": 23,
     "metadata": {},
     "output_type": "execute_result"
    },
    {
     "name": "stdout",
     "output_type": "stream",
     "text": [
      "--2018-01-15 19:01:25--  http://images/data_switch_001.png\r\n",
      "Resolving images (images)... 167.114.148.224\r\n",
      "Connecting to images (images)|167.114.148.224|:80... connected.\r\n",
      "HTTP request sent, awaiting response... 301 Moved Permanently\r\n",
      "Location: https://images/data_switch_001.png [following]\r\n",
      "--2018-01-15 19:01:25--  https://images/data_switch_001.png\r\n",
      "Connecting to images (images)|167.114.148.224|:443... connected.\r\n",
      "WARNING: no certificate subject alternative name matches\r\n",
      "\trequested host name 'images'.\r\n",
      "HTTP request sent, awaiting response... 502 Bad Gateway\r\n",
      "2018-01-15 19:01:25 ERROR 502: Bad Gateway.\r\n",
      "\r\n"
     ]
    },
    {
     "data": {
      "text/plain": [
       "ObjectId('5a5d4dd96d99ba7541d67837')"
      ]
     },
     "execution_count": 23,
     "metadata": {},
     "output_type": "execute_result"
    },
    {
     "name": "stdout",
     "output_type": "stream",
     "text": [
      "--2018-01-15 19:01:26--  http://images/data_switch_002.png\r\n",
      "Resolving images (images)... 167.114.148.224\r\n",
      "Connecting to images (images)|167.114.148.224|:80... connected.\r\n",
      "HTTP request sent, awaiting response... 301 Moved Permanently\r\n",
      "Location: https://images/data_switch_002.png [following]\r\n",
      "--2018-01-15 19:01:26--  https://images/data_switch_002.png\r\n",
      "Connecting to images (images)|167.114.148.224|:443... connected.\r\n",
      "WARNING: no certificate subject alternative name matches\r\n",
      "\trequested host name 'images'.\r\n",
      "HTTP request sent, awaiting response... 502 Bad Gateway\r\n",
      "2018-01-15 19:01:26 ERROR 502: Bad Gateway.\r\n",
      "\r\n"
     ]
    },
    {
     "data": {
      "text/plain": [
       "ObjectId('5a5d4dd96d99ba7541d67838')"
      ]
     },
     "execution_count": 23,
     "metadata": {},
     "output_type": "execute_result"
    },
    {
     "name": "stdout",
     "output_type": "stream",
     "text": [
      "--2018-01-15 19:01:26--  http://images/data_switch_005.png\r\n",
      "Resolving images (images)... 167.114.148.224\r\n",
      "Connecting to images (images)|167.114.148.224|:80... connected.\r\n",
      "HTTP request sent, awaiting response... 301 Moved Permanently\r\n",
      "Location: https://images/data_switch_005.png [following]\r\n",
      "--2018-01-15 19:01:26--  https://images/data_switch_005.png\r\n",
      "Connecting to images (images)|167.114.148.224|:443... connected.\r\n",
      "WARNING: no certificate subject alternative name matches\r\n",
      "\trequested host name 'images'.\r\n",
      "HTTP request sent, awaiting response... 502 Bad Gateway\r\n",
      "2018-01-15 19:01:26 ERROR 502: Bad Gateway.\r\n",
      "\r\n"
     ]
    },
    {
     "data": {
      "text/plain": [
       "ObjectId('5a5d4dd96d99ba7541d67839')"
      ]
     },
     "execution_count": 23,
     "metadata": {},
     "output_type": "execute_result"
    },
    {
     "name": "stdout",
     "output_type": "stream",
     "text": [
      "--2018-01-15 19:01:27--  http://images/data_switch_003.png\r\n",
      "Resolving images (images)... 167.114.148.224\r\n",
      "Connecting to images (images)|167.114.148.224|:80... connected.\r\n",
      "HTTP request sent, awaiting response... 301 Moved Permanently\r\n",
      "Location: https://images/data_switch_003.png [following]\r\n",
      "--2018-01-15 19:01:27--  https://images/data_switch_003.png\r\n",
      "Connecting to images (images)|167.114.148.224|:443... connected.\r\n",
      "WARNING: no certificate subject alternative name matches\r\n",
      "\trequested host name 'images'.\r\n",
      "HTTP request sent, awaiting response... 502 Bad Gateway\r\n",
      "2018-01-15 19:01:27 ERROR 502: Bad Gateway.\r\n",
      "\r\n"
     ]
    },
    {
     "data": {
      "text/plain": [
       "ObjectId('5a5d4dd96d99ba7541d6783a')"
      ]
     },
     "execution_count": 23,
     "metadata": {},
     "output_type": "execute_result"
    },
    {
     "name": "stdout",
     "output_type": "stream",
     "text": [
      "--2018-01-15 19:01:27--  http://images/data_switch_004.png\r\n",
      "Resolving images (images)... 167.114.148.224\r\n",
      "Connecting to images (images)|167.114.148.224|:80... connected.\r\n",
      "HTTP request sent, awaiting response... 301 Moved Permanently\r\n",
      "Location: https://images/data_switch_004.png [following]\r\n",
      "--2018-01-15 19:01:27--  https://images/data_switch_004.png\r\n",
      "Connecting to images (images)|167.114.148.224|:443... connected.\r\n",
      "WARNING: no certificate subject alternative name matches\r\n",
      "\trequested host name 'images'.\r\n",
      "HTTP request sent, awaiting response... 502 Bad Gateway\r\n",
      "2018-01-15 19:01:27 ERROR 502: Bad Gateway.\r\n",
      "\r\n"
     ]
    },
    {
     "data": {
      "text/plain": [
       "ObjectId('5a5d4dd96d99ba7541d6783b')"
      ]
     },
     "execution_count": 23,
     "metadata": {},
     "output_type": "execute_result"
    },
    {
     "name": "stdout",
     "output_type": "stream",
     "text": [
      "--2018-01-15 19:01:27--  http://images/data_wiiu_mariokart8.png\r\n",
      "Resolving images (images)... 167.114.148.224\r\n",
      "Connecting to images (images)|167.114.148.224|:80... connected.\r\n",
      "HTTP request sent, awaiting response... 301 Moved Permanently\r\n",
      "Location: https://images/data_wiiu_mariokart8.png [following]\r\n",
      "--2018-01-15 19:01:27--  https://images/data_wiiu_mariokart8.png\r\n",
      "Connecting to images (images)|167.114.148.224|:443... connected.\r\n",
      "WARNING: no certificate subject alternative name matches\r\n",
      "\trequested host name 'images'.\r\n",
      "HTTP request sent, awaiting response... 502 Bad Gateway\r\n",
      "2018-01-15 19:01:27 ERROR 502: Bad Gateway.\r\n",
      "\r\n"
     ]
    },
    {
     "data": {
      "text/plain": [
       "ObjectId('5a5d4dd96d99ba7541d6783c')"
      ]
     },
     "execution_count": 23,
     "metadata": {},
     "output_type": "execute_result"
    },
    {
     "name": "stdout",
     "output_type": "stream",
     "text": [
      "--2018-01-15 19:01:27--  http://images/data_wiiu_newmariou.png\r\n",
      "Resolving images (images)... 167.114.148.224\r\n",
      "Connecting to images (images)|167.114.148.224|:80... connected.\r\n",
      "HTTP request sent, awaiting response... 301 Moved Permanently\r\n",
      "Location: https://images/data_wiiu_newmariou.png [following]\r\n",
      "--2018-01-15 19:01:27--  https://images/data_wiiu_newmariou.png\r\n",
      "Connecting to images (images)|167.114.148.224|:443... connected.\r\n",
      "WARNING: no certificate subject alternative name matches\r\n",
      "\trequested host name 'images'.\r\n",
      "HTTP request sent, awaiting response... 502 Bad Gateway\r\n",
      "2018-01-15 19:01:27 ERROR 502: Bad Gateway.\r\n",
      "\r\n"
     ]
    },
    {
     "data": {
      "text/plain": [
       "ObjectId('5a5d4dd96d99ba7541d6783d')"
      ]
     },
     "execution_count": 23,
     "metadata": {},
     "output_type": "execute_result"
    },
    {
     "name": "stdout",
     "output_type": "stream",
     "text": [
      "--2018-01-15 19:01:27--  http://images/data_wiiu_mario3dworld.png\r\n",
      "Resolving images (images)... 167.114.148.224\r\n",
      "Connecting to images (images)|167.114.148.224|:80... connected.\r\n",
      "HTTP request sent, awaiting response... 301 Moved Permanently\r\n",
      "Location: https://images/data_wiiu_mario3dworld.png [following]\r\n",
      "--2018-01-15 19:01:27--  https://images/data_wiiu_mario3dworld.png\r\n",
      "Connecting to images (images)|167.114.148.224|:443... connected.\r\n",
      "WARNING: no certificate subject alternative name matches\r\n",
      "\trequested host name 'images'.\r\n",
      "HTTP request sent, awaiting response... 502 Bad Gateway\r\n",
      "2018-01-15 19:01:27 ERROR 502: Bad Gateway.\r\n",
      "\r\n"
     ]
    },
    {
     "data": {
      "text/plain": [
       "ObjectId('5a5d4dd96d99ba7541d6783e')"
      ]
     },
     "execution_count": 23,
     "metadata": {},
     "output_type": "execute_result"
    },
    {
     "name": "stdout",
     "output_type": "stream",
     "text": [
      "--2018-01-15 19:01:28--  http://images/data_wiiu_smashbros.png\r\n",
      "Resolving images (images)... 167.114.148.224\r\n",
      "Connecting to images (images)|167.114.148.224|:80... connected.\r\n",
      "HTTP request sent, awaiting response... 301 Moved Permanently\r\n",
      "Location: https://images/data_wiiu_smashbros.png [following]\r\n",
      "--2018-01-15 19:01:28--  https://images/data_wiiu_smashbros.png\r\n",
      "Connecting to images (images)|167.114.148.224|:443... connected.\r\n",
      "WARNING: no certificate subject alternative name matches\r\n",
      "\trequested host name 'images'.\r\n",
      "HTTP request sent, awaiting response... 502 Bad Gateway\r\n",
      "2018-01-15 19:01:28 ERROR 502: Bad Gateway.\r\n",
      "\r\n"
     ]
    },
    {
     "data": {
      "text/plain": [
       "ObjectId('5a5d4dd96d99ba7541d6783f')"
      ]
     },
     "execution_count": 23,
     "metadata": {},
     "output_type": "execute_result"
    },
    {
     "name": "stdout",
     "output_type": "stream",
     "text": [
      "--2018-01-15 19:01:28--  http://images/data_wiiu_nintendoland.png\r\n",
      "Resolving images (images)... 167.114.148.224\r\n",
      "Connecting to images (images)|167.114.148.224|:80... connected.\r\n",
      "HTTP request sent, awaiting response... 301 Moved Permanently\r\n",
      "Location: https://images/data_wiiu_nintendoland.png [following]\r\n",
      "--2018-01-15 19:01:28--  https://images/data_wiiu_nintendoland.png\r\n",
      "Connecting to images (images)|167.114.148.224|:443... connected.\r\n",
      "WARNING: no certificate subject alternative name matches\r\n",
      "\trequested host name 'images'.\r\n",
      "HTTP request sent, awaiting response... 502 Bad Gateway\r\n",
      "2018-01-15 19:01:28 ERROR 502: Bad Gateway.\r\n",
      "\r\n"
     ]
    },
    {
     "data": {
      "text/plain": [
       "ObjectId('5a5d4dd96d99ba7541d67840')"
      ]
     },
     "execution_count": 23,
     "metadata": {},
     "output_type": "execute_result"
    },
    {
     "name": "stdout",
     "output_type": "stream",
     "text": [
      "--2018-01-15 19:01:28--  http://images/data_wiiu_splatoon.jpg\r\n",
      "Resolving images (images)... 167.114.148.224\r\n",
      "Connecting to images (images)|167.114.148.224|:80... connected.\r\n",
      "HTTP request sent, awaiting response... 301 Moved Permanently\r\n",
      "Location: https://images/data_wiiu_splatoon.jpg [following]\r\n",
      "--2018-01-15 19:01:28--  https://images/data_wiiu_splatoon.jpg\r\n",
      "Connecting to images (images)|167.114.148.224|:443... connected.\r\n",
      "WARNING: no certificate subject alternative name matches\r\n",
      "\trequested host name 'images'.\r\n",
      "HTTP request sent, awaiting response... 502 Bad Gateway\r\n",
      "2018-01-15 19:01:28 ERROR 502: Bad Gateway.\r\n",
      "\r\n"
     ]
    },
    {
     "data": {
      "text/plain": [
       "ObjectId('5a5d4dd96d99ba7541d67841')"
      ]
     },
     "execution_count": 23,
     "metadata": {},
     "output_type": "execute_result"
    },
    {
     "name": "stdout",
     "output_type": "stream",
     "text": [
      "--2018-01-15 19:01:28--  http://images/data_wiiu_supermariomaker.png\r\n",
      "Resolving images (images)... 167.114.148.224\r\n",
      "Connecting to images (images)|167.114.148.224|:80... connected.\r\n",
      "HTTP request sent, awaiting response... 301 Moved Permanently\r\n",
      "Location: https://images/data_wiiu_supermariomaker.png [following]\r\n",
      "--2018-01-15 19:01:28--  https://images/data_wiiu_supermariomaker.png\r\n",
      "Connecting to images (images)|167.114.148.224|:443... connected.\r\n",
      "WARNING: no certificate subject alternative name matches\r\n",
      "\trequested host name 'images'.\r\n",
      "HTTP request sent, awaiting response... 502 Bad Gateway\r\n",
      "2018-01-15 19:01:28 ERROR 502: Bad Gateway.\r\n",
      "\r\n"
     ]
    },
    {
     "data": {
      "text/plain": [
       "ObjectId('5a5d4dd96d99ba7541d67842')"
      ]
     },
     "execution_count": 23,
     "metadata": {},
     "output_type": "execute_result"
    },
    {
     "name": "stdout",
     "output_type": "stream",
     "text": [
      "--2018-01-15 19:01:28--  http://images/data_wiiu_newsuperluigiu.png\r\n",
      "Resolving images (images)... 167.114.148.224\r\n",
      "Connecting to images (images)|167.114.148.224|:80... connected.\r\n",
      "HTTP request sent, awaiting response... 301 Moved Permanently\r\n",
      "Location: https://images/data_wiiu_newsuperluigiu.png [following]\r\n",
      "--2018-01-15 19:01:28--  https://images/data_wiiu_newsuperluigiu.png\r\n",
      "Connecting to images (images)|167.114.148.224|:443... connected.\r\n",
      "WARNING: no certificate subject alternative name matches\r\n",
      "\trequested host name 'images'.\r\n",
      "HTTP request sent, awaiting response... 502 Bad Gateway\r\n",
      "2018-01-15 19:01:28 ERROR 502: Bad Gateway.\r\n",
      "\r\n"
     ]
    },
    {
     "data": {
      "text/plain": [
       "ObjectId('5a5d4dd96d99ba7541d67843')"
      ]
     },
     "execution_count": 23,
     "metadata": {},
     "output_type": "execute_result"
    },
    {
     "name": "stdout",
     "output_type": "stream",
     "text": [
      "--2018-01-15 19:01:28--  http://images/data_wiiu_zeldahd.png\r\n",
      "Resolving images (images)... 167.114.148.224\r\n",
      "Connecting to images (images)|167.114.148.224|:80... connected.\r\n",
      "HTTP request sent, awaiting response... 301 Moved Permanently\r\n",
      "Location: https://images/data_wiiu_zeldahd.png [following]\r\n",
      "--2018-01-15 19:01:28--  https://images/data_wiiu_zeldahd.png\r\n",
      "Connecting to images (images)|167.114.148.224|:443... connected.\r\n",
      "WARNING: no certificate subject alternative name matches\r\n",
      "\trequested host name 'images'.\r\n",
      "HTTP request sent, awaiting response... 502 Bad Gateway\r\n",
      "2018-01-15 19:01:28 ERROR 502: Bad Gateway.\r\n",
      "\r\n"
     ]
    },
    {
     "data": {
      "text/plain": [
       "ObjectId('5a5d4dd96d99ba7541d67844')"
      ]
     },
     "execution_count": 23,
     "metadata": {},
     "output_type": "execute_result"
    },
    {
     "name": "stdout",
     "output_type": "stream",
     "text": [
      "--2018-01-15 19:01:29--  http://images/data_wiiu_marioparty10.jpg\r\n",
      "Resolving images (images)... 167.114.148.224\r\n",
      "Connecting to images (images)|167.114.148.224|:80... connected.\r\n",
      "HTTP request sent, awaiting response... 301 Moved Permanently\r\n",
      "Location: https://images/data_wiiu_marioparty10.jpg [following]\r\n",
      "--2018-01-15 19:01:29--  https://images/data_wiiu_marioparty10.jpg\r\n",
      "Connecting to images (images)|167.114.148.224|:443... connected.\r\n",
      "WARNING: no certificate subject alternative name matches\r\n",
      "\trequested host name 'images'.\r\n",
      "HTTP request sent, awaiting response... 502 Bad Gateway\r\n",
      "2018-01-15 19:01:29 ERROR 502: Bad Gateway.\r\n",
      "\r\n"
     ]
    },
    {
     "data": {
      "text/plain": [
       "ObjectId('5a5d4dd96d99ba7541d67845')"
      ]
     },
     "execution_count": 23,
     "metadata": {},
     "output_type": "execute_result"
    },
    {
     "name": "stdout",
     "output_type": "stream",
     "text": [
      "--2018-01-15 19:01:29--  http://images/data_3ds_pokemonxy.jpg\r\n",
      "Resolving images (images)... 167.114.148.224\r\n",
      "Connecting to images (images)|167.114.148.224|:80... connected.\r\n",
      "HTTP request sent, awaiting response... 301 Moved Permanently\r\n",
      "Location: https://images/data_3ds_pokemonxy.jpg [following]\r\n",
      "--2018-01-15 19:01:29--  https://images/data_3ds_pokemonxy.jpg\r\n",
      "Connecting to images (images)|167.114.148.224|:443... connected.\r\n",
      "WARNING: no certificate subject alternative name matches\r\n",
      "\trequested host name 'images'.\r\n",
      "HTTP request sent, awaiting response... 502 Bad Gateway\r\n",
      "2018-01-15 19:01:29 ERROR 502: Bad Gateway.\r\n",
      "\r\n"
     ]
    },
    {
     "data": {
      "text/plain": [
       "ObjectId('5a5d4dd96d99ba7541d67846')"
      ]
     },
     "execution_count": 23,
     "metadata": {},
     "output_type": "execute_result"
    },
    {
     "name": "stdout",
     "output_type": "stream",
     "text": [
      "--2018-01-15 19:01:29--  http://images/data_3ds_002.jpg\r\n",
      "Resolving images (images)... 167.114.148.224\r\n",
      "Connecting to images (images)|167.114.148.224|:80... connected.\r\n",
      "HTTP request sent, awaiting response... 301 Moved Permanently\r\n",
      "Location: https://images/data_3ds_002.jpg [following]\r\n",
      "--2018-01-15 19:01:29--  https://images/data_3ds_002.jpg\r\n",
      "Connecting to images (images)|167.114.148.224|:443... connected.\r\n",
      "WARNING: no certificate subject alternative name matches\r\n",
      "\trequested host name 'images'.\r\n",
      "HTTP request sent, awaiting response... 502 Bad Gateway\r\n",
      "2018-01-15 19:01:29 ERROR 502: Bad Gateway.\r\n",
      "\r\n"
     ]
    },
    {
     "data": {
      "text/plain": [
       "ObjectId('5a5d4dd96d99ba7541d67847')"
      ]
     },
     "execution_count": 23,
     "metadata": {},
     "output_type": "execute_result"
    },
    {
     "name": "stdout",
     "output_type": "stream",
     "text": [
      "--2018-01-15 19:01:29--  http://images/data_3ds_pokemonsunmoon.jpg\r\n",
      "Resolving images (images)... 167.114.148.224\r\n",
      "Connecting to images (images)|167.114.148.224|:80... connected.\r\n",
      "HTTP request sent, awaiting response... 301 Moved Permanently\r\n",
      "Location: https://images/data_3ds_pokemonsunmoon.jpg [following]\r\n",
      "--2018-01-15 19:01:29--  https://images/data_3ds_pokemonsunmoon.jpg\r\n",
      "Connecting to images (images)|167.114.148.224|:443... connected.\r\n",
      "WARNING: no certificate subject alternative name matches\r\n",
      "\trequested host name 'images'.\r\n",
      "HTTP request sent, awaiting response... 502 Bad Gateway\r\n",
      "2018-01-15 19:01:29 ERROR 502: Bad Gateway.\r\n",
      "\r\n"
     ]
    },
    {
     "data": {
      "text/plain": [
       "ObjectId('5a5d4dd96d99ba7541d67848')"
      ]
     },
     "execution_count": 23,
     "metadata": {},
     "output_type": "execute_result"
    },
    {
     "name": "stdout",
     "output_type": "stream",
     "text": [
      "--2018-01-15 19:01:30--  http://images/data_3ds_pokemonoras.jpg\r\n",
      "Resolving images (images)... 167.114.148.224\r\n",
      "Connecting to images (images)|167.114.148.224|:80... connected.\r\n",
      "HTTP request sent, awaiting response... 301 Moved Permanently\r\n",
      "Location: https://images/data_3ds_pokemonoras.jpg [following]\r\n",
      "--2018-01-15 19:01:30--  https://images/data_3ds_pokemonoras.jpg\r\n",
      "Connecting to images (images)|167.114.148.224|:443... connected.\r\n",
      "WARNING: no certificate subject alternative name matches\r\n",
      "\trequested host name 'images'.\r\n",
      "HTTP request sent, awaiting response... 502 Bad Gateway\r\n",
      "2018-01-15 19:01:30 ERROR 502: Bad Gateway.\r\n",
      "\r\n"
     ]
    },
    {
     "data": {
      "text/plain": [
       "ObjectId('5a5d4dd96d99ba7541d67849')"
      ]
     },
     "execution_count": 23,
     "metadata": {},
     "output_type": "execute_result"
    },
    {
     "name": "stdout",
     "output_type": "stream",
     "text": [
      "--2018-01-15 19:01:30--  http://images/data_3ds_003.jpg\r\n",
      "Resolving images (images)... 167.114.148.224\r\n",
      "Connecting to images (images)|167.114.148.224|:80... connected.\r\n",
      "HTTP request sent, awaiting response... 301 Moved Permanently\r\n",
      "Location: https://images/data_3ds_003.jpg [following]\r\n",
      "--2018-01-15 19:01:30--  https://images/data_3ds_003.jpg\r\n",
      "Connecting to images (images)|167.114.148.224|:443... connected.\r\n",
      "WARNING: no certificate subject alternative name matches\r\n",
      "\trequested host name 'images'.\r\n",
      "HTTP request sent, awaiting response... 502 Bad Gateway\r\n",
      "2018-01-15 19:01:30 ERROR 502: Bad Gateway.\r\n",
      "\r\n"
     ]
    },
    {
     "data": {
      "text/plain": [
       "ObjectId('5a5d4dd96d99ba7541d6784a')"
      ]
     },
     "execution_count": 23,
     "metadata": {},
     "output_type": "execute_result"
    },
    {
     "name": "stdout",
     "output_type": "stream",
     "text": [
      "--2018-01-15 19:01:30--  http://images/data_3ds_001.jpg\r\n",
      "Resolving images (images)... 167.114.148.224\r\n",
      "Connecting to images (images)|167.114.148.224|:80... connected.\r\n",
      "HTTP request sent, awaiting response... 301 Moved Permanently\r\n",
      "Location: https://images/data_3ds_001.jpg [following]\r\n",
      "--2018-01-15 19:01:30--  https://images/data_3ds_001.jpg\r\n",
      "Connecting to images (images)|167.114.148.224|:443... connected.\r\n",
      "WARNING: no certificate subject alternative name matches\r\n",
      "\trequested host name 'images'.\r\n",
      "HTTP request sent, awaiting response... 502 Bad Gateway\r\n",
      "2018-01-15 19:01:30 ERROR 502: Bad Gateway.\r\n",
      "\r\n"
     ]
    },
    {
     "data": {
      "text/plain": [
       "ObjectId('5a5d4dd96d99ba7541d6784b')"
      ]
     },
     "execution_count": 23,
     "metadata": {},
     "output_type": "execute_result"
    },
    {
     "name": "stdout",
     "output_type": "stream",
     "text": [
      "--2018-01-15 19:01:30--  http://images/data_3ds_004.jpg\r\n",
      "Resolving images (images)... 167.114.148.224\r\n",
      "Connecting to images (images)|167.114.148.224|:80... connected.\r\n",
      "HTTP request sent, awaiting response... 301 Moved Permanently\r\n",
      "Location: https://images/data_3ds_004.jpg [following]\r\n",
      "--2018-01-15 19:01:30--  https://images/data_3ds_004.jpg\r\n",
      "Connecting to images (images)|167.114.148.224|:443... connected.\r\n",
      "WARNING: no certificate subject alternative name matches\r\n",
      "\trequested host name 'images'.\r\n",
      "HTTP request sent, awaiting response... 502 Bad Gateway\r\n",
      "2018-01-15 19:01:30 ERROR 502: Bad Gateway.\r\n",
      "\r\n"
     ]
    },
    {
     "data": {
      "text/plain": [
       "ObjectId('5a5d4dd96d99ba7541d6784c')"
      ]
     },
     "execution_count": 23,
     "metadata": {},
     "output_type": "execute_result"
    },
    {
     "name": "stdout",
     "output_type": "stream",
     "text": [
      "--2018-01-15 19:01:30--  http://images/data_3ds_smashbros.jpg\r\n",
      "Resolving images (images)... 167.114.148.224\r\n",
      "Connecting to images (images)|167.114.148.224|:80... connected.\r\n",
      "HTTP request sent, awaiting response... 301 Moved Permanently\r\n",
      "Location: https://images/data_3ds_smashbros.jpg [following]\r\n",
      "--2018-01-15 19:01:30--  https://images/data_3ds_smashbros.jpg\r\n",
      "Connecting to images (images)|167.114.148.224|:443... connected.\r\n",
      "WARNING: no certificate subject alternative name matches\r\n",
      "\trequested host name 'images'.\r\n",
      "HTTP request sent, awaiting response... 502 Bad Gateway\r\n",
      "2018-01-15 19:01:30 ERROR 502: Bad Gateway.\r\n",
      "\r\n"
     ]
    },
    {
     "data": {
      "text/plain": [
       "ObjectId('5a5d4dd96d99ba7541d6784d')"
      ]
     },
     "execution_count": 23,
     "metadata": {},
     "output_type": "execute_result"
    },
    {
     "name": "stdout",
     "output_type": "stream",
     "text": [
      "--2018-01-15 19:01:30--  http://images/data_3ds_tomodachicollection.jpg\r\n",
      "Resolving images (images)... 167.114.148.224\r\n",
      "Connecting to images (images)|167.114.148.224|:80... connected.\r\n",
      "HTTP request sent, awaiting response... 301 Moved Permanently\r\n",
      "Location: https://images/data_3ds_tomodachicollection.jpg [following]\r\n",
      "--2018-01-15 19:01:30--  https://images/data_3ds_tomodachicollection.jpg\r\n",
      "Connecting to images (images)|167.114.148.224|:443... connected.\r\n",
      "WARNING: no certificate subject alternative name matches\r\n",
      "\trequested host name 'images'.\r\n",
      "HTTP request sent, awaiting response... 502 Bad Gateway\r\n",
      "2018-01-15 19:01:30 ERROR 502: Bad Gateway.\r\n",
      "\r\n"
     ]
    },
    {
     "data": {
      "text/plain": [
       "ObjectId('5a5d4dd96d99ba7541d6784e')"
      ]
     },
     "execution_count": 23,
     "metadata": {},
     "output_type": "execute_result"
    },
    {
     "name": "stdout",
     "output_type": "stream",
     "text": [
      "--2018-01-15 19:01:31--  http://images/data_3ds_009.jpg\r\n",
      "Resolving images (images)... 167.114.148.224\r\n",
      "Connecting to images (images)|167.114.148.224|:80... connected.\r\n",
      "HTTP request sent, awaiting response... 301 Moved Permanently\r\n",
      "Location: https://images/data_3ds_009.jpg [following]\r\n",
      "--2018-01-15 19:01:31--  https://images/data_3ds_009.jpg\r\n",
      "Connecting to images (images)|167.114.148.224|:443... connected.\r\n",
      "WARNING: no certificate subject alternative name matches\r\n",
      "\trequested host name 'images'.\r\n",
      "HTTP request sent, awaiting response... 502 Bad Gateway\r\n",
      "2018-01-15 19:01:31 ERROR 502: Bad Gateway.\r\n",
      "\r\n"
     ]
    },
    {
     "data": {
      "text/plain": [
       "ObjectId('5a5d4dd96d99ba7541d6784f')"
      ]
     },
     "execution_count": 23,
     "metadata": {},
     "output_type": "execute_result"
    },
    {
     "name": "stdout",
     "output_type": "stream",
     "text": [
      "--2018-01-15 19:01:31--  http://images/data_wii_001.jpg\r\n",
      "Resolving images (images)... 167.114.148.224\r\n",
      "Connecting to images (images)|167.114.148.224|:80... connected.\r\n",
      "HTTP request sent, awaiting response... 301 Moved Permanently\r\n",
      "Location: https://images/data_wii_001.jpg [following]\r\n",
      "--2018-01-15 19:01:31--  https://images/data_wii_001.jpg\r\n",
      "Connecting to images (images)|167.114.148.224|:443... connected.\r\n",
      "WARNING: no certificate subject alternative name matches\r\n",
      "\trequested host name 'images'.\r\n",
      "HTTP request sent, awaiting response... 502 Bad Gateway\r\n",
      "2018-01-15 19:01:31 ERROR 502: Bad Gateway.\r\n",
      "\r\n"
     ]
    },
    {
     "data": {
      "text/plain": [
       "ObjectId('5a5d4dd96d99ba7541d67850')"
      ]
     },
     "execution_count": 23,
     "metadata": {},
     "output_type": "execute_result"
    },
    {
     "name": "stdout",
     "output_type": "stream",
     "text": [
      "--2018-01-15 19:01:31--  http://images/data_wii_002.jpg\r\n",
      "Resolving images (images)... 167.114.148.224\r\n",
      "Connecting to images (images)|167.114.148.224|:80... connected.\r\n",
      "HTTP request sent, awaiting response... 301 Moved Permanently\r\n",
      "Location: https://images/data_wii_002.jpg [following]\r\n",
      "--2018-01-15 19:01:31--  https://images/data_wii_002.jpg\r\n",
      "Connecting to images (images)|167.114.148.224|:443... connected.\r\n",
      "WARNING: no certificate subject alternative name matches\r\n",
      "\trequested host name 'images'.\r\n",
      "HTTP request sent, awaiting response... 502 Bad Gateway\r\n",
      "2018-01-15 19:01:31 ERROR 502: Bad Gateway.\r\n",
      "\r\n"
     ]
    },
    {
     "data": {
      "text/plain": [
       "ObjectId('5a5d4dd96d99ba7541d67851')"
      ]
     },
     "execution_count": 23,
     "metadata": {},
     "output_type": "execute_result"
    },
    {
     "name": "stdout",
     "output_type": "stream",
     "text": [
      "--2018-01-15 19:01:32--  http://images/data_wii_003.jpg\r\n",
      "Resolving images (images)... 167.114.148.224\r\n",
      "Connecting to images (images)|167.114.148.224|:80... connected.\r\n",
      "HTTP request sent, awaiting response... 301 Moved Permanently\r\n",
      "Location: https://images/data_wii_003.jpg [following]\r\n",
      "--2018-01-15 19:01:32--  https://images/data_wii_003.jpg\r\n",
      "Connecting to images (images)|167.114.148.224|:443... connected.\r\n",
      "WARNING: no certificate subject alternative name matches\r\n",
      "\trequested host name 'images'.\r\n",
      "HTTP request sent, awaiting response... 502 Bad Gateway\r\n",
      "2018-01-15 19:01:32 ERROR 502: Bad Gateway.\r\n",
      "\r\n"
     ]
    },
    {
     "data": {
      "text/plain": [
       "ObjectId('5a5d4dd96d99ba7541d67852')"
      ]
     },
     "execution_count": 23,
     "metadata": {},
     "output_type": "execute_result"
    },
    {
     "name": "stdout",
     "output_type": "stream",
     "text": [
      "--2018-01-15 19:01:32--  http://images/data_wii_005.jpg\r\n",
      "Resolving images (images)... 167.114.148.224\r\n",
      "Connecting to images (images)|167.114.148.224|:80... connected.\r\n",
      "HTTP request sent, awaiting response... 301 Moved Permanently\r\n",
      "Location: https://images/data_wii_005.jpg [following]\r\n",
      "--2018-01-15 19:01:32--  https://images/data_wii_005.jpg\r\n",
      "Connecting to images (images)|167.114.148.224|:443... connected.\r\n",
      "WARNING: no certificate subject alternative name matches\r\n",
      "\trequested host name 'images'.\r\n",
      "HTTP request sent, awaiting response... 502 Bad Gateway\r\n",
      "2018-01-15 19:01:32 ERROR 502: Bad Gateway.\r\n",
      "\r\n"
     ]
    },
    {
     "data": {
      "text/plain": [
       "ObjectId('5a5d4dd96d99ba7541d67853')"
      ]
     },
     "execution_count": 23,
     "metadata": {},
     "output_type": "execute_result"
    },
    {
     "name": "stdout",
     "output_type": "stream",
     "text": [
      "--2018-01-15 19:01:32--  http://images/data_wii_004.jpg\r\n",
      "Resolving images (images)... 167.114.148.224\r\n",
      "Connecting to images (images)|167.114.148.224|:80... connected.\r\n",
      "HTTP request sent, awaiting response... 301 Moved Permanently\r\n",
      "Location: https://images/data_wii_004.jpg [following]\r\n",
      "--2018-01-15 19:01:32--  https://images/data_wii_004.jpg\r\n",
      "Connecting to images (images)|167.114.148.224|:443... connected.\r\n",
      "WARNING: no certificate subject alternative name matches\r\n",
      "\trequested host name 'images'.\r\n",
      "HTTP request sent, awaiting response... 502 Bad Gateway\r\n",
      "2018-01-15 19:01:32 ERROR 502: Bad Gateway.\r\n",
      "\r\n"
     ]
    },
    {
     "data": {
      "text/plain": [
       "ObjectId('5a5d4dd96d99ba7541d67854')"
      ]
     },
     "execution_count": 23,
     "metadata": {},
     "output_type": "execute_result"
    },
    {
     "name": "stdout",
     "output_type": "stream",
     "text": [
      "--2018-01-15 19:01:32--  http://images/data_wii_006.jpg\r\n",
      "Resolving images (images)... 167.114.148.224\r\n",
      "Connecting to images (images)|167.114.148.224|:80... connected.\r\n",
      "HTTP request sent, awaiting response... 301 Moved Permanently\r\n",
      "Location: https://images/data_wii_006.jpg [following]\r\n",
      "--2018-01-15 19:01:32--  https://images/data_wii_006.jpg\r\n",
      "Connecting to images (images)|167.114.148.224|:443... connected.\r\n",
      "WARNING: no certificate subject alternative name matches\r\n",
      "\trequested host name 'images'.\r\n",
      "HTTP request sent, awaiting response... 502 Bad Gateway\r\n",
      "2018-01-15 19:01:32 ERROR 502: Bad Gateway.\r\n",
      "\r\n"
     ]
    },
    {
     "data": {
      "text/plain": [
       "ObjectId('5a5d4dd96d99ba7541d67855')"
      ]
     },
     "execution_count": 23,
     "metadata": {},
     "output_type": "execute_result"
    },
    {
     "name": "stdout",
     "output_type": "stream",
     "text": [
      "--2018-01-15 19:01:32--  http://images/data_wii_007.jpg\r\n",
      "Resolving images (images)... 167.114.148.224\r\n",
      "Connecting to images (images)|167.114.148.224|:80... connected.\r\n",
      "HTTP request sent, awaiting response... 301 Moved Permanently\r\n",
      "Location: https://images/data_wii_007.jpg [following]\r\n",
      "--2018-01-15 19:01:32--  https://images/data_wii_007.jpg\r\n",
      "Connecting to images (images)|167.114.148.224|:443... connected.\r\n",
      "WARNING: no certificate subject alternative name matches\r\n",
      "\trequested host name 'images'.\r\n",
      "HTTP request sent, awaiting response... 502 Bad Gateway\r\n",
      "2018-01-15 19:01:32 ERROR 502: Bad Gateway.\r\n",
      "\r\n"
     ]
    },
    {
     "data": {
      "text/plain": [
       "ObjectId('5a5d4dd96d99ba7541d67856')"
      ]
     },
     "execution_count": 23,
     "metadata": {},
     "output_type": "execute_result"
    },
    {
     "name": "stdout",
     "output_type": "stream",
     "text": [
      "--2018-01-15 19:01:33--  http://images/data_wii_009.jpg\r\n",
      "Resolving images (images)... 167.114.148.224\r\n",
      "Connecting to images (images)|167.114.148.224|:80... connected.\r\n",
      "HTTP request sent, awaiting response... 301 Moved Permanently\r\n",
      "Location: https://images/data_wii_009.jpg [following]\r\n",
      "--2018-01-15 19:01:33--  https://images/data_wii_009.jpg\r\n",
      "Connecting to images (images)|167.114.148.224|:443... connected.\r\n",
      "WARNING: no certificate subject alternative name matches\r\n",
      "\trequested host name 'images'.\r\n",
      "HTTP request sent, awaiting response... 502 Bad Gateway\r\n",
      "2018-01-15 19:01:33 ERROR 502: Bad Gateway.\r\n",
      "\r\n"
     ]
    },
    {
     "data": {
      "text/plain": [
       "ObjectId('5a5d4dd96d99ba7541d67857')"
      ]
     },
     "execution_count": 23,
     "metadata": {},
     "output_type": "execute_result"
    },
    {
     "name": "stdout",
     "output_type": "stream",
     "text": [
      "--2018-01-15 19:01:33--  http://images/data_wii_008.jpg\r\n",
      "Resolving images (images)... 167.114.148.224\r\n",
      "Connecting to images (images)|167.114.148.224|:80... connected.\r\n",
      "HTTP request sent, awaiting response... 301 Moved Permanently\r\n",
      "Location: https://images/data_wii_008.jpg [following]\r\n",
      "--2018-01-15 19:01:33--  https://images/data_wii_008.jpg\r\n",
      "Connecting to images (images)|167.114.148.224|:443... connected.\r\n",
      "WARNING: no certificate subject alternative name matches\r\n",
      "\trequested host name 'images'.\r\n",
      "HTTP request sent, awaiting response... 502 Bad Gateway\r\n",
      "2018-01-15 19:01:33 ERROR 502: Bad Gateway.\r\n",
      "\r\n"
     ]
    },
    {
     "data": {
      "text/plain": [
       "ObjectId('5a5d4dd96d99ba7541d67858')"
      ]
     },
     "execution_count": 23,
     "metadata": {},
     "output_type": "execute_result"
    },
    {
     "name": "stdout",
     "output_type": "stream",
     "text": [
      "--2018-01-15 19:01:33--  http://images/data_wii_wiiparty.jpg\r\n",
      "Resolving images (images)... 167.114.148.224\r\n",
      "Connecting to images (images)|167.114.148.224|:80... connected.\r\n",
      "HTTP request sent, awaiting response... 301 Moved Permanently\r\n",
      "Location: https://images/data_wii_wiiparty.jpg [following]\r\n",
      "--2018-01-15 19:01:33--  https://images/data_wii_wiiparty.jpg\r\n",
      "Connecting to images (images)|167.114.148.224|:443... connected.\r\n",
      "WARNING: no certificate subject alternative name matches\r\n",
      "\trequested host name 'images'.\r\n",
      "HTTP request sent, awaiting response... 502 Bad Gateway\r\n",
      "2018-01-15 19:01:33 ERROR 502: Bad Gateway.\r\n",
      "\r\n"
     ]
    },
    {
     "data": {
      "text/plain": [
       "ObjectId('5a5d4dd96d99ba7541d67859')"
      ]
     },
     "execution_count": 23,
     "metadata": {},
     "output_type": "execute_result"
    },
    {
     "name": "stdout",
     "output_type": "stream",
     "text": [
      "--2018-01-15 19:01:33--  http://images/data_ds_001.jpg\r\n",
      "Resolving images (images)... 167.114.148.224\r\n",
      "Connecting to images (images)|167.114.148.224|:80... connected.\r\n",
      "HTTP request sent, awaiting response... 301 Moved Permanently\r\n",
      "Location: https://images/data_ds_001.jpg [following]\r\n",
      "--2018-01-15 19:01:33--  https://images/data_ds_001.jpg\r\n",
      "Connecting to images (images)|167.114.148.224|:443... connected.\r\n",
      "WARNING: no certificate subject alternative name matches\r\n",
      "\trequested host name 'images'.\r\n",
      "HTTP request sent, awaiting response... 502 Bad Gateway\r\n",
      "2018-01-15 19:01:33 ERROR 502: Bad Gateway.\r\n",
      "\r\n"
     ]
    },
    {
     "data": {
      "text/plain": [
       "ObjectId('5a5d4dd96d99ba7541d6785a')"
      ]
     },
     "execution_count": 23,
     "metadata": {},
     "output_type": "execute_result"
    },
    {
     "name": "stdout",
     "output_type": "stream",
     "text": [
      "--2018-01-15 19:01:34--  http://images/data_ds_003.jpg\r\n",
      "Resolving images (images)... 167.114.148.224\r\n",
      "Connecting to images (images)|167.114.148.224|:80... connected.\r\n",
      "HTTP request sent, awaiting response... 301 Moved Permanently\r\n",
      "Location: https://images/data_ds_003.jpg [following]\r\n",
      "--2018-01-15 19:01:34--  https://images/data_ds_003.jpg\r\n",
      "Connecting to images (images)|167.114.148.224|:443... connected.\r\n",
      "WARNING: no certificate subject alternative name matches\r\n",
      "\trequested host name 'images'.\r\n",
      "HTTP request sent, awaiting response... 502 Bad Gateway\r\n",
      "2018-01-15 19:01:34 ERROR 502: Bad Gateway.\r\n",
      "\r\n"
     ]
    },
    {
     "data": {
      "text/plain": [
       "ObjectId('5a5d4dd96d99ba7541d6785b')"
      ]
     },
     "execution_count": 23,
     "metadata": {},
     "output_type": "execute_result"
    },
    {
     "name": "stdout",
     "output_type": "stream",
     "text": [
      "--2018-01-15 19:01:34--  http://images/data_ds_002.jpg\r\n",
      "Resolving images (images)... 167.114.148.224\r\n",
      "Connecting to images (images)|167.114.148.224|:80... connected.\r\n",
      "HTTP request sent, awaiting response... 301 Moved Permanently\r\n",
      "Location: https://images/data_ds_002.jpg [following]\r\n",
      "--2018-01-15 19:01:34--  https://images/data_ds_002.jpg\r\n",
      "Connecting to images (images)|167.114.148.224|:443... connected.\r\n",
      "WARNING: no certificate subject alternative name matches\r\n",
      "\trequested host name 'images'.\r\n",
      "HTTP request sent, awaiting response... 502 Bad Gateway\r\n",
      "2018-01-15 19:01:34 ERROR 502: Bad Gateway.\r\n",
      "\r\n"
     ]
    },
    {
     "data": {
      "text/plain": [
       "ObjectId('5a5d4dd96d99ba7541d6785c')"
      ]
     },
     "execution_count": 23,
     "metadata": {},
     "output_type": "execute_result"
    },
    {
     "name": "stdout",
     "output_type": "stream",
     "text": [
      "--2018-01-15 19:01:34--  http://images/data_ds_004.jpg\r\n",
      "Resolving images (images)... 167.114.148.224\r\n",
      "Connecting to images (images)|167.114.148.224|:80... connected.\r\n",
      "HTTP request sent, awaiting response... 301 Moved Permanently\r\n",
      "Location: https://images/data_ds_004.jpg [following]\r\n",
      "--2018-01-15 19:01:34--  https://images/data_ds_004.jpg\r\n",
      "Connecting to images (images)|167.114.148.224|:443... connected.\r\n",
      "WARNING: no certificate subject alternative name matches\r\n",
      "\trequested host name 'images'.\r\n",
      "HTTP request sent, awaiting response... 502 Bad Gateway\r\n",
      "2018-01-15 19:01:34 ERROR 502: Bad Gateway.\r\n",
      "\r\n"
     ]
    },
    {
     "data": {
      "text/plain": [
       "ObjectId('5a5d4dd96d99ba7541d6785d')"
      ]
     },
     "execution_count": 23,
     "metadata": {},
     "output_type": "execute_result"
    },
    {
     "name": "stdout",
     "output_type": "stream",
     "text": [
      "--2018-01-15 19:01:34--  http://images/data_ds_006.jpg\r\n",
      "Resolving images (images)... 167.114.148.224\r\n",
      "Connecting to images (images)|167.114.148.224|:80... connected.\r\n",
      "HTTP request sent, awaiting response... 301 Moved Permanently\r\n",
      "Location: https://images/data_ds_006.jpg [following]\r\n",
      "--2018-01-15 19:01:34--  https://images/data_ds_006.jpg\r\n",
      "Connecting to images (images)|167.114.148.224|:443... connected.\r\n",
      "WARNING: no certificate subject alternative name matches\r\n",
      "\trequested host name 'images'.\r\n",
      "HTTP request sent, awaiting response... 502 Bad Gateway\r\n",
      "2018-01-15 19:01:34 ERROR 502: Bad Gateway.\r\n",
      "\r\n"
     ]
    },
    {
     "data": {
      "text/plain": [
       "ObjectId('5a5d4dd96d99ba7541d6785e')"
      ]
     },
     "execution_count": 23,
     "metadata": {},
     "output_type": "execute_result"
    },
    {
     "name": "stdout",
     "output_type": "stream",
     "text": [
      "--2018-01-15 19:01:35--  http://images/data_ds_007.jpg\r\n",
      "Resolving images (images)... 167.114.148.224\r\n",
      "Connecting to images (images)|167.114.148.224|:80... connected.\r\n",
      "HTTP request sent, awaiting response... 301 Moved Permanently\r\n",
      "Location: https://images/data_ds_007.jpg [following]\r\n",
      "--2018-01-15 19:01:35--  https://images/data_ds_007.jpg\r\n",
      "Connecting to images (images)|167.114.148.224|:443... connected.\r\n",
      "WARNING: no certificate subject alternative name matches\r\n",
      "\trequested host name 'images'.\r\n",
      "HTTP request sent, awaiting response... 502 Bad Gateway\r\n",
      "2018-01-15 19:01:35 ERROR 502: Bad Gateway.\r\n",
      "\r\n"
     ]
    },
    {
     "data": {
      "text/plain": [
       "ObjectId('5a5d4dd96d99ba7541d6785f')"
      ]
     },
     "execution_count": 23,
     "metadata": {},
     "output_type": "execute_result"
    },
    {
     "name": "stdout",
     "output_type": "stream",
     "text": [
      "--2018-01-15 19:01:35--  http://images/data_ds_005.jpg\r\n",
      "Resolving images (images)... 167.114.148.224\r\n",
      "Connecting to images (images)|167.114.148.224|:80... connected.\r\n",
      "HTTP request sent, awaiting response... 301 Moved Permanently\r\n",
      "Location: https://images/data_ds_005.jpg [following]\r\n",
      "--2018-01-15 19:01:35--  https://images/data_ds_005.jpg\r\n",
      "Connecting to images (images)|167.114.148.224|:443... connected.\r\n",
      "WARNING: no certificate subject alternative name matches\r\n",
      "\trequested host name 'images'.\r\n",
      "HTTP request sent, awaiting response... 502 Bad Gateway\r\n",
      "2018-01-15 19:01:35 ERROR 502: Bad Gateway.\r\n",
      "\r\n"
     ]
    },
    {
     "data": {
      "text/plain": [
       "ObjectId('5a5d4dd96d99ba7541d67860')"
      ]
     },
     "execution_count": 23,
     "metadata": {},
     "output_type": "execute_result"
    },
    {
     "name": "stdout",
     "output_type": "stream",
     "text": [
      "--2018-01-15 19:01:35--  http://images/data_ds_008.jpg\r\n",
      "Resolving images (images)... 167.114.148.224\r\n",
      "Connecting to images (images)|167.114.148.224|:80... connected.\r\n",
      "HTTP request sent, awaiting response... 301 Moved Permanently\r\n",
      "Location: https://images/data_ds_008.jpg [following]\r\n",
      "--2018-01-15 19:01:36--  https://images/data_ds_008.jpg\r\n",
      "Connecting to images (images)|167.114.148.224|:443... connected.\r\n",
      "WARNING: no certificate subject alternative name matches\r\n",
      "\trequested host name 'images'.\r\n",
      "HTTP request sent, awaiting response... 502 Bad Gateway\r\n",
      "2018-01-15 19:01:36 ERROR 502: Bad Gateway.\r\n",
      "\r\n"
     ]
    },
    {
     "data": {
      "text/plain": [
       "ObjectId('5a5d4dd96d99ba7541d67861')"
      ]
     },
     "execution_count": 23,
     "metadata": {},
     "output_type": "execute_result"
    },
    {
     "name": "stdout",
     "output_type": "stream",
     "text": [
      "--2018-01-15 19:01:36--  http://images/data_ds_010.jpg\r\n",
      "Resolving images (images)... 167.114.148.224\r\n",
      "Connecting to images (images)|167.114.148.224|:80... connected.\r\n",
      "HTTP request sent, awaiting response... 301 Moved Permanently\r\n",
      "Location: https://images/data_ds_010.jpg [following]\r\n",
      "--2018-01-15 19:01:36--  https://images/data_ds_010.jpg\r\n",
      "Connecting to images (images)|167.114.148.224|:443... connected.\r\n",
      "WARNING: no certificate subject alternative name matches\r\n",
      "\trequested host name 'images'.\r\n",
      "HTTP request sent, awaiting response... 502 Bad Gateway\r\n",
      "2018-01-15 19:01:36 ERROR 502: Bad Gateway.\r\n",
      "\r\n"
     ]
    },
    {
     "data": {
      "text/plain": [
       "ObjectId('5a5d4dd96d99ba7541d67862')"
      ]
     },
     "execution_count": 23,
     "metadata": {},
     "output_type": "execute_result"
    },
    {
     "name": "stdout",
     "output_type": "stream",
     "text": [
      "--2018-01-15 19:01:36--  http://images/data_ds_009.jpg\r\n",
      "Resolving images (images)... 167.114.148.224\r\n",
      "Connecting to images (images)|167.114.148.224|:80... connected.\r\n",
      "HTTP request sent, awaiting response... 301 Moved Permanently\r\n",
      "Location: https://images/data_ds_009.jpg [following]\r\n",
      "--2018-01-15 19:01:36--  https://images/data_ds_009.jpg\r\n",
      "Connecting to images (images)|167.114.148.224|:443... connected.\r\n",
      "WARNING: no certificate subject alternative name matches\r\n",
      "\trequested host name 'images'.\r\n",
      "HTTP request sent, awaiting response... 502 Bad Gateway\r\n",
      "2018-01-15 19:01:36 ERROR 502: Bad Gateway.\r\n",
      "\r\n"
     ]
    },
    {
     "data": {
      "text/plain": [
       "ObjectId('5a5d4dd96d99ba7541d67863')"
      ]
     },
     "execution_count": 23,
     "metadata": {},
     "output_type": "execute_result"
    },
    {
     "name": "stdout",
     "output_type": "stream",
     "text": [
      "--2018-01-15 19:01:36--  http://images/data_switch_001.png\r\n",
      "Resolving images (images)... 167.114.148.224\r\n",
      "Connecting to images (images)|167.114.148.224|:80... connected.\r\n",
      "HTTP request sent, awaiting response... 301 Moved Permanently\r\n",
      "Location: https://images/data_switch_001.png [following]\r\n",
      "--2018-01-15 19:01:36--  https://images/data_switch_001.png\r\n",
      "Connecting to images (images)|167.114.148.224|:443... connected.\r\n",
      "WARNING: no certificate subject alternative name matches\r\n",
      "\trequested host name 'images'.\r\n",
      "HTTP request sent, awaiting response... 502 Bad Gateway\r\n",
      "2018-01-15 19:01:36 ERROR 502: Bad Gateway.\r\n",
      "\r\n"
     ]
    },
    {
     "data": {
      "text/plain": [
       "ObjectId('5a5d4dd96d99ba7541d67864')"
      ]
     },
     "execution_count": 23,
     "metadata": {},
     "output_type": "execute_result"
    },
    {
     "name": "stdout",
     "output_type": "stream",
     "text": [
      "--2018-01-15 19:01:36--  http://images/data_switch_002.png\r\n",
      "Resolving images (images)... 167.114.148.224\r\n",
      "Connecting to images (images)|167.114.148.224|:80... connected.\r\n",
      "HTTP request sent, awaiting response... 301 Moved Permanently\r\n",
      "Location: https://images/data_switch_002.png [following]\r\n",
      "--2018-01-15 19:01:36--  https://images/data_switch_002.png\r\n",
      "Connecting to images (images)|167.114.148.224|:443... connected.\r\n",
      "WARNING: no certificate subject alternative name matches\r\n",
      "\trequested host name 'images'.\r\n",
      "HTTP request sent, awaiting response... 502 Bad Gateway\r\n",
      "2018-01-15 19:01:36 ERROR 502: Bad Gateway.\r\n",
      "\r\n"
     ]
    },
    {
     "data": {
      "text/plain": [
       "ObjectId('5a5d4dd96d99ba7541d67865')"
      ]
     },
     "execution_count": 23,
     "metadata": {},
     "output_type": "execute_result"
    },
    {
     "name": "stdout",
     "output_type": "stream",
     "text": [
      "--2018-01-15 19:01:36--  http://images/data_switch_005.png\r\n",
      "Resolving images (images)... 167.114.148.224\r\n",
      "Connecting to images (images)|167.114.148.224|:80... connected.\r\n",
      "HTTP request sent, awaiting response... 301 Moved Permanently\r\n",
      "Location: https://images/data_switch_005.png [following]\r\n",
      "--2018-01-15 19:01:36--  https://images/data_switch_005.png\r\n",
      "Connecting to images (images)|167.114.148.224|:443... connected.\r\n",
      "WARNING: no certificate subject alternative name matches\r\n",
      "\trequested host name 'images'.\r\n",
      "HTTP request sent, awaiting response... 502 Bad Gateway\r\n",
      "2018-01-15 19:01:36 ERROR 502: Bad Gateway.\r\n",
      "\r\n"
     ]
    },
    {
     "data": {
      "text/plain": [
       "ObjectId('5a5d4dd96d99ba7541d67866')"
      ]
     },
     "execution_count": 23,
     "metadata": {},
     "output_type": "execute_result"
    },
    {
     "name": "stdout",
     "output_type": "stream",
     "text": [
      "--2018-01-15 19:01:37--  http://images/data_switch_003.png\r\n",
      "Resolving images (images)... 167.114.148.224\r\n",
      "Connecting to images (images)|167.114.148.224|:80... connected.\r\n",
      "HTTP request sent, awaiting response... 301 Moved Permanently\r\n",
      "Location: https://images/data_switch_003.png [following]\r\n",
      "--2018-01-15 19:01:37--  https://images/data_switch_003.png\r\n",
      "Connecting to images (images)|167.114.148.224|:443... connected.\r\n",
      "WARNING: no certificate subject alternative name matches\r\n",
      "\trequested host name 'images'.\r\n",
      "HTTP request sent, awaiting response... 502 Bad Gateway\r\n",
      "2018-01-15 19:01:37 ERROR 502: Bad Gateway.\r\n",
      "\r\n"
     ]
    },
    {
     "data": {
      "text/plain": [
       "ObjectId('5a5d4dd96d99ba7541d67867')"
      ]
     },
     "execution_count": 23,
     "metadata": {},
     "output_type": "execute_result"
    },
    {
     "name": "stdout",
     "output_type": "stream",
     "text": [
      "--2018-01-15 19:01:37--  http://images/data_switch_004.png\r\n",
      "Resolving images (images)... 167.114.148.224\r\n",
      "Connecting to images (images)|167.114.148.224|:80... connected.\r\n",
      "HTTP request sent, awaiting response... 301 Moved Permanently\r\n",
      "Location: https://images/data_switch_004.png [following]\r\n",
      "--2018-01-15 19:01:37--  https://images/data_switch_004.png\r\n",
      "Connecting to images (images)|167.114.148.224|:443... connected.\r\n",
      "WARNING: no certificate subject alternative name matches\r\n",
      "\trequested host name 'images'.\r\n",
      "HTTP request sent, awaiting response... 502 Bad Gateway\r\n",
      "2018-01-15 19:01:37 ERROR 502: Bad Gateway.\r\n",
      "\r\n"
     ]
    },
    {
     "data": {
      "text/plain": [
       "ObjectId('5a5d4dd96d99ba7541d67868')"
      ]
     },
     "execution_count": 23,
     "metadata": {},
     "output_type": "execute_result"
    },
    {
     "name": "stdout",
     "output_type": "stream",
     "text": [
      "--2018-01-15 19:01:37--  http://images/data_wiiu_mariokart8.png\r\n",
      "Resolving images (images)... 167.114.148.224\r\n",
      "Connecting to images (images)|167.114.148.224|:80... connected.\r\n",
      "HTTP request sent, awaiting response... 301 Moved Permanently\r\n",
      "Location: https://images/data_wiiu_mariokart8.png [following]\r\n",
      "--2018-01-15 19:01:37--  https://images/data_wiiu_mariokart8.png\r\n",
      "Connecting to images (images)|167.114.148.224|:443... connected.\r\n",
      "WARNING: no certificate subject alternative name matches\r\n",
      "\trequested host name 'images'.\r\n",
      "HTTP request sent, awaiting response... 502 Bad Gateway\r\n",
      "2018-01-15 19:01:37 ERROR 502: Bad Gateway.\r\n",
      "\r\n"
     ]
    },
    {
     "data": {
      "text/plain": [
       "ObjectId('5a5d4dd96d99ba7541d67869')"
      ]
     },
     "execution_count": 23,
     "metadata": {},
     "output_type": "execute_result"
    },
    {
     "name": "stdout",
     "output_type": "stream",
     "text": [
      "--2018-01-15 19:01:37--  http://images/data_wiiu_newmariou.png\r\n",
      "Resolving images (images)... 167.114.148.224\r\n",
      "Connecting to images (images)|167.114.148.224|:80... connected.\r\n",
      "HTTP request sent, awaiting response... 301 Moved Permanently\r\n",
      "Location: https://images/data_wiiu_newmariou.png [following]\r\n",
      "--2018-01-15 19:01:37--  https://images/data_wiiu_newmariou.png\r\n",
      "Connecting to images (images)|167.114.148.224|:443... connected.\r\n",
      "WARNING: no certificate subject alternative name matches\r\n",
      "\trequested host name 'images'.\r\n",
      "HTTP request sent, awaiting response... 502 Bad Gateway\r\n",
      "2018-01-15 19:01:37 ERROR 502: Bad Gateway.\r\n",
      "\r\n"
     ]
    },
    {
     "data": {
      "text/plain": [
       "ObjectId('5a5d4dd96d99ba7541d6786a')"
      ]
     },
     "execution_count": 23,
     "metadata": {},
     "output_type": "execute_result"
    },
    {
     "name": "stdout",
     "output_type": "stream",
     "text": [
      "--2018-01-15 19:01:37--  http://images/data_wiiu_mario3dworld.png\r\n",
      "Resolving images (images)... 167.114.148.224\r\n",
      "Connecting to images (images)|167.114.148.224|:80... connected.\r\n",
      "HTTP request sent, awaiting response... 301 Moved Permanently\r\n",
      "Location: https://images/data_wiiu_mario3dworld.png [following]\r\n",
      "--2018-01-15 19:01:37--  https://images/data_wiiu_mario3dworld.png\r\n",
      "Connecting to images (images)|167.114.148.224|:443... connected.\r\n",
      "WARNING: no certificate subject alternative name matches\r\n",
      "\trequested host name 'images'.\r\n",
      "HTTP request sent, awaiting response... 502 Bad Gateway\r\n",
      "2018-01-15 19:01:37 ERROR 502: Bad Gateway.\r\n",
      "\r\n"
     ]
    },
    {
     "data": {
      "text/plain": [
       "ObjectId('5a5d4dd96d99ba7541d6786b')"
      ]
     },
     "execution_count": 23,
     "metadata": {},
     "output_type": "execute_result"
    },
    {
     "name": "stdout",
     "output_type": "stream",
     "text": [
      "--2018-01-15 19:01:37--  http://images/data_wiiu_smashbros.png\r\n",
      "Resolving images (images)... 167.114.148.224\r\n",
      "Connecting to images (images)|167.114.148.224|:80... connected.\r\n",
      "HTTP request sent, awaiting response... 301 Moved Permanently\r\n",
      "Location: https://images/data_wiiu_smashbros.png [following]\r\n",
      "--2018-01-15 19:01:37--  https://images/data_wiiu_smashbros.png\r\n",
      "Connecting to images (images)|167.114.148.224|:443... connected.\r\n",
      "WARNING: no certificate subject alternative name matches\r\n",
      "\trequested host name 'images'.\r\n",
      "HTTP request sent, awaiting response... 502 Bad Gateway\r\n",
      "2018-01-15 19:01:37 ERROR 502: Bad Gateway.\r\n",
      "\r\n"
     ]
    },
    {
     "data": {
      "text/plain": [
       "ObjectId('5a5d4dd96d99ba7541d6786c')"
      ]
     },
     "execution_count": 23,
     "metadata": {},
     "output_type": "execute_result"
    },
    {
     "name": "stdout",
     "output_type": "stream",
     "text": [
      "--2018-01-15 19:01:38--  http://images/data_wiiu_nintendoland.png\r\n",
      "Resolving images (images)... 167.114.148.224\r\n",
      "Connecting to images (images)|167.114.148.224|:80... connected.\r\n",
      "HTTP request sent, awaiting response... 301 Moved Permanently\r\n",
      "Location: https://images/data_wiiu_nintendoland.png [following]\r\n",
      "--2018-01-15 19:01:38--  https://images/data_wiiu_nintendoland.png\r\n",
      "Connecting to images (images)|167.114.148.224|:443... connected.\r\n",
      "WARNING: no certificate subject alternative name matches\r\n",
      "\trequested host name 'images'.\r\n",
      "HTTP request sent, awaiting response... 502 Bad Gateway\r\n",
      "2018-01-15 19:01:38 ERROR 502: Bad Gateway.\r\n",
      "\r\n"
     ]
    },
    {
     "data": {
      "text/plain": [
       "ObjectId('5a5d4dd96d99ba7541d6786d')"
      ]
     },
     "execution_count": 23,
     "metadata": {},
     "output_type": "execute_result"
    },
    {
     "name": "stdout",
     "output_type": "stream",
     "text": [
      "--2018-01-15 19:01:38--  http://images/data_wiiu_splatoon.jpg\r\n",
      "Resolving images (images)... 167.114.148.224\r\n",
      "Connecting to images (images)|167.114.148.224|:80... connected.\r\n",
      "HTTP request sent, awaiting response... 301 Moved Permanently\r\n",
      "Location: https://images/data_wiiu_splatoon.jpg [following]\r\n",
      "--2018-01-15 19:01:38--  https://images/data_wiiu_splatoon.jpg\r\n",
      "Connecting to images (images)|167.114.148.224|:443... connected.\r\n",
      "WARNING: no certificate subject alternative name matches\r\n",
      "\trequested host name 'images'.\r\n",
      "HTTP request sent, awaiting response... 502 Bad Gateway\r\n",
      "2018-01-15 19:01:38 ERROR 502: Bad Gateway.\r\n",
      "\r\n"
     ]
    },
    {
     "data": {
      "text/plain": [
       "ObjectId('5a5d4dd96d99ba7541d6786e')"
      ]
     },
     "execution_count": 23,
     "metadata": {},
     "output_type": "execute_result"
    },
    {
     "name": "stdout",
     "output_type": "stream",
     "text": [
      "--2018-01-15 19:01:38--  http://images/data_wiiu_supermariomaker.png\r\n",
      "Resolving images (images)... 167.114.148.224\r\n",
      "Connecting to images (images)|167.114.148.224|:80... connected.\r\n",
      "HTTP request sent, awaiting response... 301 Moved Permanently\r\n",
      "Location: https://images/data_wiiu_supermariomaker.png [following]\r\n",
      "--2018-01-15 19:01:38--  https://images/data_wiiu_supermariomaker.png\r\n",
      "Connecting to images (images)|167.114.148.224|:443... connected.\r\n",
      "WARNING: no certificate subject alternative name matches\r\n",
      "\trequested host name 'images'.\r\n",
      "HTTP request sent, awaiting response... 502 Bad Gateway\r\n",
      "2018-01-15 19:01:38 ERROR 502: Bad Gateway.\r\n",
      "\r\n"
     ]
    },
    {
     "data": {
      "text/plain": [
       "ObjectId('5a5d4dd96d99ba7541d6786f')"
      ]
     },
     "execution_count": 23,
     "metadata": {},
     "output_type": "execute_result"
    },
    {
     "name": "stdout",
     "output_type": "stream",
     "text": [
      "--2018-01-15 19:01:38--  http://images/data_wiiu_newsuperluigiu.png\r\n",
      "Resolving images (images)... 167.114.148.224\r\n",
      "Connecting to images (images)|167.114.148.224|:80... connected.\r\n",
      "HTTP request sent, awaiting response... 301 Moved Permanently\r\n",
      "Location: https://images/data_wiiu_newsuperluigiu.png [following]\r\n",
      "--2018-01-15 19:01:38--  https://images/data_wiiu_newsuperluigiu.png\r\n",
      "Connecting to images (images)|167.114.148.224|:443... connected.\r\n",
      "WARNING: no certificate subject alternative name matches\r\n",
      "\trequested host name 'images'.\r\n",
      "HTTP request sent, awaiting response... 502 Bad Gateway\r\n",
      "2018-01-15 19:01:38 ERROR 502: Bad Gateway.\r\n",
      "\r\n"
     ]
    },
    {
     "data": {
      "text/plain": [
       "ObjectId('5a5d4dd96d99ba7541d67870')"
      ]
     },
     "execution_count": 23,
     "metadata": {},
     "output_type": "execute_result"
    },
    {
     "name": "stdout",
     "output_type": "stream",
     "text": [
      "--2018-01-15 19:01:38--  http://images/data_wiiu_zeldahd.png\r\n",
      "Resolving images (images)... 167.114.148.224\r\n",
      "Connecting to images (images)|167.114.148.224|:80... connected.\r\n",
      "HTTP request sent, awaiting response... 301 Moved Permanently\r\n",
      "Location: https://images/data_wiiu_zeldahd.png [following]\r\n",
      "--2018-01-15 19:01:38--  https://images/data_wiiu_zeldahd.png\r\n",
      "Connecting to images (images)|167.114.148.224|:443... connected.\r\n",
      "WARNING: no certificate subject alternative name matches\r\n",
      "\trequested host name 'images'.\r\n",
      "HTTP request sent, awaiting response... 502 Bad Gateway\r\n",
      "2018-01-15 19:01:38 ERROR 502: Bad Gateway.\r\n",
      "\r\n"
     ]
    },
    {
     "data": {
      "text/plain": [
       "ObjectId('5a5d4dd96d99ba7541d67871')"
      ]
     },
     "execution_count": 23,
     "metadata": {},
     "output_type": "execute_result"
    },
    {
     "name": "stdout",
     "output_type": "stream",
     "text": [
      "--2018-01-15 19:01:39--  http://images/data_wiiu_marioparty10.jpg\r\n",
      "Resolving images (images)... 167.114.148.224\r\n",
      "Connecting to images (images)|167.114.148.224|:80... connected.\r\n",
      "HTTP request sent, awaiting response... 301 Moved Permanently\r\n",
      "Location: https://images/data_wiiu_marioparty10.jpg [following]\r\n",
      "--2018-01-15 19:01:39--  https://images/data_wiiu_marioparty10.jpg\r\n",
      "Connecting to images (images)|167.114.148.224|:443... connected.\r\n",
      "WARNING: no certificate subject alternative name matches\r\n",
      "\trequested host name 'images'.\r\n",
      "HTTP request sent, awaiting response... 502 Bad Gateway\r\n",
      "2018-01-15 19:01:39 ERROR 502: Bad Gateway.\r\n",
      "\r\n"
     ]
    },
    {
     "data": {
      "text/plain": [
       "ObjectId('5a5d4dd96d99ba7541d67872')"
      ]
     },
     "execution_count": 23,
     "metadata": {},
     "output_type": "execute_result"
    },
    {
     "name": "stdout",
     "output_type": "stream",
     "text": [
      "--2018-01-15 19:01:39--  http://images/data_3ds_pokemonxy.jpg\r\n",
      "Resolving images (images)... 167.114.148.224\r\n",
      "Connecting to images (images)|167.114.148.224|:80... connected.\r\n",
      "HTTP request sent, awaiting response... 301 Moved Permanently\r\n",
      "Location: https://images/data_3ds_pokemonxy.jpg [following]\r\n",
      "--2018-01-15 19:01:39--  https://images/data_3ds_pokemonxy.jpg\r\n",
      "Connecting to images (images)|167.114.148.224|:443... connected.\r\n",
      "WARNING: no certificate subject alternative name matches\r\n",
      "\trequested host name 'images'.\r\n",
      "HTTP request sent, awaiting response... 502 Bad Gateway\r\n",
      "2018-01-15 19:01:39 ERROR 502: Bad Gateway.\r\n",
      "\r\n"
     ]
    },
    {
     "data": {
      "text/plain": [
       "ObjectId('5a5d4dd96d99ba7541d67873')"
      ]
     },
     "execution_count": 23,
     "metadata": {},
     "output_type": "execute_result"
    },
    {
     "name": "stdout",
     "output_type": "stream",
     "text": [
      "--2018-01-15 19:01:40--  http://images/data_3ds_002.jpg\r\n",
      "Resolving images (images)... 167.114.148.224\r\n",
      "Connecting to images (images)|167.114.148.224|:80... connected.\r\n",
      "HTTP request sent, awaiting response... 301 Moved Permanently\r\n",
      "Location: https://images/data_3ds_002.jpg [following]\r\n",
      "--2018-01-15 19:01:40--  https://images/data_3ds_002.jpg\r\n",
      "Connecting to images (images)|167.114.148.224|:443... connected.\r\n",
      "WARNING: no certificate subject alternative name matches\r\n",
      "\trequested host name 'images'.\r\n",
      "HTTP request sent, awaiting response... 502 Bad Gateway\r\n",
      "2018-01-15 19:01:40 ERROR 502: Bad Gateway.\r\n",
      "\r\n"
     ]
    },
    {
     "data": {
      "text/plain": [
       "ObjectId('5a5d4dd96d99ba7541d67874')"
      ]
     },
     "execution_count": 23,
     "metadata": {},
     "output_type": "execute_result"
    },
    {
     "name": "stdout",
     "output_type": "stream",
     "text": [
      "--2018-01-15 19:01:40--  http://images/data_3ds_pokemonsunmoon.jpg\r\n",
      "Resolving images (images)... 167.114.148.224\r\n",
      "Connecting to images (images)|167.114.148.224|:80... connected.\r\n",
      "HTTP request sent, awaiting response... 301 Moved Permanently\r\n",
      "Location: https://images/data_3ds_pokemonsunmoon.jpg [following]\r\n",
      "--2018-01-15 19:01:40--  https://images/data_3ds_pokemonsunmoon.jpg\r\n",
      "Connecting to images (images)|167.114.148.224|:443... connected.\r\n",
      "WARNING: no certificate subject alternative name matches\r\n",
      "\trequested host name 'images'.\r\n",
      "HTTP request sent, awaiting response... 502 Bad Gateway\r\n",
      "2018-01-15 19:01:40 ERROR 502: Bad Gateway.\r\n",
      "\r\n"
     ]
    },
    {
     "data": {
      "text/plain": [
       "ObjectId('5a5d4dd96d99ba7541d67875')"
      ]
     },
     "execution_count": 23,
     "metadata": {},
     "output_type": "execute_result"
    },
    {
     "name": "stdout",
     "output_type": "stream",
     "text": [
      "--2018-01-15 19:01:40--  http://images/data_3ds_pokemonoras.jpg\r\n",
      "Resolving images (images)... 167.114.148.224\r\n",
      "Connecting to images (images)|167.114.148.224|:80... connected.\r\n",
      "HTTP request sent, awaiting response... 301 Moved Permanently\r\n",
      "Location: https://images/data_3ds_pokemonoras.jpg [following]\r\n",
      "--2018-01-15 19:01:40--  https://images/data_3ds_pokemonoras.jpg\r\n",
      "Connecting to images (images)|167.114.148.224|:443... connected.\r\n",
      "WARNING: no certificate subject alternative name matches\r\n",
      "\trequested host name 'images'.\r\n",
      "HTTP request sent, awaiting response... 502 Bad Gateway\r\n",
      "2018-01-15 19:01:40 ERROR 502: Bad Gateway.\r\n",
      "\r\n"
     ]
    },
    {
     "data": {
      "text/plain": [
       "ObjectId('5a5d4dd96d99ba7541d67876')"
      ]
     },
     "execution_count": 23,
     "metadata": {},
     "output_type": "execute_result"
    },
    {
     "name": "stdout",
     "output_type": "stream",
     "text": [
      "--2018-01-15 19:01:40--  http://images/data_3ds_003.jpg\r\n",
      "Resolving images (images)... 167.114.148.224\r\n",
      "Connecting to images (images)|167.114.148.224|:80... connected.\r\n",
      "HTTP request sent, awaiting response... 301 Moved Permanently\r\n",
      "Location: https://images/data_3ds_003.jpg [following]\r\n",
      "--2018-01-15 19:01:40--  https://images/data_3ds_003.jpg\r\n",
      "Connecting to images (images)|167.114.148.224|:443... connected.\r\n",
      "WARNING: no certificate subject alternative name matches\r\n",
      "\trequested host name 'images'.\r\n",
      "HTTP request sent, awaiting response... 502 Bad Gateway\r\n",
      "2018-01-15 19:01:40 ERROR 502: Bad Gateway.\r\n",
      "\r\n"
     ]
    },
    {
     "data": {
      "text/plain": [
       "ObjectId('5a5d4dd96d99ba7541d67877')"
      ]
     },
     "execution_count": 23,
     "metadata": {},
     "output_type": "execute_result"
    },
    {
     "name": "stdout",
     "output_type": "stream",
     "text": [
      "--2018-01-15 19:01:40--  http://images/data_3ds_001.jpg\r\n",
      "Resolving images (images)... 167.114.148.224\r\n",
      "Connecting to images (images)|167.114.148.224|:80... connected.\r\n",
      "HTTP request sent, awaiting response... 301 Moved Permanently\r\n",
      "Location: https://images/data_3ds_001.jpg [following]\r\n",
      "--2018-01-15 19:01:40--  https://images/data_3ds_001.jpg\r\n",
      "Connecting to images (images)|167.114.148.224|:443... connected.\r\n",
      "WARNING: no certificate subject alternative name matches\r\n",
      "\trequested host name 'images'.\r\n",
      "HTTP request sent, awaiting response... 502 Bad Gateway\r\n",
      "2018-01-15 19:01:40 ERROR 502: Bad Gateway.\r\n",
      "\r\n"
     ]
    },
    {
     "data": {
      "text/plain": [
       "ObjectId('5a5d4dd96d99ba7541d67878')"
      ]
     },
     "execution_count": 23,
     "metadata": {},
     "output_type": "execute_result"
    },
    {
     "name": "stdout",
     "output_type": "stream",
     "text": [
      "--2018-01-15 19:01:41--  http://images/data_3ds_004.jpg\r\n",
      "Resolving images (images)... 167.114.148.224\r\n",
      "Connecting to images (images)|167.114.148.224|:80... connected.\r\n",
      "HTTP request sent, awaiting response... 301 Moved Permanently\r\n",
      "Location: https://images/data_3ds_004.jpg [following]\r\n",
      "--2018-01-15 19:01:41--  https://images/data_3ds_004.jpg\r\n",
      "Connecting to images (images)|167.114.148.224|:443... connected.\r\n",
      "WARNING: no certificate subject alternative name matches\r\n",
      "\trequested host name 'images'.\r\n",
      "HTTP request sent, awaiting response... 502 Bad Gateway\r\n",
      "2018-01-15 19:01:41 ERROR 502: Bad Gateway.\r\n",
      "\r\n"
     ]
    },
    {
     "data": {
      "text/plain": [
       "ObjectId('5a5d4dd96d99ba7541d67879')"
      ]
     },
     "execution_count": 23,
     "metadata": {},
     "output_type": "execute_result"
    },
    {
     "name": "stdout",
     "output_type": "stream",
     "text": [
      "--2018-01-15 19:01:41--  http://images/data_3ds_smashbros.jpg\r\n",
      "Resolving images (images)... 167.114.148.224\r\n",
      "Connecting to images (images)|167.114.148.224|:80... connected.\r\n",
      "HTTP request sent, awaiting response... 301 Moved Permanently\r\n",
      "Location: https://images/data_3ds_smashbros.jpg [following]\r\n",
      "--2018-01-15 19:01:41--  https://images/data_3ds_smashbros.jpg\r\n",
      "Connecting to images (images)|167.114.148.224|:443... connected.\r\n",
      "WARNING: no certificate subject alternative name matches\r\n",
      "\trequested host name 'images'.\r\n",
      "HTTP request sent, awaiting response... 502 Bad Gateway\r\n",
      "2018-01-15 19:01:41 ERROR 502: Bad Gateway.\r\n",
      "\r\n"
     ]
    },
    {
     "data": {
      "text/plain": [
       "ObjectId('5a5d4dd96d99ba7541d6787a')"
      ]
     },
     "execution_count": 23,
     "metadata": {},
     "output_type": "execute_result"
    },
    {
     "name": "stdout",
     "output_type": "stream",
     "text": [
      "--2018-01-15 19:01:41--  http://images/data_3ds_tomodachicollection.jpg\r\n",
      "Resolving images (images)... 167.114.148.224\r\n",
      "Connecting to images (images)|167.114.148.224|:80... connected.\r\n",
      "HTTP request sent, awaiting response... 301 Moved Permanently\r\n",
      "Location: https://images/data_3ds_tomodachicollection.jpg [following]\r\n",
      "--2018-01-15 19:01:41--  https://images/data_3ds_tomodachicollection.jpg\r\n",
      "Connecting to images (images)|167.114.148.224|:443... connected.\r\n",
      "WARNING: no certificate subject alternative name matches\r\n",
      "\trequested host name 'images'.\r\n",
      "HTTP request sent, awaiting response... 502 Bad Gateway\r\n",
      "2018-01-15 19:01:41 ERROR 502: Bad Gateway.\r\n",
      "\r\n"
     ]
    },
    {
     "data": {
      "text/plain": [
       "ObjectId('5a5d4dd96d99ba7541d6787b')"
      ]
     },
     "execution_count": 23,
     "metadata": {},
     "output_type": "execute_result"
    },
    {
     "name": "stdout",
     "output_type": "stream",
     "text": [
      "--2018-01-15 19:01:42--  http://images/data_3ds_009.jpg\r\n",
      "Resolving images (images)... 167.114.148.224\r\n",
      "Connecting to images (images)|167.114.148.224|:80... connected.\r\n",
      "HTTP request sent, awaiting response... 301 Moved Permanently\r\n",
      "Location: https://images/data_3ds_009.jpg [following]\r\n",
      "--2018-01-15 19:01:42--  https://images/data_3ds_009.jpg\r\n",
      "Connecting to images (images)|167.114.148.224|:443... connected.\r\n",
      "WARNING: no certificate subject alternative name matches\r\n",
      "\trequested host name 'images'.\r\n",
      "HTTP request sent, awaiting response... 502 Bad Gateway\r\n",
      "2018-01-15 19:01:42 ERROR 502: Bad Gateway.\r\n",
      "\r\n"
     ]
    },
    {
     "data": {
      "text/plain": [
       "ObjectId('5a5d4dd96d99ba7541d6787c')"
      ]
     },
     "execution_count": 23,
     "metadata": {},
     "output_type": "execute_result"
    },
    {
     "name": "stdout",
     "output_type": "stream",
     "text": [
      "--2018-01-15 19:01:42--  http://images/data_wii_001.jpg\r\n",
      "Resolving images (images)... 167.114.148.224\r\n",
      "Connecting to images (images)|167.114.148.224|:80... connected.\r\n",
      "HTTP request sent, awaiting response... 301 Moved Permanently\r\n",
      "Location: https://images/data_wii_001.jpg [following]\r\n",
      "--2018-01-15 19:01:42--  https://images/data_wii_001.jpg\r\n",
      "Connecting to images (images)|167.114.148.224|:443... connected.\r\n",
      "WARNING: no certificate subject alternative name matches\r\n",
      "\trequested host name 'images'.\r\n",
      "HTTP request sent, awaiting response... 502 Bad Gateway\r\n",
      "2018-01-15 19:01:42 ERROR 502: Bad Gateway.\r\n",
      "\r\n"
     ]
    },
    {
     "data": {
      "text/plain": [
       "ObjectId('5a5d4dd96d99ba7541d6787d')"
      ]
     },
     "execution_count": 23,
     "metadata": {},
     "output_type": "execute_result"
    },
    {
     "name": "stdout",
     "output_type": "stream",
     "text": [
      "--2018-01-15 19:01:42--  http://images/data_wii_002.jpg\r\n",
      "Resolving images (images)... 167.114.148.224\r\n",
      "Connecting to images (images)|167.114.148.224|:80... connected.\r\n",
      "HTTP request sent, awaiting response... 301 Moved Permanently\r\n",
      "Location: https://images/data_wii_002.jpg [following]\r\n",
      "--2018-01-15 19:01:42--  https://images/data_wii_002.jpg\r\n",
      "Connecting to images (images)|167.114.148.224|:443... connected.\r\n",
      "WARNING: no certificate subject alternative name matches\r\n",
      "\trequested host name 'images'.\r\n",
      "HTTP request sent, awaiting response... 502 Bad Gateway\r\n",
      "2018-01-15 19:01:42 ERROR 502: Bad Gateway.\r\n",
      "\r\n"
     ]
    },
    {
     "data": {
      "text/plain": [
       "ObjectId('5a5d4dd96d99ba7541d6787e')"
      ]
     },
     "execution_count": 23,
     "metadata": {},
     "output_type": "execute_result"
    },
    {
     "name": "stdout",
     "output_type": "stream",
     "text": [
      "--2018-01-15 19:01:42--  http://images/data_wii_003.jpg\r\n",
      "Resolving images (images)... 167.114.148.224\r\n",
      "Connecting to images (images)|167.114.148.224|:80... connected.\r\n",
      "HTTP request sent, awaiting response... 301 Moved Permanently\r\n",
      "Location: https://images/data_wii_003.jpg [following]\r\n",
      "--2018-01-15 19:01:42--  https://images/data_wii_003.jpg\r\n",
      "Connecting to images (images)|167.114.148.224|:443... connected.\r\n",
      "WARNING: no certificate subject alternative name matches\r\n",
      "\trequested host name 'images'.\r\n",
      "HTTP request sent, awaiting response... 502 Bad Gateway\r\n",
      "2018-01-15 19:01:42 ERROR 502: Bad Gateway.\r\n",
      "\r\n"
     ]
    },
    {
     "data": {
      "text/plain": [
       "ObjectId('5a5d4dd96d99ba7541d6787f')"
      ]
     },
     "execution_count": 23,
     "metadata": {},
     "output_type": "execute_result"
    },
    {
     "name": "stdout",
     "output_type": "stream",
     "text": [
      "--2018-01-15 19:01:42--  http://images/data_wii_005.jpg\r\n",
      "Resolving images (images)... 167.114.148.224\r\n",
      "Connecting to images (images)|167.114.148.224|:80... connected.\r\n",
      "HTTP request sent, awaiting response... 301 Moved Permanently\r\n",
      "Location: https://images/data_wii_005.jpg [following]\r\n",
      "--2018-01-15 19:01:42--  https://images/data_wii_005.jpg\r\n",
      "Connecting to images (images)|167.114.148.224|:443... connected.\r\n",
      "WARNING: no certificate subject alternative name matches\r\n",
      "\trequested host name 'images'.\r\n",
      "HTTP request sent, awaiting response... 502 Bad Gateway\r\n",
      "2018-01-15 19:01:42 ERROR 502: Bad Gateway.\r\n",
      "\r\n"
     ]
    },
    {
     "data": {
      "text/plain": [
       "ObjectId('5a5d4dd96d99ba7541d67880')"
      ]
     },
     "execution_count": 23,
     "metadata": {},
     "output_type": "execute_result"
    },
    {
     "name": "stdout",
     "output_type": "stream",
     "text": [
      "--2018-01-15 19:01:42--  http://images/data_wii_004.jpg\r\n",
      "Resolving images (images)... 167.114.148.224\r\n",
      "Connecting to images (images)|167.114.148.224|:80... connected.\r\n",
      "HTTP request sent, awaiting response... 301 Moved Permanently\r\n",
      "Location: https://images/data_wii_004.jpg [following]\r\n",
      "--2018-01-15 19:01:42--  https://images/data_wii_004.jpg\r\n",
      "Connecting to images (images)|167.114.148.224|:443... connected.\r\n",
      "WARNING: no certificate subject alternative name matches\r\n",
      "\trequested host name 'images'.\r\n",
      "HTTP request sent, awaiting response... 502 Bad Gateway\r\n",
      "2018-01-15 19:01:42 ERROR 502: Bad Gateway.\r\n",
      "\r\n"
     ]
    },
    {
     "data": {
      "text/plain": [
       "ObjectId('5a5d4dd96d99ba7541d67881')"
      ]
     },
     "execution_count": 23,
     "metadata": {},
     "output_type": "execute_result"
    },
    {
     "name": "stdout",
     "output_type": "stream",
     "text": [
      "--2018-01-15 19:01:43--  http://images/data_wii_006.jpg\r\n",
      "Resolving images (images)... 167.114.148.224\r\n",
      "Connecting to images (images)|167.114.148.224|:80... connected.\r\n",
      "HTTP request sent, awaiting response... 301 Moved Permanently\r\n",
      "Location: https://images/data_wii_006.jpg [following]\r\n",
      "--2018-01-15 19:01:43--  https://images/data_wii_006.jpg\r\n",
      "Connecting to images (images)|167.114.148.224|:443... connected.\r\n",
      "WARNING: no certificate subject alternative name matches\r\n",
      "\trequested host name 'images'.\r\n",
      "HTTP request sent, awaiting response... 502 Bad Gateway\r\n",
      "2018-01-15 19:01:43 ERROR 502: Bad Gateway.\r\n",
      "\r\n"
     ]
    },
    {
     "data": {
      "text/plain": [
       "ObjectId('5a5d4dd96d99ba7541d67882')"
      ]
     },
     "execution_count": 23,
     "metadata": {},
     "output_type": "execute_result"
    },
    {
     "name": "stdout",
     "output_type": "stream",
     "text": [
      "--2018-01-15 19:01:43--  http://images/data_wii_007.jpg\r\n",
      "Resolving images (images)... 167.114.148.224\r\n",
      "Connecting to images (images)|167.114.148.224|:80... connected.\r\n",
      "HTTP request sent, awaiting response... 301 Moved Permanently\r\n",
      "Location: https://images/data_wii_007.jpg [following]\r\n",
      "--2018-01-15 19:01:43--  https://images/data_wii_007.jpg\r\n",
      "Connecting to images (images)|167.114.148.224|:443... connected.\r\n",
      "WARNING: no certificate subject alternative name matches\r\n",
      "\trequested host name 'images'.\r\n",
      "HTTP request sent, awaiting response... 502 Bad Gateway\r\n",
      "2018-01-15 19:01:43 ERROR 502: Bad Gateway.\r\n",
      "\r\n"
     ]
    },
    {
     "data": {
      "text/plain": [
       "ObjectId('5a5d4dd96d99ba7541d67883')"
      ]
     },
     "execution_count": 23,
     "metadata": {},
     "output_type": "execute_result"
    },
    {
     "name": "stdout",
     "output_type": "stream",
     "text": [
      "--2018-01-15 19:01:43--  http://images/data_wii_009.jpg\r\n",
      "Resolving images (images)... 167.114.148.224\r\n",
      "Connecting to images (images)|167.114.148.224|:80... connected.\r\n",
      "HTTP request sent, awaiting response... 301 Moved Permanently\r\n",
      "Location: https://images/data_wii_009.jpg [following]\r\n",
      "--2018-01-15 19:01:43--  https://images/data_wii_009.jpg\r\n",
      "Connecting to images (images)|167.114.148.224|:443... connected.\r\n",
      "WARNING: no certificate subject alternative name matches\r\n",
      "\trequested host name 'images'.\r\n",
      "HTTP request sent, awaiting response... 502 Bad Gateway\r\n",
      "2018-01-15 19:01:43 ERROR 502: Bad Gateway.\r\n",
      "\r\n"
     ]
    },
    {
     "data": {
      "text/plain": [
       "ObjectId('5a5d4dd96d99ba7541d67884')"
      ]
     },
     "execution_count": 23,
     "metadata": {},
     "output_type": "execute_result"
    },
    {
     "name": "stdout",
     "output_type": "stream",
     "text": [
      "--2018-01-15 19:01:43--  http://images/data_wii_008.jpg\r\n",
      "Resolving images (images)... 167.114.148.224\r\n",
      "Connecting to images (images)|167.114.148.224|:80... connected.\r\n",
      "HTTP request sent, awaiting response... 301 Moved Permanently\r\n",
      "Location: https://images/data_wii_008.jpg [following]\r\n",
      "--2018-01-15 19:01:43--  https://images/data_wii_008.jpg\r\n",
      "Connecting to images (images)|167.114.148.224|:443... connected.\r\n",
      "WARNING: no certificate subject alternative name matches\r\n",
      "\trequested host name 'images'.\r\n",
      "HTTP request sent, awaiting response... 502 Bad Gateway\r\n",
      "2018-01-15 19:01:43 ERROR 502: Bad Gateway.\r\n",
      "\r\n"
     ]
    },
    {
     "data": {
      "text/plain": [
       "ObjectId('5a5d4dd96d99ba7541d67885')"
      ]
     },
     "execution_count": 23,
     "metadata": {},
     "output_type": "execute_result"
    },
    {
     "name": "stdout",
     "output_type": "stream",
     "text": [
      "--2018-01-15 19:01:44--  http://images/data_wii_wiiparty.jpg\r\n",
      "Resolving images (images)... 167.114.148.224\r\n",
      "Connecting to images (images)|167.114.148.224|:80... connected.\r\n",
      "HTTP request sent, awaiting response... 301 Moved Permanently\r\n",
      "Location: https://images/data_wii_wiiparty.jpg [following]\r\n",
      "--2018-01-15 19:01:44--  https://images/data_wii_wiiparty.jpg\r\n",
      "Connecting to images (images)|167.114.148.224|:443... connected.\r\n",
      "WARNING: no certificate subject alternative name matches\r\n",
      "\trequested host name 'images'.\r\n",
      "HTTP request sent, awaiting response... 502 Bad Gateway\r\n",
      "2018-01-15 19:01:44 ERROR 502: Bad Gateway.\r\n",
      "\r\n"
     ]
    },
    {
     "data": {
      "text/plain": [
       "ObjectId('5a5d4dd96d99ba7541d67886')"
      ]
     },
     "execution_count": 23,
     "metadata": {},
     "output_type": "execute_result"
    },
    {
     "name": "stdout",
     "output_type": "stream",
     "text": [
      "--2018-01-15 19:01:44--  http://images/data_ds_001.jpg\r\n",
      "Resolving images (images)... 167.114.148.224\r\n",
      "Connecting to images (images)|167.114.148.224|:80... connected.\r\n",
      "HTTP request sent, awaiting response... 301 Moved Permanently\r\n",
      "Location: https://images/data_ds_001.jpg [following]\r\n",
      "--2018-01-15 19:01:44--  https://images/data_ds_001.jpg\r\n",
      "Connecting to images (images)|167.114.148.224|:443... connected.\r\n",
      "WARNING: no certificate subject alternative name matches\r\n",
      "\trequested host name 'images'.\r\n",
      "HTTP request sent, awaiting response... 502 Bad Gateway\r\n",
      "2018-01-15 19:01:44 ERROR 502: Bad Gateway.\r\n",
      "\r\n"
     ]
    },
    {
     "data": {
      "text/plain": [
       "ObjectId('5a5d4dd96d99ba7541d67887')"
      ]
     },
     "execution_count": 23,
     "metadata": {},
     "output_type": "execute_result"
    },
    {
     "name": "stdout",
     "output_type": "stream",
     "text": [
      "--2018-01-15 19:01:44--  http://images/data_ds_003.jpg\r\n",
      "Resolving images (images)... 167.114.148.224\r\n",
      "Connecting to images (images)|167.114.148.224|:80... connected.\r\n",
      "HTTP request sent, awaiting response... 301 Moved Permanently\r\n",
      "Location: https://images/data_ds_003.jpg [following]\r\n",
      "--2018-01-15 19:01:44--  https://images/data_ds_003.jpg\r\n",
      "Connecting to images (images)|167.114.148.224|:443... connected.\r\n",
      "WARNING: no certificate subject alternative name matches\r\n",
      "\trequested host name 'images'.\r\n",
      "HTTP request sent, awaiting response... 502 Bad Gateway\r\n",
      "2018-01-15 19:01:44 ERROR 502: Bad Gateway.\r\n",
      "\r\n"
     ]
    },
    {
     "data": {
      "text/plain": [
       "ObjectId('5a5d4dd96d99ba7541d67888')"
      ]
     },
     "execution_count": 23,
     "metadata": {},
     "output_type": "execute_result"
    },
    {
     "name": "stdout",
     "output_type": "stream",
     "text": [
      "--2018-01-15 19:01:44--  http://images/data_ds_002.jpg\r\n",
      "Resolving images (images)... 167.114.148.224\r\n",
      "Connecting to images (images)|167.114.148.224|:80... connected.\r\n",
      "HTTP request sent, awaiting response... 301 Moved Permanently\r\n",
      "Location: https://images/data_ds_002.jpg [following]\r\n",
      "--2018-01-15 19:01:44--  https://images/data_ds_002.jpg\r\n",
      "Connecting to images (images)|167.114.148.224|:443... connected.\r\n",
      "WARNING: no certificate subject alternative name matches\r\n",
      "\trequested host name 'images'.\r\n",
      "HTTP request sent, awaiting response... 502 Bad Gateway\r\n",
      "2018-01-15 19:01:44 ERROR 502: Bad Gateway.\r\n",
      "\r\n"
     ]
    },
    {
     "data": {
      "text/plain": [
       "ObjectId('5a5d4dd96d99ba7541d67889')"
      ]
     },
     "execution_count": 23,
     "metadata": {},
     "output_type": "execute_result"
    },
    {
     "name": "stdout",
     "output_type": "stream",
     "text": [
      "--2018-01-15 19:01:45--  http://images/data_ds_004.jpg\r\n",
      "Resolving images (images)... 167.114.148.224\r\n",
      "Connecting to images (images)|167.114.148.224|:80... connected.\r\n",
      "HTTP request sent, awaiting response... 301 Moved Permanently\r\n",
      "Location: https://images/data_ds_004.jpg [following]\r\n",
      "--2018-01-15 19:01:45--  https://images/data_ds_004.jpg\r\n",
      "Connecting to images (images)|167.114.148.224|:443... connected.\r\n",
      "WARNING: no certificate subject alternative name matches\r\n",
      "\trequested host name 'images'.\r\n",
      "HTTP request sent, awaiting response... 502 Bad Gateway\r\n",
      "2018-01-15 19:01:45 ERROR 502: Bad Gateway.\r\n",
      "\r\n"
     ]
    },
    {
     "data": {
      "text/plain": [
       "ObjectId('5a5d4dd96d99ba7541d6788a')"
      ]
     },
     "execution_count": 23,
     "metadata": {},
     "output_type": "execute_result"
    },
    {
     "name": "stdout",
     "output_type": "stream",
     "text": [
      "--2018-01-15 19:01:45--  http://images/data_ds_006.jpg\r\n",
      "Resolving images (images)... 167.114.148.224\r\n",
      "Connecting to images (images)|167.114.148.224|:80... connected.\r\n",
      "HTTP request sent, awaiting response... 301 Moved Permanently\r\n",
      "Location: https://images/data_ds_006.jpg [following]\r\n",
      "--2018-01-15 19:01:45--  https://images/data_ds_006.jpg\r\n",
      "Connecting to images (images)|167.114.148.224|:443... connected.\r\n",
      "WARNING: no certificate subject alternative name matches\r\n",
      "\trequested host name 'images'.\r\n",
      "HTTP request sent, awaiting response... 502 Bad Gateway\r\n",
      "2018-01-15 19:01:45 ERROR 502: Bad Gateway.\r\n",
      "\r\n"
     ]
    },
    {
     "data": {
      "text/plain": [
       "ObjectId('5a5d4dd96d99ba7541d6788b')"
      ]
     },
     "execution_count": 23,
     "metadata": {},
     "output_type": "execute_result"
    },
    {
     "name": "stdout",
     "output_type": "stream",
     "text": [
      "--2018-01-15 19:01:45--  http://images/data_ds_007.jpg\r\n",
      "Resolving images (images)... 167.114.148.224\r\n",
      "Connecting to images (images)|167.114.148.224|:80... connected.\r\n",
      "HTTP request sent, awaiting response... 301 Moved Permanently\r\n",
      "Location: https://images/data_ds_007.jpg [following]\r\n",
      "--2018-01-15 19:01:45--  https://images/data_ds_007.jpg\r\n",
      "Connecting to images (images)|167.114.148.224|:443... connected.\r\n",
      "WARNING: no certificate subject alternative name matches\r\n",
      "\trequested host name 'images'.\r\n",
      "HTTP request sent, awaiting response... 502 Bad Gateway\r\n",
      "2018-01-15 19:01:45 ERROR 502: Bad Gateway.\r\n",
      "\r\n"
     ]
    },
    {
     "data": {
      "text/plain": [
       "ObjectId('5a5d4dd96d99ba7541d6788c')"
      ]
     },
     "execution_count": 23,
     "metadata": {},
     "output_type": "execute_result"
    },
    {
     "name": "stdout",
     "output_type": "stream",
     "text": [
      "--2018-01-15 19:01:45--  http://images/data_ds_005.jpg\r\n",
      "Resolving images (images)... 167.114.148.224\r\n",
      "Connecting to images (images)|167.114.148.224|:80... connected.\r\n",
      "HTTP request sent, awaiting response... 301 Moved Permanently\r\n",
      "Location: https://images/data_ds_005.jpg [following]\r\n",
      "--2018-01-15 19:01:45--  https://images/data_ds_005.jpg\r\n",
      "Connecting to images (images)|167.114.148.224|:443... connected.\r\n",
      "WARNING: no certificate subject alternative name matches\r\n",
      "\trequested host name 'images'.\r\n",
      "HTTP request sent, awaiting response... 502 Bad Gateway\r\n",
      "2018-01-15 19:01:45 ERROR 502: Bad Gateway.\r\n",
      "\r\n"
     ]
    },
    {
     "data": {
      "text/plain": [
       "ObjectId('5a5d4dd96d99ba7541d6788d')"
      ]
     },
     "execution_count": 23,
     "metadata": {},
     "output_type": "execute_result"
    },
    {
     "name": "stdout",
     "output_type": "stream",
     "text": [
      "--2018-01-15 19:01:45--  http://images/data_ds_008.jpg\r\n",
      "Resolving images (images)... 167.114.148.224\r\n",
      "Connecting to images (images)|167.114.148.224|:80... connected.\r\n",
      "HTTP request sent, awaiting response... 301 Moved Permanently\r\n",
      "Location: https://images/data_ds_008.jpg [following]\r\n",
      "--2018-01-15 19:01:45--  https://images/data_ds_008.jpg\r\n",
      "Connecting to images (images)|167.114.148.224|:443... connected.\r\n",
      "WARNING: no certificate subject alternative name matches\r\n",
      "\trequested host name 'images'.\r\n",
      "HTTP request sent, awaiting response... 502 Bad Gateway\r\n",
      "2018-01-15 19:01:45 ERROR 502: Bad Gateway.\r\n",
      "\r\n"
     ]
    },
    {
     "data": {
      "text/plain": [
       "ObjectId('5a5d4dd96d99ba7541d6788e')"
      ]
     },
     "execution_count": 23,
     "metadata": {},
     "output_type": "execute_result"
    },
    {
     "name": "stdout",
     "output_type": "stream",
     "text": [
      "--2018-01-15 19:01:45--  http://images/data_ds_010.jpg\r\n",
      "Resolving images (images)... 167.114.148.224\r\n",
      "Connecting to images (images)|167.114.148.224|:80... connected.\r\n",
      "HTTP request sent, awaiting response... 301 Moved Permanently\r\n",
      "Location: https://images/data_ds_010.jpg [following]\r\n",
      "--2018-01-15 19:01:45--  https://images/data_ds_010.jpg\r\n",
      "Connecting to images (images)|167.114.148.224|:443... connected.\r\n",
      "WARNING: no certificate subject alternative name matches\r\n",
      "\trequested host name 'images'.\r\n",
      "HTTP request sent, awaiting response... 502 Bad Gateway\r\n",
      "2018-01-15 19:01:45 ERROR 502: Bad Gateway.\r\n",
      "\r\n"
     ]
    },
    {
     "data": {
      "text/plain": [
       "ObjectId('5a5d4dd96d99ba7541d6788f')"
      ]
     },
     "execution_count": 23,
     "metadata": {},
     "output_type": "execute_result"
    },
    {
     "name": "stdout",
     "output_type": "stream",
     "text": [
      "--2018-01-15 19:01:46--  http://images/data_ds_009.jpg\r\n",
      "Resolving images (images)... 167.114.148.224\r\n",
      "Connecting to images (images)|167.114.148.224|:80... connected.\r\n",
      "HTTP request sent, awaiting response... 301 Moved Permanently\r\n",
      "Location: https://images/data_ds_009.jpg [following]\r\n",
      "--2018-01-15 19:01:46--  https://images/data_ds_009.jpg\r\n",
      "Connecting to images (images)|167.114.148.224|:443... connected.\r\n",
      "WARNING: no certificate subject alternative name matches\r\n",
      "\trequested host name 'images'.\r\n",
      "HTTP request sent, awaiting response... 502 Bad Gateway\r\n",
      "2018-01-15 19:01:46 ERROR 502: Bad Gateway.\r\n",
      "\r\n"
     ]
    },
    {
     "data": {
      "text/plain": [
       "ObjectId('5a5d4dd96d99ba7541d67890')"
      ]
     },
     "execution_count": 23,
     "metadata": {},
     "output_type": "execute_result"
    },
    {
     "name": "stdout",
     "output_type": "stream",
     "text": [
      "--2018-01-15 19:01:46--  http://images/data_switch_001.png\r\n",
      "Resolving images (images)... 167.114.148.224\r\n",
      "Connecting to images (images)|167.114.148.224|:80... connected.\r\n",
      "HTTP request sent, awaiting response... 301 Moved Permanently\r\n",
      "Location: https://images/data_switch_001.png [following]\r\n",
      "--2018-01-15 19:01:46--  https://images/data_switch_001.png\r\n",
      "Connecting to images (images)|167.114.148.224|:443... connected.\r\n",
      "WARNING: no certificate subject alternative name matches\r\n",
      "\trequested host name 'images'.\r\n",
      "HTTP request sent, awaiting response... 502 Bad Gateway\r\n",
      "2018-01-15 19:01:46 ERROR 502: Bad Gateway.\r\n",
      "\r\n"
     ]
    },
    {
     "data": {
      "text/plain": [
       "ObjectId('5a5d4dd96d99ba7541d67891')"
      ]
     },
     "execution_count": 23,
     "metadata": {},
     "output_type": "execute_result"
    },
    {
     "name": "stdout",
     "output_type": "stream",
     "text": [
      "--2018-01-15 19:01:46--  http://images/data_switch_002.png\r\n",
      "Resolving images (images)... 167.114.148.224\r\n",
      "Connecting to images (images)|167.114.148.224|:80... connected.\r\n",
      "HTTP request sent, awaiting response... 301 Moved Permanently\r\n",
      "Location: https://images/data_switch_002.png [following]\r\n",
      "--2018-01-15 19:01:46--  https://images/data_switch_002.png\r\n",
      "Connecting to images (images)|167.114.148.224|:443... connected.\r\n",
      "WARNING: no certificate subject alternative name matches\r\n",
      "\trequested host name 'images'.\r\n",
      "HTTP request sent, awaiting response... 502 Bad Gateway\r\n",
      "2018-01-15 19:01:46 ERROR 502: Bad Gateway.\r\n",
      "\r\n"
     ]
    },
    {
     "data": {
      "text/plain": [
       "ObjectId('5a5d4dd96d99ba7541d67892')"
      ]
     },
     "execution_count": 23,
     "metadata": {},
     "output_type": "execute_result"
    },
    {
     "name": "stdout",
     "output_type": "stream",
     "text": [
      "--2018-01-15 19:01:46--  http://images/data_switch_005.png\r\n",
      "Resolving images (images)... 167.114.148.224\r\n",
      "Connecting to images (images)|167.114.148.224|:80... connected.\r\n",
      "HTTP request sent, awaiting response... 301 Moved Permanently\r\n",
      "Location: https://images/data_switch_005.png [following]\r\n",
      "--2018-01-15 19:01:46--  https://images/data_switch_005.png\r\n",
      "Connecting to images (images)|167.114.148.224|:443... connected.\r\n",
      "WARNING: no certificate subject alternative name matches\r\n",
      "\trequested host name 'images'.\r\n",
      "HTTP request sent, awaiting response... 502 Bad Gateway\r\n",
      "2018-01-15 19:01:46 ERROR 502: Bad Gateway.\r\n",
      "\r\n"
     ]
    },
    {
     "data": {
      "text/plain": [
       "ObjectId('5a5d4dd96d99ba7541d67893')"
      ]
     },
     "execution_count": 23,
     "metadata": {},
     "output_type": "execute_result"
    },
    {
     "name": "stdout",
     "output_type": "stream",
     "text": [
      "--2018-01-15 19:01:46--  http://images/data_switch_003.png\r\n",
      "Resolving images (images)... 167.114.148.224\r\n",
      "Connecting to images (images)|167.114.148.224|:80... connected.\r\n",
      "HTTP request sent, awaiting response... 301 Moved Permanently\r\n",
      "Location: https://images/data_switch_003.png [following]\r\n",
      "--2018-01-15 19:01:46--  https://images/data_switch_003.png\r\n",
      "Connecting to images (images)|167.114.148.224|:443... connected.\r\n",
      "WARNING: no certificate subject alternative name matches\r\n",
      "\trequested host name 'images'.\r\n",
      "HTTP request sent, awaiting response... 502 Bad Gateway\r\n",
      "2018-01-15 19:01:46 ERROR 502: Bad Gateway.\r\n",
      "\r\n"
     ]
    },
    {
     "data": {
      "text/plain": [
       "ObjectId('5a5d4dd96d99ba7541d67894')"
      ]
     },
     "execution_count": 23,
     "metadata": {},
     "output_type": "execute_result"
    },
    {
     "name": "stdout",
     "output_type": "stream",
     "text": [
      "--2018-01-15 19:01:46--  http://images/data_switch_004.png\r\n",
      "Resolving images (images)... 167.114.148.224\r\n",
      "Connecting to images (images)|167.114.148.224|:80... connected.\r\n",
      "HTTP request sent, awaiting response... 301 Moved Permanently\r\n",
      "Location: https://images/data_switch_004.png [following]\r\n",
      "--2018-01-15 19:01:47--  https://images/data_switch_004.png\r\n",
      "Connecting to images (images)|167.114.148.224|:443... connected.\r\n",
      "WARNING: no certificate subject alternative name matches\r\n",
      "\trequested host name 'images'.\r\n",
      "HTTP request sent, awaiting response... 502 Bad Gateway\r\n",
      "2018-01-15 19:01:47 ERROR 502: Bad Gateway.\r\n",
      "\r\n"
     ]
    },
    {
     "data": {
      "text/plain": [
       "ObjectId('5a5d4dd96d99ba7541d67895')"
      ]
     },
     "execution_count": 23,
     "metadata": {},
     "output_type": "execute_result"
    },
    {
     "name": "stdout",
     "output_type": "stream",
     "text": [
      "--2018-01-15 19:01:47--  http://images/data_wiiu_mariokart8.png\r\n",
      "Resolving images (images)... 167.114.148.224\r\n",
      "Connecting to images (images)|167.114.148.224|:80... connected.\r\n",
      "HTTP request sent, awaiting response... 301 Moved Permanently\r\n",
      "Location: https://images/data_wiiu_mariokart8.png [following]\r\n",
      "--2018-01-15 19:01:47--  https://images/data_wiiu_mariokart8.png\r\n",
      "Connecting to images (images)|167.114.148.224|:443... connected.\r\n",
      "WARNING: no certificate subject alternative name matches\r\n",
      "\trequested host name 'images'.\r\n",
      "HTTP request sent, awaiting response... 502 Bad Gateway\r\n",
      "2018-01-15 19:01:47 ERROR 502: Bad Gateway.\r\n",
      "\r\n"
     ]
    },
    {
     "data": {
      "text/plain": [
       "ObjectId('5a5d4dd96d99ba7541d67896')"
      ]
     },
     "execution_count": 23,
     "metadata": {},
     "output_type": "execute_result"
    },
    {
     "name": "stdout",
     "output_type": "stream",
     "text": [
      "--2018-01-15 19:01:47--  http://images/data_wiiu_newmariou.png\r\n",
      "Resolving images (images)... 167.114.148.224\r\n",
      "Connecting to images (images)|167.114.148.224|:80... connected.\r\n",
      "HTTP request sent, awaiting response... 301 Moved Permanently\r\n",
      "Location: https://images/data_wiiu_newmariou.png [following]\r\n",
      "--2018-01-15 19:01:47--  https://images/data_wiiu_newmariou.png\r\n",
      "Connecting to images (images)|167.114.148.224|:443... connected.\r\n",
      "WARNING: no certificate subject alternative name matches\r\n",
      "\trequested host name 'images'.\r\n",
      "HTTP request sent, awaiting response... 502 Bad Gateway\r\n",
      "2018-01-15 19:01:47 ERROR 502: Bad Gateway.\r\n",
      "\r\n"
     ]
    },
    {
     "data": {
      "text/plain": [
       "ObjectId('5a5d4dd96d99ba7541d67897')"
      ]
     },
     "execution_count": 23,
     "metadata": {},
     "output_type": "execute_result"
    },
    {
     "name": "stdout",
     "output_type": "stream",
     "text": [
      "--2018-01-15 19:01:47--  http://images/data_wiiu_mario3dworld.png\r\n",
      "Resolving images (images)... 167.114.148.224\r\n",
      "Connecting to images (images)|167.114.148.224|:80... connected.\r\n",
      "HTTP request sent, awaiting response... 301 Moved Permanently\r\n",
      "Location: https://images/data_wiiu_mario3dworld.png [following]\r\n",
      "--2018-01-15 19:01:47--  https://images/data_wiiu_mario3dworld.png\r\n",
      "Connecting to images (images)|167.114.148.224|:443... connected.\r\n",
      "WARNING: no certificate subject alternative name matches\r\n",
      "\trequested host name 'images'.\r\n",
      "HTTP request sent, awaiting response... 502 Bad Gateway\r\n",
      "2018-01-15 19:01:47 ERROR 502: Bad Gateway.\r\n",
      "\r\n"
     ]
    },
    {
     "data": {
      "text/plain": [
       "ObjectId('5a5d4dd96d99ba7541d67898')"
      ]
     },
     "execution_count": 23,
     "metadata": {},
     "output_type": "execute_result"
    },
    {
     "name": "stdout",
     "output_type": "stream",
     "text": [
      "--2018-01-15 19:01:47--  http://images/data_wiiu_smashbros.png\r\n",
      "Resolving images (images)... 167.114.148.224\r\n",
      "Connecting to images (images)|167.114.148.224|:80... connected.\r\n",
      "HTTP request sent, awaiting response... 301 Moved Permanently\r\n",
      "Location: https://images/data_wiiu_smashbros.png [following]\r\n",
      "--2018-01-15 19:01:47--  https://images/data_wiiu_smashbros.png\r\n",
      "Connecting to images (images)|167.114.148.224|:443... connected.\r\n",
      "WARNING: no certificate subject alternative name matches\r\n",
      "\trequested host name 'images'.\r\n",
      "HTTP request sent, awaiting response... 502 Bad Gateway\r\n",
      "2018-01-15 19:01:47 ERROR 502: Bad Gateway.\r\n",
      "\r\n"
     ]
    },
    {
     "data": {
      "text/plain": [
       "ObjectId('5a5d4dd96d99ba7541d67899')"
      ]
     },
     "execution_count": 23,
     "metadata": {},
     "output_type": "execute_result"
    },
    {
     "name": "stdout",
     "output_type": "stream",
     "text": [
      "--2018-01-15 19:01:48--  http://images/data_wiiu_nintendoland.png\r\n",
      "Resolving images (images)... 167.114.148.224\r\n",
      "Connecting to images (images)|167.114.148.224|:80... connected.\r\n",
      "HTTP request sent, awaiting response... 301 Moved Permanently\r\n",
      "Location: https://images/data_wiiu_nintendoland.png [following]\r\n",
      "--2018-01-15 19:01:48--  https://images/data_wiiu_nintendoland.png\r\n",
      "Connecting to images (images)|167.114.148.224|:443... connected.\r\n",
      "WARNING: no certificate subject alternative name matches\r\n",
      "\trequested host name 'images'.\r\n",
      "HTTP request sent, awaiting response... 502 Bad Gateway\r\n",
      "2018-01-15 19:01:48 ERROR 502: Bad Gateway.\r\n",
      "\r\n"
     ]
    },
    {
     "data": {
      "text/plain": [
       "ObjectId('5a5d4dd96d99ba7541d6789a')"
      ]
     },
     "execution_count": 23,
     "metadata": {},
     "output_type": "execute_result"
    },
    {
     "name": "stdout",
     "output_type": "stream",
     "text": [
      "--2018-01-15 19:01:48--  http://images/data_wiiu_splatoon.jpg\r\n",
      "Resolving images (images)... 167.114.148.224\r\n",
      "Connecting to images (images)|167.114.148.224|:80... connected.\r\n",
      "HTTP request sent, awaiting response... 301 Moved Permanently\r\n",
      "Location: https://images/data_wiiu_splatoon.jpg [following]\r\n",
      "--2018-01-15 19:01:48--  https://images/data_wiiu_splatoon.jpg\r\n",
      "Connecting to images (images)|167.114.148.224|:443... connected.\r\n",
      "WARNING: no certificate subject alternative name matches\r\n",
      "\trequested host name 'images'.\r\n",
      "HTTP request sent, awaiting response... 502 Bad Gateway\r\n",
      "2018-01-15 19:01:48 ERROR 502: Bad Gateway.\r\n",
      "\r\n"
     ]
    },
    {
     "data": {
      "text/plain": [
       "ObjectId('5a5d4dd96d99ba7541d6789b')"
      ]
     },
     "execution_count": 23,
     "metadata": {},
     "output_type": "execute_result"
    },
    {
     "name": "stdout",
     "output_type": "stream",
     "text": [
      "--2018-01-15 19:01:48--  http://images/data_wiiu_supermariomaker.png\r\n",
      "Resolving images (images)... 167.114.148.224\r\n",
      "Connecting to images (images)|167.114.148.224|:80... connected.\r\n",
      "HTTP request sent, awaiting response... 301 Moved Permanently\r\n",
      "Location: https://images/data_wiiu_supermariomaker.png [following]\r\n",
      "--2018-01-15 19:01:48--  https://images/data_wiiu_supermariomaker.png\r\n",
      "Connecting to images (images)|167.114.148.224|:443... connected.\r\n",
      "WARNING: no certificate subject alternative name matches\r\n",
      "\trequested host name 'images'.\r\n",
      "HTTP request sent, awaiting response... 502 Bad Gateway\r\n",
      "2018-01-15 19:01:48 ERROR 502: Bad Gateway.\r\n",
      "\r\n"
     ]
    },
    {
     "data": {
      "text/plain": [
       "ObjectId('5a5d4dd96d99ba7541d6789c')"
      ]
     },
     "execution_count": 23,
     "metadata": {},
     "output_type": "execute_result"
    },
    {
     "name": "stdout",
     "output_type": "stream",
     "text": [
      "--2018-01-15 19:01:48--  http://images/data_wiiu_newsuperluigiu.png\r\n",
      "Resolving images (images)... 167.114.148.224\r\n",
      "Connecting to images (images)|167.114.148.224|:80... connected.\r\n",
      "HTTP request sent, awaiting response... 301 Moved Permanently\r\n",
      "Location: https://images/data_wiiu_newsuperluigiu.png [following]\r\n",
      "--2018-01-15 19:01:48--  https://images/data_wiiu_newsuperluigiu.png\r\n",
      "Connecting to images (images)|167.114.148.224|:443... connected.\r\n",
      "WARNING: no certificate subject alternative name matches\r\n",
      "\trequested host name 'images'.\r\n",
      "HTTP request sent, awaiting response... 502 Bad Gateway\r\n",
      "2018-01-15 19:01:48 ERROR 502: Bad Gateway.\r\n",
      "\r\n"
     ]
    },
    {
     "data": {
      "text/plain": [
       "ObjectId('5a5d4dd96d99ba7541d6789d')"
      ]
     },
     "execution_count": 23,
     "metadata": {},
     "output_type": "execute_result"
    },
    {
     "name": "stdout",
     "output_type": "stream",
     "text": [
      "--2018-01-15 19:01:48--  http://images/data_wiiu_zeldahd.png\r\n",
      "Resolving images (images)... 167.114.148.224\r\n",
      "Connecting to images (images)|167.114.148.224|:80... connected.\r\n",
      "HTTP request sent, awaiting response... 301 Moved Permanently\r\n",
      "Location: https://images/data_wiiu_zeldahd.png [following]\r\n",
      "--2018-01-15 19:01:48--  https://images/data_wiiu_zeldahd.png\r\n",
      "Connecting to images (images)|167.114.148.224|:443... connected.\r\n",
      "WARNING: no certificate subject alternative name matches\r\n",
      "\trequested host name 'images'.\r\n",
      "HTTP request sent, awaiting response... 502 Bad Gateway\r\n",
      "2018-01-15 19:01:48 ERROR 502: Bad Gateway.\r\n",
      "\r\n"
     ]
    },
    {
     "data": {
      "text/plain": [
       "ObjectId('5a5d4dd96d99ba7541d6789e')"
      ]
     },
     "execution_count": 23,
     "metadata": {},
     "output_type": "execute_result"
    },
    {
     "name": "stdout",
     "output_type": "stream",
     "text": [
      "--2018-01-15 19:01:48--  http://images/data_wiiu_marioparty10.jpg\r\n",
      "Resolving images (images)... 167.114.148.224\r\n",
      "Connecting to images (images)|167.114.148.224|:80... connected.\r\n",
      "HTTP request sent, awaiting response... 301 Moved Permanently\r\n",
      "Location: https://images/data_wiiu_marioparty10.jpg [following]\r\n",
      "--2018-01-15 19:01:48--  https://images/data_wiiu_marioparty10.jpg\r\n",
      "Connecting to images (images)|167.114.148.224|:443... connected.\r\n",
      "WARNING: no certificate subject alternative name matches\r\n",
      "\trequested host name 'images'.\r\n",
      "HTTP request sent, awaiting response... 502 Bad Gateway\r\n",
      "2018-01-15 19:01:48 ERROR 502: Bad Gateway.\r\n",
      "\r\n"
     ]
    },
    {
     "data": {
      "text/plain": [
       "ObjectId('5a5d4dd96d99ba7541d6789f')"
      ]
     },
     "execution_count": 23,
     "metadata": {},
     "output_type": "execute_result"
    },
    {
     "name": "stdout",
     "output_type": "stream",
     "text": [
      "--2018-01-15 19:01:49--  http://images/data_3ds_pokemonxy.jpg\r\n",
      "Resolving images (images)... 167.114.148.224\r\n",
      "Connecting to images (images)|167.114.148.224|:80... connected.\r\n",
      "HTTP request sent, awaiting response... 301 Moved Permanently\r\n",
      "Location: https://images/data_3ds_pokemonxy.jpg [following]\r\n",
      "--2018-01-15 19:01:49--  https://images/data_3ds_pokemonxy.jpg\r\n",
      "Connecting to images (images)|167.114.148.224|:443... connected.\r\n",
      "WARNING: no certificate subject alternative name matches\r\n",
      "\trequested host name 'images'.\r\n",
      "HTTP request sent, awaiting response... 502 Bad Gateway\r\n",
      "2018-01-15 19:01:49 ERROR 502: Bad Gateway.\r\n",
      "\r\n"
     ]
    },
    {
     "data": {
      "text/plain": [
       "ObjectId('5a5d4dd96d99ba7541d678a0')"
      ]
     },
     "execution_count": 23,
     "metadata": {},
     "output_type": "execute_result"
    },
    {
     "name": "stdout",
     "output_type": "stream",
     "text": [
      "--2018-01-15 19:01:49--  http://images/data_3ds_002.jpg\r\n",
      "Resolving images (images)... 167.114.148.224\r\n",
      "Connecting to images (images)|167.114.148.224|:80... connected.\r\n",
      "HTTP request sent, awaiting response... 301 Moved Permanently\r\n",
      "Location: https://images/data_3ds_002.jpg [following]\r\n",
      "--2018-01-15 19:01:49--  https://images/data_3ds_002.jpg\r\n",
      "Connecting to images (images)|167.114.148.224|:443... connected.\r\n",
      "WARNING: no certificate subject alternative name matches\r\n",
      "\trequested host name 'images'.\r\n",
      "HTTP request sent, awaiting response... 502 Bad Gateway\r\n",
      "2018-01-15 19:01:49 ERROR 502: Bad Gateway.\r\n",
      "\r\n"
     ]
    },
    {
     "data": {
      "text/plain": [
       "ObjectId('5a5d4dd96d99ba7541d678a1')"
      ]
     },
     "execution_count": 23,
     "metadata": {},
     "output_type": "execute_result"
    },
    {
     "name": "stdout",
     "output_type": "stream",
     "text": [
      "--2018-01-15 19:01:49--  http://images/data_3ds_pokemonsunmoon.jpg\r\n",
      "Resolving images (images)... 167.114.148.224\r\n",
      "Connecting to images (images)|167.114.148.224|:80... connected.\r\n",
      "HTTP request sent, awaiting response... 301 Moved Permanently\r\n",
      "Location: https://images/data_3ds_pokemonsunmoon.jpg [following]\r\n",
      "--2018-01-15 19:01:49--  https://images/data_3ds_pokemonsunmoon.jpg\r\n",
      "Connecting to images (images)|167.114.148.224|:443... connected.\r\n",
      "WARNING: no certificate subject alternative name matches\r\n",
      "\trequested host name 'images'.\r\n",
      "HTTP request sent, awaiting response... 502 Bad Gateway\r\n",
      "2018-01-15 19:01:49 ERROR 502: Bad Gateway.\r\n",
      "\r\n"
     ]
    },
    {
     "data": {
      "text/plain": [
       "ObjectId('5a5d4dd96d99ba7541d678a2')"
      ]
     },
     "execution_count": 23,
     "metadata": {},
     "output_type": "execute_result"
    },
    {
     "name": "stdout",
     "output_type": "stream",
     "text": [
      "--2018-01-15 19:01:49--  http://images/data_3ds_pokemonoras.jpg\r\n",
      "Resolving images (images)... 167.114.148.224\r\n",
      "Connecting to images (images)|167.114.148.224|:80... connected.\r\n",
      "HTTP request sent, awaiting response... 301 Moved Permanently\r\n",
      "Location: https://images/data_3ds_pokemonoras.jpg [following]\r\n",
      "--2018-01-15 19:01:49--  https://images/data_3ds_pokemonoras.jpg\r\n",
      "Connecting to images (images)|167.114.148.224|:443... connected.\r\n",
      "WARNING: no certificate subject alternative name matches\r\n",
      "\trequested host name 'images'.\r\n",
      "HTTP request sent, awaiting response... 502 Bad Gateway\r\n",
      "2018-01-15 19:01:49 ERROR 502: Bad Gateway.\r\n",
      "\r\n"
     ]
    },
    {
     "data": {
      "text/plain": [
       "ObjectId('5a5d4dd96d99ba7541d678a3')"
      ]
     },
     "execution_count": 23,
     "metadata": {},
     "output_type": "execute_result"
    },
    {
     "name": "stdout",
     "output_type": "stream",
     "text": [
      "--2018-01-15 19:01:49--  http://images/data_3ds_003.jpg\r\n",
      "Resolving images (images)... 167.114.148.224\r\n",
      "Connecting to images (images)|167.114.148.224|:80... connected.\r\n",
      "HTTP request sent, awaiting response... 301 Moved Permanently\r\n",
      "Location: https://images/data_3ds_003.jpg [following]\r\n",
      "--2018-01-15 19:01:49--  https://images/data_3ds_003.jpg\r\n",
      "Connecting to images (images)|167.114.148.224|:443... connected.\r\n",
      "WARNING: no certificate subject alternative name matches\r\n",
      "\trequested host name 'images'.\r\n",
      "HTTP request sent, awaiting response... 502 Bad Gateway\r\n",
      "2018-01-15 19:01:49 ERROR 502: Bad Gateway.\r\n",
      "\r\n"
     ]
    },
    {
     "data": {
      "text/plain": [
       "ObjectId('5a5d4dd96d99ba7541d678a4')"
      ]
     },
     "execution_count": 23,
     "metadata": {},
     "output_type": "execute_result"
    },
    {
     "name": "stdout",
     "output_type": "stream",
     "text": [
      "--2018-01-15 19:01:49--  http://images/data_3ds_001.jpg\r\n",
      "Resolving images (images)... 167.114.148.224\r\n",
      "Connecting to images (images)|167.114.148.224|:80... connected.\r\n",
      "HTTP request sent, awaiting response... 301 Moved Permanently\r\n",
      "Location: https://images/data_3ds_001.jpg [following]\r\n",
      "--2018-01-15 19:01:49--  https://images/data_3ds_001.jpg\r\n",
      "Connecting to images (images)|167.114.148.224|:443... connected.\r\n",
      "WARNING: no certificate subject alternative name matches\r\n",
      "\trequested host name 'images'.\r\n",
      "HTTP request sent, awaiting response... 502 Bad Gateway\r\n",
      "2018-01-15 19:01:49 ERROR 502: Bad Gateway.\r\n",
      "\r\n"
     ]
    },
    {
     "data": {
      "text/plain": [
       "ObjectId('5a5d4dd96d99ba7541d678a5')"
      ]
     },
     "execution_count": 23,
     "metadata": {},
     "output_type": "execute_result"
    },
    {
     "name": "stdout",
     "output_type": "stream",
     "text": [
      "--2018-01-15 19:01:50--  http://images/data_3ds_004.jpg\r\n",
      "Resolving images (images)... 167.114.148.224\r\n",
      "Connecting to images (images)|167.114.148.224|:80... connected.\r\n",
      "HTTP request sent, awaiting response... 301 Moved Permanently\r\n",
      "Location: https://images/data_3ds_004.jpg [following]\r\n",
      "--2018-01-15 19:01:50--  https://images/data_3ds_004.jpg\r\n",
      "Connecting to images (images)|167.114.148.224|:443... connected.\r\n",
      "WARNING: no certificate subject alternative name matches\r\n",
      "\trequested host name 'images'.\r\n",
      "HTTP request sent, awaiting response... 502 Bad Gateway\r\n",
      "2018-01-15 19:01:50 ERROR 502: Bad Gateway.\r\n",
      "\r\n"
     ]
    },
    {
     "data": {
      "text/plain": [
       "ObjectId('5a5d4dd96d99ba7541d678a6')"
      ]
     },
     "execution_count": 23,
     "metadata": {},
     "output_type": "execute_result"
    },
    {
     "name": "stdout",
     "output_type": "stream",
     "text": [
      "--2018-01-15 19:01:50--  http://images/data_3ds_smashbros.jpg\r\n",
      "Resolving images (images)... 167.114.148.224\r\n",
      "Connecting to images (images)|167.114.148.224|:80... connected.\r\n",
      "HTTP request sent, awaiting response... 301 Moved Permanently\r\n",
      "Location: https://images/data_3ds_smashbros.jpg [following]\r\n",
      "--2018-01-15 19:01:50--  https://images/data_3ds_smashbros.jpg\r\n",
      "Connecting to images (images)|167.114.148.224|:443... connected.\r\n",
      "WARNING: no certificate subject alternative name matches\r\n",
      "\trequested host name 'images'.\r\n",
      "HTTP request sent, awaiting response... 502 Bad Gateway\r\n",
      "2018-01-15 19:01:50 ERROR 502: Bad Gateway.\r\n",
      "\r\n"
     ]
    },
    {
     "data": {
      "text/plain": [
       "ObjectId('5a5d4dd96d99ba7541d678a7')"
      ]
     },
     "execution_count": 23,
     "metadata": {},
     "output_type": "execute_result"
    },
    {
     "name": "stdout",
     "output_type": "stream",
     "text": [
      "--2018-01-15 19:01:50--  http://images/data_3ds_tomodachicollection.jpg\r\n",
      "Resolving images (images)... 167.114.148.224\r\n",
      "Connecting to images (images)|167.114.148.224|:80... connected.\r\n",
      "HTTP request sent, awaiting response... 301 Moved Permanently\r\n",
      "Location: https://images/data_3ds_tomodachicollection.jpg [following]\r\n",
      "--2018-01-15 19:01:50--  https://images/data_3ds_tomodachicollection.jpg\r\n",
      "Connecting to images (images)|167.114.148.224|:443... connected.\r\n",
      "WARNING: no certificate subject alternative name matches\r\n",
      "\trequested host name 'images'.\r\n",
      "HTTP request sent, awaiting response... 502 Bad Gateway\r\n",
      "2018-01-15 19:01:50 ERROR 502: Bad Gateway.\r\n",
      "\r\n"
     ]
    },
    {
     "data": {
      "text/plain": [
       "ObjectId('5a5d4dd96d99ba7541d678a8')"
      ]
     },
     "execution_count": 23,
     "metadata": {},
     "output_type": "execute_result"
    },
    {
     "name": "stdout",
     "output_type": "stream",
     "text": [
      "--2018-01-15 19:01:50--  http://images/data_3ds_009.jpg\r\n",
      "Resolving images (images)... 167.114.148.224\r\n",
      "Connecting to images (images)|167.114.148.224|:80... connected.\r\n",
      "HTTP request sent, awaiting response... 301 Moved Permanently\r\n",
      "Location: https://images/data_3ds_009.jpg [following]\r\n",
      "--2018-01-15 19:01:50--  https://images/data_3ds_009.jpg\r\n",
      "Connecting to images (images)|167.114.148.224|:443... connected.\r\n",
      "WARNING: no certificate subject alternative name matches\r\n",
      "\trequested host name 'images'.\r\n",
      "HTTP request sent, awaiting response... 502 Bad Gateway\r\n",
      "2018-01-15 19:01:50 ERROR 502: Bad Gateway.\r\n",
      "\r\n"
     ]
    },
    {
     "data": {
      "text/plain": [
       "ObjectId('5a5d4dd96d99ba7541d678a9')"
      ]
     },
     "execution_count": 23,
     "metadata": {},
     "output_type": "execute_result"
    },
    {
     "name": "stdout",
     "output_type": "stream",
     "text": [
      "--2018-01-15 19:01:50--  http://images/data_wii_001.jpg\r\n",
      "Resolving images (images)... 167.114.148.224\r\n",
      "Connecting to images (images)|167.114.148.224|:80... connected.\r\n",
      "HTTP request sent, awaiting response... 301 Moved Permanently\r\n",
      "Location: https://images/data_wii_001.jpg [following]\r\n",
      "--2018-01-15 19:01:50--  https://images/data_wii_001.jpg\r\n",
      "Connecting to images (images)|167.114.148.224|:443... connected.\r\n",
      "WARNING: no certificate subject alternative name matches\r\n",
      "\trequested host name 'images'.\r\n",
      "HTTP request sent, awaiting response... 502 Bad Gateway\r\n",
      "2018-01-15 19:01:50 ERROR 502: Bad Gateway.\r\n",
      "\r\n"
     ]
    },
    {
     "data": {
      "text/plain": [
       "ObjectId('5a5d4dd96d99ba7541d678aa')"
      ]
     },
     "execution_count": 23,
     "metadata": {},
     "output_type": "execute_result"
    },
    {
     "name": "stdout",
     "output_type": "stream",
     "text": [
      "--2018-01-15 19:01:51--  http://images/data_wii_002.jpg\r\n",
      "Resolving images (images)... 167.114.148.224\r\n",
      "Connecting to images (images)|167.114.148.224|:80... connected.\r\n",
      "HTTP request sent, awaiting response... 301 Moved Permanently\r\n",
      "Location: https://images/data_wii_002.jpg [following]\r\n",
      "--2018-01-15 19:01:51--  https://images/data_wii_002.jpg\r\n",
      "Connecting to images (images)|167.114.148.224|:443... connected.\r\n",
      "WARNING: no certificate subject alternative name matches\r\n",
      "\trequested host name 'images'.\r\n",
      "HTTP request sent, awaiting response... 502 Bad Gateway\r\n",
      "2018-01-15 19:01:51 ERROR 502: Bad Gateway.\r\n",
      "\r\n"
     ]
    },
    {
     "data": {
      "text/plain": [
       "ObjectId('5a5d4dd96d99ba7541d678ab')"
      ]
     },
     "execution_count": 23,
     "metadata": {},
     "output_type": "execute_result"
    },
    {
     "name": "stdout",
     "output_type": "stream",
     "text": [
      "--2018-01-15 19:01:51--  http://images/data_wii_003.jpg\r\n",
      "Resolving images (images)... 167.114.148.224\r\n",
      "Connecting to images (images)|167.114.148.224|:80... connected.\r\n",
      "HTTP request sent, awaiting response... 301 Moved Permanently\r\n",
      "Location: https://images/data_wii_003.jpg [following]\r\n",
      "--2018-01-15 19:01:51--  https://images/data_wii_003.jpg\r\n",
      "Connecting to images (images)|167.114.148.224|:443... connected.\r\n",
      "WARNING: no certificate subject alternative name matches\r\n",
      "\trequested host name 'images'.\r\n",
      "HTTP request sent, awaiting response... 502 Bad Gateway\r\n",
      "2018-01-15 19:01:51 ERROR 502: Bad Gateway.\r\n",
      "\r\n"
     ]
    },
    {
     "data": {
      "text/plain": [
       "ObjectId('5a5d4dd96d99ba7541d678ac')"
      ]
     },
     "execution_count": 23,
     "metadata": {},
     "output_type": "execute_result"
    },
    {
     "name": "stdout",
     "output_type": "stream",
     "text": [
      "--2018-01-15 19:01:52--  http://images/data_wii_005.jpg\r\n",
      "Resolving images (images)... 167.114.148.224\r\n",
      "Connecting to images (images)|167.114.148.224|:80... connected.\r\n",
      "HTTP request sent, awaiting response... 301 Moved Permanently\r\n",
      "Location: https://images/data_wii_005.jpg [following]\r\n",
      "--2018-01-15 19:01:52--  https://images/data_wii_005.jpg\r\n",
      "Connecting to images (images)|167.114.148.224|:443... connected.\r\n",
      "WARNING: no certificate subject alternative name matches\r\n",
      "\trequested host name 'images'.\r\n",
      "HTTP request sent, awaiting response... 502 Bad Gateway\r\n",
      "2018-01-15 19:01:52 ERROR 502: Bad Gateway.\r\n",
      "\r\n"
     ]
    },
    {
     "data": {
      "text/plain": [
       "ObjectId('5a5d4dd96d99ba7541d678ad')"
      ]
     },
     "execution_count": 23,
     "metadata": {},
     "output_type": "execute_result"
    },
    {
     "name": "stdout",
     "output_type": "stream",
     "text": [
      "--2018-01-15 19:01:52--  http://images/data_wii_004.jpg\r\n",
      "Resolving images (images)... 167.114.148.224\r\n",
      "Connecting to images (images)|167.114.148.224|:80... connected.\r\n",
      "HTTP request sent, awaiting response... 301 Moved Permanently\r\n",
      "Location: https://images/data_wii_004.jpg [following]\r\n",
      "--2018-01-15 19:01:52--  https://images/data_wii_004.jpg\r\n",
      "Connecting to images (images)|167.114.148.224|:443... connected.\r\n",
      "WARNING: no certificate subject alternative name matches\r\n",
      "\trequested host name 'images'.\r\n",
      "HTTP request sent, awaiting response... 502 Bad Gateway\r\n",
      "2018-01-15 19:01:52 ERROR 502: Bad Gateway.\r\n",
      "\r\n"
     ]
    },
    {
     "data": {
      "text/plain": [
       "ObjectId('5a5d4dd96d99ba7541d678ae')"
      ]
     },
     "execution_count": 23,
     "metadata": {},
     "output_type": "execute_result"
    },
    {
     "name": "stdout",
     "output_type": "stream",
     "text": [
      "--2018-01-15 19:01:52--  http://images/data_wii_006.jpg\r\n",
      "Resolving images (images)... 167.114.148.224\r\n",
      "Connecting to images (images)|167.114.148.224|:80... connected.\r\n",
      "HTTP request sent, awaiting response... 301 Moved Permanently\r\n",
      "Location: https://images/data_wii_006.jpg [following]\r\n",
      "--2018-01-15 19:01:52--  https://images/data_wii_006.jpg\r\n",
      "Connecting to images (images)|167.114.148.224|:443... connected.\r\n",
      "WARNING: no certificate subject alternative name matches\r\n",
      "\trequested host name 'images'.\r\n",
      "HTTP request sent, awaiting response... 502 Bad Gateway\r\n",
      "2018-01-15 19:01:52 ERROR 502: Bad Gateway.\r\n",
      "\r\n"
     ]
    },
    {
     "data": {
      "text/plain": [
       "ObjectId('5a5d4dd96d99ba7541d678af')"
      ]
     },
     "execution_count": 23,
     "metadata": {},
     "output_type": "execute_result"
    },
    {
     "name": "stdout",
     "output_type": "stream",
     "text": [
      "--2018-01-15 19:01:52--  http://images/data_wii_007.jpg\r\n",
      "Resolving images (images)... 167.114.148.224\r\n",
      "Connecting to images (images)|167.114.148.224|:80... connected.\r\n",
      "HTTP request sent, awaiting response... 301 Moved Permanently\r\n",
      "Location: https://images/data_wii_007.jpg [following]\r\n",
      "--2018-01-15 19:01:52--  https://images/data_wii_007.jpg\r\n",
      "Connecting to images (images)|167.114.148.224|:443... connected.\r\n",
      "WARNING: no certificate subject alternative name matches\r\n",
      "\trequested host name 'images'.\r\n",
      "HTTP request sent, awaiting response... 502 Bad Gateway\r\n",
      "2018-01-15 19:01:52 ERROR 502: Bad Gateway.\r\n",
      "\r\n"
     ]
    },
    {
     "data": {
      "text/plain": [
       "ObjectId('5a5d4dd96d99ba7541d678b0')"
      ]
     },
     "execution_count": 23,
     "metadata": {},
     "output_type": "execute_result"
    },
    {
     "name": "stdout",
     "output_type": "stream",
     "text": [
      "--2018-01-15 19:01:53--  http://images/data_wii_009.jpg\r\n",
      "Resolving images (images)... 167.114.148.224\r\n",
      "Connecting to images (images)|167.114.148.224|:80... connected.\r\n",
      "HTTP request sent, awaiting response... 301 Moved Permanently\r\n",
      "Location: https://images/data_wii_009.jpg [following]\r\n",
      "--2018-01-15 19:01:53--  https://images/data_wii_009.jpg\r\n",
      "Connecting to images (images)|167.114.148.224|:443... connected.\r\n",
      "WARNING: no certificate subject alternative name matches\r\n",
      "\trequested host name 'images'.\r\n",
      "HTTP request sent, awaiting response... 502 Bad Gateway\r\n",
      "2018-01-15 19:01:53 ERROR 502: Bad Gateway.\r\n",
      "\r\n"
     ]
    },
    {
     "data": {
      "text/plain": [
       "ObjectId('5a5d4dd96d99ba7541d678b1')"
      ]
     },
     "execution_count": 23,
     "metadata": {},
     "output_type": "execute_result"
    },
    {
     "name": "stdout",
     "output_type": "stream",
     "text": [
      "--2018-01-15 19:01:53--  http://images/data_wii_008.jpg\r\n",
      "Resolving images (images)... 167.114.148.224\r\n",
      "Connecting to images (images)|167.114.148.224|:80... connected.\r\n",
      "HTTP request sent, awaiting response... 301 Moved Permanently\r\n",
      "Location: https://images/data_wii_008.jpg [following]\r\n",
      "--2018-01-15 19:01:53--  https://images/data_wii_008.jpg\r\n",
      "Connecting to images (images)|167.114.148.224|:443... connected.\r\n",
      "WARNING: no certificate subject alternative name matches\r\n",
      "\trequested host name 'images'.\r\n",
      "HTTP request sent, awaiting response... 502 Bad Gateway\r\n",
      "2018-01-15 19:01:53 ERROR 502: Bad Gateway.\r\n",
      "\r\n"
     ]
    },
    {
     "data": {
      "text/plain": [
       "ObjectId('5a5d4dd96d99ba7541d678b2')"
      ]
     },
     "execution_count": 23,
     "metadata": {},
     "output_type": "execute_result"
    },
    {
     "name": "stdout",
     "output_type": "stream",
     "text": [
      "--2018-01-15 19:01:53--  http://images/data_wii_wiiparty.jpg\r\n",
      "Resolving images (images)... 167.114.148.224\r\n",
      "Connecting to images (images)|167.114.148.224|:80... connected.\r\n",
      "HTTP request sent, awaiting response... 301 Moved Permanently\r\n",
      "Location: https://images/data_wii_wiiparty.jpg [following]\r\n",
      "--2018-01-15 19:01:53--  https://images/data_wii_wiiparty.jpg\r\n",
      "Connecting to images (images)|167.114.148.224|:443... connected.\r\n",
      "WARNING: no certificate subject alternative name matches\r\n",
      "\trequested host name 'images'.\r\n",
      "HTTP request sent, awaiting response... 502 Bad Gateway\r\n",
      "2018-01-15 19:01:53 ERROR 502: Bad Gateway.\r\n",
      "\r\n"
     ]
    },
    {
     "data": {
      "text/plain": [
       "ObjectId('5a5d4dd96d99ba7541d678b3')"
      ]
     },
     "execution_count": 23,
     "metadata": {},
     "output_type": "execute_result"
    },
    {
     "name": "stdout",
     "output_type": "stream",
     "text": [
      "--2018-01-15 19:01:53--  http://images/data_ds_001.jpg\r\n",
      "Resolving images (images)... 167.114.148.224\r\n",
      "Connecting to images (images)|167.114.148.224|:80... connected.\r\n",
      "HTTP request sent, awaiting response... 301 Moved Permanently\r\n",
      "Location: https://images/data_ds_001.jpg [following]\r\n",
      "--2018-01-15 19:01:53--  https://images/data_ds_001.jpg\r\n",
      "Connecting to images (images)|167.114.148.224|:443... connected.\r\n",
      "WARNING: no certificate subject alternative name matches\r\n",
      "\trequested host name 'images'.\r\n",
      "HTTP request sent, awaiting response... 502 Bad Gateway\r\n",
      "2018-01-15 19:01:53 ERROR 502: Bad Gateway.\r\n",
      "\r\n"
     ]
    },
    {
     "data": {
      "text/plain": [
       "ObjectId('5a5d4dd96d99ba7541d678b4')"
      ]
     },
     "execution_count": 23,
     "metadata": {},
     "output_type": "execute_result"
    },
    {
     "name": "stdout",
     "output_type": "stream",
     "text": [
      "--2018-01-15 19:01:53--  http://images/data_ds_003.jpg\r\n",
      "Resolving images (images)... 167.114.148.224\r\n",
      "Connecting to images (images)|167.114.148.224|:80... connected.\r\n",
      "HTTP request sent, awaiting response... 301 Moved Permanently\r\n",
      "Location: https://images/data_ds_003.jpg [following]\r\n",
      "--2018-01-15 19:01:53--  https://images/data_ds_003.jpg\r\n",
      "Connecting to images (images)|167.114.148.224|:443... connected.\r\n",
      "WARNING: no certificate subject alternative name matches\r\n",
      "\trequested host name 'images'.\r\n",
      "HTTP request sent, awaiting response... 502 Bad Gateway\r\n",
      "2018-01-15 19:01:53 ERROR 502: Bad Gateway.\r\n",
      "\r\n"
     ]
    },
    {
     "data": {
      "text/plain": [
       "ObjectId('5a5d4dd96d99ba7541d678b5')"
      ]
     },
     "execution_count": 23,
     "metadata": {},
     "output_type": "execute_result"
    },
    {
     "name": "stdout",
     "output_type": "stream",
     "text": [
      "--2018-01-15 19:01:54--  http://images/data_ds_002.jpg\r\n",
      "Resolving images (images)... 167.114.148.224\r\n",
      "Connecting to images (images)|167.114.148.224|:80... connected.\r\n",
      "HTTP request sent, awaiting response... 301 Moved Permanently\r\n",
      "Location: https://images/data_ds_002.jpg [following]\r\n",
      "--2018-01-15 19:01:54--  https://images/data_ds_002.jpg\r\n",
      "Connecting to images (images)|167.114.148.224|:443... connected.\r\n",
      "WARNING: no certificate subject alternative name matches\r\n",
      "\trequested host name 'images'.\r\n",
      "HTTP request sent, awaiting response... 502 Bad Gateway\r\n",
      "2018-01-15 19:01:54 ERROR 502: Bad Gateway.\r\n",
      "\r\n"
     ]
    },
    {
     "data": {
      "text/plain": [
       "ObjectId('5a5d4dd96d99ba7541d678b6')"
      ]
     },
     "execution_count": 23,
     "metadata": {},
     "output_type": "execute_result"
    },
    {
     "name": "stdout",
     "output_type": "stream",
     "text": [
      "--2018-01-15 19:01:54--  http://images/data_ds_004.jpg\r\n",
      "Resolving images (images)... 167.114.148.224\r\n",
      "Connecting to images (images)|167.114.148.224|:80... connected.\r\n",
      "HTTP request sent, awaiting response... 301 Moved Permanently\r\n",
      "Location: https://images/data_ds_004.jpg [following]\r\n",
      "--2018-01-15 19:01:54--  https://images/data_ds_004.jpg\r\n",
      "Connecting to images (images)|167.114.148.224|:443... connected.\r\n",
      "WARNING: no certificate subject alternative name matches\r\n",
      "\trequested host name 'images'.\r\n",
      "HTTP request sent, awaiting response... 502 Bad Gateway\r\n",
      "2018-01-15 19:01:54 ERROR 502: Bad Gateway.\r\n",
      "\r\n"
     ]
    },
    {
     "data": {
      "text/plain": [
       "ObjectId('5a5d4dd96d99ba7541d678b7')"
      ]
     },
     "execution_count": 23,
     "metadata": {},
     "output_type": "execute_result"
    },
    {
     "name": "stdout",
     "output_type": "stream",
     "text": [
      "--2018-01-15 19:01:54--  http://images/data_ds_006.jpg\r\n",
      "Resolving images (images)... 167.114.148.224\r\n",
      "Connecting to images (images)|167.114.148.224|:80... connected.\r\n",
      "HTTP request sent, awaiting response... 301 Moved Permanently\r\n",
      "Location: https://images/data_ds_006.jpg [following]\r\n",
      "--2018-01-15 19:01:54--  https://images/data_ds_006.jpg\r\n",
      "Connecting to images (images)|167.114.148.224|:443... connected.\r\n",
      "WARNING: no certificate subject alternative name matches\r\n",
      "\trequested host name 'images'.\r\n",
      "HTTP request sent, awaiting response... 502 Bad Gateway\r\n",
      "2018-01-15 19:01:54 ERROR 502: Bad Gateway.\r\n",
      "\r\n"
     ]
    },
    {
     "data": {
      "text/plain": [
       "ObjectId('5a5d4dd96d99ba7541d678b8')"
      ]
     },
     "execution_count": 23,
     "metadata": {},
     "output_type": "execute_result"
    },
    {
     "name": "stdout",
     "output_type": "stream",
     "text": [
      "--2018-01-15 19:01:54--  http://images/data_ds_007.jpg\r\n",
      "Resolving images (images)... 167.114.148.224\r\n",
      "Connecting to images (images)|167.114.148.224|:80... connected.\r\n",
      "HTTP request sent, awaiting response... 301 Moved Permanently\r\n",
      "Location: https://images/data_ds_007.jpg [following]\r\n",
      "--2018-01-15 19:01:54--  https://images/data_ds_007.jpg\r\n",
      "Connecting to images (images)|167.114.148.224|:443... connected.\r\n",
      "WARNING: no certificate subject alternative name matches\r\n",
      "\trequested host name 'images'.\r\n",
      "HTTP request sent, awaiting response... 502 Bad Gateway\r\n",
      "2018-01-15 19:01:54 ERROR 502: Bad Gateway.\r\n",
      "\r\n"
     ]
    },
    {
     "data": {
      "text/plain": [
       "ObjectId('5a5d4dd96d99ba7541d678b9')"
      ]
     },
     "execution_count": 23,
     "metadata": {},
     "output_type": "execute_result"
    },
    {
     "name": "stdout",
     "output_type": "stream",
     "text": [
      "--2018-01-15 19:01:54--  http://images/data_ds_005.jpg\r\n",
      "Resolving images (images)... 167.114.148.224\r\n",
      "Connecting to images (images)|167.114.148.224|:80... connected.\r\n",
      "HTTP request sent, awaiting response... 301 Moved Permanently\r\n",
      "Location: https://images/data_ds_005.jpg [following]\r\n",
      "--2018-01-15 19:01:54--  https://images/data_ds_005.jpg\r\n",
      "Connecting to images (images)|167.114.148.224|:443... connected.\r\n",
      "WARNING: no certificate subject alternative name matches\r\n",
      "\trequested host name 'images'.\r\n",
      "HTTP request sent, awaiting response... 502 Bad Gateway\r\n",
      "2018-01-15 19:01:54 ERROR 502: Bad Gateway.\r\n",
      "\r\n"
     ]
    },
    {
     "data": {
      "text/plain": [
       "ObjectId('5a5d4dd96d99ba7541d678ba')"
      ]
     },
     "execution_count": 23,
     "metadata": {},
     "output_type": "execute_result"
    },
    {
     "name": "stdout",
     "output_type": "stream",
     "text": [
      "--2018-01-15 19:01:54--  http://images/data_ds_008.jpg\r\n",
      "Resolving images (images)... 167.114.148.224\r\n",
      "Connecting to images (images)|167.114.148.224|:80... connected.\r\n",
      "HTTP request sent, awaiting response... 301 Moved Permanently\r\n",
      "Location: https://images/data_ds_008.jpg [following]\r\n",
      "--2018-01-15 19:01:54--  https://images/data_ds_008.jpg\r\n",
      "Connecting to images (images)|167.114.148.224|:443... connected.\r\n",
      "WARNING: no certificate subject alternative name matches\r\n",
      "\trequested host name 'images'.\r\n",
      "HTTP request sent, awaiting response... 502 Bad Gateway\r\n",
      "2018-01-15 19:01:54 ERROR 502: Bad Gateway.\r\n",
      "\r\n"
     ]
    },
    {
     "data": {
      "text/plain": [
       "ObjectId('5a5d4dd96d99ba7541d678bb')"
      ]
     },
     "execution_count": 23,
     "metadata": {},
     "output_type": "execute_result"
    },
    {
     "name": "stdout",
     "output_type": "stream",
     "text": [
      "--2018-01-15 19:01:55--  http://images/data_ds_010.jpg\r\n",
      "Resolving images (images)... 167.114.148.224\r\n",
      "Connecting to images (images)|167.114.148.224|:80... connected.\r\n",
      "HTTP request sent, awaiting response... 301 Moved Permanently\r\n",
      "Location: https://images/data_ds_010.jpg [following]\r\n",
      "--2018-01-15 19:01:55--  https://images/data_ds_010.jpg\r\n",
      "Connecting to images (images)|167.114.148.224|:443... connected.\r\n",
      "WARNING: no certificate subject alternative name matches\r\n",
      "\trequested host name 'images'.\r\n",
      "HTTP request sent, awaiting response... 502 Bad Gateway\r\n",
      "2018-01-15 19:01:55 ERROR 502: Bad Gateway.\r\n",
      "\r\n"
     ]
    },
    {
     "data": {
      "text/plain": [
       "ObjectId('5a5d4dd96d99ba7541d678bc')"
      ]
     },
     "execution_count": 23,
     "metadata": {},
     "output_type": "execute_result"
    },
    {
     "name": "stdout",
     "output_type": "stream",
     "text": [
      "--2018-01-15 19:01:55--  http://images/data_ds_009.jpg\r\n",
      "Resolving images (images)... 167.114.148.224\r\n",
      "Connecting to images (images)|167.114.148.224|:80... connected.\r\n",
      "HTTP request sent, awaiting response... 301 Moved Permanently\r\n",
      "Location: https://images/data_ds_009.jpg [following]\r\n",
      "--2018-01-15 19:01:55--  https://images/data_ds_009.jpg\r\n",
      "Connecting to images (images)|167.114.148.224|:443... connected.\r\n",
      "WARNING: no certificate subject alternative name matches\r\n",
      "\trequested host name 'images'.\r\n",
      "HTTP request sent, awaiting response... 502 Bad Gateway\r\n",
      "2018-01-15 19:01:55 ERROR 502: Bad Gateway.\r\n",
      "\r\n"
     ]
    },
    {
     "data": {
      "text/plain": [
       "ObjectId('5a5d4dd96d99ba7541d678bd')"
      ]
     },
     "execution_count": 23,
     "metadata": {},
     "output_type": "execute_result"
    },
    {
     "name": "stdout",
     "output_type": "stream",
     "text": [
      "--2018-01-15 19:01:55--  http://images/data_switch_001.png\r\n",
      "Resolving images (images)... 167.114.148.224\r\n",
      "Connecting to images (images)|167.114.148.224|:80... connected.\r\n",
      "HTTP request sent, awaiting response... 301 Moved Permanently\r\n",
      "Location: https://images/data_switch_001.png [following]\r\n",
      "--2018-01-15 19:01:55--  https://images/data_switch_001.png\r\n",
      "Connecting to images (images)|167.114.148.224|:443... connected.\r\n",
      "WARNING: no certificate subject alternative name matches\r\n",
      "\trequested host name 'images'.\r\n",
      "HTTP request sent, awaiting response... 502 Bad Gateway\r\n",
      "2018-01-15 19:01:55 ERROR 502: Bad Gateway.\r\n",
      "\r\n"
     ]
    },
    {
     "data": {
      "text/plain": [
       "ObjectId('5a5d4dd96d99ba7541d678be')"
      ]
     },
     "execution_count": 23,
     "metadata": {},
     "output_type": "execute_result"
    },
    {
     "name": "stdout",
     "output_type": "stream",
     "text": [
      "--2018-01-15 19:01:55--  http://images/data_switch_002.png\r\n",
      "Resolving images (images)... 167.114.148.224\r\n",
      "Connecting to images (images)|167.114.148.224|:80... connected.\r\n",
      "HTTP request sent, awaiting response... 301 Moved Permanently\r\n",
      "Location: https://images/data_switch_002.png [following]\r\n",
      "--2018-01-15 19:01:55--  https://images/data_switch_002.png\r\n",
      "Connecting to images (images)|167.114.148.224|:443... connected.\r\n",
      "WARNING: no certificate subject alternative name matches\r\n",
      "\trequested host name 'images'.\r\n",
      "HTTP request sent, awaiting response... 502 Bad Gateway\r\n",
      "2018-01-15 19:01:55 ERROR 502: Bad Gateway.\r\n",
      "\r\n"
     ]
    },
    {
     "data": {
      "text/plain": [
       "ObjectId('5a5d4dd96d99ba7541d678bf')"
      ]
     },
     "execution_count": 23,
     "metadata": {},
     "output_type": "execute_result"
    },
    {
     "name": "stdout",
     "output_type": "stream",
     "text": [
      "--2018-01-15 19:01:55--  http://images/data_switch_005.png\r\n",
      "Resolving images (images)... 167.114.148.224\r\n",
      "Connecting to images (images)|167.114.148.224|:80... connected.\r\n",
      "HTTP request sent, awaiting response... 301 Moved Permanently\r\n",
      "Location: https://images/data_switch_005.png [following]\r\n",
      "--2018-01-15 19:01:55--  https://images/data_switch_005.png\r\n",
      "Connecting to images (images)|167.114.148.224|:443... connected.\r\n",
      "WARNING: no certificate subject alternative name matches\r\n",
      "\trequested host name 'images'.\r\n",
      "HTTP request sent, awaiting response... 502 Bad Gateway\r\n",
      "2018-01-15 19:01:55 ERROR 502: Bad Gateway.\r\n",
      "\r\n"
     ]
    },
    {
     "data": {
      "text/plain": [
       "ObjectId('5a5d4dd96d99ba7541d678c0')"
      ]
     },
     "execution_count": 23,
     "metadata": {},
     "output_type": "execute_result"
    },
    {
     "name": "stdout",
     "output_type": "stream",
     "text": [
      "--2018-01-15 19:01:55--  http://images/data_switch_003.png\r\n",
      "Resolving images (images)... 167.114.148.224\r\n",
      "Connecting to images (images)|167.114.148.224|:80... connected.\r\n",
      "HTTP request sent, awaiting response... 301 Moved Permanently\r\n",
      "Location: https://images/data_switch_003.png [following]\r\n",
      "--2018-01-15 19:01:55--  https://images/data_switch_003.png\r\n",
      "Connecting to images (images)|167.114.148.224|:443... connected.\r\n",
      "WARNING: no certificate subject alternative name matches\r\n",
      "\trequested host name 'images'.\r\n",
      "HTTP request sent, awaiting response... 502 Bad Gateway\r\n",
      "2018-01-15 19:01:55 ERROR 502: Bad Gateway.\r\n",
      "\r\n"
     ]
    },
    {
     "data": {
      "text/plain": [
       "ObjectId('5a5d4dd96d99ba7541d678c1')"
      ]
     },
     "execution_count": 23,
     "metadata": {},
     "output_type": "execute_result"
    },
    {
     "name": "stdout",
     "output_type": "stream",
     "text": [
      "--2018-01-15 19:01:56--  http://images/data_switch_004.png\r\n",
      "Resolving images (images)... 167.114.148.224\r\n",
      "Connecting to images (images)|167.114.148.224|:80... connected.\r\n",
      "HTTP request sent, awaiting response... 301 Moved Permanently\r\n",
      "Location: https://images/data_switch_004.png [following]\r\n",
      "--2018-01-15 19:01:56--  https://images/data_switch_004.png\r\n",
      "Connecting to images (images)|167.114.148.224|:443... connected.\r\n",
      "WARNING: no certificate subject alternative name matches\r\n",
      "\trequested host name 'images'.\r\n",
      "HTTP request sent, awaiting response... 502 Bad Gateway\r\n",
      "2018-01-15 19:01:56 ERROR 502: Bad Gateway.\r\n",
      "\r\n"
     ]
    },
    {
     "data": {
      "text/plain": [
       "ObjectId('5a5d4dd96d99ba7541d678c2')"
      ]
     },
     "execution_count": 23,
     "metadata": {},
     "output_type": "execute_result"
    },
    {
     "name": "stdout",
     "output_type": "stream",
     "text": [
      "--2018-01-15 19:01:56--  http://images/data_wiiu_mariokart8.png\r\n",
      "Resolving images (images)... 167.114.148.224\r\n",
      "Connecting to images (images)|167.114.148.224|:80... connected.\r\n",
      "HTTP request sent, awaiting response... 301 Moved Permanently\r\n",
      "Location: https://images/data_wiiu_mariokart8.png [following]\r\n",
      "--2018-01-15 19:01:56--  https://images/data_wiiu_mariokart8.png\r\n",
      "Connecting to images (images)|167.114.148.224|:443... connected.\r\n",
      "WARNING: no certificate subject alternative name matches\r\n",
      "\trequested host name 'images'.\r\n",
      "HTTP request sent, awaiting response... 502 Bad Gateway\r\n",
      "2018-01-15 19:01:56 ERROR 502: Bad Gateway.\r\n",
      "\r\n"
     ]
    },
    {
     "data": {
      "text/plain": [
       "ObjectId('5a5d4dd96d99ba7541d678c3')"
      ]
     },
     "execution_count": 23,
     "metadata": {},
     "output_type": "execute_result"
    },
    {
     "name": "stdout",
     "output_type": "stream",
     "text": [
      "--2018-01-15 19:01:56--  http://images/data_wiiu_newmariou.png\r\n",
      "Resolving images (images)... 167.114.148.224\r\n",
      "Connecting to images (images)|167.114.148.224|:80... connected.\r\n",
      "HTTP request sent, awaiting response... 301 Moved Permanently\r\n",
      "Location: https://images/data_wiiu_newmariou.png [following]\r\n",
      "--2018-01-15 19:01:56--  https://images/data_wiiu_newmariou.png\r\n",
      "Connecting to images (images)|167.114.148.224|:443... connected.\r\n",
      "WARNING: no certificate subject alternative name matches\r\n",
      "\trequested host name 'images'.\r\n",
      "HTTP request sent, awaiting response... 502 Bad Gateway\r\n",
      "2018-01-15 19:01:56 ERROR 502: Bad Gateway.\r\n",
      "\r\n"
     ]
    },
    {
     "data": {
      "text/plain": [
       "ObjectId('5a5d4dd96d99ba7541d678c4')"
      ]
     },
     "execution_count": 23,
     "metadata": {},
     "output_type": "execute_result"
    },
    {
     "name": "stdout",
     "output_type": "stream",
     "text": [
      "--2018-01-15 19:01:56--  http://images/data_wiiu_mario3dworld.png\r\n",
      "Resolving images (images)... 167.114.148.224\r\n",
      "Connecting to images (images)|167.114.148.224|:80... connected.\r\n",
      "HTTP request sent, awaiting response... 301 Moved Permanently\r\n",
      "Location: https://images/data_wiiu_mario3dworld.png [following]\r\n",
      "--2018-01-15 19:01:56--  https://images/data_wiiu_mario3dworld.png\r\n",
      "Connecting to images (images)|167.114.148.224|:443... connected.\r\n",
      "WARNING: no certificate subject alternative name matches\r\n",
      "\trequested host name 'images'.\r\n",
      "HTTP request sent, awaiting response... 502 Bad Gateway\r\n",
      "2018-01-15 19:01:56 ERROR 502: Bad Gateway.\r\n",
      "\r\n"
     ]
    },
    {
     "data": {
      "text/plain": [
       "ObjectId('5a5d4dd96d99ba7541d678c5')"
      ]
     },
     "execution_count": 23,
     "metadata": {},
     "output_type": "execute_result"
    },
    {
     "name": "stdout",
     "output_type": "stream",
     "text": [
      "--2018-01-15 19:01:56--  http://images/data_wiiu_smashbros.png\r\n",
      "Resolving images (images)... 167.114.148.224\r\n",
      "Connecting to images (images)|167.114.148.224|:80... connected.\r\n",
      "HTTP request sent, awaiting response... 301 Moved Permanently\r\n",
      "Location: https://images/data_wiiu_smashbros.png [following]\r\n",
      "--2018-01-15 19:01:57--  https://images/data_wiiu_smashbros.png\r\n",
      "Connecting to images (images)|167.114.148.224|:443... connected.\r\n",
      "WARNING: no certificate subject alternative name matches\r\n",
      "\trequested host name 'images'.\r\n",
      "HTTP request sent, awaiting response... 502 Bad Gateway\r\n",
      "2018-01-15 19:01:57 ERROR 502: Bad Gateway.\r\n",
      "\r\n"
     ]
    },
    {
     "data": {
      "text/plain": [
       "ObjectId('5a5d4dd96d99ba7541d678c6')"
      ]
     },
     "execution_count": 23,
     "metadata": {},
     "output_type": "execute_result"
    },
    {
     "name": "stdout",
     "output_type": "stream",
     "text": [
      "--2018-01-15 19:01:57--  http://images/data_wiiu_nintendoland.png\r\n",
      "Resolving images (images)... 167.114.148.224\r\n",
      "Connecting to images (images)|167.114.148.224|:80... connected.\r\n",
      "HTTP request sent, awaiting response... 301 Moved Permanently\r\n",
      "Location: https://images/data_wiiu_nintendoland.png [following]\r\n",
      "--2018-01-15 19:01:57--  https://images/data_wiiu_nintendoland.png\r\n",
      "Connecting to images (images)|167.114.148.224|:443... connected.\r\n",
      "WARNING: no certificate subject alternative name matches\r\n",
      "\trequested host name 'images'.\r\n",
      "HTTP request sent, awaiting response... 502 Bad Gateway\r\n",
      "2018-01-15 19:01:57 ERROR 502: Bad Gateway.\r\n",
      "\r\n"
     ]
    },
    {
     "data": {
      "text/plain": [
       "ObjectId('5a5d4dd96d99ba7541d678c7')"
      ]
     },
     "execution_count": 23,
     "metadata": {},
     "output_type": "execute_result"
    },
    {
     "name": "stdout",
     "output_type": "stream",
     "text": [
      "--2018-01-15 19:01:57--  http://images/data_wiiu_splatoon.jpg\r\n",
      "Resolving images (images)... 167.114.148.224\r\n",
      "Connecting to images (images)|167.114.148.224|:80... connected.\r\n",
      "HTTP request sent, awaiting response... 301 Moved Permanently\r\n",
      "Location: https://images/data_wiiu_splatoon.jpg [following]\r\n",
      "--2018-01-15 19:01:57--  https://images/data_wiiu_splatoon.jpg\r\n",
      "Connecting to images (images)|167.114.148.224|:443... connected.\r\n",
      "WARNING: no certificate subject alternative name matches\r\n",
      "\trequested host name 'images'.\r\n",
      "HTTP request sent, awaiting response... 502 Bad Gateway\r\n",
      "2018-01-15 19:01:57 ERROR 502: Bad Gateway.\r\n",
      "\r\n"
     ]
    },
    {
     "data": {
      "text/plain": [
       "ObjectId('5a5d4dd96d99ba7541d678c8')"
      ]
     },
     "execution_count": 23,
     "metadata": {},
     "output_type": "execute_result"
    },
    {
     "name": "stdout",
     "output_type": "stream",
     "text": [
      "--2018-01-15 19:01:57--  http://images/data_wiiu_supermariomaker.png\r\n",
      "Resolving images (images)... 167.114.148.224\r\n",
      "Connecting to images (images)|167.114.148.224|:80... connected.\r\n",
      "HTTP request sent, awaiting response... 301 Moved Permanently\r\n",
      "Location: https://images/data_wiiu_supermariomaker.png [following]\r\n",
      "--2018-01-15 19:01:57--  https://images/data_wiiu_supermariomaker.png\r\n",
      "Connecting to images (images)|167.114.148.224|:443... connected.\r\n",
      "WARNING: no certificate subject alternative name matches\r\n",
      "\trequested host name 'images'.\r\n",
      "HTTP request sent, awaiting response... 502 Bad Gateway\r\n",
      "2018-01-15 19:01:57 ERROR 502: Bad Gateway.\r\n",
      "\r\n"
     ]
    },
    {
     "data": {
      "text/plain": [
       "ObjectId('5a5d4dd96d99ba7541d678c9')"
      ]
     },
     "execution_count": 23,
     "metadata": {},
     "output_type": "execute_result"
    },
    {
     "name": "stdout",
     "output_type": "stream",
     "text": [
      "--2018-01-15 19:01:58--  http://images/data_wiiu_newsuperluigiu.png\r\n",
      "Resolving images (images)... 167.114.148.224\r\n",
      "Connecting to images (images)|167.114.148.224|:80... connected.\r\n",
      "HTTP request sent, awaiting response... 301 Moved Permanently\r\n",
      "Location: https://images/data_wiiu_newsuperluigiu.png [following]\r\n",
      "--2018-01-15 19:01:58--  https://images/data_wiiu_newsuperluigiu.png\r\n",
      "Connecting to images (images)|167.114.148.224|:443... connected.\r\n",
      "WARNING: no certificate subject alternative name matches\r\n",
      "\trequested host name 'images'.\r\n",
      "HTTP request sent, awaiting response... 502 Bad Gateway\r\n",
      "2018-01-15 19:01:58 ERROR 502: Bad Gateway.\r\n",
      "\r\n"
     ]
    },
    {
     "data": {
      "text/plain": [
       "ObjectId('5a5d4dd96d99ba7541d678ca')"
      ]
     },
     "execution_count": 23,
     "metadata": {},
     "output_type": "execute_result"
    },
    {
     "name": "stdout",
     "output_type": "stream",
     "text": [
      "--2018-01-15 19:01:58--  http://images/data_wiiu_zeldahd.png\r\n",
      "Resolving images (images)... 167.114.148.224\r\n",
      "Connecting to images (images)|167.114.148.224|:80... connected.\r\n",
      "HTTP request sent, awaiting response... 301 Moved Permanently\r\n",
      "Location: https://images/data_wiiu_zeldahd.png [following]\r\n",
      "--2018-01-15 19:01:58--  https://images/data_wiiu_zeldahd.png\r\n",
      "Connecting to images (images)|167.114.148.224|:443... connected.\r\n",
      "WARNING: no certificate subject alternative name matches\r\n",
      "\trequested host name 'images'.\r\n",
      "HTTP request sent, awaiting response... 502 Bad Gateway\r\n",
      "2018-01-15 19:01:58 ERROR 502: Bad Gateway.\r\n",
      "\r\n"
     ]
    },
    {
     "data": {
      "text/plain": [
       "ObjectId('5a5d4dd96d99ba7541d678cb')"
      ]
     },
     "execution_count": 23,
     "metadata": {},
     "output_type": "execute_result"
    },
    {
     "name": "stdout",
     "output_type": "stream",
     "text": [
      "--2018-01-15 19:01:58--  http://images/data_wiiu_marioparty10.jpg\r\n",
      "Resolving images (images)... 167.114.148.224\r\n",
      "Connecting to images (images)|167.114.148.224|:80... connected.\r\n",
      "HTTP request sent, awaiting response... 301 Moved Permanently\r\n",
      "Location: https://images/data_wiiu_marioparty10.jpg [following]\r\n",
      "--2018-01-15 19:01:58--  https://images/data_wiiu_marioparty10.jpg\r\n",
      "Connecting to images (images)|167.114.148.224|:443... connected.\r\n",
      "WARNING: no certificate subject alternative name matches\r\n",
      "\trequested host name 'images'.\r\n",
      "HTTP request sent, awaiting response... 502 Bad Gateway\r\n",
      "2018-01-15 19:01:58 ERROR 502: Bad Gateway.\r\n",
      "\r\n"
     ]
    },
    {
     "data": {
      "text/plain": [
       "ObjectId('5a5d4dd96d99ba7541d678cc')"
      ]
     },
     "execution_count": 23,
     "metadata": {},
     "output_type": "execute_result"
    },
    {
     "name": "stdout",
     "output_type": "stream",
     "text": [
      "--2018-01-15 19:01:59--  http://images/data_ds_001.jpg\r\n",
      "Resolving images (images)... 167.114.148.224\r\n",
      "Connecting to images (images)|167.114.148.224|:80... connected.\r\n",
      "HTTP request sent, awaiting response... 301 Moved Permanently\r\n",
      "Location: https://images/data_ds_001.jpg [following]\r\n",
      "--2018-01-15 19:01:59--  https://images/data_ds_001.jpg\r\n",
      "Connecting to images (images)|167.114.148.224|:443... connected.\r\n",
      "WARNING: no certificate subject alternative name matches\r\n",
      "\trequested host name 'images'.\r\n",
      "HTTP request sent, awaiting response... 502 Bad Gateway\r\n",
      "2018-01-15 19:01:59 ERROR 502: Bad Gateway.\r\n",
      "\r\n"
     ]
    },
    {
     "data": {
      "text/plain": [
       "ObjectId('5a5d4dd96d99ba7541d678cd')"
      ]
     },
     "execution_count": 23,
     "metadata": {},
     "output_type": "execute_result"
    },
    {
     "name": "stdout",
     "output_type": "stream",
     "text": [
      "--2018-01-15 19:01:59--  http://images/data_ds_003.jpg\r\n",
      "Resolving images (images)... 167.114.148.224\r\n",
      "Connecting to images (images)|167.114.148.224|:80... connected.\r\n",
      "HTTP request sent, awaiting response... 301 Moved Permanently\r\n",
      "Location: https://images/data_ds_003.jpg [following]\r\n",
      "--2018-01-15 19:01:59--  https://images/data_ds_003.jpg\r\n",
      "Connecting to images (images)|167.114.148.224|:443... connected.\r\n",
      "WARNING: no certificate subject alternative name matches\r\n",
      "\trequested host name 'images'.\r\n",
      "HTTP request sent, awaiting response... 502 Bad Gateway\r\n",
      "2018-01-15 19:01:59 ERROR 502: Bad Gateway.\r\n",
      "\r\n"
     ]
    },
    {
     "data": {
      "text/plain": [
       "ObjectId('5a5d4dd96d99ba7541d678ce')"
      ]
     },
     "execution_count": 23,
     "metadata": {},
     "output_type": "execute_result"
    },
    {
     "name": "stdout",
     "output_type": "stream",
     "text": [
      "--2018-01-15 19:01:59--  http://images/data_ds_002.jpg\r\n",
      "Resolving images (images)... 167.114.148.224\r\n",
      "Connecting to images (images)|167.114.148.224|:80... connected.\r\n",
      "HTTP request sent, awaiting response... 301 Moved Permanently\r\n",
      "Location: https://images/data_ds_002.jpg [following]\r\n",
      "--2018-01-15 19:01:59--  https://images/data_ds_002.jpg\r\n",
      "Connecting to images (images)|167.114.148.224|:443... connected.\r\n",
      "WARNING: no certificate subject alternative name matches\r\n",
      "\trequested host name 'images'.\r\n",
      "HTTP request sent, awaiting response... 502 Bad Gateway\r\n",
      "2018-01-15 19:01:59 ERROR 502: Bad Gateway.\r\n",
      "\r\n"
     ]
    },
    {
     "data": {
      "text/plain": [
       "ObjectId('5a5d4dd96d99ba7541d678cf')"
      ]
     },
     "execution_count": 23,
     "metadata": {},
     "output_type": "execute_result"
    },
    {
     "name": "stdout",
     "output_type": "stream",
     "text": [
      "--2018-01-15 19:01:59--  http://images/data_ds_004.jpg\r\n",
      "Resolving images (images)... 167.114.148.224\r\n",
      "Connecting to images (images)|167.114.148.224|:80... connected.\r\n",
      "HTTP request sent, awaiting response... 301 Moved Permanently\r\n",
      "Location: https://images/data_ds_004.jpg [following]\r\n",
      "--2018-01-15 19:01:59--  https://images/data_ds_004.jpg\r\n",
      "Connecting to images (images)|167.114.148.224|:443... connected.\r\n",
      "WARNING: no certificate subject alternative name matches\r\n",
      "\trequested host name 'images'.\r\n",
      "HTTP request sent, awaiting response... 502 Bad Gateway\r\n",
      "2018-01-15 19:01:59 ERROR 502: Bad Gateway.\r\n",
      "\r\n"
     ]
    },
    {
     "data": {
      "text/plain": [
       "ObjectId('5a5d4dd96d99ba7541d678d0')"
      ]
     },
     "execution_count": 23,
     "metadata": {},
     "output_type": "execute_result"
    },
    {
     "name": "stdout",
     "output_type": "stream",
     "text": [
      "--2018-01-15 19:02:00--  http://images/data_ds_006.jpg\r\n",
      "Resolving images (images)... 167.114.148.224\r\n",
      "Connecting to images (images)|167.114.148.224|:80... connected.\r\n",
      "HTTP request sent, awaiting response... 301 Moved Permanently\r\n",
      "Location: https://images/data_ds_006.jpg [following]\r\n",
      "--2018-01-15 19:02:00--  https://images/data_ds_006.jpg\r\n",
      "Connecting to images (images)|167.114.148.224|:443... connected.\r\n",
      "WARNING: no certificate subject alternative name matches\r\n",
      "\trequested host name 'images'.\r\n",
      "HTTP request sent, awaiting response... 502 Bad Gateway\r\n",
      "2018-01-15 19:02:00 ERROR 502: Bad Gateway.\r\n",
      "\r\n"
     ]
    },
    {
     "data": {
      "text/plain": [
       "ObjectId('5a5d4dd96d99ba7541d678d1')"
      ]
     },
     "execution_count": 23,
     "metadata": {},
     "output_type": "execute_result"
    },
    {
     "name": "stdout",
     "output_type": "stream",
     "text": [
      "--2018-01-15 19:02:00--  http://images/data_ds_007.jpg\r\n",
      "Resolving images (images)... 167.114.148.224\r\n",
      "Connecting to images (images)|167.114.148.224|:80... connected.\r\n",
      "HTTP request sent, awaiting response... 301 Moved Permanently\r\n",
      "Location: https://images/data_ds_007.jpg [following]\r\n",
      "--2018-01-15 19:02:00--  https://images/data_ds_007.jpg\r\n",
      "Connecting to images (images)|167.114.148.224|:443... connected.\r\n",
      "WARNING: no certificate subject alternative name matches\r\n",
      "\trequested host name 'images'.\r\n",
      "HTTP request sent, awaiting response... 502 Bad Gateway\r\n",
      "2018-01-15 19:02:00 ERROR 502: Bad Gateway.\r\n",
      "\r\n"
     ]
    },
    {
     "data": {
      "text/plain": [
       "ObjectId('5a5d4dd96d99ba7541d678d2')"
      ]
     },
     "execution_count": 23,
     "metadata": {},
     "output_type": "execute_result"
    },
    {
     "name": "stdout",
     "output_type": "stream",
     "text": [
      "--2018-01-15 19:02:00--  http://images/data_ds_005.jpg\r\n",
      "Resolving images (images)... 167.114.148.224\r\n",
      "Connecting to images (images)|167.114.148.224|:80... connected.\r\n",
      "HTTP request sent, awaiting response... 301 Moved Permanently\r\n",
      "Location: https://images/data_ds_005.jpg [following]\r\n",
      "--2018-01-15 19:02:00--  https://images/data_ds_005.jpg\r\n",
      "Connecting to images (images)|167.114.148.224|:443... connected.\r\n",
      "WARNING: no certificate subject alternative name matches\r\n",
      "\trequested host name 'images'.\r\n",
      "HTTP request sent, awaiting response... 502 Bad Gateway\r\n",
      "2018-01-15 19:02:00 ERROR 502: Bad Gateway.\r\n",
      "\r\n"
     ]
    },
    {
     "data": {
      "text/plain": [
       "ObjectId('5a5d4dd96d99ba7541d678d3')"
      ]
     },
     "execution_count": 23,
     "metadata": {},
     "output_type": "execute_result"
    },
    {
     "name": "stdout",
     "output_type": "stream",
     "text": [
      "--2018-01-15 19:02:00--  http://images/data_ds_008.jpg\r\n",
      "Resolving images (images)... 167.114.148.224\r\n",
      "Connecting to images (images)|167.114.148.224|:80... connected.\r\n",
      "HTTP request sent, awaiting response... 301 Moved Permanently\r\n",
      "Location: https://images/data_ds_008.jpg [following]\r\n",
      "--2018-01-15 19:02:00--  https://images/data_ds_008.jpg\r\n",
      "Connecting to images (images)|167.114.148.224|:443... connected.\r\n",
      "WARNING: no certificate subject alternative name matches\r\n",
      "\trequested host name 'images'.\r\n",
      "HTTP request sent, awaiting response... 502 Bad Gateway\r\n",
      "2018-01-15 19:02:00 ERROR 502: Bad Gateway.\r\n",
      "\r\n"
     ]
    },
    {
     "data": {
      "text/plain": [
       "ObjectId('5a5d4dd96d99ba7541d678d4')"
      ]
     },
     "execution_count": 23,
     "metadata": {},
     "output_type": "execute_result"
    },
    {
     "name": "stdout",
     "output_type": "stream",
     "text": [
      "--2018-01-15 19:02:00--  http://images/data_ds_010.jpg\r\n",
      "Resolving images (images)... 167.114.148.224\r\n",
      "Connecting to images (images)|167.114.148.224|:80... connected.\r\n",
      "HTTP request sent, awaiting response... 301 Moved Permanently\r\n",
      "Location: https://images/data_ds_010.jpg [following]\r\n",
      "--2018-01-15 19:02:00--  https://images/data_ds_010.jpg\r\n",
      "Connecting to images (images)|167.114.148.224|:443... connected.\r\n",
      "WARNING: no certificate subject alternative name matches\r\n",
      "\trequested host name 'images'.\r\n",
      "HTTP request sent, awaiting response... 502 Bad Gateway\r\n",
      "2018-01-15 19:02:00 ERROR 502: Bad Gateway.\r\n",
      "\r\n"
     ]
    },
    {
     "data": {
      "text/plain": [
       "ObjectId('5a5d4dd96d99ba7541d678d5')"
      ]
     },
     "execution_count": 23,
     "metadata": {},
     "output_type": "execute_result"
    },
    {
     "name": "stdout",
     "output_type": "stream",
     "text": [
      "--2018-01-15 19:02:01--  http://images/data_ds_009.jpg\r\n",
      "Resolving images (images)... 167.114.148.224\r\n",
      "Connecting to images (images)|167.114.148.224|:80... connected.\r\n",
      "HTTP request sent, awaiting response... 301 Moved Permanently\r\n",
      "Location: https://images/data_ds_009.jpg [following]\r\n",
      "--2018-01-15 19:02:01--  https://images/data_ds_009.jpg\r\n",
      "Connecting to images (images)|167.114.148.224|:443... connected.\r\n",
      "WARNING: no certificate subject alternative name matches\r\n",
      "\trequested host name 'images'.\r\n",
      "HTTP request sent, awaiting response... 502 Bad Gateway\r\n",
      "2018-01-15 19:02:01 ERROR 502: Bad Gateway.\r\n",
      "\r\n"
     ]
    },
    {
     "data": {
      "text/plain": [
       "ObjectId('5a5d4dd96d99ba7541d678d6')"
      ]
     },
     "execution_count": 23,
     "metadata": {},
     "output_type": "execute_result"
    },
    {
     "name": "stdout",
     "output_type": "stream",
     "text": [
      "--2018-01-15 19:02:01--  http://images/data_3ds_pokemonxy.jpg\r\n",
      "Resolving images (images)... 167.114.148.224\r\n",
      "Connecting to images (images)|167.114.148.224|:80... connected.\r\n",
      "HTTP request sent, awaiting response... 301 Moved Permanently\r\n",
      "Location: https://images/data_3ds_pokemonxy.jpg [following]\r\n",
      "--2018-01-15 19:02:01--  https://images/data_3ds_pokemonxy.jpg\r\n",
      "Connecting to images (images)|167.114.148.224|:443... connected.\r\n",
      "WARNING: no certificate subject alternative name matches\r\n",
      "\trequested host name 'images'.\r\n",
      "HTTP request sent, awaiting response... 502 Bad Gateway\r\n",
      "2018-01-15 19:02:01 ERROR 502: Bad Gateway.\r\n",
      "\r\n"
     ]
    },
    {
     "data": {
      "text/plain": [
       "ObjectId('5a5d4dd96d99ba7541d678d7')"
      ]
     },
     "execution_count": 23,
     "metadata": {},
     "output_type": "execute_result"
    },
    {
     "name": "stdout",
     "output_type": "stream",
     "text": [
      "--2018-01-15 19:02:01--  http://images/data_3ds_002.jpg\r\n",
      "Resolving images (images)... 167.114.148.224\r\n",
      "Connecting to images (images)|167.114.148.224|:80... connected.\r\n",
      "HTTP request sent, awaiting response... 301 Moved Permanently\r\n",
      "Location: https://images/data_3ds_002.jpg [following]\r\n",
      "--2018-01-15 19:02:01--  https://images/data_3ds_002.jpg\r\n",
      "Connecting to images (images)|167.114.148.224|:443... connected.\r\n",
      "WARNING: no certificate subject alternative name matches\r\n",
      "\trequested host name 'images'.\r\n",
      "HTTP request sent, awaiting response... 502 Bad Gateway\r\n",
      "2018-01-15 19:02:01 ERROR 502: Bad Gateway.\r\n",
      "\r\n"
     ]
    },
    {
     "data": {
      "text/plain": [
       "ObjectId('5a5d4dd96d99ba7541d678d8')"
      ]
     },
     "execution_count": 23,
     "metadata": {},
     "output_type": "execute_result"
    },
    {
     "name": "stdout",
     "output_type": "stream",
     "text": [
      "--2018-01-15 19:02:01--  http://images/data_3ds_pokemonsunmoon.jpg\r\n",
      "Resolving images (images)... 167.114.148.224\r\n",
      "Connecting to images (images)|167.114.148.224|:80... connected.\r\n",
      "HTTP request sent, awaiting response... 301 Moved Permanently\r\n",
      "Location: https://images/data_3ds_pokemonsunmoon.jpg [following]\r\n",
      "--2018-01-15 19:02:01--  https://images/data_3ds_pokemonsunmoon.jpg\r\n",
      "Connecting to images (images)|167.114.148.224|:443... connected.\r\n",
      "WARNING: no certificate subject alternative name matches\r\n",
      "\trequested host name 'images'.\r\n",
      "HTTP request sent, awaiting response... 502 Bad Gateway\r\n",
      "2018-01-15 19:02:01 ERROR 502: Bad Gateway.\r\n",
      "\r\n"
     ]
    },
    {
     "data": {
      "text/plain": [
       "ObjectId('5a5d4dd96d99ba7541d678d9')"
      ]
     },
     "execution_count": 23,
     "metadata": {},
     "output_type": "execute_result"
    },
    {
     "name": "stdout",
     "output_type": "stream",
     "text": [
      "--2018-01-15 19:02:01--  http://images/data_3ds_pokemonoras.jpg\r\n",
      "Resolving images (images)... 167.114.148.224\r\n",
      "Connecting to images (images)|167.114.148.224|:80... connected.\r\n",
      "HTTP request sent, awaiting response... 301 Moved Permanently\r\n",
      "Location: https://images/data_3ds_pokemonoras.jpg [following]\r\n",
      "--2018-01-15 19:02:01--  https://images/data_3ds_pokemonoras.jpg\r\n",
      "Connecting to images (images)|167.114.148.224|:443... connected.\r\n",
      "WARNING: no certificate subject alternative name matches\r\n",
      "\trequested host name 'images'.\r\n",
      "HTTP request sent, awaiting response... 502 Bad Gateway\r\n",
      "2018-01-15 19:02:01 ERROR 502: Bad Gateway.\r\n",
      "\r\n"
     ]
    },
    {
     "data": {
      "text/plain": [
       "ObjectId('5a5d4dd96d99ba7541d678da')"
      ]
     },
     "execution_count": 23,
     "metadata": {},
     "output_type": "execute_result"
    },
    {
     "name": "stdout",
     "output_type": "stream",
     "text": [
      "--2018-01-15 19:02:01--  http://images/data_3ds_003.jpg\r\n",
      "Resolving images (images)... 167.114.148.224\r\n",
      "Connecting to images (images)|167.114.148.224|:80... connected.\r\n",
      "HTTP request sent, awaiting response... 301 Moved Permanently\r\n",
      "Location: https://images/data_3ds_003.jpg [following]\r\n",
      "--2018-01-15 19:02:01--  https://images/data_3ds_003.jpg\r\n",
      "Connecting to images (images)|167.114.148.224|:443... connected.\r\n",
      "WARNING: no certificate subject alternative name matches\r\n",
      "\trequested host name 'images'.\r\n",
      "HTTP request sent, awaiting response... 502 Bad Gateway\r\n",
      "2018-01-15 19:02:01 ERROR 502: Bad Gateway.\r\n",
      "\r\n"
     ]
    },
    {
     "data": {
      "text/plain": [
       "ObjectId('5a5d4dd96d99ba7541d678db')"
      ]
     },
     "execution_count": 23,
     "metadata": {},
     "output_type": "execute_result"
    },
    {
     "name": "stdout",
     "output_type": "stream",
     "text": [
      "--2018-01-15 19:02:02--  http://images/data_3ds_001.jpg\r\n",
      "Resolving images (images)... 167.114.148.224\r\n",
      "Connecting to images (images)|167.114.148.224|:80... connected.\r\n",
      "HTTP request sent, awaiting response... 301 Moved Permanently\r\n",
      "Location: https://images/data_3ds_001.jpg [following]\r\n",
      "--2018-01-15 19:02:02--  https://images/data_3ds_001.jpg\r\n",
      "Connecting to images (images)|167.114.148.224|:443... connected.\r\n",
      "WARNING: no certificate subject alternative name matches\r\n",
      "\trequested host name 'images'.\r\n",
      "HTTP request sent, awaiting response... 502 Bad Gateway\r\n",
      "2018-01-15 19:02:02 ERROR 502: Bad Gateway.\r\n",
      "\r\n"
     ]
    },
    {
     "data": {
      "text/plain": [
       "ObjectId('5a5d4dd96d99ba7541d678dc')"
      ]
     },
     "execution_count": 23,
     "metadata": {},
     "output_type": "execute_result"
    },
    {
     "name": "stdout",
     "output_type": "stream",
     "text": [
      "--2018-01-15 19:02:02--  http://images/data_3ds_004.jpg\r\n",
      "Resolving images (images)... 167.114.148.224\r\n",
      "Connecting to images (images)|167.114.148.224|:80... connected.\r\n",
      "HTTP request sent, awaiting response... 301 Moved Permanently\r\n",
      "Location: https://images/data_3ds_004.jpg [following]\r\n",
      "--2018-01-15 19:02:02--  https://images/data_3ds_004.jpg\r\n",
      "Connecting to images (images)|167.114.148.224|:443... connected.\r\n",
      "WARNING: no certificate subject alternative name matches\r\n",
      "\trequested host name 'images'.\r\n",
      "HTTP request sent, awaiting response... 502 Bad Gateway\r\n",
      "2018-01-15 19:02:02 ERROR 502: Bad Gateway.\r\n",
      "\r\n"
     ]
    },
    {
     "data": {
      "text/plain": [
       "ObjectId('5a5d4dd96d99ba7541d678dd')"
      ]
     },
     "execution_count": 23,
     "metadata": {},
     "output_type": "execute_result"
    },
    {
     "name": "stdout",
     "output_type": "stream",
     "text": [
      "--2018-01-15 19:02:02--  http://images/data_3ds_smashbros.jpg\r\n",
      "Resolving images (images)... 167.114.148.224\r\n",
      "Connecting to images (images)|167.114.148.224|:80... connected.\r\n",
      "HTTP request sent, awaiting response... 301 Moved Permanently\r\n",
      "Location: https://images/data_3ds_smashbros.jpg [following]\r\n",
      "--2018-01-15 19:02:02--  https://images/data_3ds_smashbros.jpg\r\n",
      "Connecting to images (images)|167.114.148.224|:443... connected.\r\n",
      "WARNING: no certificate subject alternative name matches\r\n",
      "\trequested host name 'images'.\r\n",
      "HTTP request sent, awaiting response... 502 Bad Gateway\r\n",
      "2018-01-15 19:02:02 ERROR 502: Bad Gateway.\r\n",
      "\r\n"
     ]
    },
    {
     "data": {
      "text/plain": [
       "ObjectId('5a5d4dd96d99ba7541d678de')"
      ]
     },
     "execution_count": 23,
     "metadata": {},
     "output_type": "execute_result"
    },
    {
     "name": "stdout",
     "output_type": "stream",
     "text": [
      "--2018-01-15 19:02:02--  http://images/data_3ds_tomodachicollection.jpg\r\n",
      "Resolving images (images)... 167.114.148.224\r\n",
      "Connecting to images (images)|167.114.148.224|:80... connected.\r\n",
      "HTTP request sent, awaiting response... 301 Moved Permanently\r\n",
      "Location: https://images/data_3ds_tomodachicollection.jpg [following]\r\n",
      "--2018-01-15 19:02:02--  https://images/data_3ds_tomodachicollection.jpg\r\n",
      "Connecting to images (images)|167.114.148.224|:443... connected.\r\n",
      "WARNING: no certificate subject alternative name matches\r\n",
      "\trequested host name 'images'.\r\n",
      "HTTP request sent, awaiting response... 502 Bad Gateway\r\n",
      "2018-01-15 19:02:02 ERROR 502: Bad Gateway.\r\n",
      "\r\n"
     ]
    },
    {
     "data": {
      "text/plain": [
       "ObjectId('5a5d4dd96d99ba7541d678df')"
      ]
     },
     "execution_count": 23,
     "metadata": {},
     "output_type": "execute_result"
    },
    {
     "name": "stdout",
     "output_type": "stream",
     "text": [
      "--2018-01-15 19:02:02--  http://images/data_3ds_009.jpg\r\n",
      "Resolving images (images)... 167.114.148.224\r\n",
      "Connecting to images (images)|167.114.148.224|:80... connected.\r\n",
      "HTTP request sent, awaiting response... 301 Moved Permanently\r\n",
      "Location: https://images/data_3ds_009.jpg [following]\r\n",
      "--2018-01-15 19:02:03--  https://images/data_3ds_009.jpg\r\n",
      "Connecting to images (images)|167.114.148.224|:443... connected.\r\n",
      "WARNING: no certificate subject alternative name matches\r\n",
      "\trequested host name 'images'.\r\n",
      "HTTP request sent, awaiting response... 502 Bad Gateway\r\n",
      "2018-01-15 19:02:03 ERROR 502: Bad Gateway.\r\n",
      "\r\n"
     ]
    },
    {
     "data": {
      "text/plain": [
       "ObjectId('5a5d4dd96d99ba7541d678e0')"
      ]
     },
     "execution_count": 23,
     "metadata": {},
     "output_type": "execute_result"
    },
    {
     "name": "stdout",
     "output_type": "stream",
     "text": [
      "--2018-01-15 19:02:03--  http://images/data_wii_001.jpg\r\n",
      "Resolving images (images)... 167.114.148.224\r\n",
      "Connecting to images (images)|167.114.148.224|:80... connected.\r\n",
      "HTTP request sent, awaiting response... 301 Moved Permanently\r\n",
      "Location: https://images/data_wii_001.jpg [following]\r\n",
      "--2018-01-15 19:02:03--  https://images/data_wii_001.jpg\r\n",
      "Connecting to images (images)|167.114.148.224|:443... connected.\r\n",
      "WARNING: no certificate subject alternative name matches\r\n",
      "\trequested host name 'images'.\r\n",
      "HTTP request sent, awaiting response... 502 Bad Gateway\r\n",
      "2018-01-15 19:02:03 ERROR 502: Bad Gateway.\r\n",
      "\r\n"
     ]
    },
    {
     "data": {
      "text/plain": [
       "ObjectId('5a5d4dd96d99ba7541d678e1')"
      ]
     },
     "execution_count": 23,
     "metadata": {},
     "output_type": "execute_result"
    },
    {
     "name": "stdout",
     "output_type": "stream",
     "text": [
      "--2018-01-15 19:02:03--  http://images/data_wii_002.jpg\r\n",
      "Resolving images (images)... 167.114.148.224\r\n",
      "Connecting to images (images)|167.114.148.224|:80... connected.\r\n",
      "HTTP request sent, awaiting response... 301 Moved Permanently\r\n",
      "Location: https://images/data_wii_002.jpg [following]\r\n",
      "--2018-01-15 19:02:03--  https://images/data_wii_002.jpg\r\n",
      "Connecting to images (images)|167.114.148.224|:443... connected.\r\n",
      "WARNING: no certificate subject alternative name matches\r\n",
      "\trequested host name 'images'.\r\n",
      "HTTP request sent, awaiting response... 502 Bad Gateway\r\n",
      "2018-01-15 19:02:03 ERROR 502: Bad Gateway.\r\n",
      "\r\n"
     ]
    },
    {
     "data": {
      "text/plain": [
       "ObjectId('5a5d4dd96d99ba7541d678e2')"
      ]
     },
     "execution_count": 23,
     "metadata": {},
     "output_type": "execute_result"
    },
    {
     "name": "stdout",
     "output_type": "stream",
     "text": [
      "--2018-01-15 19:02:03--  http://images/data_wii_003.jpg\r\n",
      "Resolving images (images)... 167.114.148.224\r\n",
      "Connecting to images (images)|167.114.148.224|:80... connected.\r\n",
      "HTTP request sent, awaiting response... 301 Moved Permanently\r\n",
      "Location: https://images/data_wii_003.jpg [following]\r\n",
      "--2018-01-15 19:02:03--  https://images/data_wii_003.jpg\r\n",
      "Connecting to images (images)|167.114.148.224|:443... connected.\r\n",
      "WARNING: no certificate subject alternative name matches\r\n",
      "\trequested host name 'images'.\r\n",
      "HTTP request sent, awaiting response... 502 Bad Gateway\r\n",
      "2018-01-15 19:02:03 ERROR 502: Bad Gateway.\r\n",
      "\r\n"
     ]
    },
    {
     "data": {
      "text/plain": [
       "ObjectId('5a5d4dd96d99ba7541d678e3')"
      ]
     },
     "execution_count": 23,
     "metadata": {},
     "output_type": "execute_result"
    },
    {
     "name": "stdout",
     "output_type": "stream",
     "text": [
      "--2018-01-15 19:02:03--  http://images/data_wii_005.jpg\r\n",
      "Resolving images (images)... 167.114.148.224\r\n",
      "Connecting to images (images)|167.114.148.224|:80... connected.\r\n",
      "HTTP request sent, awaiting response... 301 Moved Permanently\r\n",
      "Location: https://images/data_wii_005.jpg [following]\r\n",
      "--2018-01-15 19:02:03--  https://images/data_wii_005.jpg\r\n",
      "Connecting to images (images)|167.114.148.224|:443... connected.\r\n",
      "WARNING: no certificate subject alternative name matches\r\n",
      "\trequested host name 'images'.\r\n",
      "HTTP request sent, awaiting response... 502 Bad Gateway\r\n",
      "2018-01-15 19:02:03 ERROR 502: Bad Gateway.\r\n",
      "\r\n"
     ]
    },
    {
     "data": {
      "text/plain": [
       "ObjectId('5a5d4dd96d99ba7541d678e4')"
      ]
     },
     "execution_count": 23,
     "metadata": {},
     "output_type": "execute_result"
    },
    {
     "name": "stdout",
     "output_type": "stream",
     "text": [
      "--2018-01-15 19:02:04--  http://images/data_wii_004.jpg\r\n",
      "Resolving images (images)... 167.114.148.224\r\n",
      "Connecting to images (images)|167.114.148.224|:80... connected.\r\n",
      "HTTP request sent, awaiting response... 301 Moved Permanently\r\n",
      "Location: https://images/data_wii_004.jpg [following]\r\n",
      "--2018-01-15 19:02:04--  https://images/data_wii_004.jpg\r\n",
      "Connecting to images (images)|167.114.148.224|:443... connected.\r\n",
      "WARNING: no certificate subject alternative name matches\r\n",
      "\trequested host name 'images'.\r\n",
      "HTTP request sent, awaiting response... 502 Bad Gateway\r\n",
      "2018-01-15 19:02:04 ERROR 502: Bad Gateway.\r\n",
      "\r\n"
     ]
    },
    {
     "data": {
      "text/plain": [
       "ObjectId('5a5d4dd96d99ba7541d678e5')"
      ]
     },
     "execution_count": 23,
     "metadata": {},
     "output_type": "execute_result"
    },
    {
     "name": "stdout",
     "output_type": "stream",
     "text": [
      "--2018-01-15 19:02:04--  http://images/data_wii_006.jpg\r\n",
      "Resolving images (images)... 167.114.148.224\r\n",
      "Connecting to images (images)|167.114.148.224|:80... connected.\r\n",
      "HTTP request sent, awaiting response... 301 Moved Permanently\r\n",
      "Location: https://images/data_wii_006.jpg [following]\r\n",
      "--2018-01-15 19:02:04--  https://images/data_wii_006.jpg\r\n",
      "Connecting to images (images)|167.114.148.224|:443... connected.\r\n",
      "WARNING: no certificate subject alternative name matches\r\n",
      "\trequested host name 'images'.\r\n",
      "HTTP request sent, awaiting response... 502 Bad Gateway\r\n",
      "2018-01-15 19:02:04 ERROR 502: Bad Gateway.\r\n",
      "\r\n"
     ]
    },
    {
     "data": {
      "text/plain": [
       "ObjectId('5a5d4dd96d99ba7541d678e6')"
      ]
     },
     "execution_count": 23,
     "metadata": {},
     "output_type": "execute_result"
    },
    {
     "name": "stdout",
     "output_type": "stream",
     "text": [
      "--2018-01-15 19:02:04--  http://images/data_wii_007.jpg\r\n",
      "Resolving images (images)... 167.114.148.224\r\n",
      "Connecting to images (images)|167.114.148.224|:80... connected.\r\n",
      "HTTP request sent, awaiting response... 301 Moved Permanently\r\n",
      "Location: https://images/data_wii_007.jpg [following]\r\n",
      "--2018-01-15 19:02:04--  https://images/data_wii_007.jpg\r\n",
      "Connecting to images (images)|167.114.148.224|:443... connected.\r\n",
      "WARNING: no certificate subject alternative name matches\r\n",
      "\trequested host name 'images'.\r\n",
      "HTTP request sent, awaiting response... 502 Bad Gateway\r\n",
      "2018-01-15 19:02:04 ERROR 502: Bad Gateway.\r\n",
      "\r\n"
     ]
    },
    {
     "data": {
      "text/plain": [
       "ObjectId('5a5d4dd96d99ba7541d678e7')"
      ]
     },
     "execution_count": 23,
     "metadata": {},
     "output_type": "execute_result"
    },
    {
     "name": "stdout",
     "output_type": "stream",
     "text": [
      "--2018-01-15 19:02:04--  http://images/data_wii_009.jpg\r\n",
      "Resolving images (images)... 167.114.148.224\r\n",
      "Connecting to images (images)|167.114.148.224|:80... connected.\r\n",
      "HTTP request sent, awaiting response... 301 Moved Permanently\r\n",
      "Location: https://images/data_wii_009.jpg [following]\r\n",
      "--2018-01-15 19:02:04--  https://images/data_wii_009.jpg\r\n",
      "Connecting to images (images)|167.114.148.224|:443... connected.\r\n",
      "WARNING: no certificate subject alternative name matches\r\n",
      "\trequested host name 'images'.\r\n",
      "HTTP request sent, awaiting response... 502 Bad Gateway\r\n",
      "2018-01-15 19:02:04 ERROR 502: Bad Gateway.\r\n",
      "\r\n"
     ]
    },
    {
     "data": {
      "text/plain": [
       "ObjectId('5a5d4dd96d99ba7541d678e8')"
      ]
     },
     "execution_count": 23,
     "metadata": {},
     "output_type": "execute_result"
    },
    {
     "name": "stdout",
     "output_type": "stream",
     "text": [
      "--2018-01-15 19:02:04--  http://images/data_wii_008.jpg\r\n",
      "Resolving images (images)... 167.114.148.224\r\n",
      "Connecting to images (images)|167.114.148.224|:80... connected.\r\n",
      "HTTP request sent, awaiting response... 301 Moved Permanently\r\n",
      "Location: https://images/data_wii_008.jpg [following]\r\n",
      "--2018-01-15 19:02:04--  https://images/data_wii_008.jpg\r\n",
      "Connecting to images (images)|167.114.148.224|:443... connected.\r\n",
      "WARNING: no certificate subject alternative name matches\r\n",
      "\trequested host name 'images'.\r\n",
      "HTTP request sent, awaiting response... 502 Bad Gateway\r\n",
      "2018-01-15 19:02:04 ERROR 502: Bad Gateway.\r\n",
      "\r\n"
     ]
    },
    {
     "data": {
      "text/plain": [
       "ObjectId('5a5d4dd96d99ba7541d678e9')"
      ]
     },
     "execution_count": 23,
     "metadata": {},
     "output_type": "execute_result"
    },
    {
     "name": "stdout",
     "output_type": "stream",
     "text": [
      "--2018-01-15 19:02:05--  http://images/data_wii_wiiparty.jpg\r\n",
      "Resolving images (images)... 167.114.148.224\r\n",
      "Connecting to images (images)|167.114.148.224|:80... connected.\r\n",
      "HTTP request sent, awaiting response... 301 Moved Permanently\r\n",
      "Location: https://images/data_wii_wiiparty.jpg [following]\r\n",
      "--2018-01-15 19:02:05--  https://images/data_wii_wiiparty.jpg\r\n",
      "Connecting to images (images)|167.114.148.224|:443... connected.\r\n",
      "WARNING: no certificate subject alternative name matches\r\n",
      "\trequested host name 'images'.\r\n",
      "HTTP request sent, awaiting response... 502 Bad Gateway\r\n",
      "2018-01-15 19:02:05 ERROR 502: Bad Gateway.\r\n",
      "\r\n"
     ]
    },
    {
     "data": {
      "text/plain": [
       "ObjectId('5a5d4dd96d99ba7541d678ea')"
      ]
     },
     "execution_count": 23,
     "metadata": {},
     "output_type": "execute_result"
    },
    {
     "name": "stdout",
     "output_type": "stream",
     "text": [
      "--2018-01-15 19:02:05--  https://www.nintendo.co.jp/ir/en/finance/software/img/data_switch_001.png\n",
      "Resolving www.nintendo.co.jp (www.nintendo.co.jp)... 23.52.165.106\n",
      "Connecting to www.nintendo.co.jp (www.nintendo.co.jp)|23.52.165.106|:443... connected.\n",
      "HTTP request sent, awaiting response... 200 OK\n",
      "Length: 123250 (120K) [image/png]\n",
      "Saving to: 'images/data_switch_001.png'\n",
      "\n",
      "data_switch_001.png 100%[===================>] 120.36K  --.-KB/s    in 0.02s   \n",
      "\n",
      "2018-01-15 19:02:05 (5.85 MB/s) - 'images/data_switch_001.png' saved [123250/123250]\n",
      "\n"
     ]
    },
    {
     "data": {
      "text/plain": [
       "ObjectId('5a5d4eda6d99ba784beb0d00')"
      ]
     },
     "execution_count": 23,
     "metadata": {},
     "output_type": "execute_result"
    },
    {
     "name": "stdout",
     "output_type": "stream",
     "text": [
      "--2018-01-15 19:02:05--  https://www.nintendo.co.jp/ir/en/finance/software/img/data_switch_002.png\n",
      "Resolving www.nintendo.co.jp (www.nintendo.co.jp)... 23.52.165.106\n",
      "Connecting to www.nintendo.co.jp (www.nintendo.co.jp)|23.52.165.106|:443... connected.\n",
      "HTTP request sent, awaiting response... 200 OK\n",
      "Length: 136768 (134K) [image/png]\n",
      "Saving to: 'images/data_switch_002.png'\n",
      "\n",
      "data_switch_002.png 100%[===================>] 133.56K  --.-KB/s    in 0.02s   \n",
      "\n",
      "2018-01-15 19:02:06 (5.42 MB/s) - 'images/data_switch_002.png' saved [136768/136768]\n",
      "\n"
     ]
    },
    {
     "data": {
      "text/plain": [
       "ObjectId('5a5d4eda6d99ba784beb0d01')"
      ]
     },
     "execution_count": 23,
     "metadata": {},
     "output_type": "execute_result"
    },
    {
     "name": "stdout",
     "output_type": "stream",
     "text": [
      "--2018-01-15 19:02:06--  https://www.nintendo.co.jp/ir/en/finance/software/img/data_switch_005.png\n",
      "Resolving www.nintendo.co.jp (www.nintendo.co.jp)... 23.52.165.106\n",
      "Connecting to www.nintendo.co.jp (www.nintendo.co.jp)|23.52.165.106|:443... connected.\n",
      "HTTP request sent, awaiting response... 200 OK\n",
      "Length: 116191 (113K) [image/png]\n",
      "Saving to: 'images/data_switch_005.png'\n",
      "\n",
      "data_switch_005.png 100%[===================>] 113.47K  --.-KB/s    in 0.02s   \n",
      "\n",
      "2018-01-15 19:02:06 (5.30 MB/s) - 'images/data_switch_005.png' saved [116191/116191]\n",
      "\n"
     ]
    },
    {
     "data": {
      "text/plain": [
       "ObjectId('5a5d4eda6d99ba784beb0d02')"
      ]
     },
     "execution_count": 23,
     "metadata": {},
     "output_type": "execute_result"
    },
    {
     "name": "stdout",
     "output_type": "stream",
     "text": [
      "--2018-01-15 19:02:06--  https://www.nintendo.co.jp/ir/en/finance/software/img/data_switch_003.png\n",
      "Resolving www.nintendo.co.jp (www.nintendo.co.jp)... 23.52.165.106\n",
      "Connecting to www.nintendo.co.jp (www.nintendo.co.jp)|23.52.165.106|:443... connected.\n",
      "HTTP request sent, awaiting response... 200 OK\n",
      "Length: 97341 (95K) [image/png]\n",
      "Saving to: 'images/data_switch_003.png'\n",
      "\n",
      "data_switch_003.png 100%[===================>]  95.06K  --.-KB/s    in 0.02s   \n",
      "\n",
      "2018-01-15 19:02:07 (4.36 MB/s) - 'images/data_switch_003.png' saved [97341/97341]\n",
      "\n"
     ]
    },
    {
     "data": {
      "text/plain": [
       "ObjectId('5a5d4eda6d99ba784beb0d03')"
      ]
     },
     "execution_count": 23,
     "metadata": {},
     "output_type": "execute_result"
    },
    {
     "name": "stdout",
     "output_type": "stream",
     "text": [
      "--2018-01-15 19:02:07--  https://www.nintendo.co.jp/ir/en/finance/software/img/data_switch_004.png\n",
      "Resolving www.nintendo.co.jp (www.nintendo.co.jp)... 23.52.165.106\n",
      "Connecting to www.nintendo.co.jp (www.nintendo.co.jp)|23.52.165.106|:443... connected.\n",
      "HTTP request sent, awaiting response... 200 OK\n",
      "Length: 113103 (110K) [image/png]\n",
      "Saving to: 'images/data_switch_004.png'\n",
      "\n",
      "data_switch_004.png 100%[===================>] 110.45K  --.-KB/s    in 0.02s   \n",
      "\n",
      "2018-01-15 19:02:08 (5.34 MB/s) - 'images/data_switch_004.png' saved [113103/113103]\n",
      "\n"
     ]
    },
    {
     "data": {
      "text/plain": [
       "ObjectId('5a5d4eda6d99ba784beb0d04')"
      ]
     },
     "execution_count": 23,
     "metadata": {},
     "output_type": "execute_result"
    },
    {
     "name": "stdout",
     "output_type": "stream",
     "text": [
      "--2018-01-15 19:02:08--  https://www.nintendo.co.jp/ir/en/finance/software/img/data_wiiu_mariokart8.png\n",
      "Resolving www.nintendo.co.jp (www.nintendo.co.jp)... 23.52.165.106\n",
      "Connecting to www.nintendo.co.jp (www.nintendo.co.jp)|23.52.165.106|:443... connected.\n",
      "HTTP request sent, awaiting response... 200 OK\n",
      "Length: 41726 (41K) [image/png]\n",
      "Saving to: 'images/data_wiiu_mariokart8.png'\n",
      "\n",
      "data_wiiu_mariokart 100%[===================>]  40.75K  --.-KB/s    in 0.01s   \n",
      "\n",
      "2018-01-15 19:02:08 (3.78 MB/s) - 'images/data_wiiu_mariokart8.png' saved [41726/41726]\n",
      "\n"
     ]
    },
    {
     "data": {
      "text/plain": [
       "ObjectId('5a5d4eda6d99ba784beb0d05')"
      ]
     },
     "execution_count": 23,
     "metadata": {},
     "output_type": "execute_result"
    },
    {
     "name": "stdout",
     "output_type": "stream",
     "text": [
      "--2018-01-15 19:02:08--  https://www.nintendo.co.jp/ir/en/finance/software/img/data_wiiu_newmariou.png\n",
      "Resolving www.nintendo.co.jp (www.nintendo.co.jp)... 23.52.165.106\n",
      "Connecting to www.nintendo.co.jp (www.nintendo.co.jp)|23.52.165.106|:443... connected.\n",
      "HTTP request sent, awaiting response... 200 OK\n",
      "Length: 39007 (38K) [image/png]\n",
      "Saving to: 'images/data_wiiu_newmariou.png'\n",
      "\n",
      "data_wiiu_newmariou 100%[===================>]  38.09K  --.-KB/s    in 0.01s   \n",
      "\n",
      "2018-01-15 19:02:08 (3.79 MB/s) - 'images/data_wiiu_newmariou.png' saved [39007/39007]\n",
      "\n"
     ]
    },
    {
     "data": {
      "text/plain": [
       "ObjectId('5a5d4eda6d99ba784beb0d06')"
      ]
     },
     "execution_count": 23,
     "metadata": {},
     "output_type": "execute_result"
    },
    {
     "name": "stdout",
     "output_type": "stream",
     "text": [
      "--2018-01-15 19:02:09--  https://www.nintendo.co.jp/ir/en/finance/software/img/data_wiiu_mario3dworld.png\n",
      "Resolving www.nintendo.co.jp (www.nintendo.co.jp)... 23.52.165.106\n",
      "Connecting to www.nintendo.co.jp (www.nintendo.co.jp)|23.52.165.106|:443... connected.\n",
      "HTTP request sent, awaiting response... 200 OK\n",
      "Length: 40182 (39K) [image/png]\n",
      "Saving to: 'images/data_wiiu_mario3dworld.png'\n",
      "\n",
      "data_wiiu_mario3dwo 100%[===================>]  39.24K  --.-KB/s    in 0.01s   \n",
      "\n",
      "2018-01-15 19:02:09 (3.92 MB/s) - 'images/data_wiiu_mario3dworld.png' saved [40182/40182]\n",
      "\n"
     ]
    },
    {
     "data": {
      "text/plain": [
       "ObjectId('5a5d4eda6d99ba784beb0d07')"
      ]
     },
     "execution_count": 23,
     "metadata": {},
     "output_type": "execute_result"
    },
    {
     "name": "stdout",
     "output_type": "stream",
     "text": [
      "--2018-01-15 19:02:09--  https://www.nintendo.co.jp/ir/en/finance/software/img/data_wiiu_smashbros.png\n",
      "Resolving www.nintendo.co.jp (www.nintendo.co.jp)... 23.52.165.106\n",
      "Connecting to www.nintendo.co.jp (www.nintendo.co.jp)|23.52.165.106|:443... connected.\n",
      "HTTP request sent, awaiting response... 200 OK\n",
      "Length: 42978 (42K) [image/png]\n",
      "Saving to: 'images/data_wiiu_smashbros.png'\n",
      "\n",
      "data_wiiu_smashbros 100%[===================>]  41.97K  --.-KB/s    in 0.01s   \n",
      "\n",
      "2018-01-15 19:02:10 (4.12 MB/s) - 'images/data_wiiu_smashbros.png' saved [42978/42978]\n",
      "\n"
     ]
    },
    {
     "data": {
      "text/plain": [
       "ObjectId('5a5d4eda6d99ba784beb0d08')"
      ]
     },
     "execution_count": 23,
     "metadata": {},
     "output_type": "execute_result"
    },
    {
     "name": "stdout",
     "output_type": "stream",
     "text": [
      "--2018-01-15 19:02:10--  https://www.nintendo.co.jp/ir/en/finance/software/img/data_wiiu_nintendoland.png\n",
      "Resolving www.nintendo.co.jp (www.nintendo.co.jp)... 23.52.165.106\n",
      "Connecting to www.nintendo.co.jp (www.nintendo.co.jp)|23.52.165.106|:443... connected.\n",
      "HTTP request sent, awaiting response... 200 OK\n",
      "Length: 37299 (36K) [image/png]\n",
      "Saving to: 'images/data_wiiu_nintendoland.png'\n",
      "\n",
      "data_wiiu_nintendol 100%[===================>]  36.42K  --.-KB/s    in 0.01s   \n",
      "\n",
      "2018-01-15 19:02:10 (3.62 MB/s) - 'images/data_wiiu_nintendoland.png' saved [37299/37299]\n",
      "\n"
     ]
    },
    {
     "data": {
      "text/plain": [
       "ObjectId('5a5d4eda6d99ba784beb0d09')"
      ]
     },
     "execution_count": 23,
     "metadata": {},
     "output_type": "execute_result"
    },
    {
     "name": "stdout",
     "output_type": "stream",
     "text": [
      "--2018-01-15 19:02:10--  https://www.nintendo.co.jp/ir/en/finance/software/img/data_wiiu_splatoon.jpg\n",
      "Resolving www.nintendo.co.jp (www.nintendo.co.jp)... 23.52.165.106\n",
      "Connecting to www.nintendo.co.jp (www.nintendo.co.jp)|23.52.165.106|:443... connected.\n",
      "HTTP request sent, awaiting response... 200 OK\n",
      "Length: 28908 (28K) [image/jpeg]\n",
      "Saving to: 'images/data_wiiu_splatoon.jpg'\n",
      "\n",
      "data_wiiu_splatoon. 100%[===================>]  28.23K  --.-KB/s    in 0.01s   \n",
      "\n",
      "2018-01-15 19:02:11 (2.32 MB/s) - 'images/data_wiiu_splatoon.jpg' saved [28908/28908]\n",
      "\n"
     ]
    },
    {
     "data": {
      "text/plain": [
       "ObjectId('5a5d4eda6d99ba784beb0d0a')"
      ]
     },
     "execution_count": 23,
     "metadata": {},
     "output_type": "execute_result"
    },
    {
     "name": "stdout",
     "output_type": "stream",
     "text": [
      "--2018-01-15 19:02:11--  https://www.nintendo.co.jp/ir/en/finance/software/img/data_wiiu_supermariomaker.png\n",
      "Resolving www.nintendo.co.jp (www.nintendo.co.jp)... 23.52.165.106\n",
      "Connecting to www.nintendo.co.jp (www.nintendo.co.jp)|23.52.165.106|:443... connected.\n",
      "HTTP request sent, awaiting response... 200 OK\n",
      "Length: 36527 (36K) [image/png]\n",
      "Saving to: 'images/data_wiiu_supermariomaker.png'\n",
      "\n",
      "data_wiiu_supermari 100%[===================>]  35.67K  --.-KB/s    in 0.01s   \n",
      "\n",
      "2018-01-15 19:02:11 (3.59 MB/s) - 'images/data_wiiu_supermariomaker.png' saved [36527/36527]\n",
      "\n"
     ]
    },
    {
     "data": {
      "text/plain": [
       "ObjectId('5a5d4eda6d99ba784beb0d0b')"
      ]
     },
     "execution_count": 23,
     "metadata": {},
     "output_type": "execute_result"
    },
    {
     "name": "stdout",
     "output_type": "stream",
     "text": [
      "--2018-01-15 19:02:11--  https://www.nintendo.co.jp/ir/en/finance/software/img/data_wiiu_newsuperluigiu.png\n",
      "Resolving www.nintendo.co.jp (www.nintendo.co.jp)... 23.52.165.106\n",
      "Connecting to www.nintendo.co.jp (www.nintendo.co.jp)|23.52.165.106|:443... connected.\n",
      "HTTP request sent, awaiting response... 200 OK\n",
      "Length: 39589 (39K) [image/png]\n",
      "Saving to: 'images/data_wiiu_newsuperluigiu.png'\n",
      "\n",
      "data_wiiu_newsuperl 100%[===================>]  38.66K  --.-KB/s    in 0.01s   \n",
      "\n",
      "2018-01-15 19:02:12 (3.82 MB/s) - 'images/data_wiiu_newsuperluigiu.png' saved [39589/39589]\n",
      "\n"
     ]
    },
    {
     "data": {
      "text/plain": [
       "ObjectId('5a5d4eda6d99ba784beb0d0c')"
      ]
     },
     "execution_count": 23,
     "metadata": {},
     "output_type": "execute_result"
    },
    {
     "name": "stdout",
     "output_type": "stream",
     "text": [
      "--2018-01-15 19:02:12--  https://www.nintendo.co.jp/ir/en/finance/software/img/data_wiiu_zeldahd.png\n",
      "Resolving www.nintendo.co.jp (www.nintendo.co.jp)... 23.52.165.106\n",
      "Connecting to www.nintendo.co.jp (www.nintendo.co.jp)|23.52.165.106|:443... connected.\n",
      "HTTP request sent, awaiting response... 200 OK\n",
      "Length: 44785 (44K) [image/png]\n",
      "Saving to: 'images/data_wiiu_zeldahd.png'\n",
      "\n",
      "data_wiiu_zeldahd.p 100%[===================>]  43.74K  --.-KB/s    in 0.01s   \n",
      "\n",
      "2018-01-15 19:02:12 (4.33 MB/s) - 'images/data_wiiu_zeldahd.png' saved [44785/44785]\n",
      "\n"
     ]
    },
    {
     "data": {
      "text/plain": [
       "ObjectId('5a5d4eda6d99ba784beb0d0d')"
      ]
     },
     "execution_count": 23,
     "metadata": {},
     "output_type": "execute_result"
    },
    {
     "name": "stdout",
     "output_type": "stream",
     "text": [
      "--2018-01-15 19:02:12--  https://www.nintendo.co.jp/ir/en/finance/software/img/data_wiiu_marioparty10.jpg\n",
      "Resolving www.nintendo.co.jp (www.nintendo.co.jp)... 23.52.165.106\n",
      "Connecting to www.nintendo.co.jp (www.nintendo.co.jp)|23.52.165.106|:443... connected.\n",
      "HTTP request sent, awaiting response... 200 OK\n",
      "Length: 20514 (20K) [image/jpeg]\n",
      "Saving to: 'images/data_wiiu_marioparty10.jpg'\n",
      "\n",
      "data_wiiu_mariopart 100%[===================>]  20.03K  --.-KB/s    in 0s      \n",
      "\n",
      "2018-01-15 19:02:13 (296 MB/s) - 'images/data_wiiu_marioparty10.jpg' saved [20514/20514]\n",
      "\n"
     ]
    },
    {
     "data": {
      "text/plain": [
       "ObjectId('5a5d4eda6d99ba784beb0d0e')"
      ]
     },
     "execution_count": 23,
     "metadata": {},
     "output_type": "execute_result"
    },
    {
     "name": "stdout",
     "output_type": "stream",
     "text": [
      "--2018-01-15 19:02:13--  https://www.nintendo.co.jp/ir/en/finance/software/img/data_3ds_pokemonxy.jpg\n",
      "Resolving www.nintendo.co.jp (www.nintendo.co.jp)... 23.52.165.106\n",
      "Connecting to www.nintendo.co.jp (www.nintendo.co.jp)|23.52.165.106|:443... connected.\n",
      "HTTP request sent, awaiting response... 200 OK\n",
      "Length: 32213 (31K) [image/jpeg]\n",
      "Saving to: 'images/data_3ds_pokemonxy.jpg'\n",
      "\n",
      "data_3ds_pokemonxy. 100%[===================>]  31.46K  --.-KB/s    in 0.02s   \n",
      "\n",
      "2018-01-15 19:02:13 (1.53 MB/s) - 'images/data_3ds_pokemonxy.jpg' saved [32213/32213]\n",
      "\n"
     ]
    },
    {
     "data": {
      "text/plain": [
       "ObjectId('5a5d4edb6d99ba784beb0d0f')"
      ]
     },
     "execution_count": 23,
     "metadata": {},
     "output_type": "execute_result"
    },
    {
     "name": "stdout",
     "output_type": "stream",
     "text": [
      "--2018-01-15 19:02:13--  https://www.nintendo.co.jp/ir/en/finance/software/img/data_3ds_002.jpg\n",
      "Resolving www.nintendo.co.jp (www.nintendo.co.jp)... 23.52.165.106\n",
      "Connecting to www.nintendo.co.jp (www.nintendo.co.jp)|23.52.165.106|:443... connected.\n",
      "HTTP request sent, awaiting response... 200 OK\n",
      "Length: 12917 (13K) [image/jpeg]\n",
      "Saving to: 'images/data_3ds_002.jpg'\n",
      "\n",
      "data_3ds_002.jpg    100%[===================>]  12.61K  --.-KB/s    in 0s      \n",
      "\n",
      "2018-01-15 19:02:13 (358 MB/s) - 'images/data_3ds_002.jpg' saved [12917/12917]\n",
      "\n"
     ]
    },
    {
     "data": {
      "text/plain": [
       "ObjectId('5a5d4edb6d99ba784beb0d10')"
      ]
     },
     "execution_count": 23,
     "metadata": {},
     "output_type": "execute_result"
    },
    {
     "name": "stdout",
     "output_type": "stream",
     "text": [
      "--2018-01-15 19:02:14--  https://www.nintendo.co.jp/ir/en/finance/software/img/data_3ds_pokemonsunmoon.jpg\n",
      "Resolving www.nintendo.co.jp (www.nintendo.co.jp)... 23.52.165.106\n",
      "Connecting to www.nintendo.co.jp (www.nintendo.co.jp)|23.52.165.106|:443... connected.\n",
      "HTTP request sent, awaiting response... 200 OK\n",
      "Length: 37022 (36K) [image/jpeg]\n",
      "Saving to: 'images/data_3ds_pokemonsunmoon.jpg'\n",
      "\n",
      "data_3ds_pokemonsun 100%[===================>]  36.15K  --.-KB/s    in 0.02s   \n",
      "\n",
      "2018-01-15 19:02:14 (1.76 MB/s) - 'images/data_3ds_pokemonsunmoon.jpg' saved [37022/37022]\n",
      "\n"
     ]
    },
    {
     "data": {
      "text/plain": [
       "ObjectId('5a5d4edb6d99ba784beb0d11')"
      ]
     },
     "execution_count": 23,
     "metadata": {},
     "output_type": "execute_result"
    },
    {
     "name": "stdout",
     "output_type": "stream",
     "text": [
      "--2018-01-15 19:02:14--  https://www.nintendo.co.jp/ir/en/finance/software/img/data_3ds_pokemonoras.jpg\n",
      "Resolving www.nintendo.co.jp (www.nintendo.co.jp)... 23.52.165.106\n",
      "Connecting to www.nintendo.co.jp (www.nintendo.co.jp)|23.52.165.106|:443... connected.\n",
      "HTTP request sent, awaiting response... 200 OK\n",
      "Length: 20879 (20K) [image/jpeg]\n",
      "Saving to: 'images/data_3ds_pokemonoras.jpg'\n",
      "\n",
      "data_3ds_pokemonora 100%[===================>]  20.39K  --.-KB/s    in 0s      \n",
      "\n",
      "2018-01-15 19:02:14 (191 MB/s) - 'images/data_3ds_pokemonoras.jpg' saved [20879/20879]\n",
      "\n"
     ]
    },
    {
     "data": {
      "text/plain": [
       "ObjectId('5a5d4edb6d99ba784beb0d12')"
      ]
     },
     "execution_count": 23,
     "metadata": {},
     "output_type": "execute_result"
    },
    {
     "name": "stdout",
     "output_type": "stream",
     "text": [
      "--2018-01-15 19:02:15--  https://www.nintendo.co.jp/ir/en/finance/software/img/data_3ds_003.jpg\n",
      "Resolving www.nintendo.co.jp (www.nintendo.co.jp)... 23.52.165.106\n",
      "Connecting to www.nintendo.co.jp (www.nintendo.co.jp)|23.52.165.106|:443... connected.\n",
      "HTTP request sent, awaiting response... 200 OK\n",
      "Length: 10823 (11K) [image/jpeg]\n",
      "Saving to: 'images/data_3ds_003.jpg'\n",
      "\n",
      "data_3ds_003.jpg    100%[===================>]  10.57K  --.-KB/s    in 0s      \n",
      "\n",
      "2018-01-15 19:02:15 (214 MB/s) - 'images/data_3ds_003.jpg' saved [10823/10823]\n",
      "\n"
     ]
    },
    {
     "data": {
      "text/plain": [
       "ObjectId('5a5d4edb6d99ba784beb0d13')"
      ]
     },
     "execution_count": 23,
     "metadata": {},
     "output_type": "execute_result"
    },
    {
     "name": "stdout",
     "output_type": "stream",
     "text": [
      "--2018-01-15 19:02:15--  https://www.nintendo.co.jp/ir/en/finance/software/img/data_3ds_001.jpg\n",
      "Resolving www.nintendo.co.jp (www.nintendo.co.jp)... 23.52.165.106\n",
      "Connecting to www.nintendo.co.jp (www.nintendo.co.jp)|23.52.165.106|:443... connected.\n",
      "HTTP request sent, awaiting response... 200 OK\n",
      "Length: 16348 (16K) [image/jpeg]\n",
      "Saving to: 'images/data_3ds_001.jpg'\n",
      "\n",
      "data_3ds_001.jpg    100%[===================>]  15.96K  --.-KB/s    in 0s      \n",
      "\n",
      "2018-01-15 19:02:16 (246 MB/s) - 'images/data_3ds_001.jpg' saved [16348/16348]\n",
      "\n"
     ]
    },
    {
     "data": {
      "text/plain": [
       "ObjectId('5a5d4edb6d99ba784beb0d14')"
      ]
     },
     "execution_count": 23,
     "metadata": {},
     "output_type": "execute_result"
    },
    {
     "name": "stdout",
     "output_type": "stream",
     "text": [
      "--2018-01-15 19:02:16--  https://www.nintendo.co.jp/ir/en/finance/software/img/data_3ds_004.jpg\n",
      "Resolving www.nintendo.co.jp (www.nintendo.co.jp)... 23.52.165.106\n",
      "Connecting to www.nintendo.co.jp (www.nintendo.co.jp)|23.52.165.106|:443... connected.\n",
      "HTTP request sent, awaiting response... 200 OK\n",
      "Length: 11078 (11K) [image/jpeg]\n",
      "Saving to: 'images/data_3ds_004.jpg'\n",
      "\n",
      "data_3ds_004.jpg    100%[===================>]  10.82K  --.-KB/s    in 0s      \n",
      "\n",
      "2018-01-15 19:02:16 (276 MB/s) - 'images/data_3ds_004.jpg' saved [11078/11078]\n",
      "\n"
     ]
    },
    {
     "data": {
      "text/plain": [
       "ObjectId('5a5d4edb6d99ba784beb0d15')"
      ]
     },
     "execution_count": 23,
     "metadata": {},
     "output_type": "execute_result"
    },
    {
     "name": "stdout",
     "output_type": "stream",
     "text": [
      "--2018-01-15 19:02:16--  https://www.nintendo.co.jp/ir/en/finance/software/img/data_3ds_smashbros.jpg\n",
      "Resolving www.nintendo.co.jp (www.nintendo.co.jp)... 23.52.165.106\n",
      "Connecting to www.nintendo.co.jp (www.nintendo.co.jp)|23.52.165.106|:443... connected.\n",
      "HTTP request sent, awaiting response... 200 OK\n",
      "Length: 11635 (11K) [image/jpeg]\n",
      "Saving to: 'images/data_3ds_smashbros.jpg'\n",
      "\n",
      "data_3ds_smashbros. 100%[===================>]  11.36K  --.-KB/s    in 0s      \n",
      "\n",
      "2018-01-15 19:02:17 (252 MB/s) - 'images/data_3ds_smashbros.jpg' saved [11635/11635]\n",
      "\n"
     ]
    },
    {
     "data": {
      "text/plain": [
       "ObjectId('5a5d4edb6d99ba784beb0d16')"
      ]
     },
     "execution_count": 23,
     "metadata": {},
     "output_type": "execute_result"
    },
    {
     "name": "stdout",
     "output_type": "stream",
     "text": [
      "--2018-01-15 19:02:17--  https://www.nintendo.co.jp/ir/en/finance/software/img/data_3ds_tomodachicollection.jpg\n",
      "Resolving www.nintendo.co.jp (www.nintendo.co.jp)... 23.52.165.106\n",
      "Connecting to www.nintendo.co.jp (www.nintendo.co.jp)|23.52.165.106|:443... connected.\n",
      "HTTP request sent, awaiting response... 200 OK\n",
      "Length: 23405 (23K) [image/jpeg]\n",
      "Saving to: 'images/data_3ds_tomodachicollection.jpg'\n",
      "\n",
      "data_3ds_tomodachic 100%[===================>]  22.86K  --.-KB/s    in 0.01s   \n",
      "\n",
      "2018-01-15 19:02:17 (2.27 MB/s) - 'images/data_3ds_tomodachicollection.jpg' saved [23405/23405]\n",
      "\n"
     ]
    },
    {
     "data": {
      "text/plain": [
       "ObjectId('5a5d4edb6d99ba784beb0d17')"
      ]
     },
     "execution_count": 23,
     "metadata": {},
     "output_type": "execute_result"
    },
    {
     "name": "stdout",
     "output_type": "stream",
     "text": [
      "--2018-01-15 19:02:17--  https://www.nintendo.co.jp/ir/en/finance/software/img/data_3ds_009.jpg\n",
      "Resolving www.nintendo.co.jp (www.nintendo.co.jp)... 23.52.165.106\n",
      "Connecting to www.nintendo.co.jp (www.nintendo.co.jp)|23.52.165.106|:443... connected.\n",
      "HTTP request sent, awaiting response... 200 OK\n",
      "Length: 8640 (8.4K) [image/jpeg]\n",
      "Saving to: 'images/data_3ds_009.jpg'\n",
      "\n",
      "data_3ds_009.jpg    100%[===================>]   8.44K  --.-KB/s    in 0s      \n",
      "\n",
      "2018-01-15 19:02:18 (241 MB/s) - 'images/data_3ds_009.jpg' saved [8640/8640]\n",
      "\n"
     ]
    },
    {
     "data": {
      "text/plain": [
       "ObjectId('5a5d4edb6d99ba784beb0d18')"
      ]
     },
     "execution_count": 23,
     "metadata": {},
     "output_type": "execute_result"
    },
    {
     "name": "stdout",
     "output_type": "stream",
     "text": [
      "--2018-01-15 19:02:18--  https://www.nintendo.co.jp/ir/en/finance/software/img/data_wii_001.jpg\n",
      "Resolving www.nintendo.co.jp (www.nintendo.co.jp)... 23.52.165.106\n",
      "Connecting to www.nintendo.co.jp (www.nintendo.co.jp)|23.52.165.106|:443... connected.\n",
      "HTTP request sent, awaiting response... 200 OK\n",
      "Length: 5365 (5.2K) [image/jpeg]\n",
      "Saving to: 'images/data_wii_001.jpg'\n",
      "\n",
      "data_wii_001.jpg    100%[===================>]   5.24K  --.-KB/s    in 0s      \n",
      "\n",
      "2018-01-15 19:02:18 (839 MB/s) - 'images/data_wii_001.jpg' saved [5365/5365]\n",
      "\n"
     ]
    },
    {
     "data": {
      "text/plain": [
       "ObjectId('5a5d4edb6d99ba784beb0d19')"
      ]
     },
     "execution_count": 23,
     "metadata": {},
     "output_type": "execute_result"
    },
    {
     "name": "stdout",
     "output_type": "stream",
     "text": [
      "--2018-01-15 19:02:18--  https://www.nintendo.co.jp/ir/en/finance/software/img/data_wii_002.jpg\n",
      "Resolving www.nintendo.co.jp (www.nintendo.co.jp)... 23.52.165.106\n",
      "Connecting to www.nintendo.co.jp (www.nintendo.co.jp)|23.52.165.106|:443... connected.\n",
      "HTTP request sent, awaiting response... 200 OK\n",
      "Length: 6852 (6.7K) [image/jpeg]\n",
      "Saving to: 'images/data_wii_002.jpg'\n",
      "\n",
      "data_wii_002.jpg    100%[===================>]   6.69K  --.-KB/s    in 0s      \n",
      "\n",
      "2018-01-15 19:02:18 (992 MB/s) - 'images/data_wii_002.jpg' saved [6852/6852]\n",
      "\n"
     ]
    },
    {
     "data": {
      "text/plain": [
       "ObjectId('5a5d4edb6d99ba784beb0d1a')"
      ]
     },
     "execution_count": 23,
     "metadata": {},
     "output_type": "execute_result"
    },
    {
     "name": "stdout",
     "output_type": "stream",
     "text": [
      "--2018-01-15 19:02:19--  https://www.nintendo.co.jp/ir/en/finance/software/img/data_wii_003.jpg\n",
      "Resolving www.nintendo.co.jp (www.nintendo.co.jp)... 23.52.165.106\n",
      "Connecting to www.nintendo.co.jp (www.nintendo.co.jp)|23.52.165.106|:443... connected.\n",
      "HTTP request sent, awaiting response... 200 OK\n",
      "Length: 5926 (5.8K) [image/jpeg]\n",
      "Saving to: 'images/data_wii_003.jpg'\n",
      "\n",
      "data_wii_003.jpg    100%[===================>]   5.79K  --.-KB/s    in 0s      \n",
      "\n",
      "2018-01-15 19:02:19 (885 MB/s) - 'images/data_wii_003.jpg' saved [5926/5926]\n",
      "\n"
     ]
    },
    {
     "data": {
      "text/plain": [
       "ObjectId('5a5d4edb6d99ba784beb0d1b')"
      ]
     },
     "execution_count": 23,
     "metadata": {},
     "output_type": "execute_result"
    },
    {
     "name": "stdout",
     "output_type": "stream",
     "text": [
      "--2018-01-15 19:02:19--  https://www.nintendo.co.jp/ir/en/finance/software/img/data_wii_005.jpg\n",
      "Resolving www.nintendo.co.jp (www.nintendo.co.jp)... 23.52.165.106\n",
      "Connecting to www.nintendo.co.jp (www.nintendo.co.jp)|23.52.165.106|:443... connected.\n",
      "HTTP request sent, awaiting response... 200 OK\n",
      "Length: 8798 (8.6K) [image/jpeg]\n",
      "Saving to: 'images/data_wii_005.jpg'\n",
      "\n",
      "data_wii_005.jpg    100%[===================>]   8.59K  --.-KB/s    in 0s      \n",
      "\n",
      "2018-01-15 19:02:19 (226 MB/s) - 'images/data_wii_005.jpg' saved [8798/8798]\n",
      "\n"
     ]
    },
    {
     "data": {
      "text/plain": [
       "ObjectId('5a5d4edb6d99ba784beb0d1c')"
      ]
     },
     "execution_count": 23,
     "metadata": {},
     "output_type": "execute_result"
    },
    {
     "name": "stdout",
     "output_type": "stream",
     "text": [
      "--2018-01-15 19:02:20--  https://www.nintendo.co.jp/ir/en/finance/software/img/data_wii_004.jpg\n",
      "Resolving www.nintendo.co.jp (www.nintendo.co.jp)... 23.52.165.106\n",
      "Connecting to www.nintendo.co.jp (www.nintendo.co.jp)|23.52.165.106|:443... connected.\n",
      "HTTP request sent, awaiting response... 200 OK\n",
      "Length: 4984 (4.9K) [image/jpeg]\n",
      "Saving to: 'images/data_wii_004.jpg'\n",
      "\n",
      "data_wii_004.jpg    100%[===================>]   4.87K  --.-KB/s    in 0s      \n",
      "\n",
      "2018-01-15 19:02:20 (716 MB/s) - 'images/data_wii_004.jpg' saved [4984/4984]\n",
      "\n"
     ]
    },
    {
     "data": {
      "text/plain": [
       "ObjectId('5a5d4edb6d99ba784beb0d1d')"
      ]
     },
     "execution_count": 23,
     "metadata": {},
     "output_type": "execute_result"
    },
    {
     "name": "stdout",
     "output_type": "stream",
     "text": [
      "--2018-01-15 19:02:20--  https://www.nintendo.co.jp/ir/en/finance/software/img/data_wii_006.jpg\n",
      "Resolving www.nintendo.co.jp (www.nintendo.co.jp)... 23.52.165.106\n",
      "Connecting to www.nintendo.co.jp (www.nintendo.co.jp)|23.52.165.106|:443... connected.\n",
      "HTTP request sent, awaiting response... 200 OK\n",
      "Length: 4221 (4.1K) [image/jpeg]\n",
      "Saving to: 'images/data_wii_006.jpg'\n",
      "\n",
      "data_wii_006.jpg    100%[===================>]   4.12K  --.-KB/s    in 0s      \n",
      "\n",
      "2018-01-15 19:02:21 (706 MB/s) - 'images/data_wii_006.jpg' saved [4221/4221]\n",
      "\n"
     ]
    },
    {
     "data": {
      "text/plain": [
       "ObjectId('5a5d4edb6d99ba784beb0d1e')"
      ]
     },
     "execution_count": 23,
     "metadata": {},
     "output_type": "execute_result"
    },
    {
     "name": "stdout",
     "output_type": "stream",
     "text": [
      "--2018-01-15 19:02:21--  https://www.nintendo.co.jp/ir/en/finance/software/img/data_wii_007.jpg\n",
      "Resolving www.nintendo.co.jp (www.nintendo.co.jp)... 23.52.165.106\n",
      "Connecting to www.nintendo.co.jp (www.nintendo.co.jp)|23.52.165.106|:443... connected.\n",
      "HTTP request sent, awaiting response... 200 OK\n",
      "Length: 6807 (6.6K) [image/jpeg]\n",
      "Saving to: 'images/data_wii_007.jpg'\n",
      "\n",
      "data_wii_007.jpg    100%[===================>]   6.65K  --.-KB/s    in 0s      \n",
      "\n",
      "2018-01-15 19:02:21 (958 MB/s) - 'images/data_wii_007.jpg' saved [6807/6807]\n",
      "\n"
     ]
    },
    {
     "data": {
      "text/plain": [
       "ObjectId('5a5d4edb6d99ba784beb0d1f')"
      ]
     },
     "execution_count": 23,
     "metadata": {},
     "output_type": "execute_result"
    },
    {
     "name": "stdout",
     "output_type": "stream",
     "text": [
      "--2018-01-15 19:02:21--  https://www.nintendo.co.jp/ir/en/finance/software/img/data_wii_009.jpg\n",
      "Resolving www.nintendo.co.jp (www.nintendo.co.jp)... 23.52.165.106\n",
      "Connecting to www.nintendo.co.jp (www.nintendo.co.jp)|23.52.165.106|:443... connected.\n",
      "HTTP request sent, awaiting response... 200 OK\n",
      "Length: 8262 (8.1K) [image/jpeg]\n",
      "Saving to: 'images/data_wii_009.jpg'\n",
      "\n",
      "data_wii_009.jpg    100%[===================>]   8.07K  --.-KB/s    in 0s      \n",
      "\n",
      "2018-01-15 19:02:21 (235 MB/s) - 'images/data_wii_009.jpg' saved [8262/8262]\n",
      "\n"
     ]
    },
    {
     "data": {
      "text/plain": [
       "ObjectId('5a5d4edb6d99ba784beb0d20')"
      ]
     },
     "execution_count": 23,
     "metadata": {},
     "output_type": "execute_result"
    },
    {
     "name": "stdout",
     "output_type": "stream",
     "text": [
      "--2018-01-15 19:02:22--  https://www.nintendo.co.jp/ir/en/finance/software/img/data_wii_008.jpg\n",
      "Resolving www.nintendo.co.jp (www.nintendo.co.jp)... 23.52.165.106\n",
      "Connecting to www.nintendo.co.jp (www.nintendo.co.jp)|23.52.165.106|:443... connected.\n",
      "HTTP request sent, awaiting response... 200 OK\n",
      "Length: 8344 (8.1K) [image/jpeg]\n",
      "Saving to: 'images/data_wii_008.jpg'\n",
      "\n",
      "data_wii_008.jpg    100%[===================>]   8.15K  --.-KB/s    in 0s      \n",
      "\n",
      "2018-01-15 19:02:22 (137 MB/s) - 'images/data_wii_008.jpg' saved [8344/8344]\n",
      "\n"
     ]
    },
    {
     "data": {
      "text/plain": [
       "ObjectId('5a5d4edb6d99ba784beb0d21')"
      ]
     },
     "execution_count": 23,
     "metadata": {},
     "output_type": "execute_result"
    },
    {
     "name": "stdout",
     "output_type": "stream",
     "text": [
      "--2018-01-15 19:02:22--  https://www.nintendo.co.jp/ir/en/finance/software/img/data_wii_wiiparty.jpg\n",
      "Resolving www.nintendo.co.jp (www.nintendo.co.jp)... 23.52.165.106\n",
      "Connecting to www.nintendo.co.jp (www.nintendo.co.jp)|23.52.165.106|:443... connected.\n",
      "HTTP request sent, awaiting response... 200 OK\n",
      "Length: 15776 (15K) [image/jpeg]\n",
      "Saving to: 'images/data_wii_wiiparty.jpg'\n",
      "\n",
      "data_wii_wiiparty.j 100%[===================>]  15.41K  --.-KB/s    in 0s      \n",
      "\n",
      "2018-01-15 19:02:22 (430 MB/s) - 'images/data_wii_wiiparty.jpg' saved [15776/15776]\n",
      "\n"
     ]
    },
    {
     "data": {
      "text/plain": [
       "ObjectId('5a5d4edb6d99ba784beb0d22')"
      ]
     },
     "execution_count": 23,
     "metadata": {},
     "output_type": "execute_result"
    },
    {
     "name": "stdout",
     "output_type": "stream",
     "text": [
      "--2018-01-15 19:02:23--  https://www.nintendo.co.jp/ir/en/finance/software/img/data_ds_001.jpg\n",
      "Resolving www.nintendo.co.jp (www.nintendo.co.jp)... 23.52.165.106\n",
      "Connecting to www.nintendo.co.jp (www.nintendo.co.jp)|23.52.165.106|:443... connected.\n",
      "HTTP request sent, awaiting response... 200 OK\n",
      "Length: 11788 (12K) [image/jpeg]\n",
      "Saving to: 'images/data_ds_001.jpg'\n",
      "\n",
      "data_ds_001.jpg     100%[===================>]  11.51K  --.-KB/s    in 0s      \n",
      "\n",
      "2018-01-15 19:02:23 (321 MB/s) - 'images/data_ds_001.jpg' saved [11788/11788]\n",
      "\n"
     ]
    },
    {
     "data": {
      "text/plain": [
       "ObjectId('5a5d4edb6d99ba784beb0d23')"
      ]
     },
     "execution_count": 23,
     "metadata": {},
     "output_type": "execute_result"
    },
    {
     "name": "stdout",
     "output_type": "stream",
     "text": [
      "--2018-01-15 19:02:23--  https://www.nintendo.co.jp/ir/en/finance/softwaremg/data_ds_003.jpg\n",
      "Resolving www.nintendo.co.jp (www.nintendo.co.jp)... 23.52.165.106\n",
      "Connecting to www.nintendo.co.jp (www.nintendo.co.jp)|23.52.165.106|:443... connected.\n",
      "HTTP request sent, awaiting response... 404 Not Found\n",
      "2018-01-15 19:02:23 ERROR 404: Not Found.\n",
      "\n"
     ]
    },
    {
     "data": {
      "text/plain": [
       "ObjectId('5a5d4edb6d99ba784beb0d24')"
      ]
     },
     "execution_count": 23,
     "metadata": {},
     "output_type": "execute_result"
    },
    {
     "name": "stdout",
     "output_type": "stream",
     "text": [
      "--2018-01-15 19:02:23--  https://www.nintendo.co.jp/ir/en/finance/software/img/data_ds_002.jpg\n",
      "Resolving www.nintendo.co.jp (www.nintendo.co.jp)... 23.52.165.106\n",
      "Connecting to www.nintendo.co.jp (www.nintendo.co.jp)|23.52.165.106|:443... connected.\n",
      "HTTP request sent, awaiting response... 200 OK\n",
      "Length: 8290 (8.1K) [image/jpeg]\n",
      "Saving to: 'images/data_ds_002.jpg'\n",
      "\n",
      "data_ds_002.jpg     100%[===================>]   8.10K  --.-KB/s    in 0s      \n",
      "\n",
      "2018-01-15 19:02:24 (221 MB/s) - 'images/data_ds_002.jpg' saved [8290/8290]\n",
      "\n"
     ]
    },
    {
     "data": {
      "text/plain": [
       "ObjectId('5a5d4edb6d99ba784beb0d25')"
      ]
     },
     "execution_count": 23,
     "metadata": {},
     "output_type": "execute_result"
    },
    {
     "name": "stdout",
     "output_type": "stream",
     "text": [
      "--2018-01-15 19:02:24--  https://www.nintendo.co.jp/ir/en/finance/softwaremg/data_ds_004.jpg\n",
      "Resolving www.nintendo.co.jp (www.nintendo.co.jp)... 23.52.165.106\n",
      "Connecting to www.nintendo.co.jp (www.nintendo.co.jp)|23.52.165.106|:443... connected.\n",
      "HTTP request sent, awaiting response... 404 Not Found\n",
      "2018-01-15 19:02:24 ERROR 404: Not Found.\n",
      "\n"
     ]
    },
    {
     "data": {
      "text/plain": [
       "ObjectId('5a5d4edb6d99ba784beb0d26')"
      ]
     },
     "execution_count": 23,
     "metadata": {},
     "output_type": "execute_result"
    },
    {
     "name": "stdout",
     "output_type": "stream",
     "text": [
      "--2018-01-15 19:02:25--  https://www.nintendo.co.jp/ir/en/finance/software/img/data_ds_006.jpg\n",
      "Resolving www.nintendo.co.jp (www.nintendo.co.jp)... 23.52.165.106\n",
      "Connecting to www.nintendo.co.jp (www.nintendo.co.jp)|23.52.165.106|:443... connected.\n",
      "HTTP request sent, awaiting response... 200 OK\n",
      "Length: 16311 (16K) [image/jpeg]\n",
      "Saving to: 'images/data_ds_006.jpg'\n",
      "\n",
      "data_ds_006.jpg     100%[===================>]  15.93K  --.-KB/s    in 0s      \n",
      "\n",
      "2018-01-15 19:02:25 (246 MB/s) - 'images/data_ds_006.jpg' saved [16311/16311]\n",
      "\n"
     ]
    },
    {
     "data": {
      "text/plain": [
       "ObjectId('5a5d4edb6d99ba784beb0d27')"
      ]
     },
     "execution_count": 23,
     "metadata": {},
     "output_type": "execute_result"
    },
    {
     "name": "stdout",
     "output_type": "stream",
     "text": [
      "--2018-01-15 19:02:26--  https://www.nintendo.co.jp/ir/en/finance/software/img/data_ds_007.jpg\n",
      "Resolving www.nintendo.co.jp (www.nintendo.co.jp)... 23.52.165.106\n",
      "Connecting to www.nintendo.co.jp (www.nintendo.co.jp)|23.52.165.106|:443... connected.\n",
      "HTTP request sent, awaiting response... 200 OK\n",
      "Length: 14806 (14K) [image/jpeg]\n",
      "Saving to: 'images/data_ds_007.jpg'\n",
      "\n",
      "data_ds_007.jpg     100%[===================>]  14.46K  --.-KB/s    in 0s      \n",
      "\n",
      "2018-01-15 19:02:26 (283 MB/s) - 'images/data_ds_007.jpg' saved [14806/14806]\n",
      "\n"
     ]
    },
    {
     "data": {
      "text/plain": [
       "ObjectId('5a5d4edb6d99ba784beb0d28')"
      ]
     },
     "execution_count": 23,
     "metadata": {},
     "output_type": "execute_result"
    },
    {
     "name": "stdout",
     "output_type": "stream",
     "text": [
      "--2018-01-15 19:02:26--  https://www.nintendo.co.jp/ir/en/finance/softwaremg/data_ds_005.jpg\n",
      "Resolving www.nintendo.co.jp (www.nintendo.co.jp)... 23.52.165.106\n",
      "Connecting to www.nintendo.co.jp (www.nintendo.co.jp)|23.52.165.106|:443... connected.\n",
      "HTTP request sent, awaiting response... 404 Not Found\n",
      "2018-01-15 19:02:26 ERROR 404: Not Found.\n",
      "\n"
     ]
    },
    {
     "data": {
      "text/plain": [
       "ObjectId('5a5d4edb6d99ba784beb0d29')"
      ]
     },
     "execution_count": 23,
     "metadata": {},
     "output_type": "execute_result"
    },
    {
     "name": "stdout",
     "output_type": "stream",
     "text": [
      "--2018-01-15 19:02:26--  https://www.nintendo.co.jp/ir/en/finance/software/img/data_ds_008.jpg\n",
      "Resolving www.nintendo.co.jp (www.nintendo.co.jp)... 23.52.165.106\n",
      "Connecting to www.nintendo.co.jp (www.nintendo.co.jp)|23.52.165.106|:443... connected.\n",
      "HTTP request sent, awaiting response... 200 OK\n",
      "Length: 18925 (18K) [image/jpeg]\n",
      "Saving to: 'images/data_ds_008.jpg'\n",
      "\n",
      "data_ds_008.jpg     100%[===================>]  18.48K  --.-KB/s    in 0s      \n",
      "\n",
      "2018-01-15 19:02:27 (202 MB/s) - 'images/data_ds_008.jpg' saved [18925/18925]\n",
      "\n"
     ]
    },
    {
     "data": {
      "text/plain": [
       "ObjectId('5a5d4edb6d99ba784beb0d2a')"
      ]
     },
     "execution_count": 23,
     "metadata": {},
     "output_type": "execute_result"
    },
    {
     "name": "stdout",
     "output_type": "stream",
     "text": [
      "--2018-01-15 19:02:27--  https://www.nintendo.co.jp/ir/en/finance/softwaremg/data_ds_010.jpg\n",
      "Resolving www.nintendo.co.jp (www.nintendo.co.jp)... 23.52.165.106\n",
      "Connecting to www.nintendo.co.jp (www.nintendo.co.jp)|23.52.165.106|:443... connected.\n",
      "HTTP request sent, awaiting response... 404 Not Found\n",
      "2018-01-15 19:02:27 ERROR 404: Not Found.\n",
      "\n"
     ]
    },
    {
     "data": {
      "text/plain": [
       "ObjectId('5a5d4edb6d99ba784beb0d2b')"
      ]
     },
     "execution_count": 23,
     "metadata": {},
     "output_type": "execute_result"
    },
    {
     "name": "stdout",
     "output_type": "stream",
     "text": [
      "--2018-01-15 19:02:27--  https://www.nintendo.co.jp/ir/en/finance/softwaremg/data_ds_009.jpg\n",
      "Resolving www.nintendo.co.jp (www.nintendo.co.jp)... 23.52.165.106\n",
      "Connecting to www.nintendo.co.jp (www.nintendo.co.jp)|23.52.165.106|:443... connected.\n",
      "HTTP request sent, awaiting response... 404 Not Found\n",
      "2018-01-15 19:02:28 ERROR 404: Not Found.\n",
      "\n"
     ]
    },
    {
     "data": {
      "text/plain": [
       "ObjectId('5a5d4edb6d99ba784beb0d2c')"
      ]
     },
     "execution_count": 23,
     "metadata": {},
     "output_type": "execute_result"
    }
   ],
   "source": [
    "import re\n",
    "updated_games = []\n",
    "for gameindex, game in enumerate(games):\n",
    "    image = game['image']\n",
    "    image_short = image.split('/')[-1]\n",
    "    !wget --no-check-certificate $image -P images/ \n",
    "    game['image'] = 'images/' + image_short\n",
    "    game.pop('_id', None)\n",
    "    updated_games.append(game)"
   ]
  },
  {
   "cell_type": "markdown",
   "metadata": {},
   "source": [
    "#### Verify the downloaded images\n",
    "Run the `ls images` to show the available images and save the list to `lsimages`."
   ]
  },
  {
   "cell_type": "code",
   "execution_count": 24,
   "metadata": {},
   "outputs": [
    {
     "data": {
      "text/plain": [
       "['data_3ds_001.jpg',\n",
       " 'data_3ds_002.jpg',\n",
       " 'data_3ds_003.jpg',\n",
       " 'data_3ds_004.jpg',\n",
       " 'data_3ds_009.jpg',\n",
       " 'data_3ds_pokemonoras.jpg',\n",
       " 'data_3ds_pokemonsunmoon.jpg',\n",
       " 'data_3ds_pokemonxy.jpg',\n",
       " 'data_3ds_smashbros.jpg',\n",
       " 'data_3ds_tomodachicollection.jpg',\n",
       " 'data_ds_001.jpg',\n",
       " 'data_ds_002.jpg',\n",
       " 'data_ds_006.jpg',\n",
       " 'data_ds_007.jpg',\n",
       " 'data_ds_008.jpg',\n",
       " 'data_switch_001.png',\n",
       " 'data_switch_002.png',\n",
       " 'data_switch_003.png',\n",
       " 'data_switch_004.png',\n",
       " 'data_switch_005.png',\n",
       " 'data_wii_001.jpg',\n",
       " 'data_wii_002.jpg',\n",
       " 'data_wii_003.jpg',\n",
       " 'data_wii_004.jpg',\n",
       " 'data_wii_005.jpg',\n",
       " 'data_wii_006.jpg',\n",
       " 'data_wii_007.jpg',\n",
       " 'data_wii_008.jpg',\n",
       " 'data_wii_009.jpg',\n",
       " 'data_wii_wiiparty.jpg',\n",
       " 'data_wiiu_mario3dworld.png',\n",
       " 'data_wiiu_mariokart8.png',\n",
       " 'data_wiiu_marioparty10.jpg',\n",
       " 'data_wiiu_newmariou.png',\n",
       " 'data_wiiu_newsuperluigiu.png',\n",
       " 'data_wiiu_nintendoland.png',\n",
       " 'data_wiiu_smashbros.png',\n",
       " 'data_wiiu_splatoon.jpg',\n",
       " 'data_wiiu_supermariomaker.png',\n",
       " 'data_wiiu_zeldahd.png']"
      ]
     },
     "execution_count": 24,
     "metadata": {},
     "output_type": "execute_result"
    }
   ],
   "source": [
    "lsimages = !ls images\n",
    "lsimages"
   ]
  },
  {
   "cell_type": "markdown",
   "metadata": {},
   "source": [
    "#### Show the first image"
   ]
  },
  {
   "cell_type": "code",
   "execution_count": 25,
   "metadata": {},
   "outputs": [
    {
     "data": {
      "text/html": [
       "<img src=\"images/data_3ds_001.jpg\"/>"
      ],
      "text/plain": [
       "<IPython.core.display.Image object>"
      ]
     },
     "execution_count": 25,
     "metadata": {},
     "output_type": "execute_result"
    }
   ],
   "source": [
    "from IPython.display import Image\n",
    "from IPython.core.display import HTML \n",
    "Image(url='images/'+lsimages.list[0])"
   ]
  },
  {
   "cell_type": "markdown",
   "metadata": {},
   "source": [
    "#### Delete the old games from the database"
   ]
  },
  {
   "cell_type": "code",
   "execution_count": 26,
   "metadata": {},
   "outputs": [],
   "source": [
    "result = db.games.delete_many({})"
   ]
  },
  {
   "cell_type": "markdown",
   "metadata": {},
   "source": [
    "#### Insert the updated games"
   ]
  },
  {
   "cell_type": "code",
   "execution_count": 27,
   "metadata": {},
   "outputs": [],
   "source": [
    "result = db.games.insert_many(updated_games)"
   ]
  },
  {
   "cell_type": "markdown",
   "metadata": {},
   "source": [
    "<img class=\"logo\" src=\"http://files.jitsejan.com/logos/express.PNG\" />\n",
    "## Back-end\n",
    "Create the API with [ExpressJS](https://expressjs.com/) and [Mongoose](http://mongoosejs.com/).\n",
    "\n",
    "First make sure NodeJS is installed.\n",
    "\n",
    "```bash\n",
    "curl -sL https://deb.nodesource.com/setup_9.x | sudo -E bash -\n",
    "sudo apt-get install -y nodejs\n",
    "```"
   ]
  },
  {
   "cell_type": "code",
   "execution_count": 28,
   "metadata": {},
   "outputs": [
    {
     "name": "stdout",
     "output_type": "stream",
     "text": [
      "v9.4.0\r\n"
     ]
    }
   ],
   "source": [
    "!node --version"
   ]
  },
  {
   "cell_type": "code",
   "execution_count": 29,
   "metadata": {},
   "outputs": [
    {
     "name": "stdout",
     "output_type": "stream",
     "text": [
      "5.6.0\r\n"
     ]
    }
   ],
   "source": [
    "!npm --version"
   ]
  },
  {
   "cell_type": "markdown",
   "metadata": {},
   "source": [
    "### Create Node package and install Express generator\n",
    "Install the ExpressJS [generator](https://expressjs.com/en/starter/generator.html) after creating the `server` folder."
   ]
  },
  {
   "cell_type": "code",
   "execution_count": 30,
   "metadata": {},
   "outputs": [],
   "source": [
    "!rm -rf server"
   ]
  },
  {
   "cell_type": "code",
   "execution_count": 31,
   "metadata": {},
   "outputs": [
    {
     "name": "stdout",
     "output_type": "stream",
     "text": [
      "Wrote to /home/jitsejan/code/pelican-blog/content/notebooks/server/package.json:\n",
      "\n",
      "{\n",
      "  \"name\": \"server\",\n",
      "  \"version\": \"1.0.0\",\n",
      "  \"description\": \"\",\n",
      "  \"main\": \"index.js\",\n",
      "  \"scripts\": {\n",
      "    \"test\": \"echo \\\"Error: no test specified\\\" && exit 1\"\n",
      "  },\n",
      "  \"keywords\": [],\n",
      "  \"author\": \"\",\n",
      "  \"license\": \"ISC\"\n",
      "}\n",
      "\n",
      "\n",
      "\u001b[K\u001b[?25h\u001b[37;40mnpm\u001b[0m \u001b[0m\u001b[34;40mnotice\u001b[0m\u001b[35m\u001b[0m created a lockfile as package-lock.json. You should commit this file.\n",
      "\u001b[0m\u001b[37;40mnpm\u001b[0m \u001b[0m\u001b[30;43mWARN\u001b[0m\u001b[35m\u001b[0m server@1.0.0 No description\n",
      "\u001b[0m\u001b[37;40mnpm\u001b[0m \u001b[0m\u001b[30;43mWARN\u001b[0m\u001b[35m\u001b[0m server@1.0.0 No repository field.\n",
      "\u001b[0m\n",
      "+ express-generator@4.15.5\n",
      "added 6 packages in 0.764s\n"
     ]
    }
   ],
   "source": [
    "!mkdir server && cd server && npm init -y && npm install express-generator --save"
   ]
  },
  {
   "cell_type": "markdown",
   "metadata": {},
   "source": [
    "#### Check ExpressJS version"
   ]
  },
  {
   "cell_type": "code",
   "execution_count": 32,
   "metadata": {},
   "outputs": [
    {
     "name": "stdout",
     "output_type": "stream",
     "text": [
      "5.6.0\r\n"
     ]
    }
   ],
   "source": [
    "!cd server && npm express --version"
   ]
  },
  {
   "cell_type": "markdown",
   "metadata": {},
   "source": [
    "#### Create the scaffold for the server\n",
    "Note that we use `npx` instead of `npm` because we run NPM from a <b>local</b> folder."
   ]
  },
  {
   "cell_type": "code",
   "execution_count": 33,
   "metadata": {},
   "outputs": [
    {
     "name": "stdout",
     "output_type": "stream",
     "text": [
      "\r\n",
      "   \u001b[36mcreate\u001b[0m : .\r\n",
      "   \u001b[36mcreate\u001b[0m : ./package.json\r\n",
      "   \u001b[36mcreate\u001b[0m : ./app.js\r\n",
      "   \u001b[36mcreate\u001b[0m : ./.gitignore\r\n",
      "   \u001b[36mcreate\u001b[0m : ./public\r\n",
      "   \u001b[36mcreate\u001b[0m : ./routes\r\n",
      "   \u001b[36mcreate\u001b[0m : ./routes/index.js\r\n",
      "   \u001b[36mcreate\u001b[0m : ./routes/users.js\r\n",
      "   \u001b[36mcreate\u001b[0m : ./views\r\n",
      "   \u001b[36mcreate\u001b[0m : ./views/index.ejs\r\n",
      "   \u001b[36mcreate\u001b[0m : ./views/error.ejs\r\n",
      "   \u001b[36mcreate\u001b[0m : ./bin\r\n",
      "   \u001b[36mcreate\u001b[0m : ./bin/www\r\n",
      "   \u001b[36mcreate\u001b[0m : ./public/javascripts\r\n",
      "   \u001b[36mcreate\u001b[0m : ./public/images\r\n",
      "   \u001b[36mcreate\u001b[0m : ./public/stylesheets\r\n",
      "   \u001b[36mcreate\u001b[0m : ./public/stylesheets/style.css\r\n",
      "\r\n",
      "   install dependencies:\r\n",
      "     $ cd . && npm install\r\n",
      "\r\n",
      "   run the app:\r\n",
      "     $ DEBUG=server:* npm start\r\n",
      "\r\n"
     ]
    }
   ],
   "source": [
    "!cd server && npx express -y --force --git --view ejs ."
   ]
  },
  {
   "cell_type": "code",
   "execution_count": 34,
   "metadata": {},
   "outputs": [
    {
     "name": "stdout",
     "output_type": "stream",
     "text": [
      "app.js  \u001b[0m\u001b[01;34mnode_modules\u001b[0m/      package.json  \u001b[01;34mroutes\u001b[0m/\r\n",
      "\u001b[01;34mbin\u001b[0m/    package-lock.json  \u001b[01;34mpublic\u001b[0m/       \u001b[01;34mviews\u001b[0m/\r\n"
     ]
    }
   ],
   "source": [
    "ls server/"
   ]
  },
  {
   "cell_type": "code",
   "execution_count": 35,
   "metadata": {},
   "outputs": [
    {
     "name": "stdout",
     "output_type": "stream",
     "text": [
      "{\r\n",
      "  \"name\": \"server\",\r\n",
      "  \"version\": \"0.0.0\",\r\n",
      "  \"private\": true,\r\n",
      "  \"scripts\": {\r\n",
      "    \"start\": \"node ./bin/www\"\r\n",
      "  },\r\n",
      "  \"dependencies\": {\r\n",
      "    \"body-parser\": \"~1.18.2\",\r\n",
      "    \"cookie-parser\": \"~1.4.3\",\r\n",
      "    \"debug\": \"~2.6.9\",\r\n",
      "    \"ejs\": \"~2.5.7\",\r\n",
      "    \"express\": \"~4.15.5\",\r\n",
      "    \"morgan\": \"~1.9.0\",\r\n",
      "    \"serve-favicon\": \"~2.4.5\"\r\n",
      "  }\r\n",
      "}\r\n"
     ]
    }
   ],
   "source": [
    "!cat server/package.json"
   ]
  },
  {
   "cell_type": "markdown",
   "metadata": {},
   "source": [
    "#### Install dependencies"
   ]
  },
  {
   "cell_type": "code",
   "execution_count": 36,
   "metadata": {},
   "outputs": [
    {
     "name": "stdout",
     "output_type": "stream",
     "text": [
      "\u001b[K\u001b[?25hadded 57 packages and removed 5 packages in 1.734s32minfo\u001b[0m \u001b[35mlifecycle\u001b[0m server@0.0.0~prepare: ser\u001b[0m\u001b[K\u001b[K\n"
     ]
    }
   ],
   "source": [
    "!cd server && npm install"
   ]
  },
  {
   "cell_type": "markdown",
   "metadata": {},
   "source": [
    "#### Run the app"
   ]
  },
  {
   "cell_type": "code",
   "execution_count": 37,
   "metadata": {},
   "outputs": [
    {
     "data": {
      "text/plain": [
       "31494"
      ]
     },
     "execution_count": 37,
     "metadata": {},
     "output_type": "execute_result"
    }
   ],
   "source": [
    "import subprocess\n",
    "proc = subprocess.Popen(\"cd server && npm start &\", shell=True, stdout=subprocess.PIPE)\n",
    "proc.pid"
   ]
  },
  {
   "cell_type": "markdown",
   "metadata": {},
   "source": [
    "#### Request the ExpressJS app"
   ]
  },
  {
   "cell_type": "code",
   "execution_count": 38,
   "metadata": {},
   "outputs": [
    {
     "data": {
      "text/plain": [
       "200"
      ]
     },
     "execution_count": 38,
     "metadata": {},
     "output_type": "execute_result"
    }
   ],
   "source": [
    "import requests\n",
    "import time\n",
    "\n",
    "time.sleep(5)\n",
    "resp = requests.get('http://localhost:3000')\n",
    "resp.status_code"
   ]
  },
  {
   "cell_type": "markdown",
   "metadata": {},
   "source": [
    "#### Stop the ExpressJS app\n",
    "Use `lsof` to find the process that uses port 3000 and kill it."
   ]
  },
  {
   "cell_type": "code",
   "execution_count": 39,
   "metadata": {},
   "outputs": [
    {
     "data": {
      "text/plain": [
       "31506"
      ]
     },
     "execution_count": 39,
     "metadata": {},
     "output_type": "execute_result"
    }
   ],
   "source": [
    "process=!lsof -i:3000 -t\n",
    "expressid = int(process[0])\n",
    "expressid"
   ]
  },
  {
   "cell_type": "code",
   "execution_count": 40,
   "metadata": {},
   "outputs": [],
   "source": [
    "!kill -9 $expressid"
   ]
  },
  {
   "cell_type": "markdown",
   "metadata": {},
   "source": [
    "#### Check if the server is down"
   ]
  },
  {
   "cell_type": "code",
   "execution_count": 41,
   "metadata": {},
   "outputs": [
    {
     "name": "stdout",
     "output_type": "stream",
     "text": [
      "Server is down!\n"
     ]
    }
   ],
   "source": [
    "try:\n",
    "    resp = requests.get('http://localhost:3000')\n",
    "except:\n",
    "    print(\"Server is down!\")"
   ]
  },
  {
   "cell_type": "markdown",
   "metadata": {},
   "source": [
    "<img class=\"logo\" src=\"http://files.jitsejan.com/logos/mongoose.PNG\" />\n",
    "## Connection from ExpressJS to MongoDB \n",
    "[Mongoose](http://mongoosejs.com/) will be used to connect the Node application to the database."
   ]
  },
  {
   "cell_type": "markdown",
   "metadata": {},
   "source": [
    "#### Install package"
   ]
  },
  {
   "cell_type": "code",
   "execution_count": 42,
   "metadata": {},
   "outputs": [
    {
     "name": "stdout",
     "output_type": "stream",
     "text": [
      "\u001b[K\u001b[?25h+ mongoose@4.13.9m......\u001b[0m] - postinstall: \u001b[32minfo\u001b[0m \u001b[35mlifecycle\u001b[0m mongoose@4.13.9~postinstall:\u001b[0m\u001b[K\u001b[K\n",
      "added 28 packages in 2.103s\n"
     ]
    }
   ],
   "source": [
    "!cd server && npm install --save mongoose"
   ]
  },
  {
   "cell_type": "markdown",
   "metadata": {},
   "source": [
    "#### Check installation"
   ]
  },
  {
   "cell_type": "code",
   "execution_count": 43,
   "metadata": {},
   "outputs": [
    {
     "name": "stdout",
     "output_type": "stream",
     "text": [
      "    \"mongoose\": \"^4.13.9\",\r\n"
     ]
    }
   ],
   "source": [
    "!cat server/package.json | grep mongoose"
   ]
  },
  {
   "cell_type": "markdown",
   "metadata": {},
   "source": [
    "#### Add the Mongoose connection\n",
    "Add the following to the top of `server/app.js`.\n",
    "\n",
    "```javascript\n",
    "var mongoose = require('mongoose');\n",
    "mongoose.connect('mongodb://localhost:27017/nintendo');\n",
    "var db = mongoose.connection;\n",
    "db.on(\"error\", console.error.bind(console, \"Connection error\"));\n",
    "db.once(\"open\", function(callback){\n",
    "  console.log(\"Connection successful\")\n",
    "});\n",
    "```"
   ]
  },
  {
   "cell_type": "code",
   "execution_count": 44,
   "metadata": {},
   "outputs": [
    {
     "name": "stdout",
     "output_type": "stream",
     "text": [
      "Overwriting server/app.js\n"
     ]
    }
   ],
   "source": [
    "%%file server/app.js\n",
    "var express = require('express');\n",
    "var path = require('path');\n",
    "var favicon = require('serve-favicon');\n",
    "var logger = require('morgan');\n",
    "var cookieParser = require('cookie-parser');\n",
    "var bodyParser = require('body-parser');\n",
    "// Mongoose connection\n",
    "var mongoose = require('mongoose');\n",
    "mongoose.connect('mongodb://localhost:27017/nintendo');\n",
    "var db = mongoose.connection;\n",
    "db.on(\"error\", console.error.bind(console, \"Connection error\"));\n",
    "db.once(\"open\", function(callback){\n",
    "  console.log(\"Connection successful\")\n",
    "});\n",
    "\n",
    "var index = require('./routes/index');\n",
    "var users = require('./routes/users');\n",
    "\n",
    "var app = express();\n",
    "\n",
    "// view engine setup\n",
    "app.set('views', path.join(__dirname, 'views'));\n",
    "app.set('view engine', 'ejs');\n",
    "\n",
    "// uncomment after placing your favicon in /public\n",
    "//app.use(favicon(path.join(__dirname, 'public', 'favicon.ico')));\n",
    "app.use(logger('dev'));\n",
    "app.use(bodyParser.json());\n",
    "app.use(bodyParser.urlencoded({ extended: false }));\n",
    "app.use(cookieParser());\n",
    "app.use(express.static(path.join(__dirname, 'public')));\n",
    "\n",
    "app.use('/', index);\n",
    "app.use('/users', users);\n",
    "\n",
    "// catch 404 and forward to error handler\n",
    "app.use(function(req, res, next) {\n",
    "  var err = new Error('Not Found');\n",
    "  err.status = 404;\n",
    "  next(err);\n",
    "});\n",
    "\n",
    "// error handler\n",
    "app.use(function(err, req, res, next) {\n",
    "  // set locals, only providing error in development\n",
    "  res.locals.message = err.message;\n",
    "  res.locals.error = req.app.get('env') === 'development' ? err : {};\n",
    "\n",
    "  // render the error page\n",
    "  res.status(err.status || 500);\n",
    "  res.render('error');\n",
    "});\n",
    "\n",
    "module.exports = app;"
   ]
  },
  {
   "cell_type": "code",
   "execution_count": 45,
   "metadata": {},
   "outputs": [
    {
     "name": "stdout",
     "output_type": "stream",
     "text": [
      "var express = require('express');\r\n",
      "var path = require('path');\r\n",
      "var favicon = require('serve-favicon');\r\n",
      "var logger = require('morgan');\r\n",
      "var cookieParser = require('cookie-parser');\r\n",
      "var bodyParser = require('body-parser');\r\n",
      "// Mongoose connection\r\n",
      "var mongoose = require('mongoose');\r\n",
      "mongoose.connect('mongodb://localhost:27017/nintendo');\r\n",
      "var db = mongoose.connection;\r\n",
      "db.on(\"error\", console.error.bind(console, \"Connection error\"));\r\n",
      "db.once(\"open\", function(callback){\r\n",
      "  console.log(\"Connection successful\")\r\n",
      "});\r\n",
      "\r\n",
      "var index = require('./routes/index');\r\n",
      "var users = require('./routes/users');\r\n",
      "\r\n",
      "var app = express();\r\n",
      "\r\n"
     ]
    }
   ],
   "source": [
    "!head -n 20 server/app.js"
   ]
  },
  {
   "cell_type": "markdown",
   "metadata": {},
   "source": [
    "#### Check if MongoDB initializes"
   ]
  },
  {
   "cell_type": "code",
   "execution_count": 46,
   "metadata": {},
   "outputs": [],
   "source": [
    "import subprocess\n",
    "proc = subprocess.Popen(\"cd server && npm start &\", shell=True, stdout=subprocess.PIPE)"
   ]
  },
  {
   "cell_type": "code",
   "execution_count": 47,
   "metadata": {},
   "outputs": [
    {
     "name": "stdout",
     "output_type": "stream",
     "text": [
      "b'\\n'\n",
      "b'> server@0.0.0 start /home/jitsejan/code/pelican-blog/content/notebooks/server\\n'\n",
      "b'> node ./bin/www\\n'\n",
      "b'\\n'\n",
      "b'Connection successful\\n'\n",
      "Success!\n"
     ]
    }
   ],
   "source": [
    "import time\n",
    "\n",
    "time.sleep(5)\n",
    "for line in proc.stdout:\n",
    "    print(str(line))\n",
    "    if 'Connection successful' in str(line):\n",
    "        print(\"Success!\")\n",
    "        break"
   ]
  },
  {
   "cell_type": "code",
   "execution_count": 48,
   "metadata": {},
   "outputs": [],
   "source": [
    "process=!lsof -i:3000 -t\n",
    "expressid = int(process[0])\n",
    "!kill -9 $expressid"
   ]
  },
  {
   "cell_type": "markdown",
   "metadata": {},
   "source": [
    "### Create new model\n",
    "Create the Mongoose model for the games that we gathered in the earlier step."
   ]
  },
  {
   "cell_type": "code",
   "execution_count": 49,
   "metadata": {},
   "outputs": [],
   "source": [
    "!mkdir server/models"
   ]
  },
  {
   "cell_type": "code",
   "execution_count": 50,
   "metadata": {},
   "outputs": [
    {
     "name": "stdout",
     "output_type": "stream",
     "text": [
      "Writing server/models/game.js\n"
     ]
    }
   ],
   "source": [
    "%%file server/models/game.js\n",
    "var mongoose = require(\"mongoose\");\n",
    "var Schema = mongoose.Schema;\n",
    "\n",
    "var GameSchema = new Schema({\n",
    "  console: {\n",
    "    type: String\n",
    "  },\n",
    "  name: {\n",
    "    type: String\n",
    "  },\n",
    "  image: {\n",
    "    type: String\n",
    "  },\n",
    "  sales: {\n",
    "    type: String\n",
    "  }\n",
    "});\n",
    "\n",
    "module.exports = mongoose.model(\"Game\", GameSchema);"
   ]
  },
  {
   "cell_type": "markdown",
   "metadata": {},
   "source": [
    "### Adding new route\n",
    "Create the route to access the data of the games. In the scaffold we already have the `index.js` and `users.js`, so lets create the `games.js` to setup the routes for the new pages."
   ]
  },
  {
   "cell_type": "markdown",
   "metadata": {},
   "source": [
    "#### Existing routes"
   ]
  },
  {
   "cell_type": "code",
   "execution_count": 51,
   "metadata": {},
   "outputs": [
    {
     "name": "stdout",
     "output_type": "stream",
     "text": [
      "var express = require('express');\r\n",
      "var router = express.Router();\r\n",
      "\r\n",
      "/* GET home page. */\r\n",
      "router.get('/', function(req, res, next) {\r\n",
      "  res.render('index', { title: 'Express' });\r\n",
      "});\r\n",
      "\r\n",
      "module.exports = router;\r\n"
     ]
    }
   ],
   "source": [
    "!cat server/routes/index.js"
   ]
  },
  {
   "cell_type": "code",
   "execution_count": 52,
   "metadata": {},
   "outputs": [
    {
     "name": "stdout",
     "output_type": "stream",
     "text": [
      "var express = require('express');\r\n",
      "var router = express.Router();\r\n",
      "\r\n",
      "/* GET users listing. */\r\n",
      "router.get('/', function(req, res, next) {\r\n",
      "  res.send('respond with a resource');\r\n",
      "});\r\n",
      "\r\n",
      "module.exports = router;\r\n"
     ]
    }
   ],
   "source": [
    "!cat server/routes/users.js"
   ]
  },
  {
   "cell_type": "markdown",
   "metadata": {},
   "source": [
    "#### Add the route requirement\n",
    "Add the following to `server/app.js`:\n",
    "\n",
    "```javascript\n",
    "...\n",
    "var consoles = require('./routes/games.js');\n",
    "...\n",
    "app.use('/games', games);\n",
    "...\n",
    "```\n",
    "\n",
    "With `sed` we can insert text on a certain position in a file."
   ]
  },
  {
   "cell_type": "code",
   "execution_count": 53,
   "metadata": {},
   "outputs": [],
   "source": [
    "!sed -i \"18i var games = require('./routes/games');\" server/app.js"
   ]
  },
  {
   "cell_type": "markdown",
   "metadata": {},
   "source": [
    "Enable the routes in the app:"
   ]
  },
  {
   "cell_type": "code",
   "execution_count": 54,
   "metadata": {},
   "outputs": [],
   "source": [
    "!sed -i \"36i app.use('/games', games);\" server/app.js"
   ]
  },
  {
   "cell_type": "markdown",
   "metadata": {},
   "source": [
    "and create the route file `server/routes/games.js`:"
   ]
  },
  {
   "cell_type": "code",
   "execution_count": 55,
   "metadata": {},
   "outputs": [
    {
     "name": "stdout",
     "output_type": "stream",
     "text": [
      "Writing server/routes/games.js\n"
     ]
    }
   ],
   "source": [
    "%%file server/routes/games.js\n",
    "var express = require('express');\n",
    "var router = express.Router();\n",
    "var Game = require(\"../models/game\");\n",
    "\n",
    "router.get('/', (req, res) => {\n",
    "  Game.find({}, '', function (error, games){\n",
    "    if (error) { game.error(error); }\n",
    "    res.send({\n",
    "      games: games\n",
    "    })\n",
    "  }).sort({_id:-1})\n",
    "})\n",
    "\n",
    "module.exports = router;"
   ]
  },
  {
   "cell_type": "markdown",
   "metadata": {},
   "source": [
    "Start the server and verify the new route which should return a JSON object."
   ]
  },
  {
   "cell_type": "code",
   "execution_count": 56,
   "metadata": {
    "scrolled": false
   },
   "outputs": [
    {
     "name": "stdout",
     "output_type": "stream",
     "text": [
      "{\n",
      "    \"games\": [\n",
      "        {\n",
      "            \"image\": \"images/data_ds_009.jpg\",\n",
      "            \"console\": \"Nintendo DS\",\n",
      "            \"_id\": \"5a5d4f246d99ba784beb0e3a\",\n",
      "            \"sales\": \"11.06\",\n",
      "            \"name\": \"Super Mario 64 DS\"\n",
      "        },\n",
      "        {\n",
      "            \"image\": \"images/data_ds_010.jpg\",\n",
      "            \"console\": \"Nintendo DS\",\n",
      "            \"_id\": \"5a5d4f246d99ba784beb0e39\",\n",
      "            \"sales\": \"11.75\",\n",
      "            \"name\": \"Animal Crossing:\"\n",
      "        },\n",
      "        {\n",
      "            \"image\": \"images/data_ds_008.jpg\",\n",
      "            \"console\": \"Nintendo DS\",\n",
      "            \"_id\": \"5a5d4f246d99ba784beb0e38\",\n",
      "            \"sales\": \"12.72\",\n",
      "            \"name\": \"Pok\\u00e9mon\"\n",
      "        },\n",
      "        {\n",
      "            \"image\": \"images/data_ds_005.jpg\",\n",
      "            \"console\": \"Nintendo DS\",\n",
      "            \"_id\": \"5a5d4f246d99ba784beb0e37\",\n",
      "            \"sales\": \"14.88\",\n",
      "            \"name\": \"Brain Age 2:\"\n",
      "        },\n",
      "        {\n",
      "            \"image\": \"images/data_ds_007.jpg\",\n",
      "            \"console\": \"Nintendo DS\",\n",
      "            \"_id\": \"5a5d4f246d99ba784beb0e36\",\n",
      "            \"sales\": \"15.64\",\n",
      "            \"name\": \"Pok\\u00e9mon\"\n",
      "        },\n",
      "        {\n",
      "            \"image\": \"images/data_ds_006.jpg\",\n",
      "            \"console\": \"Nintendo DS\",\n",
      "            \"_id\": \"5a5d4f246d99ba784beb0e35\",\n",
      "            \"sales\": \"17.67\",\n",
      "            \"name\": \"Pok\\u00e9mon\"\n",
      "        },\n",
      "        {\n",
      "            \"image\": \"images/data_ds_004.jpg\",\n",
      "            \"console\": \"Nintendo DS\",\n",
      "            \"_id\": \"5a5d4f246d99ba784beb0e34\",\n",
      "            \"sales\": \"19.01\",\n",
      "            \"name\": \"Brain Age:\"\n",
      "        },\n",
      "        {\n",
      "            \"image\": \"images/data_ds_002.jpg\",\n",
      "            \"console\": \"Nintendo DS\",\n",
      "            \"_id\": \"5a5d4f246d99ba784beb0e33\",\n",
      "            \"sales\": \"23.60\",\n",
      "            \"name\": \"Mario Kart DS\"\n",
      "        },\n",
      "        {\n",
      "            \"image\": \"images/data_ds_003.jpg\",\n",
      "            \"console\": \"Nintendo DS\",\n",
      "            \"_id\": \"5a5d4f246d99ba784beb0e32\",\n",
      "            \"sales\": \"23.96\",\n",
      "            \"name\": \"nintendogs\"\n",
      "        },\n",
      "        {\n",
      "            \"image\": \"images/data_ds_001.jpg\",\n",
      "            \"console\": \"Nintendo DS\",\n",
      "            \"_id\": \"5a5d4f246d99ba784beb0e31\",\n",
      "            \"sales\": \"30.80\",\n",
      "            \"name\": \"New Super Mario Bros.\"\n",
      "        },\n",
      "        {\n",
      "            \"image\": \"images/data_wii_wiiparty.jpg\",\n",
      "            \"console\": \"Wii\",\n",
      "            \"_id\": \"5a5d4f246d99ba784beb0e30\",\n",
      "            \"sales\": \"9.29\",\n",
      "            \"name\": \"Wii Party\"\n",
      "        },\n",
      "        {\n",
      "            \"image\": \"images/data_wii_008.jpg\",\n",
      "            \"console\": \"Wii\",\n",
      "            \"_id\": \"5a5d4f246d99ba784beb0e2f\",\n",
      "            \"sales\": \"12.76\",\n",
      "            \"name\": \"Super Mario Galaxy\"\n",
      "        },\n",
      "        {\n",
      "            \"image\": \"images/data_wii_009.jpg\",\n",
      "            \"console\": \"Wii\",\n",
      "            \"_id\": \"5a5d4f246d99ba784beb0e2e\",\n",
      "            \"sales\": \"13.25\",\n",
      "            \"name\": \"Super Smash Bros.\"\n",
      "        },\n",
      "        {\n",
      "            \"image\": \"images/data_wii_007.jpg\",\n",
      "            \"console\": \"Wii\",\n",
      "            \"_id\": \"5a5d4f246d99ba784beb0e2d\",\n",
      "            \"sales\": \"21.13\",\n",
      "            \"name\": \"Wii Fit Plus\"\n",
      "        },\n",
      "        {\n",
      "            \"image\": \"images/data_wii_006.jpg\",\n",
      "            \"console\": \"Wii\",\n",
      "            \"_id\": \"5a5d4f246d99ba784beb0e2c\",\n",
      "            \"sales\": \"22.67\",\n",
      "            \"name\": \"Wii Fit\"\n",
      "        },\n",
      "        {\n",
      "            \"image\": \"images/data_wii_004.jpg\",\n",
      "            \"console\": \"Wii\",\n",
      "            \"_id\": \"5a5d4f246d99ba784beb0e2b\",\n",
      "            \"sales\": \"28.02\",\n",
      "            \"name\": \"Wii Play\"\n",
      "        },\n",
      "        {\n",
      "            \"image\": \"images/data_wii_005.jpg\",\n",
      "            \"console\": \"Wii\",\n",
      "            \"_id\": \"5a5d4f246d99ba784beb0e2a\",\n",
      "            \"sales\": \"30.11\",\n",
      "            \"name\": \"New\"\n",
      "        },\n",
      "        {\n",
      "            \"image\": \"images/data_wii_003.jpg\",\n",
      "            \"console\": \"Wii\",\n",
      "            \"_id\": \"5a5d4f246d99ba784beb0e29\",\n",
      "            \"sales\": \"33.06\",\n",
      "            \"name\": \"Wii Sports Resort\"\n",
      "        },\n",
      "        {\n",
      "            \"image\": \"images/data_wii_002.jpg\",\n",
      "            \"console\": \"Wii\",\n",
      "            \"_id\": \"5a5d4f246d99ba784beb0e28\",\n",
      "            \"sales\": \"37.02\",\n",
      "            \"name\": \"Mario Kart Wii\"\n",
      "        },\n",
      "        {\n",
      "            \"image\": \"images/data_wii_001.jpg\",\n",
      "            \"console\": \"Wii\",\n",
      "            \"_id\": \"5a5d4f246d99ba784beb0e27\",\n",
      "            \"sales\": \"82.83\",\n",
      "            \"name\": \"Wii Sports\"\n",
      "        },\n",
      "        {\n",
      "            \"image\": \"images/data_3ds_009.jpg\",\n",
      "            \"console\": \"Nintendo 3DS\",\n",
      "            \"_id\": \"5a5d4f246d99ba784beb0e26\",\n",
      "            \"sales\": \"5.45\",\n",
      "            \"name\": \"Luigi's Mansion:\"\n",
      "        },\n",
      "        {\n",
      "            \"image\": \"images/data_3ds_tomodachicollection.jpg\",\n",
      "            \"console\": \"Nintendo 3DS\",\n",
      "            \"_id\": \"5a5d4f246d99ba784beb0e25\",\n",
      "            \"sales\": \"5.93\",\n",
      "            \"name\": \"Tomodachi Life\"\n",
      "        },\n",
      "        {\n",
      "            \"image\": \"images/data_3ds_smashbros.jpg\",\n",
      "            \"console\": \"Nintendo 3DS\",\n",
      "            \"_id\": \"5a5d4f246d99ba784beb0e24\",\n",
      "            \"sales\": \"8.91\",\n",
      "            \"name\": \"Super Smash Bros.\"\n",
      "        },\n",
      "        {\n",
      "            \"image\": \"images/data_3ds_004.jpg\",\n",
      "            \"console\": \"Nintendo 3DS\",\n",
      "            \"_id\": \"5a5d4f246d99ba784beb0e23\",\n",
      "            \"sales\": \"11.23\",\n",
      "            \"name\": \"Animal Crossing:\"\n",
      "        },\n",
      "        {\n",
      "            \"image\": \"images/data_3ds_001.jpg\",\n",
      "            \"console\": \"Nintendo 3DS\",\n",
      "            \"_id\": \"5a5d4f246d99ba784beb0e22\",\n",
      "            \"sales\": \"11.40\",\n",
      "            \"name\": \"SUPER MARIO\"\n",
      "        },\n",
      "        {\n",
      "            \"image\": \"images/data_3ds_003.jpg\",\n",
      "            \"console\": \"Nintendo 3DS\",\n",
      "            \"_id\": \"5a5d4f246d99ba784beb0e21\",\n",
      "            \"sales\": \"11.73\",\n",
      "            \"name\": \"New\"\n",
      "        },\n",
      "        {\n",
      "            \"image\": \"images/data_3ds_pokemonoras.jpg\",\n",
      "            \"console\": \"Nintendo 3DS\",\n",
      "            \"_id\": \"5a5d4f246d99ba784beb0e20\",\n",
      "            \"sales\": \"13.85\",\n",
      "            \"name\": \"Pok\\u00e9mon Omega Ruby/\"\n",
      "        },\n",
      "        {\n",
      "            \"image\": \"images/data_3ds_pokemonsunmoon.jpg\",\n",
      "            \"console\": \"Nintendo 3DS\",\n",
      "            \"_id\": \"5a5d4f246d99ba784beb0e1f\",\n",
      "            \"sales\": \"15.91\",\n",
      "            \"name\": \"Pok\\u00e9mon Sun/\"\n",
      "        },\n",
      "        {\n",
      "            \"image\": \"images/data_3ds_002.jpg\",\n",
      "            \"console\": \"Nintendo 3DS\",\n",
      "            \"_id\": \"5a5d4f246d99ba784beb0e1e\",\n",
      "            \"sales\": \"15.95\",\n",
      "            \"name\": \"Mario Kart 7\"\n",
      "        },\n",
      "        {\n",
      "            \"image\": \"images/data_3ds_pokemonxy.jpg\",\n",
      "            \"console\": \"Nintendo 3DS\",\n",
      "            \"_id\": \"5a5d4f246d99ba784beb0e1d\",\n",
      "            \"sales\": \"16.20\",\n",
      "            \"name\": \"Pok\\u00e9mon X/Pok\\u00e9mon Y\"\n",
      "        },\n",
      "        {\n",
      "            \"image\": \"images/data_wiiu_marioparty10.jpg\",\n",
      "            \"console\": \"Wii U\",\n",
      "            \"_id\": \"5a5d4f246d99ba784beb0e1c\",\n",
      "            \"sales\": \"2.13\",\n",
      "            \"name\": \"Mario Party 10\"\n",
      "        },\n",
      "        {\n",
      "            \"image\": \"images/data_wiiu_zeldahd.png\",\n",
      "            \"console\": \"Wii U\",\n",
      "            \"_id\": \"5a5d4f246d99ba784beb0e1b\",\n",
      "            \"sales\": \"2.23\",\n",
      "            \"name\": \"The Legend of Zelda:\"\n",
      "        },\n",
      "        {\n",
      "            \"image\": \"images/data_wiiu_newsuperluigiu.png\",\n",
      "            \"console\": \"Wii U\",\n",
      "            \"_id\": \"5a5d4f246d99ba784beb0e1a\",\n",
      "            \"sales\": \"2.99\",\n",
      "            \"name\": \"New Super Luigi U\"\n",
      "        },\n",
      "        {\n",
      "            \"image\": \"images/data_wiiu_supermariomaker.png\",\n",
      "            \"console\": \"Wii U\",\n",
      "            \"_id\": \"5a5d4f246d99ba784beb0e19\",\n",
      "            \"sales\": \"3.98\",\n",
      "            \"name\": \"Super Mario Maker\"\n",
      "        },\n",
      "        {\n",
      "            \"image\": \"images/data_wiiu_splatoon.jpg\",\n",
      "            \"console\": \"Wii U\",\n",
      "            \"_id\": \"5a5d4f246d99ba784beb0e18\",\n",
      "            \"sales\": \"4.87\",\n",
      "            \"name\": \"Splatoon\"\n",
      "        },\n",
      "        {\n",
      "            \"image\": \"images/data_wiiu_nintendoland.png\",\n",
      "            \"console\": \"Wii U\",\n",
      "            \"_id\": \"5a5d4f246d99ba784beb0e17\",\n",
      "            \"sales\": \"5.18\",\n",
      "            \"name\": \"Nintendo Land\"\n",
      "        },\n",
      "        {\n",
      "            \"image\": \"images/data_wiiu_smashbros.png\",\n",
      "            \"console\": \"Wii U\",\n",
      "            \"_id\": \"5a5d4f246d99ba784beb0e16\",\n",
      "            \"sales\": \"5.26\",\n",
      "            \"name\": \"Super Smash Bros.\"\n",
      "        },\n",
      "        {\n",
      "            \"image\": \"images/data_wiiu_mario3dworld.png\",\n",
      "            \"console\": \"Wii U\",\n",
      "            \"_id\": \"5a5d4f246d99ba784beb0e15\",\n",
      "            \"sales\": \"5.70\",\n",
      "            \"name\": \"Super Mario 3D World\"\n",
      "        },\n",
      "        {\n",
      "            \"image\": \"images/data_wiiu_newmariou.png\",\n",
      "            \"console\": \"Wii U\",\n",
      "            \"_id\": \"5a5d4f246d99ba784beb0e14\",\n",
      "            \"sales\": \"5.73\",\n",
      "            \"name\": \"New\"\n",
      "        },\n",
      "        {\n",
      "            \"image\": \"images/data_wiiu_mariokart8.png\",\n",
      "            \"console\": \"Wii U\",\n",
      "            \"_id\": \"5a5d4f246d99ba784beb0e13\",\n",
      "            \"sales\": \"8.38\",\n",
      "            \"name\": \"Mario Kart 8\"\n",
      "        },\n",
      "        {\n",
      "            \"image\": \"images/data_switch_004.png\",\n",
      "            \"console\": \"Nintendo Switch\",\n",
      "            \"_id\": \"5a5d4f246d99ba784beb0e12\",\n",
      "            \"sales\": \"1.35\",\n",
      "            \"name\": \"ARMS\"\n",
      "        },\n",
      "        {\n",
      "            \"image\": \"images/data_switch_003.png\",\n",
      "            \"console\": \"Nintendo Switch\",\n",
      "            \"_id\": \"5a5d4f246d99ba784beb0e11\",\n",
      "            \"sales\": \"1.37\",\n",
      "            \"name\": \"1-2-Switch\"\n",
      "        },\n",
      "        {\n",
      "            \"image\": \"images/data_switch_005.png\",\n",
      "            \"console\": \"Nintendo Switch\",\n",
      "            \"_id\": \"5a5d4f246d99ba784beb0e10\",\n",
      "            \"sales\": \"3.61\",\n",
      "            \"name\": \"Splatoon 2\"\n",
      "        },\n",
      "        {\n",
      "            \"image\": \"images/data_switch_002.png\",\n",
      "            \"console\": \"Nintendo Switch\",\n",
      "            \"_id\": \"5a5d4f246d99ba784beb0e0f\",\n",
      "            \"sales\": \"4.42\",\n",
      "            \"name\": \"Mario Kart 8 Deluxe\"\n",
      "        },\n",
      "        {\n",
      "            \"image\": \"images/data_switch_001.png\",\n",
      "            \"console\": \"Nintendo Switch\",\n",
      "            \"_id\": \"5a5d4f246d99ba784beb0e0e\",\n",
      "            \"sales\": \"4.70\",\n",
      "            \"name\": \"The Legend of Zelda:\"\n",
      "        },\n",
      "        {\n",
      "            \"image\": \"images/data_wii_wiiparty.jpg\",\n",
      "            \"console\": \"Wii\",\n",
      "            \"_id\": \"5a5d4f246d99ba784beb0e0d\",\n",
      "            \"sales\": \"9.29\",\n",
      "            \"name\": \"Wii Party\"\n",
      "        },\n",
      "        {\n",
      "            \"image\": \"images/data_wii_008.jpg\",\n",
      "            \"console\": \"Wii\",\n",
      "            \"_id\": \"5a5d4f246d99ba784beb0e0c\",\n",
      "            \"sales\": \"12.76\",\n",
      "            \"name\": \"Super Mario Galaxy\"\n",
      "        },\n",
      "        {\n",
      "            \"image\": \"images/data_wii_009.jpg\",\n",
      "            \"console\": \"Wii\",\n",
      "            \"_id\": \"5a5d4f246d99ba784beb0e0b\",\n",
      "            \"sales\": \"13.25\",\n",
      "            \"name\": \"Super Smash Bros.\"\n",
      "        },\n",
      "        {\n",
      "            \"image\": \"images/data_wii_007.jpg\",\n",
      "            \"console\": \"Wii\",\n",
      "            \"_id\": \"5a5d4f246d99ba784beb0e0a\",\n",
      "            \"sales\": \"21.13\",\n",
      "            \"name\": \"Wii Fit Plus\"\n",
      "        },\n",
      "        {\n",
      "            \"image\": \"images/data_wii_006.jpg\",\n",
      "            \"console\": \"Wii\",\n",
      "            \"_id\": \"5a5d4f246d99ba784beb0e09\",\n",
      "            \"sales\": \"22.67\",\n",
      "            \"name\": \"Wii Fit\"\n",
      "        },\n",
      "        {\n",
      "            \"image\": \"images/data_wii_004.jpg\",\n",
      "            \"console\": \"Wii\",\n",
      "            \"_id\": \"5a5d4f246d99ba784beb0e08\",\n",
      "            \"sales\": \"28.02\",\n",
      "            \"name\": \"Wii Play\"\n",
      "        },\n",
      "        {\n",
      "            \"image\": \"images/data_wii_005.jpg\",\n",
      "            \"console\": \"Wii\",\n",
      "            \"_id\": \"5a5d4f246d99ba784beb0e07\",\n",
      "            \"sales\": \"30.11\",\n",
      "            \"name\": \"New\"\n",
      "        },\n",
      "        {\n",
      "            \"image\": \"images/data_wii_003.jpg\",\n",
      "            \"console\": \"Wii\",\n",
      "            \"_id\": \"5a5d4f246d99ba784beb0e06\",\n",
      "            \"sales\": \"33.06\",\n",
      "            \"name\": \"Wii Sports Resort\"\n",
      "        },\n",
      "        {\n",
      "            \"image\": \"images/data_wii_002.jpg\",\n",
      "            \"console\": \"Wii\",\n",
      "            \"_id\": \"5a5d4f246d99ba784beb0e05\",\n",
      "            \"sales\": \"37.02\",\n",
      "            \"name\": \"Mario Kart Wii\"\n",
      "        },\n",
      "        {\n",
      "            \"image\": \"images/data_wii_001.jpg\",\n",
      "            \"console\": \"Wii\",\n",
      "            \"_id\": \"5a5d4f246d99ba784beb0e04\",\n",
      "            \"sales\": \"82.83\",\n",
      "            \"name\": \"Wii Sports\"\n",
      "        },\n",
      "        {\n",
      "            \"image\": \"images/data_3ds_009.jpg\",\n",
      "            \"console\": \"Nintendo 3DS\",\n",
      "            \"_id\": \"5a5d4f246d99ba784beb0e03\",\n",
      "            \"sales\": \"5.45\",\n",
      "            \"name\": \"Luigi's Mansion:\"\n",
      "        },\n",
      "        {\n",
      "            \"image\": \"images/data_3ds_tomodachicollection.jpg\",\n",
      "            \"console\": \"Nintendo 3DS\",\n",
      "            \"_id\": \"5a5d4f246d99ba784beb0e02\",\n",
      "            \"sales\": \"5.93\",\n",
      "            \"name\": \"Tomodachi Life\"\n",
      "        },\n",
      "        {\n",
      "            \"image\": \"images/data_3ds_smashbros.jpg\",\n",
      "            \"console\": \"Nintendo 3DS\",\n",
      "            \"_id\": \"5a5d4f246d99ba784beb0e01\",\n",
      "            \"sales\": \"8.91\",\n",
      "            \"name\": \"Super Smash Bros.\"\n",
      "        },\n",
      "        {\n",
      "            \"image\": \"images/data_3ds_004.jpg\",\n",
      "            \"console\": \"Nintendo 3DS\",\n",
      "            \"_id\": \"5a5d4f246d99ba784beb0e00\",\n",
      "            \"sales\": \"11.23\",\n",
      "            \"name\": \"Animal Crossing:\"\n",
      "        },\n",
      "        {\n",
      "            \"image\": \"images/data_3ds_001.jpg\",\n",
      "            \"console\": \"Nintendo 3DS\",\n",
      "            \"_id\": \"5a5d4f246d99ba784beb0dff\",\n",
      "            \"sales\": \"11.40\",\n",
      "            \"name\": \"SUPER MARIO\"\n",
      "        },\n",
      "        {\n",
      "            \"image\": \"images/data_3ds_003.jpg\",\n",
      "            \"console\": \"Nintendo 3DS\",\n",
      "            \"_id\": \"5a5d4f246d99ba784beb0dfe\",\n",
      "            \"sales\": \"11.73\",\n",
      "            \"name\": \"New\"\n",
      "        },\n",
      "        {\n",
      "            \"image\": \"images/data_3ds_pokemonoras.jpg\",\n",
      "            \"console\": \"Nintendo 3DS\",\n",
      "            \"_id\": \"5a5d4f246d99ba784beb0dfd\",\n",
      "            \"sales\": \"13.85\",\n",
      "            \"name\": \"Pok\\u00e9mon Omega Ruby/\"\n",
      "        },\n",
      "        {\n",
      "            \"image\": \"images/data_3ds_pokemonsunmoon.jpg\",\n",
      "            \"console\": \"Nintendo 3DS\",\n",
      "            \"_id\": \"5a5d4f246d99ba784beb0dfc\",\n",
      "            \"sales\": \"15.91\",\n",
      "            \"name\": \"Pok\\u00e9mon Sun/\"\n",
      "        },\n",
      "        {\n",
      "            \"image\": \"images/data_3ds_002.jpg\",\n",
      "            \"console\": \"Nintendo 3DS\",\n",
      "            \"_id\": \"5a5d4f246d99ba784beb0dfb\",\n",
      "            \"sales\": \"15.95\",\n",
      "            \"name\": \"Mario Kart 7\"\n",
      "        },\n",
      "        {\n",
      "            \"image\": \"images/data_3ds_pokemonxy.jpg\",\n",
      "            \"console\": \"Nintendo 3DS\",\n",
      "            \"_id\": \"5a5d4f246d99ba784beb0dfa\",\n",
      "            \"sales\": \"16.20\",\n",
      "            \"name\": \"Pok\\u00e9mon X/Pok\\u00e9mon Y\"\n",
      "        },\n",
      "        {\n",
      "            \"image\": \"images/data_ds_009.jpg\",\n",
      "            \"console\": \"Nintendo DS\",\n",
      "            \"_id\": \"5a5d4f246d99ba784beb0df9\",\n",
      "            \"sales\": \"11.06\",\n",
      "            \"name\": \"Super Mario 64 DS\"\n",
      "        },\n",
      "        {\n",
      "            \"image\": \"images/data_ds_010.jpg\",\n",
      "            \"console\": \"Nintendo DS\",\n",
      "            \"_id\": \"5a5d4f246d99ba784beb0df8\",\n",
      "            \"sales\": \"11.75\",\n",
      "            \"name\": \"Animal Crossing:\"\n",
      "        },\n",
      "        {\n",
      "            \"image\": \"images/data_ds_008.jpg\",\n",
      "            \"console\": \"Nintendo DS\",\n",
      "            \"_id\": \"5a5d4f246d99ba784beb0df7\",\n",
      "            \"sales\": \"12.72\",\n",
      "            \"name\": \"Pok\\u00e9mon\"\n",
      "        },\n",
      "        {\n",
      "            \"image\": \"images/data_ds_005.jpg\",\n",
      "            \"console\": \"Nintendo DS\",\n",
      "            \"_id\": \"5a5d4f246d99ba784beb0df6\",\n",
      "            \"sales\": \"14.88\",\n",
      "            \"name\": \"Brain Age 2:\"\n",
      "        },\n",
      "        {\n",
      "            \"image\": \"images/data_ds_007.jpg\",\n",
      "            \"console\": \"Nintendo DS\",\n",
      "            \"_id\": \"5a5d4f246d99ba784beb0df5\",\n",
      "            \"sales\": \"15.64\",\n",
      "            \"name\": \"Pok\\u00e9mon\"\n",
      "        },\n",
      "        {\n",
      "            \"image\": \"images/data_ds_006.jpg\",\n",
      "            \"console\": \"Nintendo DS\",\n",
      "            \"_id\": \"5a5d4f246d99ba784beb0df4\",\n",
      "            \"sales\": \"17.67\",\n",
      "            \"name\": \"Pok\\u00e9mon\"\n",
      "        },\n",
      "        {\n",
      "            \"image\": \"images/data_ds_004.jpg\",\n",
      "            \"console\": \"Nintendo DS\",\n",
      "            \"_id\": \"5a5d4f246d99ba784beb0df3\",\n",
      "            \"sales\": \"19.01\",\n",
      "            \"name\": \"Brain Age:\"\n",
      "        },\n",
      "        {\n",
      "            \"image\": \"images/data_ds_002.jpg\",\n",
      "            \"console\": \"Nintendo DS\",\n",
      "            \"_id\": \"5a5d4f246d99ba784beb0df2\",\n",
      "            \"sales\": \"23.60\",\n",
      "            \"name\": \"Mario Kart DS\"\n",
      "        },\n",
      "        {\n",
      "            \"image\": \"images/data_ds_003.jpg\",\n",
      "            \"console\": \"Nintendo DS\",\n",
      "            \"_id\": \"5a5d4f246d99ba784beb0df1\",\n",
      "            \"sales\": \"23.96\",\n",
      "            \"name\": \"nintendogs\"\n",
      "        },\n",
      "        {\n",
      "            \"image\": \"images/data_ds_001.jpg\",\n",
      "            \"console\": \"Nintendo DS\",\n",
      "            \"_id\": \"5a5d4f246d99ba784beb0df0\",\n",
      "            \"sales\": \"30.80\",\n",
      "            \"name\": \"New Super Mario Bros.\"\n",
      "        },\n",
      "        {\n",
      "            \"image\": \"images/data_wiiu_marioparty10.jpg\",\n",
      "            \"console\": \"Wii U\",\n",
      "            \"_id\": \"5a5d4f246d99ba784beb0def\",\n",
      "            \"sales\": \"2.13\",\n",
      "            \"name\": \"Mario Party 10\"\n",
      "        },\n",
      "        {\n",
      "            \"image\": \"images/data_wiiu_zeldahd.png\",\n",
      "            \"console\": \"Wii U\",\n",
      "            \"_id\": \"5a5d4f246d99ba784beb0dee\",\n",
      "            \"sales\": \"2.23\",\n",
      "            \"name\": \"The Legend of Zelda:\"\n",
      "        },\n",
      "        {\n",
      "            \"image\": \"images/data_wiiu_newsuperluigiu.png\",\n",
      "            \"console\": \"Wii U\",\n",
      "            \"_id\": \"5a5d4f246d99ba784beb0ded\",\n",
      "            \"sales\": \"2.99\",\n",
      "            \"name\": \"New Super Luigi U\"\n",
      "        },\n",
      "        {\n",
      "            \"image\": \"images/data_wiiu_supermariomaker.png\",\n",
      "            \"console\": \"Wii U\",\n",
      "            \"_id\": \"5a5d4f246d99ba784beb0dec\",\n",
      "            \"sales\": \"3.98\",\n",
      "            \"name\": \"Super Mario Maker\"\n",
      "        },\n",
      "        {\n",
      "            \"image\": \"images/data_wiiu_splatoon.jpg\",\n",
      "            \"console\": \"Wii U\",\n",
      "            \"_id\": \"5a5d4f246d99ba784beb0deb\",\n",
      "            \"sales\": \"4.87\",\n",
      "            \"name\": \"Splatoon\"\n",
      "        },\n",
      "        {\n",
      "            \"image\": \"images/data_wiiu_nintendoland.png\",\n",
      "            \"console\": \"Wii U\",\n",
      "            \"_id\": \"5a5d4f246d99ba784beb0dea\",\n",
      "            \"sales\": \"5.18\",\n",
      "            \"name\": \"Nintendo Land\"\n",
      "        },\n",
      "        {\n",
      "            \"image\": \"images/data_wiiu_smashbros.png\",\n",
      "            \"console\": \"Wii U\",\n",
      "            \"_id\": \"5a5d4f246d99ba784beb0de9\",\n",
      "            \"sales\": \"5.26\",\n",
      "            \"name\": \"Super Smash Bros.\"\n",
      "        },\n",
      "        {\n",
      "            \"image\": \"images/data_wiiu_mario3dworld.png\",\n",
      "            \"console\": \"Wii U\",\n",
      "            \"_id\": \"5a5d4f246d99ba784beb0de8\",\n",
      "            \"sales\": \"5.70\",\n",
      "            \"name\": \"Super Mario 3D World\"\n",
      "        },\n",
      "        {\n",
      "            \"image\": \"images/data_wiiu_newmariou.png\",\n",
      "            \"console\": \"Wii U\",\n",
      "            \"_id\": \"5a5d4f246d99ba784beb0de7\",\n",
      "            \"sales\": \"5.73\",\n",
      "            \"name\": \"New\"\n",
      "        },\n",
      "        {\n",
      "            \"image\": \"images/data_wiiu_mariokart8.png\",\n",
      "            \"console\": \"Wii U\",\n",
      "            \"_id\": \"5a5d4f246d99ba784beb0de6\",\n",
      "            \"sales\": \"8.38\",\n",
      "            \"name\": \"Mario Kart 8\"\n",
      "        },\n",
      "        {\n",
      "            \"image\": \"images/data_switch_004.png\",\n",
      "            \"console\": \"Nintendo Switch\",\n",
      "            \"_id\": \"5a5d4f246d99ba784beb0de5\",\n",
      "            \"sales\": \"1.35\",\n",
      "            \"name\": \"ARMS\"\n",
      "        },\n",
      "        {\n",
      "            \"image\": \"images/data_switch_003.png\",\n",
      "            \"console\": \"Nintendo Switch\",\n",
      "            \"_id\": \"5a5d4f246d99ba784beb0de4\",\n",
      "            \"sales\": \"1.37\",\n",
      "            \"name\": \"1-2-Switch\"\n",
      "        },\n",
      "        {\n",
      "            \"image\": \"images/data_switch_005.png\",\n",
      "            \"console\": \"Nintendo Switch\",\n",
      "            \"_id\": \"5a5d4f246d99ba784beb0de3\",\n",
      "            \"sales\": \"3.61\",\n",
      "            \"name\": \"Splatoon 2\"\n",
      "        },\n",
      "        {\n",
      "            \"image\": \"images/data_switch_002.png\",\n",
      "            \"console\": \"Nintendo Switch\",\n",
      "            \"_id\": \"5a5d4f246d99ba784beb0de2\",\n",
      "            \"sales\": \"4.42\",\n",
      "            \"name\": \"Mario Kart 8 Deluxe\"\n",
      "        },\n",
      "        {\n",
      "            \"image\": \"images/data_switch_001.png\",\n",
      "            \"console\": \"Nintendo Switch\",\n",
      "            \"_id\": \"5a5d4f246d99ba784beb0de1\",\n",
      "            \"sales\": \"4.70\",\n",
      "            \"name\": \"The Legend of Zelda:\"\n",
      "        },\n",
      "        {\n",
      "            \"image\": \"images/data_ds_009.jpg\",\n",
      "            \"console\": \"Nintendo DS\",\n",
      "            \"_id\": \"5a5d4f246d99ba784beb0de0\",\n",
      "            \"sales\": \"11.06\",\n",
      "            \"name\": \"Super Mario 64 DS\"\n",
      "        },\n",
      "        {\n",
      "            \"image\": \"images/data_ds_010.jpg\",\n",
      "            \"console\": \"Nintendo DS\",\n",
      "            \"_id\": \"5a5d4f246d99ba784beb0ddf\",\n",
      "            \"sales\": \"11.75\",\n",
      "            \"name\": \"Animal Crossing:\"\n",
      "        },\n",
      "        {\n",
      "            \"image\": \"images/data_ds_008.jpg\",\n",
      "            \"console\": \"Nintendo DS\",\n",
      "            \"_id\": \"5a5d4f246d99ba784beb0dde\",\n",
      "            \"sales\": \"12.72\",\n",
      "            \"name\": \"Pok\\u00e9mon\"\n",
      "        },\n",
      "        {\n",
      "            \"image\": \"images/data_ds_005.jpg\",\n",
      "            \"console\": \"Nintendo DS\",\n",
      "            \"_id\": \"5a5d4f246d99ba784beb0ddd\",\n",
      "            \"sales\": \"14.88\",\n",
      "            \"name\": \"Brain Age 2:\"\n",
      "        },\n",
      "        {\n",
      "            \"image\": \"images/data_ds_007.jpg\",\n",
      "            \"console\": \"Nintendo DS\",\n",
      "            \"_id\": \"5a5d4f246d99ba784beb0ddc\",\n",
      "            \"sales\": \"15.64\",\n",
      "            \"name\": \"Pok\\u00e9mon\"\n",
      "        },\n",
      "        {\n",
      "            \"image\": \"images/data_ds_006.jpg\",\n",
      "            \"console\": \"Nintendo DS\",\n",
      "            \"_id\": \"5a5d4f246d99ba784beb0ddb\",\n",
      "            \"sales\": \"17.67\",\n",
      "            \"name\": \"Pok\\u00e9mon\"\n",
      "        },\n",
      "        {\n",
      "            \"image\": \"images/data_ds_004.jpg\",\n",
      "            \"console\": \"Nintendo DS\",\n",
      "            \"_id\": \"5a5d4f246d99ba784beb0dda\",\n",
      "            \"sales\": \"19.01\",\n",
      "            \"name\": \"Brain Age:\"\n",
      "        },\n",
      "        {\n",
      "            \"image\": \"images/data_ds_002.jpg\",\n",
      "            \"console\": \"Nintendo DS\",\n",
      "            \"_id\": \"5a5d4f246d99ba784beb0dd9\",\n",
      "            \"sales\": \"23.60\",\n",
      "            \"name\": \"Mario Kart DS\"\n",
      "        },\n",
      "        {\n",
      "            \"image\": \"images/data_ds_003.jpg\",\n",
      "            \"console\": \"Nintendo DS\",\n",
      "            \"_id\": \"5a5d4f246d99ba784beb0dd8\",\n",
      "            \"sales\": \"23.96\",\n",
      "            \"name\": \"nintendogs\"\n",
      "        },\n",
      "        {\n",
      "            \"image\": \"images/data_ds_001.jpg\",\n",
      "            \"console\": \"Nintendo DS\",\n",
      "            \"_id\": \"5a5d4f246d99ba784beb0dd7\",\n",
      "            \"sales\": \"30.80\",\n",
      "            \"name\": \"New Super Mario Bros.\"\n",
      "        },\n",
      "        {\n",
      "            \"image\": \"images/data_wii_wiiparty.jpg\",\n",
      "            \"console\": \"Wii\",\n",
      "            \"_id\": \"5a5d4f246d99ba784beb0dd6\",\n",
      "            \"sales\": \"9.29\",\n",
      "            \"name\": \"Wii Party\"\n",
      "        },\n",
      "        {\n",
      "            \"image\": \"images/data_wii_008.jpg\",\n",
      "            \"console\": \"Wii\",\n",
      "            \"_id\": \"5a5d4f246d99ba784beb0dd5\",\n",
      "            \"sales\": \"12.76\",\n",
      "            \"name\": \"Super Mario Galaxy\"\n",
      "        },\n",
      "        {\n",
      "            \"image\": \"images/data_wii_009.jpg\",\n",
      "            \"console\": \"Wii\",\n",
      "            \"_id\": \"5a5d4f246d99ba784beb0dd4\",\n",
      "            \"sales\": \"13.25\",\n",
      "            \"name\": \"Super Smash Bros.\"\n",
      "        },\n",
      "        {\n",
      "            \"image\": \"images/data_wii_007.jpg\",\n",
      "            \"console\": \"Wii\",\n",
      "            \"_id\": \"5a5d4f246d99ba784beb0dd3\",\n",
      "            \"sales\": \"21.13\",\n",
      "            \"name\": \"Wii Fit Plus\"\n",
      "        },\n",
      "        {\n",
      "            \"image\": \"images/data_wii_006.jpg\",\n",
      "            \"console\": \"Wii\",\n",
      "            \"_id\": \"5a5d4f246d99ba784beb0dd2\",\n",
      "            \"sales\": \"22.67\",\n",
      "            \"name\": \"Wii Fit\"\n",
      "        },\n",
      "        {\n",
      "            \"image\": \"images/data_wii_004.jpg\",\n",
      "            \"console\": \"Wii\",\n",
      "            \"_id\": \"5a5d4f246d99ba784beb0dd1\",\n",
      "            \"sales\": \"28.02\",\n",
      "            \"name\": \"Wii Play\"\n",
      "        },\n",
      "        {\n",
      "            \"image\": \"images/data_wii_005.jpg\",\n",
      "            \"console\": \"Wii\",\n",
      "            \"_id\": \"5a5d4f246d99ba784beb0dd0\",\n",
      "            \"sales\": \"30.11\",\n",
      "            \"name\": \"New\"\n",
      "        },\n",
      "        {\n",
      "            \"image\": \"images/data_wii_003.jpg\",\n",
      "            \"console\": \"Wii\",\n",
      "            \"_id\": \"5a5d4f246d99ba784beb0dcf\",\n",
      "            \"sales\": \"33.06\",\n",
      "            \"name\": \"Wii Sports Resort\"\n",
      "        },\n",
      "        {\n",
      "            \"image\": \"images/data_wii_002.jpg\",\n",
      "            \"console\": \"Wii\",\n",
      "            \"_id\": \"5a5d4f246d99ba784beb0dce\",\n",
      "            \"sales\": \"37.02\",\n",
      "            \"name\": \"Mario Kart Wii\"\n",
      "        },\n",
      "        {\n",
      "            \"image\": \"images/data_wii_001.jpg\",\n",
      "            \"console\": \"Wii\",\n",
      "            \"_id\": \"5a5d4f246d99ba784beb0dcd\",\n",
      "            \"sales\": \"82.83\",\n",
      "            \"name\": \"Wii Sports\"\n",
      "        },\n",
      "        {\n",
      "            \"image\": \"images/data_3ds_009.jpg\",\n",
      "            \"console\": \"Nintendo 3DS\",\n",
      "            \"_id\": \"5a5d4f246d99ba784beb0dcc\",\n",
      "            \"sales\": \"5.45\",\n",
      "            \"name\": \"Luigi's Mansion:\"\n",
      "        },\n",
      "        {\n",
      "            \"image\": \"images/data_3ds_tomodachicollection.jpg\",\n",
      "            \"console\": \"Nintendo 3DS\",\n",
      "            \"_id\": \"5a5d4f246d99ba784beb0dcb\",\n",
      "            \"sales\": \"5.93\",\n",
      "            \"name\": \"Tomodachi Life\"\n",
      "        },\n",
      "        {\n",
      "            \"image\": \"images/data_3ds_smashbros.jpg\",\n",
      "            \"console\": \"Nintendo 3DS\",\n",
      "            \"_id\": \"5a5d4f246d99ba784beb0dca\",\n",
      "            \"sales\": \"8.91\",\n",
      "            \"name\": \"Super Smash Bros.\"\n",
      "        },\n",
      "        {\n",
      "            \"image\": \"images/data_3ds_004.jpg\",\n",
      "            \"console\": \"Nintendo 3DS\",\n",
      "            \"_id\": \"5a5d4f246d99ba784beb0dc9\",\n",
      "            \"sales\": \"11.23\",\n",
      "            \"name\": \"Animal Crossing:\"\n",
      "        },\n",
      "        {\n",
      "            \"image\": \"images/data_3ds_001.jpg\",\n",
      "            \"console\": \"Nintendo 3DS\",\n",
      "            \"_id\": \"5a5d4f246d99ba784beb0dc8\",\n",
      "            \"sales\": \"11.40\",\n",
      "            \"name\": \"SUPER MARIO\"\n",
      "        },\n",
      "        {\n",
      "            \"image\": \"images/data_3ds_003.jpg\",\n",
      "            \"console\": \"Nintendo 3DS\",\n",
      "            \"_id\": \"5a5d4f246d99ba784beb0dc7\",\n",
      "            \"sales\": \"11.73\",\n",
      "            \"name\": \"New\"\n",
      "        },\n",
      "        {\n",
      "            \"image\": \"images/data_3ds_pokemonoras.jpg\",\n",
      "            \"console\": \"Nintendo 3DS\",\n",
      "            \"_id\": \"5a5d4f246d99ba784beb0dc6\",\n",
      "            \"sales\": \"13.85\",\n",
      "            \"name\": \"Pok\\u00e9mon Omega Ruby/\"\n",
      "        },\n",
      "        {\n",
      "            \"image\": \"images/data_3ds_pokemonsunmoon.jpg\",\n",
      "            \"console\": \"Nintendo 3DS\",\n",
      "            \"_id\": \"5a5d4f246d99ba784beb0dc5\",\n",
      "            \"sales\": \"15.91\",\n",
      "            \"name\": \"Pok\\u00e9mon Sun/\"\n",
      "        },\n",
      "        {\n",
      "            \"image\": \"images/data_3ds_002.jpg\",\n",
      "            \"console\": \"Nintendo 3DS\",\n",
      "            \"_id\": \"5a5d4f246d99ba784beb0dc4\",\n",
      "            \"sales\": \"15.95\",\n",
      "            \"name\": \"Mario Kart 7\"\n",
      "        },\n",
      "        {\n",
      "            \"image\": \"images/data_3ds_pokemonxy.jpg\",\n",
      "            \"console\": \"Nintendo 3DS\",\n",
      "            \"_id\": \"5a5d4f246d99ba784beb0dc3\",\n",
      "            \"sales\": \"16.20\",\n",
      "            \"name\": \"Pok\\u00e9mon X/Pok\\u00e9mon Y\"\n",
      "        },\n",
      "        {\n",
      "            \"image\": \"images/data_wiiu_marioparty10.jpg\",\n",
      "            \"console\": \"Wii U\",\n",
      "            \"_id\": \"5a5d4f246d99ba784beb0dc2\",\n",
      "            \"sales\": \"2.13\",\n",
      "            \"name\": \"Mario Party 10\"\n",
      "        },\n",
      "        {\n",
      "            \"image\": \"images/data_wiiu_zeldahd.png\",\n",
      "            \"console\": \"Wii U\",\n",
      "            \"_id\": \"5a5d4f246d99ba784beb0dc1\",\n",
      "            \"sales\": \"2.23\",\n",
      "            \"name\": \"The Legend of Zelda:\"\n",
      "        },\n",
      "        {\n",
      "            \"image\": \"images/data_wiiu_newsuperluigiu.png\",\n",
      "            \"console\": \"Wii U\",\n",
      "            \"_id\": \"5a5d4f246d99ba784beb0dc0\",\n",
      "            \"sales\": \"2.99\",\n",
      "            \"name\": \"New Super Luigi U\"\n",
      "        },\n",
      "        {\n",
      "            \"image\": \"images/data_wiiu_supermariomaker.png\",\n",
      "            \"console\": \"Wii U\",\n",
      "            \"_id\": \"5a5d4f246d99ba784beb0dbf\",\n",
      "            \"sales\": \"3.98\",\n",
      "            \"name\": \"Super Mario Maker\"\n",
      "        },\n",
      "        {\n",
      "            \"image\": \"images/data_wiiu_splatoon.jpg\",\n",
      "            \"console\": \"Wii U\",\n",
      "            \"_id\": \"5a5d4f246d99ba784beb0dbe\",\n",
      "            \"sales\": \"4.87\",\n",
      "            \"name\": \"Splatoon\"\n",
      "        },\n",
      "        {\n",
      "            \"image\": \"images/data_wiiu_nintendoland.png\",\n",
      "            \"console\": \"Wii U\",\n",
      "            \"_id\": \"5a5d4f246d99ba784beb0dbd\",\n",
      "            \"sales\": \"5.18\",\n",
      "            \"name\": \"Nintendo Land\"\n",
      "        },\n",
      "        {\n",
      "            \"image\": \"images/data_wiiu_smashbros.png\",\n",
      "            \"console\": \"Wii U\",\n",
      "            \"_id\": \"5a5d4f246d99ba784beb0dbc\",\n",
      "            \"sales\": \"5.26\",\n",
      "            \"name\": \"Super Smash Bros.\"\n",
      "        },\n",
      "        {\n",
      "            \"image\": \"images/data_wiiu_mario3dworld.png\",\n",
      "            \"console\": \"Wii U\",\n",
      "            \"_id\": \"5a5d4f246d99ba784beb0dbb\",\n",
      "            \"sales\": \"5.70\",\n",
      "            \"name\": \"Super Mario 3D World\"\n",
      "        },\n",
      "        {\n",
      "            \"image\": \"images/data_wiiu_newmariou.png\",\n",
      "            \"console\": \"Wii U\",\n",
      "            \"_id\": \"5a5d4f246d99ba784beb0dba\",\n",
      "            \"sales\": \"5.73\",\n",
      "            \"name\": \"New\"\n",
      "        },\n",
      "        {\n",
      "            \"image\": \"images/data_wiiu_mariokart8.png\",\n",
      "            \"console\": \"Wii U\",\n",
      "            \"_id\": \"5a5d4f246d99ba784beb0db9\",\n",
      "            \"sales\": \"8.38\",\n",
      "            \"name\": \"Mario Kart 8\"\n",
      "        },\n",
      "        {\n",
      "            \"image\": \"images/data_switch_004.png\",\n",
      "            \"console\": \"Nintendo Switch\",\n",
      "            \"_id\": \"5a5d4f246d99ba784beb0db8\",\n",
      "            \"sales\": \"1.35\",\n",
      "            \"name\": \"ARMS\"\n",
      "        },\n",
      "        {\n",
      "            \"image\": \"images/data_switch_003.png\",\n",
      "            \"console\": \"Nintendo Switch\",\n",
      "            \"_id\": \"5a5d4f246d99ba784beb0db7\",\n",
      "            \"sales\": \"1.37\",\n",
      "            \"name\": \"1-2-Switch\"\n",
      "        },\n",
      "        {\n",
      "            \"image\": \"images/data_switch_005.png\",\n",
      "            \"console\": \"Nintendo Switch\",\n",
      "            \"_id\": \"5a5d4f246d99ba784beb0db6\",\n",
      "            \"sales\": \"3.61\",\n",
      "            \"name\": \"Splatoon 2\"\n",
      "        },\n",
      "        {\n",
      "            \"image\": \"images/data_switch_002.png\",\n",
      "            \"console\": \"Nintendo Switch\",\n",
      "            \"_id\": \"5a5d4f246d99ba784beb0db5\",\n",
      "            \"sales\": \"4.42\",\n",
      "            \"name\": \"Mario Kart 8 Deluxe\"\n",
      "        },\n",
      "        {\n",
      "            \"image\": \"images/data_switch_001.png\",\n",
      "            \"console\": \"Nintendo Switch\",\n",
      "            \"_id\": \"5a5d4f246d99ba784beb0db4\",\n",
      "            \"sales\": \"4.70\",\n",
      "            \"name\": \"The Legend of Zelda:\"\n",
      "        },\n",
      "        {\n",
      "            \"image\": \"images/data_ds_009.jpg\",\n",
      "            \"console\": \"Nintendo DS\",\n",
      "            \"_id\": \"5a5d4f246d99ba784beb0db3\",\n",
      "            \"sales\": \"11.06\",\n",
      "            \"name\": \"Super Mario 64 DS\"\n",
      "        },\n",
      "        {\n",
      "            \"image\": \"images/data_ds_010.jpg\",\n",
      "            \"console\": \"Nintendo DS\",\n",
      "            \"_id\": \"5a5d4f246d99ba784beb0db2\",\n",
      "            \"sales\": \"11.75\",\n",
      "            \"name\": \"Animal Crossing:\"\n",
      "        },\n",
      "        {\n",
      "            \"image\": \"images/data_ds_008.jpg\",\n",
      "            \"console\": \"Nintendo DS\",\n",
      "            \"_id\": \"5a5d4f246d99ba784beb0db1\",\n",
      "            \"sales\": \"12.72\",\n",
      "            \"name\": \"Pok\\u00e9mon\"\n",
      "        },\n",
      "        {\n",
      "            \"image\": \"images/data_ds_005.jpg\",\n",
      "            \"console\": \"Nintendo DS\",\n",
      "            \"_id\": \"5a5d4f246d99ba784beb0db0\",\n",
      "            \"sales\": \"14.88\",\n",
      "            \"name\": \"Brain Age 2:\"\n",
      "        },\n",
      "        {\n",
      "            \"image\": \"images/data_ds_007.jpg\",\n",
      "            \"console\": \"Nintendo DS\",\n",
      "            \"_id\": \"5a5d4f246d99ba784beb0daf\",\n",
      "            \"sales\": \"15.64\",\n",
      "            \"name\": \"Pok\\u00e9mon\"\n",
      "        },\n",
      "        {\n",
      "            \"image\": \"images/data_ds_006.jpg\",\n",
      "            \"console\": \"Nintendo DS\",\n",
      "            \"_id\": \"5a5d4f246d99ba784beb0dae\",\n",
      "            \"sales\": \"17.67\",\n",
      "            \"name\": \"Pok\\u00e9mon\"\n",
      "        },\n",
      "        {\n",
      "            \"image\": \"images/data_ds_004.jpg\",\n",
      "            \"console\": \"Nintendo DS\",\n",
      "            \"_id\": \"5a5d4f246d99ba784beb0dad\",\n",
      "            \"sales\": \"19.01\",\n",
      "            \"name\": \"Brain Age:\"\n",
      "        },\n",
      "        {\n",
      "            \"image\": \"images/data_ds_002.jpg\",\n",
      "            \"console\": \"Nintendo DS\",\n",
      "            \"_id\": \"5a5d4f246d99ba784beb0dac\",\n",
      "            \"sales\": \"23.60\",\n",
      "            \"name\": \"Mario Kart DS\"\n",
      "        },\n",
      "        {\n",
      "            \"image\": \"images/data_ds_003.jpg\",\n",
      "            \"console\": \"Nintendo DS\",\n",
      "            \"_id\": \"5a5d4f246d99ba784beb0dab\",\n",
      "            \"sales\": \"23.96\",\n",
      "            \"name\": \"nintendogs\"\n",
      "        },\n",
      "        {\n",
      "            \"image\": \"images/data_ds_001.jpg\",\n",
      "            \"console\": \"Nintendo DS\",\n",
      "            \"_id\": \"5a5d4f246d99ba784beb0daa\",\n",
      "            \"sales\": \"30.80\",\n",
      "            \"name\": \"New Super Mario Bros.\"\n",
      "        },\n",
      "        {\n",
      "            \"image\": \"images/data_wii_wiiparty.jpg\",\n",
      "            \"console\": \"Wii\",\n",
      "            \"_id\": \"5a5d4f246d99ba784beb0da9\",\n",
      "            \"sales\": \"9.29\",\n",
      "            \"name\": \"Wii Party\"\n",
      "        },\n",
      "        {\n",
      "            \"image\": \"images/data_wii_008.jpg\",\n",
      "            \"console\": \"Wii\",\n",
      "            \"_id\": \"5a5d4f246d99ba784beb0da8\",\n",
      "            \"sales\": \"12.76\",\n",
      "            \"name\": \"Super Mario Galaxy\"\n",
      "        },\n",
      "        {\n",
      "            \"image\": \"images/data_wii_009.jpg\",\n",
      "            \"console\": \"Wii\",\n",
      "            \"_id\": \"5a5d4f246d99ba784beb0da7\",\n",
      "            \"sales\": \"13.25\",\n",
      "            \"name\": \"Super Smash Bros.\"\n",
      "        },\n",
      "        {\n",
      "            \"image\": \"images/data_wii_007.jpg\",\n",
      "            \"console\": \"Wii\",\n",
      "            \"_id\": \"5a5d4f246d99ba784beb0da6\",\n",
      "            \"sales\": \"21.13\",\n",
      "            \"name\": \"Wii Fit Plus\"\n",
      "        },\n",
      "        {\n",
      "            \"image\": \"images/data_wii_006.jpg\",\n",
      "            \"console\": \"Wii\",\n",
      "            \"_id\": \"5a5d4f246d99ba784beb0da5\",\n",
      "            \"sales\": \"22.67\",\n",
      "            \"name\": \"Wii Fit\"\n",
      "        },\n",
      "        {\n",
      "            \"image\": \"images/data_wii_004.jpg\",\n",
      "            \"console\": \"Wii\",\n",
      "            \"_id\": \"5a5d4f246d99ba784beb0da4\",\n",
      "            \"sales\": \"28.02\",\n",
      "            \"name\": \"Wii Play\"\n",
      "        },\n",
      "        {\n",
      "            \"image\": \"images/data_wii_005.jpg\",\n",
      "            \"console\": \"Wii\",\n",
      "            \"_id\": \"5a5d4f246d99ba784beb0da3\",\n",
      "            \"sales\": \"30.11\",\n",
      "            \"name\": \"New\"\n",
      "        },\n",
      "        {\n",
      "            \"image\": \"images/data_wii_003.jpg\",\n",
      "            \"console\": \"Wii\",\n",
      "            \"_id\": \"5a5d4f246d99ba784beb0da2\",\n",
      "            \"sales\": \"33.06\",\n",
      "            \"name\": \"Wii Sports Resort\"\n",
      "        },\n",
      "        {\n",
      "            \"image\": \"images/data_wii_002.jpg\",\n",
      "            \"console\": \"Wii\",\n",
      "            \"_id\": \"5a5d4f246d99ba784beb0da1\",\n",
      "            \"sales\": \"37.02\",\n",
      "            \"name\": \"Mario Kart Wii\"\n",
      "        },\n",
      "        {\n",
      "            \"image\": \"images/data_wii_001.jpg\",\n",
      "            \"console\": \"Wii\",\n",
      "            \"_id\": \"5a5d4f246d99ba784beb0da0\",\n",
      "            \"sales\": \"82.83\",\n",
      "            \"name\": \"Wii Sports\"\n",
      "        },\n",
      "        {\n",
      "            \"image\": \"images/data_3ds_009.jpg\",\n",
      "            \"console\": \"Nintendo 3DS\",\n",
      "            \"_id\": \"5a5d4f246d99ba784beb0d9f\",\n",
      "            \"sales\": \"5.45\",\n",
      "            \"name\": \"Luigi's Mansion:\"\n",
      "        },\n",
      "        {\n",
      "            \"image\": \"images/data_3ds_tomodachicollection.jpg\",\n",
      "            \"console\": \"Nintendo 3DS\",\n",
      "            \"_id\": \"5a5d4f246d99ba784beb0d9e\",\n",
      "            \"sales\": \"5.93\",\n",
      "            \"name\": \"Tomodachi Life\"\n",
      "        },\n",
      "        {\n",
      "            \"image\": \"images/data_3ds_smashbros.jpg\",\n",
      "            \"console\": \"Nintendo 3DS\",\n",
      "            \"_id\": \"5a5d4f246d99ba784beb0d9d\",\n",
      "            \"sales\": \"8.91\",\n",
      "            \"name\": \"Super Smash Bros.\"\n",
      "        },\n",
      "        {\n",
      "            \"image\": \"images/data_3ds_004.jpg\",\n",
      "            \"console\": \"Nintendo 3DS\",\n",
      "            \"_id\": \"5a5d4f246d99ba784beb0d9c\",\n",
      "            \"sales\": \"11.23\",\n",
      "            \"name\": \"Animal Crossing:\"\n",
      "        },\n",
      "        {\n",
      "            \"image\": \"images/data_3ds_001.jpg\",\n",
      "            \"console\": \"Nintendo 3DS\",\n",
      "            \"_id\": \"5a5d4f246d99ba784beb0d9b\",\n",
      "            \"sales\": \"11.40\",\n",
      "            \"name\": \"SUPER MARIO\"\n",
      "        },\n",
      "        {\n",
      "            \"image\": \"images/data_3ds_003.jpg\",\n",
      "            \"console\": \"Nintendo 3DS\",\n",
      "            \"_id\": \"5a5d4f246d99ba784beb0d9a\",\n",
      "            \"sales\": \"11.73\",\n",
      "            \"name\": \"New\"\n",
      "        },\n",
      "        {\n",
      "            \"image\": \"images/data_3ds_pokemonoras.jpg\",\n",
      "            \"console\": \"Nintendo 3DS\",\n",
      "            \"_id\": \"5a5d4f246d99ba784beb0d99\",\n",
      "            \"sales\": \"13.85\",\n",
      "            \"name\": \"Pok\\u00e9mon Omega Ruby/\"\n",
      "        },\n",
      "        {\n",
      "            \"image\": \"images/data_3ds_pokemonsunmoon.jpg\",\n",
      "            \"console\": \"Nintendo 3DS\",\n",
      "            \"_id\": \"5a5d4f246d99ba784beb0d98\",\n",
      "            \"sales\": \"15.91\",\n",
      "            \"name\": \"Pok\\u00e9mon Sun/\"\n",
      "        },\n",
      "        {\n",
      "            \"image\": \"images/data_3ds_002.jpg\",\n",
      "            \"console\": \"Nintendo 3DS\",\n",
      "            \"_id\": \"5a5d4f246d99ba784beb0d97\",\n",
      "            \"sales\": \"15.95\",\n",
      "            \"name\": \"Mario Kart 7\"\n",
      "        },\n",
      "        {\n",
      "            \"image\": \"images/data_3ds_pokemonxy.jpg\",\n",
      "            \"console\": \"Nintendo 3DS\",\n",
      "            \"_id\": \"5a5d4f246d99ba784beb0d96\",\n",
      "            \"sales\": \"16.20\",\n",
      "            \"name\": \"Pok\\u00e9mon X/Pok\\u00e9mon Y\"\n",
      "        },\n",
      "        {\n",
      "            \"image\": \"images/data_wiiu_marioparty10.jpg\",\n",
      "            \"console\": \"Wii U\",\n",
      "            \"_id\": \"5a5d4f246d99ba784beb0d95\",\n",
      "            \"sales\": \"2.13\",\n",
      "            \"name\": \"Mario Party 10\"\n",
      "        },\n",
      "        {\n",
      "            \"image\": \"images/data_wiiu_zeldahd.png\",\n",
      "            \"console\": \"Wii U\",\n",
      "            \"_id\": \"5a5d4f246d99ba784beb0d94\",\n",
      "            \"sales\": \"2.23\",\n",
      "            \"name\": \"The Legend of Zelda:\"\n",
      "        },\n",
      "        {\n",
      "            \"image\": \"images/data_wiiu_newsuperluigiu.png\",\n",
      "            \"console\": \"Wii U\",\n",
      "            \"_id\": \"5a5d4f246d99ba784beb0d93\",\n",
      "            \"sales\": \"2.99\",\n",
      "            \"name\": \"New Super Luigi U\"\n",
      "        },\n",
      "        {\n",
      "            \"image\": \"images/data_wiiu_supermariomaker.png\",\n",
      "            \"console\": \"Wii U\",\n",
      "            \"_id\": \"5a5d4f246d99ba784beb0d92\",\n",
      "            \"sales\": \"3.98\",\n",
      "            \"name\": \"Super Mario Maker\"\n",
      "        },\n",
      "        {\n",
      "            \"image\": \"images/data_wiiu_splatoon.jpg\",\n",
      "            \"console\": \"Wii U\",\n",
      "            \"_id\": \"5a5d4f246d99ba784beb0d91\",\n",
      "            \"sales\": \"4.87\",\n",
      "            \"name\": \"Splatoon\"\n",
      "        },\n",
      "        {\n",
      "            \"image\": \"images/data_wiiu_nintendoland.png\",\n",
      "            \"console\": \"Wii U\",\n",
      "            \"_id\": \"5a5d4f246d99ba784beb0d90\",\n",
      "            \"sales\": \"5.18\",\n",
      "            \"name\": \"Nintendo Land\"\n",
      "        },\n",
      "        {\n",
      "            \"image\": \"images/data_wiiu_smashbros.png\",\n",
      "            \"console\": \"Wii U\",\n",
      "            \"_id\": \"5a5d4f246d99ba784beb0d8f\",\n",
      "            \"sales\": \"5.26\",\n",
      "            \"name\": \"Super Smash Bros.\"\n",
      "        },\n",
      "        {\n",
      "            \"image\": \"images/data_wiiu_mario3dworld.png\",\n",
      "            \"console\": \"Wii U\",\n",
      "            \"_id\": \"5a5d4f246d99ba784beb0d8e\",\n",
      "            \"sales\": \"5.70\",\n",
      "            \"name\": \"Super Mario 3D World\"\n",
      "        },\n",
      "        {\n",
      "            \"image\": \"images/data_wiiu_newmariou.png\",\n",
      "            \"console\": \"Wii U\",\n",
      "            \"_id\": \"5a5d4f246d99ba784beb0d8d\",\n",
      "            \"sales\": \"5.73\",\n",
      "            \"name\": \"New\"\n",
      "        },\n",
      "        {\n",
      "            \"image\": \"images/data_wiiu_mariokart8.png\",\n",
      "            \"console\": \"Wii U\",\n",
      "            \"_id\": \"5a5d4f246d99ba784beb0d8c\",\n",
      "            \"sales\": \"8.38\",\n",
      "            \"name\": \"Mario Kart 8\"\n",
      "        },\n",
      "        {\n",
      "            \"image\": \"images/data_switch_004.png\",\n",
      "            \"console\": \"Nintendo Switch\",\n",
      "            \"_id\": \"5a5d4f246d99ba784beb0d8b\",\n",
      "            \"sales\": \"1.35\",\n",
      "            \"name\": \"ARMS\"\n",
      "        },\n",
      "        {\n",
      "            \"image\": \"images/data_switch_003.png\",\n",
      "            \"console\": \"Nintendo Switch\",\n",
      "            \"_id\": \"5a5d4f246d99ba784beb0d8a\",\n",
      "            \"sales\": \"1.37\",\n",
      "            \"name\": \"1-2-Switch\"\n",
      "        },\n",
      "        {\n",
      "            \"image\": \"images/data_switch_005.png\",\n",
      "            \"console\": \"Nintendo Switch\",\n",
      "            \"_id\": \"5a5d4f246d99ba784beb0d89\",\n",
      "            \"sales\": \"3.61\",\n",
      "            \"name\": \"Splatoon 2\"\n",
      "        },\n",
      "        {\n",
      "            \"image\": \"images/data_switch_002.png\",\n",
      "            \"console\": \"Nintendo Switch\",\n",
      "            \"_id\": \"5a5d4f246d99ba784beb0d88\",\n",
      "            \"sales\": \"4.42\",\n",
      "            \"name\": \"Mario Kart 8 Deluxe\"\n",
      "        },\n",
      "        {\n",
      "            \"image\": \"images/data_switch_001.png\",\n",
      "            \"console\": \"Nintendo Switch\",\n",
      "            \"_id\": \"5a5d4f246d99ba784beb0d87\",\n",
      "            \"sales\": \"4.70\",\n",
      "            \"name\": \"The Legend of Zelda:\"\n",
      "        },\n",
      "        {\n",
      "            \"image\": \"images/data_ds_009.jpg\",\n",
      "            \"console\": \"Nintendo DS\",\n",
      "            \"_id\": \"5a5d4f246d99ba784beb0d86\",\n",
      "            \"sales\": \"11.06\",\n",
      "            \"name\": \"Super Mario 64 DS\"\n",
      "        },\n",
      "        {\n",
      "            \"image\": \"images/data_ds_010.jpg\",\n",
      "            \"console\": \"Nintendo DS\",\n",
      "            \"_id\": \"5a5d4f246d99ba784beb0d85\",\n",
      "            \"sales\": \"11.75\",\n",
      "            \"name\": \"Animal Crossing:\"\n",
      "        },\n",
      "        {\n",
      "            \"image\": \"images/data_ds_008.jpg\",\n",
      "            \"console\": \"Nintendo DS\",\n",
      "            \"_id\": \"5a5d4f246d99ba784beb0d84\",\n",
      "            \"sales\": \"12.72\",\n",
      "            \"name\": \"Pok\\u00e9mon\"\n",
      "        },\n",
      "        {\n",
      "            \"image\": \"images/data_ds_005.jpg\",\n",
      "            \"console\": \"Nintendo DS\",\n",
      "            \"_id\": \"5a5d4f246d99ba784beb0d83\",\n",
      "            \"sales\": \"14.88\",\n",
      "            \"name\": \"Brain Age 2:\"\n",
      "        },\n",
      "        {\n",
      "            \"image\": \"images/data_ds_007.jpg\",\n",
      "            \"console\": \"Nintendo DS\",\n",
      "            \"_id\": \"5a5d4f246d99ba784beb0d82\",\n",
      "            \"sales\": \"15.64\",\n",
      "            \"name\": \"Pok\\u00e9mon\"\n",
      "        },\n",
      "        {\n",
      "            \"image\": \"images/data_ds_006.jpg\",\n",
      "            \"console\": \"Nintendo DS\",\n",
      "            \"_id\": \"5a5d4f246d99ba784beb0d81\",\n",
      "            \"sales\": \"17.67\",\n",
      "            \"name\": \"Pok\\u00e9mon\"\n",
      "        },\n",
      "        {\n",
      "            \"image\": \"images/data_ds_004.jpg\",\n",
      "            \"console\": \"Nintendo DS\",\n",
      "            \"_id\": \"5a5d4f246d99ba784beb0d80\",\n",
      "            \"sales\": \"19.01\",\n",
      "            \"name\": \"Brain Age:\"\n",
      "        },\n",
      "        {\n",
      "            \"image\": \"images/data_ds_002.jpg\",\n",
      "            \"console\": \"Nintendo DS\",\n",
      "            \"_id\": \"5a5d4f246d99ba784beb0d7f\",\n",
      "            \"sales\": \"23.60\",\n",
      "            \"name\": \"Mario Kart DS\"\n",
      "        },\n",
      "        {\n",
      "            \"image\": \"images/data_ds_003.jpg\",\n",
      "            \"console\": \"Nintendo DS\",\n",
      "            \"_id\": \"5a5d4f246d99ba784beb0d7e\",\n",
      "            \"sales\": \"23.96\",\n",
      "            \"name\": \"nintendogs\"\n",
      "        },\n",
      "        {\n",
      "            \"image\": \"images/data_ds_001.jpg\",\n",
      "            \"console\": \"Nintendo DS\",\n",
      "            \"_id\": \"5a5d4f246d99ba784beb0d7d\",\n",
      "            \"sales\": \"30.80\",\n",
      "            \"name\": \"New Super Mario Bros.\"\n",
      "        },\n",
      "        {\n",
      "            \"image\": \"images/data_wii_wiiparty.jpg\",\n",
      "            \"console\": \"Wii\",\n",
      "            \"_id\": \"5a5d4f246d99ba784beb0d7c\",\n",
      "            \"sales\": \"9.29\",\n",
      "            \"name\": \"Wii Party\"\n",
      "        },\n",
      "        {\n",
      "            \"image\": \"images/data_wii_008.jpg\",\n",
      "            \"console\": \"Wii\",\n",
      "            \"_id\": \"5a5d4f246d99ba784beb0d7b\",\n",
      "            \"sales\": \"12.76\",\n",
      "            \"name\": \"Super Mario Galaxy\"\n",
      "        },\n",
      "        {\n",
      "            \"image\": \"images/data_wii_009.jpg\",\n",
      "            \"console\": \"Wii\",\n",
      "            \"_id\": \"5a5d4f246d99ba784beb0d7a\",\n",
      "            \"sales\": \"13.25\",\n",
      "            \"name\": \"Super Smash Bros.\"\n",
      "        },\n",
      "        {\n",
      "            \"image\": \"images/data_wii_007.jpg\",\n",
      "            \"console\": \"Wii\",\n",
      "            \"_id\": \"5a5d4f246d99ba784beb0d79\",\n",
      "            \"sales\": \"21.13\",\n",
      "            \"name\": \"Wii Fit Plus\"\n",
      "        },\n",
      "        {\n",
      "            \"image\": \"images/data_wii_006.jpg\",\n",
      "            \"console\": \"Wii\",\n",
      "            \"_id\": \"5a5d4f246d99ba784beb0d78\",\n",
      "            \"sales\": \"22.67\",\n",
      "            \"name\": \"Wii Fit\"\n",
      "        },\n",
      "        {\n",
      "            \"image\": \"images/data_wii_004.jpg\",\n",
      "            \"console\": \"Wii\",\n",
      "            \"_id\": \"5a5d4f246d99ba784beb0d77\",\n",
      "            \"sales\": \"28.02\",\n",
      "            \"name\": \"Wii Play\"\n",
      "        },\n",
      "        {\n",
      "            \"image\": \"images/data_wii_005.jpg\",\n",
      "            \"console\": \"Wii\",\n",
      "            \"_id\": \"5a5d4f246d99ba784beb0d76\",\n",
      "            \"sales\": \"30.11\",\n",
      "            \"name\": \"New\"\n",
      "        },\n",
      "        {\n",
      "            \"image\": \"images/data_wii_003.jpg\",\n",
      "            \"console\": \"Wii\",\n",
      "            \"_id\": \"5a5d4f246d99ba784beb0d75\",\n",
      "            \"sales\": \"33.06\",\n",
      "            \"name\": \"Wii Sports Resort\"\n",
      "        },\n",
      "        {\n",
      "            \"image\": \"images/data_wii_002.jpg\",\n",
      "            \"console\": \"Wii\",\n",
      "            \"_id\": \"5a5d4f246d99ba784beb0d74\",\n",
      "            \"sales\": \"37.02\",\n",
      "            \"name\": \"Mario Kart Wii\"\n",
      "        },\n",
      "        {\n",
      "            \"image\": \"images/data_wii_001.jpg\",\n",
      "            \"console\": \"Wii\",\n",
      "            \"_id\": \"5a5d4f246d99ba784beb0d73\",\n",
      "            \"sales\": \"82.83\",\n",
      "            \"name\": \"Wii Sports\"\n",
      "        },\n",
      "        {\n",
      "            \"image\": \"images/data_3ds_009.jpg\",\n",
      "            \"console\": \"Nintendo 3DS\",\n",
      "            \"_id\": \"5a5d4f246d99ba784beb0d72\",\n",
      "            \"sales\": \"5.45\",\n",
      "            \"name\": \"Luigi's Mansion:\"\n",
      "        },\n",
      "        {\n",
      "            \"image\": \"images/data_3ds_tomodachicollection.jpg\",\n",
      "            \"console\": \"Nintendo 3DS\",\n",
      "            \"_id\": \"5a5d4f246d99ba784beb0d71\",\n",
      "            \"sales\": \"5.93\",\n",
      "            \"name\": \"Tomodachi Life\"\n",
      "        },\n",
      "        {\n",
      "            \"image\": \"images/data_3ds_smashbros.jpg\",\n",
      "            \"console\": \"Nintendo 3DS\",\n",
      "            \"_id\": \"5a5d4f246d99ba784beb0d70\",\n",
      "            \"sales\": \"8.91\",\n",
      "            \"name\": \"Super Smash Bros.\"\n",
      "        },\n",
      "        {\n",
      "            \"image\": \"images/data_3ds_004.jpg\",\n",
      "            \"console\": \"Nintendo 3DS\",\n",
      "            \"_id\": \"5a5d4f246d99ba784beb0d6f\",\n",
      "            \"sales\": \"11.23\",\n",
      "            \"name\": \"Animal Crossing:\"\n",
      "        },\n",
      "        {\n",
      "            \"image\": \"images/data_3ds_001.jpg\",\n",
      "            \"console\": \"Nintendo 3DS\",\n",
      "            \"_id\": \"5a5d4f246d99ba784beb0d6e\",\n",
      "            \"sales\": \"11.40\",\n",
      "            \"name\": \"SUPER MARIO\"\n",
      "        },\n",
      "        {\n",
      "            \"image\": \"images/data_3ds_003.jpg\",\n",
      "            \"console\": \"Nintendo 3DS\",\n",
      "            \"_id\": \"5a5d4f246d99ba784beb0d6d\",\n",
      "            \"sales\": \"11.73\",\n",
      "            \"name\": \"New\"\n",
      "        },\n",
      "        {\n",
      "            \"image\": \"images/data_3ds_pokemonoras.jpg\",\n",
      "            \"console\": \"Nintendo 3DS\",\n",
      "            \"_id\": \"5a5d4f246d99ba784beb0d6c\",\n",
      "            \"sales\": \"13.85\",\n",
      "            \"name\": \"Pok\\u00e9mon Omega Ruby/\"\n",
      "        },\n",
      "        {\n",
      "            \"image\": \"images/data_3ds_pokemonsunmoon.jpg\",\n",
      "            \"console\": \"Nintendo 3DS\",\n",
      "            \"_id\": \"5a5d4f246d99ba784beb0d6b\",\n",
      "            \"sales\": \"15.91\",\n",
      "            \"name\": \"Pok\\u00e9mon Sun/\"\n",
      "        },\n",
      "        {\n",
      "            \"image\": \"images/data_3ds_002.jpg\",\n",
      "            \"console\": \"Nintendo 3DS\",\n",
      "            \"_id\": \"5a5d4f246d99ba784beb0d6a\",\n",
      "            \"sales\": \"15.95\",\n",
      "            \"name\": \"Mario Kart 7\"\n",
      "        },\n",
      "        {\n",
      "            \"image\": \"images/data_3ds_pokemonxy.jpg\",\n",
      "            \"console\": \"Nintendo 3DS\",\n",
      "            \"_id\": \"5a5d4f246d99ba784beb0d69\",\n",
      "            \"sales\": \"16.20\",\n",
      "            \"name\": \"Pok\\u00e9mon X/Pok\\u00e9mon Y\"\n",
      "        },\n",
      "        {\n",
      "            \"image\": \"images/data_wiiu_marioparty10.jpg\",\n",
      "            \"console\": \"Wii U\",\n",
      "            \"_id\": \"5a5d4f246d99ba784beb0d68\",\n",
      "            \"sales\": \"2.13\",\n",
      "            \"name\": \"Mario Party 10\"\n",
      "        },\n",
      "        {\n",
      "            \"image\": \"images/data_wiiu_zeldahd.png\",\n",
      "            \"console\": \"Wii U\",\n",
      "            \"_id\": \"5a5d4f246d99ba784beb0d67\",\n",
      "            \"sales\": \"2.23\",\n",
      "            \"name\": \"The Legend of Zelda:\"\n",
      "        },\n",
      "        {\n",
      "            \"image\": \"images/data_wiiu_newsuperluigiu.png\",\n",
      "            \"console\": \"Wii U\",\n",
      "            \"_id\": \"5a5d4f246d99ba784beb0d66\",\n",
      "            \"sales\": \"2.99\",\n",
      "            \"name\": \"New Super Luigi U\"\n",
      "        },\n",
      "        {\n",
      "            \"image\": \"images/data_wiiu_supermariomaker.png\",\n",
      "            \"console\": \"Wii U\",\n",
      "            \"_id\": \"5a5d4f246d99ba784beb0d65\",\n",
      "            \"sales\": \"3.98\",\n",
      "            \"name\": \"Super Mario Maker\"\n",
      "        },\n",
      "        {\n",
      "            \"image\": \"images/data_wiiu_splatoon.jpg\",\n",
      "            \"console\": \"Wii U\",\n",
      "            \"_id\": \"5a5d4f246d99ba784beb0d64\",\n",
      "            \"sales\": \"4.87\",\n",
      "            \"name\": \"Splatoon\"\n",
      "        },\n",
      "        {\n",
      "            \"image\": \"images/data_wiiu_nintendoland.png\",\n",
      "            \"console\": \"Wii U\",\n",
      "            \"_id\": \"5a5d4f246d99ba784beb0d63\",\n",
      "            \"sales\": \"5.18\",\n",
      "            \"name\": \"Nintendo Land\"\n",
      "        },\n",
      "        {\n",
      "            \"image\": \"images/data_wiiu_smashbros.png\",\n",
      "            \"console\": \"Wii U\",\n",
      "            \"_id\": \"5a5d4f246d99ba784beb0d62\",\n",
      "            \"sales\": \"5.26\",\n",
      "            \"name\": \"Super Smash Bros.\"\n",
      "        },\n",
      "        {\n",
      "            \"image\": \"images/data_wiiu_mario3dworld.png\",\n",
      "            \"console\": \"Wii U\",\n",
      "            \"_id\": \"5a5d4f246d99ba784beb0d61\",\n",
      "            \"sales\": \"5.70\",\n",
      "            \"name\": \"Super Mario 3D World\"\n",
      "        },\n",
      "        {\n",
      "            \"image\": \"images/data_wiiu_newmariou.png\",\n",
      "            \"console\": \"Wii U\",\n",
      "            \"_id\": \"5a5d4f246d99ba784beb0d60\",\n",
      "            \"sales\": \"5.73\",\n",
      "            \"name\": \"New\"\n",
      "        },\n",
      "        {\n",
      "            \"image\": \"images/data_wiiu_mariokart8.png\",\n",
      "            \"console\": \"Wii U\",\n",
      "            \"_id\": \"5a5d4f246d99ba784beb0d5f\",\n",
      "            \"sales\": \"8.38\",\n",
      "            \"name\": \"Mario Kart 8\"\n",
      "        },\n",
      "        {\n",
      "            \"image\": \"images/data_switch_004.png\",\n",
      "            \"console\": \"Nintendo Switch\",\n",
      "            \"_id\": \"5a5d4f246d99ba784beb0d5e\",\n",
      "            \"sales\": \"1.35\",\n",
      "            \"name\": \"ARMS\"\n",
      "        },\n",
      "        {\n",
      "            \"image\": \"images/data_switch_003.png\",\n",
      "            \"console\": \"Nintendo Switch\",\n",
      "            \"_id\": \"5a5d4f246d99ba784beb0d5d\",\n",
      "            \"sales\": \"1.37\",\n",
      "            \"name\": \"1-2-Switch\"\n",
      "        },\n",
      "        {\n",
      "            \"image\": \"images/data_switch_005.png\",\n",
      "            \"console\": \"Nintendo Switch\",\n",
      "            \"_id\": \"5a5d4f246d99ba784beb0d5c\",\n",
      "            \"sales\": \"3.61\",\n",
      "            \"name\": \"Splatoon 2\"\n",
      "        },\n",
      "        {\n",
      "            \"image\": \"images/data_switch_002.png\",\n",
      "            \"console\": \"Nintendo Switch\",\n",
      "            \"_id\": \"5a5d4f246d99ba784beb0d5b\",\n",
      "            \"sales\": \"4.42\",\n",
      "            \"name\": \"Mario Kart 8 Deluxe\"\n",
      "        },\n",
      "        {\n",
      "            \"image\": \"images/data_switch_001.png\",\n",
      "            \"console\": \"Nintendo Switch\",\n",
      "            \"_id\": \"5a5d4f246d99ba784beb0d5a\",\n",
      "            \"sales\": \"4.70\",\n",
      "            \"name\": \"The Legend of Zelda:\"\n",
      "        },\n",
      "        {\n",
      "            \"image\": \"images/data_ds_009.jpg\",\n",
      "            \"console\": \"Nintendo DS\",\n",
      "            \"_id\": \"5a5d4f246d99ba784beb0d59\",\n",
      "            \"sales\": \"11.06\",\n",
      "            \"name\": \"Super Mario 64 DS\"\n",
      "        },\n",
      "        {\n",
      "            \"image\": \"images/data_ds_010.jpg\",\n",
      "            \"console\": \"Nintendo DS\",\n",
      "            \"_id\": \"5a5d4f246d99ba784beb0d58\",\n",
      "            \"sales\": \"11.75\",\n",
      "            \"name\": \"Animal Crossing:\"\n",
      "        },\n",
      "        {\n",
      "            \"image\": \"images/data_ds_008.jpg\",\n",
      "            \"console\": \"Nintendo DS\",\n",
      "            \"_id\": \"5a5d4f246d99ba784beb0d57\",\n",
      "            \"sales\": \"12.72\",\n",
      "            \"name\": \"Pok\\u00e9mon\"\n",
      "        },\n",
      "        {\n",
      "            \"image\": \"images/data_ds_005.jpg\",\n",
      "            \"console\": \"Nintendo DS\",\n",
      "            \"_id\": \"5a5d4f246d99ba784beb0d56\",\n",
      "            \"sales\": \"14.88\",\n",
      "            \"name\": \"Brain Age 2:\"\n",
      "        },\n",
      "        {\n",
      "            \"image\": \"images/data_ds_007.jpg\",\n",
      "            \"console\": \"Nintendo DS\",\n",
      "            \"_id\": \"5a5d4f246d99ba784beb0d55\",\n",
      "            \"sales\": \"15.64\",\n",
      "            \"name\": \"Pok\\u00e9mon\"\n",
      "        },\n",
      "        {\n",
      "            \"image\": \"images/data_ds_006.jpg\",\n",
      "            \"console\": \"Nintendo DS\",\n",
      "            \"_id\": \"5a5d4f246d99ba784beb0d54\",\n",
      "            \"sales\": \"17.67\",\n",
      "            \"name\": \"Pok\\u00e9mon\"\n",
      "        },\n",
      "        {\n",
      "            \"image\": \"images/data_ds_004.jpg\",\n",
      "            \"console\": \"Nintendo DS\",\n",
      "            \"_id\": \"5a5d4f246d99ba784beb0d53\",\n",
      "            \"sales\": \"19.01\",\n",
      "            \"name\": \"Brain Age:\"\n",
      "        },\n",
      "        {\n",
      "            \"image\": \"images/data_ds_002.jpg\",\n",
      "            \"console\": \"Nintendo DS\",\n",
      "            \"_id\": \"5a5d4f246d99ba784beb0d52\",\n",
      "            \"sales\": \"23.60\",\n",
      "            \"name\": \"Mario Kart DS\"\n",
      "        },\n",
      "        {\n",
      "            \"image\": \"images/data_ds_003.jpg\",\n",
      "            \"console\": \"Nintendo DS\",\n",
      "            \"_id\": \"5a5d4f246d99ba784beb0d51\",\n",
      "            \"sales\": \"23.96\",\n",
      "            \"name\": \"nintendogs\"\n",
      "        },\n",
      "        {\n",
      "            \"image\": \"images/data_ds_001.jpg\",\n",
      "            \"console\": \"Nintendo DS\",\n",
      "            \"_id\": \"5a5d4f246d99ba784beb0d50\",\n",
      "            \"sales\": \"30.80\",\n",
      "            \"name\": \"New Super Mario Bros.\"\n",
      "        },\n",
      "        {\n",
      "            \"image\": \"images/data_wii_wiiparty.jpg\",\n",
      "            \"console\": \"Wii\",\n",
      "            \"_id\": \"5a5d4f246d99ba784beb0d4f\",\n",
      "            \"sales\": \"9.29\",\n",
      "            \"name\": \"Wii Party\"\n",
      "        },\n",
      "        {\n",
      "            \"image\": \"images/data_wii_008.jpg\",\n",
      "            \"console\": \"Wii\",\n",
      "            \"_id\": \"5a5d4f246d99ba784beb0d4e\",\n",
      "            \"sales\": \"12.76\",\n",
      "            \"name\": \"Super Mario Galaxy\"\n",
      "        },\n",
      "        {\n",
      "            \"image\": \"images/data_wii_009.jpg\",\n",
      "            \"console\": \"Wii\",\n",
      "            \"_id\": \"5a5d4f246d99ba784beb0d4d\",\n",
      "            \"sales\": \"13.25\",\n",
      "            \"name\": \"Super Smash Bros.\"\n",
      "        },\n",
      "        {\n",
      "            \"image\": \"images/data_wii_007.jpg\",\n",
      "            \"console\": \"Wii\",\n",
      "            \"_id\": \"5a5d4f246d99ba784beb0d4c\",\n",
      "            \"sales\": \"21.13\",\n",
      "            \"name\": \"Wii Fit Plus\"\n",
      "        },\n",
      "        {\n",
      "            \"image\": \"images/data_wii_006.jpg\",\n",
      "            \"console\": \"Wii\",\n",
      "            \"_id\": \"5a5d4f246d99ba784beb0d4b\",\n",
      "            \"sales\": \"22.67\",\n",
      "            \"name\": \"Wii Fit\"\n",
      "        },\n",
      "        {\n",
      "            \"image\": \"images/data_wii_004.jpg\",\n",
      "            \"console\": \"Wii\",\n",
      "            \"_id\": \"5a5d4f246d99ba784beb0d4a\",\n",
      "            \"sales\": \"28.02\",\n",
      "            \"name\": \"Wii Play\"\n",
      "        },\n",
      "        {\n",
      "            \"image\": \"images/data_wii_005.jpg\",\n",
      "            \"console\": \"Wii\",\n",
      "            \"_id\": \"5a5d4f246d99ba784beb0d49\",\n",
      "            \"sales\": \"30.11\",\n",
      "            \"name\": \"New\"\n",
      "        },\n",
      "        {\n",
      "            \"image\": \"images/data_wii_003.jpg\",\n",
      "            \"console\": \"Wii\",\n",
      "            \"_id\": \"5a5d4f246d99ba784beb0d48\",\n",
      "            \"sales\": \"33.06\",\n",
      "            \"name\": \"Wii Sports Resort\"\n",
      "        },\n",
      "        {\n",
      "            \"image\": \"images/data_wii_002.jpg\",\n",
      "            \"console\": \"Wii\",\n",
      "            \"_id\": \"5a5d4f246d99ba784beb0d47\",\n",
      "            \"sales\": \"37.02\",\n",
      "            \"name\": \"Mario Kart Wii\"\n",
      "        },\n",
      "        {\n",
      "            \"image\": \"images/data_wii_001.jpg\",\n",
      "            \"console\": \"Wii\",\n",
      "            \"_id\": \"5a5d4f246d99ba784beb0d46\",\n",
      "            \"sales\": \"82.83\",\n",
      "            \"name\": \"Wii Sports\"\n",
      "        },\n",
      "        {\n",
      "            \"image\": \"images/data_3ds_009.jpg\",\n",
      "            \"console\": \"Nintendo 3DS\",\n",
      "            \"_id\": \"5a5d4f246d99ba784beb0d45\",\n",
      "            \"sales\": \"5.45\",\n",
      "            \"name\": \"Luigi's Mansion:\"\n",
      "        },\n",
      "        {\n",
      "            \"image\": \"images/data_3ds_tomodachicollection.jpg\",\n",
      "            \"console\": \"Nintendo 3DS\",\n",
      "            \"_id\": \"5a5d4f246d99ba784beb0d44\",\n",
      "            \"sales\": \"5.93\",\n",
      "            \"name\": \"Tomodachi Life\"\n",
      "        },\n",
      "        {\n",
      "            \"image\": \"images/data_3ds_smashbros.jpg\",\n",
      "            \"console\": \"Nintendo 3DS\",\n",
      "            \"_id\": \"5a5d4f246d99ba784beb0d43\",\n",
      "            \"sales\": \"8.91\",\n",
      "            \"name\": \"Super Smash Bros.\"\n",
      "        },\n",
      "        {\n",
      "            \"image\": \"images/data_3ds_004.jpg\",\n",
      "            \"console\": \"Nintendo 3DS\",\n",
      "            \"_id\": \"5a5d4f246d99ba784beb0d42\",\n",
      "            \"sales\": \"11.23\",\n",
      "            \"name\": \"Animal Crossing:\"\n",
      "        },\n",
      "        {\n",
      "            \"image\": \"images/data_3ds_001.jpg\",\n",
      "            \"console\": \"Nintendo 3DS\",\n",
      "            \"_id\": \"5a5d4f246d99ba784beb0d41\",\n",
      "            \"sales\": \"11.40\",\n",
      "            \"name\": \"SUPER MARIO\"\n",
      "        },\n",
      "        {\n",
      "            \"image\": \"images/data_3ds_003.jpg\",\n",
      "            \"console\": \"Nintendo 3DS\",\n",
      "            \"_id\": \"5a5d4f246d99ba784beb0d40\",\n",
      "            \"sales\": \"11.73\",\n",
      "            \"name\": \"New\"\n",
      "        },\n",
      "        {\n",
      "            \"image\": \"images/data_3ds_pokemonoras.jpg\",\n",
      "            \"console\": \"Nintendo 3DS\",\n",
      "            \"_id\": \"5a5d4f246d99ba784beb0d3f\",\n",
      "            \"sales\": \"13.85\",\n",
      "            \"name\": \"Pok\\u00e9mon Omega Ruby/\"\n",
      "        },\n",
      "        {\n",
      "            \"image\": \"images/data_3ds_pokemonsunmoon.jpg\",\n",
      "            \"console\": \"Nintendo 3DS\",\n",
      "            \"_id\": \"5a5d4f246d99ba784beb0d3e\",\n",
      "            \"sales\": \"15.91\",\n",
      "            \"name\": \"Pok\\u00e9mon Sun/\"\n",
      "        },\n",
      "        {\n",
      "            \"image\": \"images/data_3ds_002.jpg\",\n",
      "            \"console\": \"Nintendo 3DS\",\n",
      "            \"_id\": \"5a5d4f246d99ba784beb0d3d\",\n",
      "            \"sales\": \"15.95\",\n",
      "            \"name\": \"Mario Kart 7\"\n",
      "        },\n",
      "        {\n",
      "            \"image\": \"images/data_3ds_pokemonxy.jpg\",\n",
      "            \"console\": \"Nintendo 3DS\",\n",
      "            \"_id\": \"5a5d4f246d99ba784beb0d3c\",\n",
      "            \"sales\": \"16.20\",\n",
      "            \"name\": \"Pok\\u00e9mon X/Pok\\u00e9mon Y\"\n",
      "        },\n",
      "        {\n",
      "            \"image\": \"images/data_wiiu_marioparty10.jpg\",\n",
      "            \"console\": \"Wii U\",\n",
      "            \"_id\": \"5a5d4f246d99ba784beb0d3b\",\n",
      "            \"sales\": \"2.13\",\n",
      "            \"name\": \"Mario Party 10\"\n",
      "        },\n",
      "        {\n",
      "            \"image\": \"images/data_wiiu_zeldahd.png\",\n",
      "            \"console\": \"Wii U\",\n",
      "            \"_id\": \"5a5d4f246d99ba784beb0d3a\",\n",
      "            \"sales\": \"2.23\",\n",
      "            \"name\": \"The Legend of Zelda:\"\n",
      "        },\n",
      "        {\n",
      "            \"image\": \"images/data_wiiu_newsuperluigiu.png\",\n",
      "            \"console\": \"Wii U\",\n",
      "            \"_id\": \"5a5d4f246d99ba784beb0d39\",\n",
      "            \"sales\": \"2.99\",\n",
      "            \"name\": \"New Super Luigi U\"\n",
      "        },\n",
      "        {\n",
      "            \"image\": \"images/data_wiiu_supermariomaker.png\",\n",
      "            \"console\": \"Wii U\",\n",
      "            \"_id\": \"5a5d4f246d99ba784beb0d38\",\n",
      "            \"sales\": \"3.98\",\n",
      "            \"name\": \"Super Mario Maker\"\n",
      "        },\n",
      "        {\n",
      "            \"image\": \"images/data_wiiu_splatoon.jpg\",\n",
      "            \"console\": \"Wii U\",\n",
      "            \"_id\": \"5a5d4f246d99ba784beb0d37\",\n",
      "            \"sales\": \"4.87\",\n",
      "            \"name\": \"Splatoon\"\n",
      "        },\n",
      "        {\n",
      "            \"image\": \"images/data_wiiu_nintendoland.png\",\n",
      "            \"console\": \"Wii U\",\n",
      "            \"_id\": \"5a5d4f246d99ba784beb0d36\",\n",
      "            \"sales\": \"5.18\",\n",
      "            \"name\": \"Nintendo Land\"\n",
      "        },\n",
      "        {\n",
      "            \"image\": \"images/data_wiiu_smashbros.png\",\n",
      "            \"console\": \"Wii U\",\n",
      "            \"_id\": \"5a5d4f246d99ba784beb0d35\",\n",
      "            \"sales\": \"5.26\",\n",
      "            \"name\": \"Super Smash Bros.\"\n",
      "        },\n",
      "        {\n",
      "            \"image\": \"images/data_wiiu_mario3dworld.png\",\n",
      "            \"console\": \"Wii U\",\n",
      "            \"_id\": \"5a5d4f246d99ba784beb0d34\",\n",
      "            \"sales\": \"5.70\",\n",
      "            \"name\": \"Super Mario 3D World\"\n",
      "        },\n",
      "        {\n",
      "            \"image\": \"images/data_wiiu_newmariou.png\",\n",
      "            \"console\": \"Wii U\",\n",
      "            \"_id\": \"5a5d4f246d99ba784beb0d33\",\n",
      "            \"sales\": \"5.73\",\n",
      "            \"name\": \"New\"\n",
      "        },\n",
      "        {\n",
      "            \"image\": \"images/data_wiiu_mariokart8.png\",\n",
      "            \"console\": \"Wii U\",\n",
      "            \"_id\": \"5a5d4f246d99ba784beb0d32\",\n",
      "            \"sales\": \"8.38\",\n",
      "            \"name\": \"Mario Kart 8\"\n",
      "        },\n",
      "        {\n",
      "            \"image\": \"images/data_switch_004.png\",\n",
      "            \"console\": \"Nintendo Switch\",\n",
      "            \"_id\": \"5a5d4f246d99ba784beb0d31\",\n",
      "            \"sales\": \"1.35\",\n",
      "            \"name\": \"ARMS\"\n",
      "        },\n",
      "        {\n",
      "            \"image\": \"images/data_switch_003.png\",\n",
      "            \"console\": \"Nintendo Switch\",\n",
      "            \"_id\": \"5a5d4f246d99ba784beb0d30\",\n",
      "            \"sales\": \"1.37\",\n",
      "            \"name\": \"1-2-Switch\"\n",
      "        },\n",
      "        {\n",
      "            \"image\": \"images/data_switch_005.png\",\n",
      "            \"console\": \"Nintendo Switch\",\n",
      "            \"_id\": \"5a5d4f246d99ba784beb0d2f\",\n",
      "            \"sales\": \"3.61\",\n",
      "            \"name\": \"Splatoon 2\"\n",
      "        },\n",
      "        {\n",
      "            \"image\": \"images/data_switch_002.png\",\n",
      "            \"console\": \"Nintendo Switch\",\n",
      "            \"_id\": \"5a5d4f246d99ba784beb0d2e\",\n",
      "            \"sales\": \"4.42\",\n",
      "            \"name\": \"Mario Kart 8 Deluxe\"\n",
      "        },\n",
      "        {\n",
      "            \"image\": \"images/data_switch_001.png\",\n",
      "            \"console\": \"Nintendo Switch\",\n",
      "            \"_id\": \"5a5d4f246d99ba784beb0d2d\",\n",
      "            \"sales\": \"4.70\",\n",
      "            \"name\": \"The Legend of Zelda:\"\n",
      "        }\n",
      "    ]\n",
      "}\n"
     ]
    }
   ],
   "source": [
    "import json\n",
    "import requests\n",
    "import time\n",
    "proc = subprocess.Popen(\"cd server && npm start &\", shell=True, stdout=subprocess.PIPE)\n",
    "time.sleep(5)\n",
    "resp = requests.get('http://localhost:3000/games').json()\n",
    "print(json.dumps(resp, indent=4))"
   ]
  },
  {
   "cell_type": "markdown",
   "metadata": {},
   "source": [
    "Lets grab the ID of the first game of the data to verify the route in the next step."
   ]
  },
  {
   "cell_type": "code",
   "execution_count": 57,
   "metadata": {},
   "outputs": [
    {
     "data": {
      "text/plain": [
       "'5a5d4f246d99ba784beb0e3a'"
      ]
     },
     "execution_count": 57,
     "metadata": {},
     "output_type": "execute_result"
    }
   ],
   "source": [
    "game_id = resp['games'][0]['_id']\n",
    "game_id"
   ]
  },
  {
   "cell_type": "markdown",
   "metadata": {},
   "source": [
    "Kill the application again."
   ]
  },
  {
   "cell_type": "code",
   "execution_count": 58,
   "metadata": {},
   "outputs": [],
   "source": [
    "process=!fuser 3000/tcp | awk '{print $1}'\n",
    "expressid = int(process[1])\n",
    "!kill -9 $expressid"
   ]
  },
  {
   "cell_type": "markdown",
   "metadata": {},
   "source": [
    "Add another route to the `games.js` to get information for a single game.\n",
    "\n",
    "```javascript\n",
    "router.get('/:id', (req, res) => {\n",
    "  var db = req.db;\n",
    "  Game.findById(req.params.id, '', function (error, game) {\n",
    "    if (error) { console.error(error); }\n",
    "    res.send(game)\n",
    "  })\n",
    "})\n",
    "```\n"
   ]
  },
  {
   "cell_type": "code",
   "execution_count": 59,
   "metadata": {},
   "outputs": [
    {
     "name": "stdout",
     "output_type": "stream",
     "text": [
      "Overwriting server/routes/games.js\n"
     ]
    }
   ],
   "source": [
    "%%file server/routes/games.js\n",
    "var express = require('express');\n",
    "var router = express.Router();\n",
    "var Game = require(\"../models/game\");\n",
    "\n",
    "router.get('/', (req, res) => {\n",
    "  Game.find({}, '', function (error, games){\n",
    "    if (error) { game.error(error); }\n",
    "    res.send({\n",
    "      games: games\n",
    "    })\n",
    "  }).sort({_id:-1})\n",
    "})\n",
    "router.get('/:id', (req, res) => {\n",
    "  var db = req.db;\n",
    "  Game.findById(req.params.id, '', function (error, game) {\n",
    "    if (error) { console.error(error); }\n",
    "    res.send(game)\n",
    "  })\n",
    "})\n",
    "\n",
    "module.exports = router;"
   ]
  },
  {
   "cell_type": "markdown",
   "metadata": {},
   "source": [
    "#### Verify the game detail route\n",
    "As a final step to verify the API we check if we can get the detailed information for the game ID we saved in the previous step."
   ]
  },
  {
   "cell_type": "code",
   "execution_count": 60,
   "metadata": {},
   "outputs": [
    {
     "name": "stdout",
     "output_type": "stream",
     "text": [
      "{\n",
      "    \"image\": \"images/data_ds_009.jpg\",\n",
      "    \"console\": \"Nintendo DS\",\n",
      "    \"_id\": \"5a5d4f246d99ba784beb0e3a\",\n",
      "    \"sales\": \"11.06\",\n",
      "    \"name\": \"Super Mario 64 DS\"\n",
      "}\n"
     ]
    }
   ],
   "source": [
    "import time\n",
    "proc = subprocess.Popen(\"cd server && npm start &\", shell=True, stdout=subprocess.PIPE)\n",
    "time.sleep(5)\n",
    "resp = requests.get('http://localhost:3000/games/'+game_id).json()\n",
    "print(json.dumps(resp, indent=4))"
   ]
  },
  {
   "cell_type": "code",
   "execution_count": 61,
   "metadata": {},
   "outputs": [],
   "source": [
    "process=!fuser 3000/tcp | awk '{print $1}'\n",
    "expressid = int(process[1])\n",
    "!kill -9 $expressid"
   ]
  },
  {
   "cell_type": "markdown",
   "metadata": {},
   "source": [
    "### Conclusion\n",
    "For the back-end we have created an API using Mongoose and ExpressJS with the following two routes:\n",
    "* All games\n",
    "* Game detail\n",
    "<hr/>"
   ]
  },
  {
   "cell_type": "markdown",
   "metadata": {},
   "source": [
    "<img src=\"http://files.jitsejan.com/logos/vuejs.PNG\" class=\"logo\" />\n",
    "## Front-end\n",
    "The next step is to create the front-end that can talk to the back-end and visualize the information. As a Javascript framework we are going to use VueJS. We will install the Vue [CLI](https://github.com/vuejs/vue-cli).\n",
    "\n",
    "#### Create the client folder and install Vue"
   ]
  },
  {
   "cell_type": "code",
   "execution_count": 62,
   "metadata": {},
   "outputs": [],
   "source": [
    "!rm -rf client"
   ]
  },
  {
   "cell_type": "code",
   "execution_count": 63,
   "metadata": {},
   "outputs": [
    {
     "name": "stdout",
     "output_type": "stream",
     "text": [
      "Wrote to /home/jitsejan/code/pelican-blog/content/notebooks/client/package.json:\n",
      "\n",
      "{\n",
      "  \"name\": \"client\",\n",
      "  \"version\": \"1.0.0\",\n",
      "  \"description\": \"\",\n",
      "  \"main\": \"index.js\",\n",
      "  \"scripts\": {\n",
      "    \"test\": \"echo \\\"Error: no test specified\\\" && exit 1\"\n",
      "  },\n",
      "  \"keywords\": [],\n",
      "  \"author\": \"\",\n",
      "  \"license\": \"ISC\"\n",
      "}\n",
      "\n",
      "\n",
      "\u001b[K\u001b[?25h\u001b[37;40mnpm\u001b[0m \u001b[0m\u001b[30;43mWARN\u001b[0m \u001b[0m\u001b[35mdeprecated\u001b[0m coffee-script@1.12.7: CoffeeScript on NPM has moved to \"coffeescript\" (no hyphen)\n",
      "\u001b[K\u001b[?25h\u001b[37;40mnpm\u001b[0m \u001b[0m\u001b[34;40mnotice\u001b[0m\u001b[35m\u001b[0m created a lockfile as package-lock.json. You should commit this file.\n",
      "\u001b[0m\u001b[37;40mnpm\u001b[0m \u001b[0m\u001b[30;43mWARN\u001b[0m\u001b[35m\u001b[0m client@1.0.0 No description\n",
      "\u001b[0m\u001b[37;40mnpm\u001b[0m \u001b[0m\u001b[30;43mWARN\u001b[0m\u001b[35m\u001b[0m client@1.0.0 No repository field.\n",
      "\u001b[0m\n",
      "+ vue-cli@2.9.2\n",
      "added 264 packages in 7.753s\n"
     ]
    }
   ],
   "source": [
    "!mkdir client && cd client && npm init -y && npm install vue-cli --save"
   ]
  },
  {
   "cell_type": "code",
   "execution_count": 64,
   "metadata": {},
   "outputs": [
    {
     "name": "stdout",
     "output_type": "stream",
     "text": [
      "total 100\r\n",
      "drwxrwxr-x   3 jitsejan jitsejan  4096 Jan 15 19:03 \u001b[0m\u001b[01;34m.\u001b[0m/\r\n",
      "drwxrwxr-x   6 jitsejan jitsejan 12288 Jan 15 19:03 \u001b[01;34m..\u001b[0m/\r\n",
      "drwxrwxr-x 239 jitsejan jitsejan 12288 Jan 15 19:03 \u001b[01;34mnode_modules\u001b[0m/\r\n",
      "-rw-rw-r--   1 jitsejan jitsejan 68307 Jan 15 19:03 package-lock.json\r\n",
      "-rw-rw-r--   1 jitsejan jitsejan   269 Jan 15 19:03 package.json\r\n"
     ]
    }
   ],
   "source": [
    "ls -la client"
   ]
  },
  {
   "cell_type": "markdown",
   "metadata": {},
   "source": [
    "#### Check version of Vue"
   ]
  },
  {
   "cell_type": "code",
   "execution_count": 65,
   "metadata": {},
   "outputs": [
    {
     "name": "stdout",
     "output_type": "stream",
     "text": [
      "5.6.0\r\n"
     ]
    }
   ],
   "source": [
    "!cd client && npm vue --version"
   ]
  },
  {
   "cell_type": "markdown",
   "metadata": {},
   "source": [
    "### Create the scaffold\n",
    "To create the scaffold we will use the `vue-cli`. However, this requires us to give direct input to the command line which is tricky because we need to answer different questions when creating the scaffold using the tool. The easiest way to automate this task is to use the Linux tool [Expect](https://linux.die.net/man/1/expect). Make sure the tool is installed on your system. \n",
    "\n",
    "```bash\n",
    "$ sudo apt-get install expect -y\n",
    "```\n",
    "\n",
    "Note: if you do not want to use this trick, you can also use the external terminal and run\n",
    "\n",
    "```bash\n",
    "$ vue init webpack\n",
    "```\n",
    "\n",
    "in the client directory or simply clone the [repository](https://github.com/vuejs-templates/webpack) to your local file system.\n",
    "\n",
    "The following script contains the answers for the prompts created by the `vue init`. "
   ]
  },
  {
   "cell_type": "code",
   "execution_count": 66,
   "metadata": {},
   "outputs": [
    {
     "name": "stdout",
     "output_type": "stream",
     "text": [
      "Writing client/init_expect_script.sh\n"
     ]
    }
   ],
   "source": [
    "%%file client/init_expect_script.sh\n",
    "#!/usr/bin/expect -f\n",
    "spawn npx vue init webpack\n",
    "\n",
    "expect \"Generate project in current directory?\" { send \"Y\\r\" }\n",
    "expect \"Project name\"\n",
    "send \"vueclient\\r\"\n",
    "expect \"Project description\"\n",
    "send \"An experiment with Jupyter and MEVN\\r\"\n",
    "expect \"Author\"\n",
    "send \"Jupyter\\r\\n\"\n",
    "expect \"Vue build\"\n",
    "send \"\\r\\n\"\n",
    "expect \"Install vue-router?\"\n",
    "send \"Y\\r\"\n",
    "expect \"Use ESLint to lint your code?\"\n",
    "send \"Y\\r\"\n",
    "expect \"Pick an ESLint preset\"\n",
    "send \"\\r\\n\"\n",
    "expect \"Set up unit tests\"\n",
    "send \"Y\\r\"\n",
    "expect \"Pick a test runner\"\n",
    "send \"\\r\\n\"\n",
    "expect \"Setup e2e tests with Nightwatch?\"\n",
    "send \"Y\\r\"\n",
    "expect \"Should we run `npm install` for you after the project has been created? (recommended)\"\n",
    "send \"\\r\\n\"\n",
    "interact"
   ]
  },
  {
   "cell_type": "code",
   "execution_count": 67,
   "metadata": {},
   "outputs": [],
   "source": [
    "!chmod +x client/init_expect_script.sh"
   ]
  },
  {
   "cell_type": "code",
   "execution_count": 68,
   "metadata": {
    "scrolled": false
   },
   "outputs": [
    {
     "name": "stdout",
     "output_type": "stream",
     "text": [
      "spawn npx vue init webpack\n",
      "\n",
      "\u001b[32m?\u001b[39m \u001b[1mGenerate project in current directory?\u001b[22m\u001b[0m \u001b[0m\u001b[2m(Y/n) \u001b[22m\u001b[47D\u001b[47C\u001b[2K\u001b[G\u001b[32m?\u001b[39m \u001b[1mGenerate project in current directory?\u001b[22m\u001b[0m \u001b[0m\u001b[2m(Y/n) \u001b[22mY\u001b[48D\u001b[48C\u001b[2K\u001b[G\u001b[32m?\u001b[39m \u001b[1mGenerate project in current directory?\u001b[22m\u001b[0m \u001b[0m\u001b[36mYes\u001b[39m\u001b[44D\u001b[44C\n",
      "\u001b[?25l\u001b[2K\u001b[1G\u001b[36m���\u001b[39m downloading template\u001b[2K\u001b[1G\u001b[36m���\u001b[39m downloading template\u001b[2K\u001b[1G\u001b[36m���\u001b[39m downloading template\u001b[2K\u001b[1G\u001b[36m���\u001b[39m downloading template\u001b[2K\u001b[1G\u001b[36m���\u001b[39m downloading template\u001b[2K\u001b[1G\u001b[?25h\u001b[32m?\u001b[39m \u001b[1mProject name\u001b[22m\u001b[0m \u001b[0m\u001b[2m(client) \u001b[22m\u001b[24D\u001b[24C\u001b[2K\u001b[G\u001b[32m?\u001b[39m \u001b[1mProject name\u001b[22m\u001b[0m \u001b[0m\u001b[2m(client) \u001b[22mv\u001b[25D\u001b[25C\u001b[2K\u001b[G\u001b[32m?\u001b[39m \u001b[1mProject name\u001b[22m\u001b[0m \u001b[0m\u001b[2m(client) \u001b[22mvu\u001b[26D\u001b[26C\u001b[2K\u001b[G\u001b[32m?\u001b[39m \u001b[1mProject name\u001b[22m\u001b[0m \u001b[0m\u001b[2m(client) \u001b[22mvue\u001b[27D\u001b[27C\u001b[2K\u001b[G\u001b[32m?\u001b[39m \u001b[1mProject name\u001b[22m\u001b[0m \u001b[0m\u001b[2m(client) \u001b[22mvuec\u001b[28D\u001b[28C\u001b[2K\u001b[G\u001b[32m?\u001b[39m \u001b[1mProject name\u001b[22m\u001b[0m \u001b[0m\u001b[2m(client) \u001b[22mvuecl\u001b[29D\u001b[29C\u001b[2K\u001b[G\u001b[32m?\u001b[39m \u001b[1mProject name\u001b[22m\u001b[0m \u001b[0m\u001b[2m(client) \u001b[22mvuecli\u001b[30D\u001b[30C\u001b[2K\u001b[G\u001b[32m?\u001b[39m \u001b[1mProject name\u001b[22m\u001b[0m \u001b[0m\u001b[2m(client) \u001b[22mvueclie\u001b[31D\u001b[31C\u001b[2K\u001b[G\u001b[32m?\u001b[39m \u001b[1mProject name\u001b[22m\u001b[0m \u001b[0m\u001b[2m(client) \u001b[22mvueclien\u001b[32D\u001b[32C\u001b[2K\u001b[G\u001b[32m?\u001b[39m \u001b[1mProject name\u001b[22m\u001b[0m \u001b[0m\u001b[2m(client) \u001b[22mvueclient\u001b[33D\u001b[33C\u001b[2K\u001b[G\u001b[32m?\u001b[39m \u001b[1mProject name\u001b[22m\u001b[0m \u001b[0m\u001b[36mvueclient\u001b[39m\u001b[24D\u001b[24C\n",
      "\u001b[32m?\u001b[39m \u001b[1mProject description\u001b[22m\u001b[0m \u001b[0m\u001b[2m(A Vue.js project) \u001b[22m\u001b[41D\u001b[41C\u001b[2K\u001b[G\u001b[32m?\u001b[39m \u001b[1mProject description\u001b[22m\u001b[0m \u001b[0m\u001b[2m(A Vue.js project) \u001b[22mA\u001b[42D\u001b[42C\u001b[2K\u001b[G\u001b[32m?\u001b[39m \u001b[1mProject description\u001b[22m\u001b[0m \u001b[0m\u001b[2m(A Vue.js project) \u001b[22mAn\u001b[43D\u001b[43C\u001b[2K\u001b[G\u001b[32m?\u001b[39m \u001b[1mProject description\u001b[22m\u001b[0m \u001b[0m\u001b[2m(A Vue.js project) \u001b[22mAn \u001b[44D\u001b[44C\u001b[2K\u001b[G\u001b[32m?\u001b[39m \u001b[1mProject description\u001b[22m\u001b[0m \u001b[0m\u001b[2m(A Vue.js project) \u001b[22mAn e\u001b[45D\u001b[45C\u001b[2K\u001b[G\u001b[32m?\u001b[39m \u001b[1mProject description\u001b[22m\u001b[0m \u001b[0m\u001b[2m(A Vue.js project) \u001b[22mAn ex\u001b[46D\u001b[46C\u001b[2K\u001b[G\u001b[32m?\u001b[39m \u001b[1mProject description\u001b[22m\u001b[0m \u001b[0m\u001b[2m(A Vue.js project) \u001b[22mAn exp\u001b[47D\u001b[47C\u001b[2K\u001b[G\u001b[32m?\u001b[39m \u001b[1mProject description\u001b[22m\u001b[0m \u001b[0m\u001b[2m(A Vue.js project) \u001b[22mAn expe\u001b[48D\u001b[48C\u001b[2K\u001b[G\u001b[32m?\u001b[39m \u001b[1mProject description\u001b[22m\u001b[0m \u001b[0m\u001b[2m(A Vue.js project) \u001b[22mAn exper\u001b[49D\u001b[49C\u001b[2K\u001b[G\u001b[32m?\u001b[39m \u001b[1mProject description\u001b[22m\u001b[0m \u001b[0m\u001b[2m(A Vue.js project) \u001b[22mAn experi\u001b[50D\u001b[50C\u001b[2K\u001b[G\u001b[32m?\u001b[39m \u001b[1mProject description\u001b[22m\u001b[0m \u001b[0m\u001b[2m(A Vue.js project) \u001b[22mAn experim\u001b[51D\u001b[51C\u001b[2K\u001b[G\u001b[32m?\u001b[39m \u001b[1mProject description\u001b[22m\u001b[0m \u001b[0m\u001b[2m(A Vue.js project) \u001b[22mAn experime\u001b[52D\u001b[52C\u001b[2K\u001b[G\u001b[32m?\u001b[39m \u001b[1mProject description\u001b[22m\u001b[0m \u001b[0m\u001b[2m(A Vue.js project) \u001b[22mAn experimen\u001b[53D\u001b[53C\u001b[2K\u001b[G\u001b[32m?\u001b[39m \u001b[1mProject description\u001b[22m\u001b[0m \u001b[0m\u001b[2m(A Vue.js project) \u001b[22mAn experiment\u001b[54D\u001b[54C\u001b[2K\u001b[G\u001b[32m?\u001b[39m \u001b[1mProject description\u001b[22m\u001b[0m \u001b[0m\u001b[2m(A Vue.js project) \u001b[22mAn experiment \u001b[55D\u001b[55C\u001b[2K\u001b[G\u001b[32m?\u001b[39m \u001b[1mProject description\u001b[22m\u001b[0m \u001b[0m\u001b[2m(A Vue.js project) \u001b[22mAn experiment w\u001b[56D\u001b[56C\u001b[2K\u001b[G\u001b[32m?\u001b[39m \u001b[1mProject description\u001b[22m\u001b[0m \u001b[0m\u001b[2m(A Vue.js project) \u001b[22mAn experiment wi\u001b[57D\u001b[57C\u001b[2K\u001b[G\u001b[32m?\u001b[39m \u001b[1mProject description\u001b[22m\u001b[0m \u001b[0m\u001b[2m(A Vue.js project) \u001b[22mAn experiment wit\u001b[58D\u001b[58C\u001b[2K\u001b[G\u001b[32m?\u001b[39m \u001b[1mProject description\u001b[22m\u001b[0m \u001b[0m\u001b[2m(A Vue.js project) \u001b[22mAn experiment with\u001b[59D\u001b[59C\u001b[2K\u001b[G\u001b[32m?\u001b[39m \u001b[1mProject description\u001b[22m\u001b[0m \u001b[0m\u001b[2m(A Vue.js project) \u001b[22mAn experiment with \u001b[60D\u001b[60C\u001b[2K\u001b[G\u001b[32m?\u001b[39m \u001b[1mProject description\u001b[22m\u001b[0m \u001b[0m\u001b[2m(A Vue.js project) \u001b[22mAn experiment with J\u001b[61D\u001b[61C\u001b[2K\u001b[G\u001b[32m?\u001b[39m \u001b[1mProject description\u001b[22m\u001b[0m \u001b[0m\u001b[2m(A Vue.js project) \u001b[22mAn experiment with Ju\u001b[62D\u001b[62C\u001b[2K\u001b[G\u001b[32m?\u001b[39m \u001b[1mProject description\u001b[22m\u001b[0m \u001b[0m\u001b[2m(A Vue.js project) \u001b[22mAn experiment with Jup\u001b[63D\u001b[63C\u001b[2K\u001b[G\u001b[32m?\u001b[39m \u001b[1mProject description\u001b[22m\u001b[0m \u001b[0m\u001b[2m(A Vue.js project) \u001b[22mAn experiment with Jupy\u001b[64D\u001b[64C\u001b[2K\u001b[G\u001b[32m?\u001b[39m \u001b[1mProject description\u001b[22m\u001b[0m \u001b[0m\u001b[2m(A Vue.js project) \u001b[22mAn experiment with Jupyt\u001b[65D\u001b[65C\u001b[2K\u001b[G\u001b[32m?\u001b[39m \u001b[1mProject description\u001b[22m\u001b[0m \u001b[0m\u001b[2m(A Vue.js project) \u001b[22mAn experiment with Jupyte\u001b[66D\u001b[66C\u001b[2K\u001b[G\u001b[32m?\u001b[39m \u001b[1mProject description\u001b[22m\u001b[0m \u001b[0m\u001b[2m(A Vue.js project) \u001b[22mAn experiment with Jupyter\u001b[67D\u001b[67C\u001b[2K\u001b[G\u001b[32m?\u001b[39m \u001b[1mProject description\u001b[22m\u001b[0m \u001b[0m\u001b[2m(A Vue.js project) \u001b[22mAn experiment with Jupyter \u001b[68D\u001b[68C\u001b[2K\u001b[G\u001b[32m?\u001b[39m \u001b[1mProject description\u001b[22m\u001b[0m \u001b[0m\u001b[2m(A Vue.js project) \u001b[22mAn experiment with Jupyter a\u001b[69D\u001b[69C\u001b[2K\u001b[G\u001b[32m?\u001b[39m \u001b[1mProject description\u001b[22m\u001b[0m \u001b[0m\u001b[2m(A Vue.js project) \u001b[22mAn experiment with Jupyter an\u001b[70D\u001b[70C\u001b[2K\u001b[G\u001b[32m?\u001b[39m \u001b[1mProject description\u001b[22m\u001b[0m \u001b[0m\u001b[2m(A Vue.js project) \u001b[22mAn experiment with Jupyter and\u001b[71D\u001b[71C\u001b[2K\u001b[G\u001b[32m?\u001b[39m \u001b[1mProject description\u001b[22m\u001b[0m \u001b[0m\u001b[2m(A Vue.js project) \u001b[22mAn experiment with Jupyter and \u001b[72D\u001b[72C\u001b[2K\u001b[G\u001b[32m?\u001b[39m \u001b[1mProject description\u001b[22m\u001b[0m \u001b[0m\u001b[2m(A Vue.js project) \u001b[22mAn experiment with Jupyter and M\u001b[73D\u001b[73C\u001b[2K\u001b[G\u001b[32m?\u001b[39m \u001b[1mProject description\u001b[22m\u001b[0m \u001b[0m\u001b[2m(A Vue.js project) \u001b[22mAn experiment with Jupyter and ME\u001b[74D\u001b[74C\u001b[2K\u001b[G\u001b[32m?\u001b[39m \u001b[1mProject description\u001b[22m\u001b[0m \u001b[0m\u001b[2m(A Vue.js project) \u001b[22mAn experiment with Jupyter and MEV\u001b[75D\u001b[75C\u001b[2K\u001b[G\u001b[32m?\u001b[39m \u001b[1mProject description\u001b[22m\u001b[0m \u001b[0m\u001b[2m(A Vue.js project) \u001b[22mAn experiment with Jupyter and MEVN\u001b[76D\u001b[76C\u001b[2K\u001b[G\u001b[32m?\u001b[39m \u001b[1mProject description\u001b[22m\u001b[0m \u001b[0m\u001b[36mAn experiment with Jupyter and MEVN\u001b[39m\u001b[57D\u001b[57C\n",
      "\u001b[32m?\u001b[39m \u001b[1mAuthor\u001b[22m\u001b[0m \u001b[0m\u001b[9D\u001b[9C\u001b[2K\u001b[G\u001b[32m?\u001b[39m \u001b[1mAuthor\u001b[22m\u001b[0m \u001b[0mJ\u001b[10D\u001b[10C\u001b[2K\u001b[G\u001b[32m?\u001b[39m \u001b[1mAuthor\u001b[22m\u001b[0m \u001b[0mJu\u001b[11D\u001b[11C\u001b[2K\u001b[G\u001b[32m?\u001b[39m \u001b[1mAuthor\u001b[22m\u001b[0m \u001b[0mJup\u001b[12D\u001b[12C\u001b[2K\u001b[G\u001b[32m?\u001b[39m \u001b[1mAuthor\u001b[22m\u001b[0m \u001b[0mJupy\u001b[13D\u001b[13C\u001b[2K\u001b[G\u001b[32m?\u001b[39m \u001b[1mAuthor\u001b[22m\u001b[0m \u001b[0mJupyt\u001b[14D\u001b[14C\u001b[2K\u001b[G\u001b[32m?\u001b[39m \u001b[1mAuthor\u001b[22m\u001b[0m \u001b[0mJupyte\u001b[15D\u001b[15C\u001b[2K\u001b[G\u001b[32m?\u001b[39m \u001b[1mAuthor\u001b[22m\u001b[0m \u001b[0mJupyter\u001b[16D\u001b[16C\u001b[2K\u001b[G\u001b[32m?\u001b[39m \u001b[1mAuthor\u001b[22m\u001b[0m \u001b[0m\u001b[36mJupyter\u001b[39m\u001b[16D\u001b[16C\n",
      "\u001b[?25l\u001b[32m?\u001b[39m \u001b[1mVue build\u001b[22m\u001b[0m \u001b[0m\u001b[2m(Use arrow keys)\u001b[22m\n",
      "\u001b[36m��� Runtime + Compiler: recommended for most users\u001b[39m \n",
      "  Runtime-only: about 6KB lighter min+gzip, but templates (or any Vue-specific H\n",
      "TML) are ONLY allowed in .vue files - render functions are required elsewhere \u001b[78D\u001b[78C\u001b[2K\u001b[1A\u001b[2K\u001b[1A\u001b[2K\u001b[1A\u001b[2K\u001b[G\u001b[32m?\u001b[39m \u001b[1mVue build\u001b[22m\u001b[0m \u001b[0m\u001b[36mstandalone\u001b[39m\u001b[22D\u001b[22C\n",
      "\u001b[?25h\u001b[32m?\u001b[39m \u001b[1mInstall vue-router?\u001b[22m\u001b[0m \u001b[0m\u001b[2m(Y/n) \u001b[22m\u001b[28D\u001b[28C\u001b[2K\u001b[G\u001b[32m?\u001b[39m \u001b[1mInstall vue-router?\u001b[22m\u001b[0m \u001b[0m\u001b[2m(Y/n) \u001b[22mY\u001b[29D\u001b[29C\u001b[2K\u001b[G\u001b[32m?\u001b[39m \u001b[1mInstall vue-router?\u001b[22m\u001b[0m \u001b[0m\u001b[36mYes\u001b[39m\u001b[25D\u001b[25C\n",
      "\u001b[32m?\u001b[39m \u001b[1mUse ESLint to lint your code?\u001b[22m\u001b[0m \u001b[0m\u001b[2m(Y/n) \u001b[22m\u001b[38D\u001b[38C\u001b[2K\u001b[G\u001b[32m?\u001b[39m \u001b[1mUse ESLint to lint your code?\u001b[22m\u001b[0m \u001b[0m\u001b[2m(Y/n) \u001b[22mY\u001b[39D\u001b[39C\u001b[2K\u001b[G\u001b[32m?\u001b[39m \u001b[1mUse ESLint to lint your code?\u001b[22m\u001b[0m \u001b[0m\u001b[36mYes\u001b[39m\u001b[35D\u001b[35C\n",
      "\u001b[?25l\u001b[32m?\u001b[39m \u001b[1mPick an ESLint preset\u001b[22m\u001b[0m \u001b[0m\u001b[2m(Use arrow keys)\u001b[22m\n",
      "\u001b[36m��� Standard (https://github.com/standard/standard)\u001b[39m \n",
      "  Airbnb (https://github.com/airbnb/javascript) \n",
      "  none (configure it yourself) \u001b[31D\u001b[31C\u001b[2K\u001b[1A\u001b[2K\u001b[1A\u001b[2K\u001b[1A\u001b[2K\u001b[G\u001b[32m?\u001b[39m \u001b[1mPick an ESLint preset\u001b[22m\u001b[0m \u001b[0m\u001b[36mStandard\u001b[39m\u001b[32D\u001b[32C\n",
      "\u001b[?25h\u001b[32m?\u001b[39m \u001b[1mSet up unit tests\u001b[22m\u001b[0m \u001b[0m\u001b[2m(Y/n) \u001b[22m\u001b[26D\u001b[26C\u001b[2K\u001b[G\u001b[32m?\u001b[39m \u001b[1mSet up unit tests\u001b[22m\u001b[0m \u001b[0m\u001b[2m(Y/n) \u001b[22mY\u001b[27D\u001b[27C\u001b[2K\u001b[G\u001b[32m?\u001b[39m \u001b[1mSet up unit tests\u001b[22m\u001b[0m \u001b[0m\u001b[36mYes\u001b[39m\u001b[23D\u001b[23C\n",
      "\u001b[?25l\u001b[32m?\u001b[39m \u001b[1mPick a test runner\u001b[22m\u001b[0m \u001b[0m\u001b[2m(Use arrow keys)\u001b[22m\n",
      "\u001b[36m��� Jest\u001b[39m \n",
      "  Karma and Mocha \n",
      "  none (configure it yourself) \u001b[31D\u001b[31C\u001b[2K\u001b[1A\u001b[2K\u001b[1A\u001b[2K\u001b[1A\u001b[2K\u001b[G\u001b[32m?\u001b[39m \u001b[1mPick a test runner\u001b[22m\u001b[0m \u001b[0m\u001b[36mjest\u001b[39m\u001b[25D\u001b[25C\n",
      "\u001b[?25h\u001b[32m?\u001b[39m \u001b[1mSetup e2e tests with Nightwatch?\u001b[22m\u001b[0m \u001b[0m\u001b[2m(Y/n) \u001b[22m\u001b[41D\u001b[41C\u001b[2K\u001b[G\u001b[32m?\u001b[39m \u001b[1mSetup e2e tests with Nightwatch?\u001b[22m\u001b[0m \u001b[0m\u001b[2m(Y/n) \u001b[22mY\u001b[42D\u001b[42C\u001b[2K\u001b[G\u001b[32m?\u001b[39m \u001b[1mSetup e2e tests with Nightwatch?\u001b[22m\u001b[0m \u001b[0m\u001b[36mYes\u001b[39m\u001b[38D\u001b[38C\n",
      "\u001b[?25l\u001b[32m?\u001b[39m \u001b[1mShould we run `npm install` for you after the project has been created? (recom\n",
      "mended)\u001b[22m\u001b[0m \u001b[0m\u001b[2m(Use arrow keys)\u001b[22m\n",
      "\u001b[36m��� Yes, use NPM\u001b[39m \n",
      "  Yes, use Yarn \n"
     ]
    },
    {
     "name": "stdout",
     "output_type": "stream",
     "text": [
      "  No, I will handle that myself \u001b[32D\u001b[32C\u001b[2K\u001b[1A\u001b[2K\u001b[1A\u001b[2K\u001b[1A\u001b[2K\u001b[1A\u001b[2K\u001b[G\u001b[32m?\u001b[39m \u001b[1mShould we run `npm install` for you after the project has been created? (recom\n",
      "mended)\u001b[22m\u001b[0m \u001b[0m\u001b[36mnpm\u001b[39m\u001b[11D\u001b[11C\n",
      "\u001b[?25h\n",
      "\u001b[37m   vue-cli\u001b[39m \u001b[90m��\u001b[39m Generated \"client\".\n",
      "\n",
      "\n",
      "# \u001b[32mInstalling project dependencies ...\u001b[39m\n",
      "# ========================\n",
      "\n",
      "\u001b[K\u001b[?25h        \u001b[27m\u001b[90m......\u001b[0m] \\ install:babel-preset-stage-2: \u001b[32minfo\u001b[0m \u001b[35mlifecycle\u001b[0m babel-prese\u001b[0m\u001b[K\u001b[K\n",
      "> chromedriver@2.34.1 install /home/jitsejan/code/pelican-blog/content/notebooks/client/node_modules/chromedriver\n",
      "> node install.js\n",
      "\n",
      "Downloading https://chromedriver.storage.googleapis.com/2.34/chromedriver_linux64.zip\n",
      "Saving to /tmp/chromedriver/chromedriver_linux64.zip\n",
      "Received 781K...\n",
      "Received 1568K...\n",
      "Received 2352K...\n",
      "Received 3136K...\n",
      "Received 3642K total.\n",
      "Extracting zip contents\n",
      "Copying to target path /home/jitsejan/code/pelican-blog/content/notebooks/client/node_modules/chromedriver/lib/chromedriver\n",
      "Fixing file permissions\n",
      "Done. ChromeDriver binary available at /home/jitsejan/code/pelican-blog/content/notebooks/client/node_modules/chromedriver/lib/chromedriver/chromedriver\n",
      "\u001b[K\u001b[?25h7m            \u001b[27m\u001b[90m......\u001b[0m] / postinstall:read-pkg-up: \u001b[32minfo\u001b[0m \u001b[35mlifecycle\u001b[0m read-pkg-up@2.0.\u001b[0m\u001b[K\n",
      "> uglifyjs-webpack-plugin@0.4.6 postinstall /home/jitsejan/code/pelican-blog/content/notebooks/client/node_modules/webpack/node_modules/uglifyjs-webpack-plugin\n",
      "> node lib/post_install.js\n",
      "\n",
      "\u001b[K\u001b[?25h\u001b[37;40mnpm\u001b[0m\u001b[90m....\u001b[0m] | prepare:vueclient: \u001b[32minfo\u001b[0m \u001b[35mlifecycle\u001b[0m vueclient@1.0.0~prepar\u001b[0m\u001b[K[0m\u001b[K \u001b[0m\u001b[30;43mWARN\u001b[0m \u001b[0m\u001b[35moptional\u001b[0m SKIPPING OPTIONAL DEPENDENCY: fsevents@1.1.3 (node_modules/fsevents):\n",
      "\u001b[0m\u001b[37;40mnpm\u001b[0m \u001b[0m\u001b[30;43mWARN\u001b[0m \u001b[0m\u001b[35mnotsup\u001b[0m SKIPPING OPTIONAL DEPENDENCY: Unsupported platform for fsevents@1.1.3: wanted {\"os\":\"darwin\",\"arch\":\"any\"} (current: {\"os\":\"linux\",\"arch\":\"x64\"})\n",
      "\u001b[0m\n",
      "added 1403 packages, removed 79 packages and moved 7 packages in 56.615s\n",
      "\n",
      "\n",
      "\u001b[32mRunning eslint --fix to comply with chosen preset rules...\u001b[39m\n",
      "# ========================\n",
      "\n",
      "\n",
      "> vueclient@1.0.0 lint /home/jitsejan/code/pelican-blog/content/notebooks/client\n",
      "> eslint --ext .js,.vue src test/unit test/e2e/specs \"--fix\"\n",
      "\n",
      "\n",
      "# \u001b[32m\u001b[32mProject initialization finished!\u001b[32m\u001b[39m\n",
      "# ========================\n",
      "\n",
      "To get started:\n",
      "\n",
      "  \u001b[32m\u001b[33mnpm run dev\u001b[32m\u001b[39m\n",
      "  \n",
      "Documentation can be found at https://vuejs-templates.github.io/webpack\n",
      "\n",
      "\n",
      "\u001b[?25h"
     ]
    }
   ],
   "source": [
    "!cd client && ./init_expect_script.sh"
   ]
  },
  {
   "cell_type": "code",
   "execution_count": 69,
   "metadata": {},
   "outputs": [
    {
     "name": "stdout",
     "output_type": "stream",
     "text": [
      "README.md  index.html              package-lock.json  \u001b[0m\u001b[01;34mstatic\u001b[0m/\r\n",
      "\u001b[01;34mbuild\u001b[0m/     \u001b[01;32minit_expect_script.sh\u001b[0m*  package.json       \u001b[01;34mtest\u001b[0m/\r\n",
      "\u001b[01;34mconfig\u001b[0m/    \u001b[01;34mnode_modules\u001b[0m/           \u001b[01;34msrc\u001b[0m/\r\n"
     ]
    }
   ],
   "source": [
    "ls client"
   ]
  },
  {
   "cell_type": "markdown",
   "metadata": {},
   "source": [
    "#### Temporary fix\n",
    "There seems to be an [issue](https://github.com/webpack/webpack-dev-server/issues/1259) with webpack which disables Node to start the application. For now the version of `webpack-dev-server` 2.9.7 seems to not throw any errors."
   ]
  },
  {
   "cell_type": "code",
   "execution_count": 70,
   "metadata": {},
   "outputs": [
    {
     "name": "stdout",
     "output_type": "stream",
     "text": [
      "\u001b[K\u001b[?25h\u001b[37;40mnpm\u001b[0m \u001b[0m\u001b[30;43mWARN\u001b[0m \u001b[0m\u001b[35moptional\u001b[0m SKIPPING OPTIONAL DEPENDENCY: fsevents@1.1.3 (node_modules/fsevents):\n",
      "\u001b[0m\u001b[37;40mnpm\u001b[0m \u001b[0m\u001b[30;43mWARN\u001b[0m \u001b[0m\u001b[35mnotsup\u001b[0m SKIPPING OPTIONAL DEPENDENCY: Unsupported platform for fsevents@1.1.3: wanted {\"os\":\"darwin\",\"arch\":\"any\"} (current: {\"os\":\"linux\",\"arch\":\"x64\"})\n",
      "\u001b[0m\n",
      "+ webpack-dev-server@2.9.7\n",
      "added 2 packages, removed 145 packages, updated 2 packages and moved 1 package in 12.321s\n"
     ]
    }
   ],
   "source": [
    "!cd client && npm install webpack-dev-server@2.9.7 --save-dev"
   ]
  },
  {
   "cell_type": "code",
   "execution_count": 71,
   "metadata": {},
   "outputs": [],
   "source": [
    "import time\n",
    "proc = subprocess.Popen(\"cd client && npm run dev &\", shell=True, stdout=subprocess.PIPE)\n",
    "time.sleep(10)"
   ]
  },
  {
   "cell_type": "markdown",
   "metadata": {},
   "source": [
    "### Check the default page\n",
    "The default page of Vue should be available on port 8080. Lets use [Selenium](http://www.seleniumhq.org/) to visit the webpage and make a screenshot."
   ]
  },
  {
   "cell_type": "markdown",
   "metadata": {},
   "source": [
    "#### Setup Selenium\n",
    "First create a Docker instance that runs Selenium to avoid the cumbersome installation on the local Linux machine."
   ]
  },
  {
   "cell_type": "code",
   "execution_count": 72,
   "metadata": {},
   "outputs": [],
   "source": [
    "selenium_running = False\n",
    "for cntr in docker_client.containers.list():\n",
    "    if 'selenium' in cntr.attrs['Config']['Image']:\n",
    "        selenium_running = True\n",
    "        container = cntr\n",
    "if selenium_running is False:\n",
    "    container = docker_client.containers.run(\"selenium/standalone-chrome:latest\", name='selenium', ports={'4444': '4444'}, detach=True)"
   ]
  },
  {
   "cell_type": "code",
   "execution_count": 73,
   "metadata": {},
   "outputs": [],
   "source": [
    "time.sleep(10)"
   ]
  },
  {
   "cell_type": "markdown",
   "metadata": {},
   "source": [
    "Install Selenium with pip\n",
    "\n",
    "```bash\n",
    "pip install selenium\n",
    "```"
   ]
  },
  {
   "cell_type": "code",
   "execution_count": 74,
   "metadata": {},
   "outputs": [
    {
     "name": "stdout",
     "output_type": "stream",
     "text": [
      "Collecting selenium\n",
      "  Using cached selenium-3.8.1-py2.py3-none-any.whl\n",
      "Installing collected packages: selenium\n",
      "Successfully installed selenium-3.8.1\n",
      "\u001b[33mYou are using pip version 8.1.1, however version 9.0.1 is available.\n",
      "You should consider upgrading via the 'pip install --upgrade pip' command.\u001b[0m\n"
     ]
    }
   ],
   "source": [
    "!pip3 install selenium"
   ]
  },
  {
   "cell_type": "code",
   "execution_count": 75,
   "metadata": {},
   "outputs": [
    {
     "data": {
      "text/plain": [
       "True"
      ]
     },
     "execution_count": 75,
     "metadata": {},
     "output_type": "execute_result"
    }
   ],
   "source": [
    "from selenium import webdriver\n",
    "from selenium.webdriver.common.desired_capabilities import DesiredCapabilities\n",
    "\n",
    "driver = webdriver.Remote(\"http://localhost:4444/wd/hub\", DesiredCapabilities.CHROME)\n",
    "driver.get('http://prod.jitsejan.com:8080')\n",
    "driver.save_screenshot('vue_frontpage.png')"
   ]
  },
  {
   "cell_type": "code",
   "execution_count": 76,
   "metadata": {},
   "outputs": [
    {
     "data": {
      "image/png": "[encoded data removed]",
      "text/plain": [
       "<IPython.core.display.Image object>"
      ]
     },
     "execution_count": 76,
     "metadata": {},
     "output_type": "execute_result"
    }
   ],
   "source": [
    "from IPython.display import Image\n",
    "Image(\"vue_frontpage.png\")"
   ]
  },
  {
   "cell_type": "markdown",
   "metadata": {},
   "source": [
    "Kill the process on port 8080 after verifying the front page."
   ]
  },
  {
   "cell_type": "code",
   "execution_count": 77,
   "metadata": {},
   "outputs": [],
   "source": [
    "process=!fuser 8080/tcp | awk '{print $1}'\n",
    "vueid = int(process[1])\n",
    "!kill -9 $vueid"
   ]
  },
  {
   "cell_type": "markdown",
   "metadata": {},
   "source": [
    "As we can see from the screenshot, we cannot access the page because `webpack` has changed some configuration. In order to circument this we need to add the host to the script in `package.json` and change\n",
    "\n",
    "```javascript\n",
    "    \"dev\": \"webpack-dev-server --inline --progress --config build/webpack.dev.conf.js\",\n",
    "```\n",
    "\n",
    "to\n",
    "\n",
    "```javascript\n",
    "    \"dev\": \"webpack-dev-server --inline --progress --config build/webpack.dev.conf.js --host 0.0.0.0\",\n",
    "```\n",
    "\n",
    "which can be done with `sed`:"
   ]
  },
  {
   "cell_type": "code",
   "execution_count": 78,
   "metadata": {},
   "outputs": [],
   "source": [
    "!sed -i '/dev.*--inline/s/conf.js/conf.js --host 0.0.0.0/' client/package.json"
   ]
  },
  {
   "cell_type": "code",
   "execution_count": 79,
   "metadata": {},
   "outputs": [
    {
     "name": "stdout",
     "output_type": "stream",
     "text": [
      "    \"dev\": \"webpack-dev-server --inline --progress --config build/webpack.dev.conf.js --host 0.0.0.0\",\r\n",
      "    \"start\": \"npm run dev\",\r\n",
      "  \"devDependencies\": {\r\n",
      "    \"webpack-dev-server\": \"^2.9.7\",\r\n"
     ]
    }
   ],
   "source": [
    "cat client/package.json | grep dev"
   ]
  },
  {
   "cell_type": "markdown",
   "metadata": {},
   "source": [
    "Additionally we need to disable the host check in `build/webpack.dev.conf.js` by adding \n",
    "\n",
    "```javascript\n",
    "disableHostCheck: true\n",
    "```\n",
    "\n",
    "to the `devServer`."
   ]
  },
  {
   "cell_type": "code",
   "execution_count": 80,
   "metadata": {},
   "outputs": [],
   "source": [
    "!sed -i \"26i\\ \\ \\ \\ disableHostCheck: true,\" client/build/webpack.dev.conf.js"
   ]
  },
  {
   "cell_type": "code",
   "execution_count": 81,
   "metadata": {},
   "outputs": [
    {
     "name": "stdout",
     "output_type": "stream",
     "text": [
      "  // these devServer options should be customized in /config/index.js\r\n",
      "  devServer: {\r\n",
      "    clientLogLevel: 'warning',\r\n",
      "    \u001b[01;31m\u001b[KdisableHostCheck\u001b[m\u001b[K: true,\r\n",
      "    historyApiFallback: {\r\n",
      "      rewrites: [\r\n",
      "        { from: /.*/, to: path.posix.join(config.dev.assetsPublicPath, 'index.html') },\r\n"
     ]
    }
   ],
   "source": [
    "!grep -C3 disableHostCheck client/build/webpack.dev.conf.js --color=auto"
   ]
  },
  {
   "cell_type": "markdown",
   "metadata": {},
   "source": [
    "#### Retry"
   ]
  },
  {
   "cell_type": "code",
   "execution_count": 82,
   "metadata": {},
   "outputs": [],
   "source": [
    "proc = subprocess.Popen(\"cd client && npm run dev &\", shell=True, stdout=subprocess.PIPE)\n",
    "time.sleep(10)"
   ]
  },
  {
   "cell_type": "code",
   "execution_count": 83,
   "metadata": {},
   "outputs": [
    {
     "data": {
      "text/plain": [
       "True"
      ]
     },
     "execution_count": 83,
     "metadata": {},
     "output_type": "execute_result"
    }
   ],
   "source": [
    "driver = webdriver.Remote(\"http://localhost:4444/wd/hub\", DesiredCapabilities.CHROME)\n",
    "driver.get('http://prod.jitsejan.com:8080')\n",
    "driver.get_screenshot_as_file('vue_front.png')"
   ]
  },
  {
   "cell_type": "code",
   "execution_count": 84,
   "metadata": {},
   "outputs": [
    {
     "data": {
      "image/png": "[encoded data removed]",
      "text/plain": [
       "<IPython.core.display.Image object>"
      ]
     },
     "execution_count": 84,
     "metadata": {},
     "output_type": "execute_result"
    }
   ],
   "source": [
    "Image(\"vue_front.png\")"
   ]
  },
  {
   "cell_type": "code",
   "execution_count": 85,
   "metadata": {},
   "outputs": [],
   "source": [
    "process=!fuser 8080/tcp | awk '{print $1}'\n",
    "vueid = int(process[1])\n",
    "!kill -9 $vueid"
   ]
  },
  {
   "cell_type": "markdown",
   "metadata": {},
   "source": [
    "## Create games page"
   ]
  },
  {
   "cell_type": "code",
   "execution_count": 86,
   "metadata": {},
   "outputs": [
    {
     "name": "stdout",
     "output_type": "stream",
     "text": [
      "HelloWorld.vue\r\n"
     ]
    }
   ],
   "source": [
    "ls client/src/components/"
   ]
  },
  {
   "cell_type": "markdown",
   "metadata": {},
   "source": [
    "### Create the component\n",
    "Add the Vue template to the Games component.\n",
    "\n",
    "```html\n",
    "<template>\n",
    "  <div class=\"games\">\n",
    "    This page will list all the games.\n",
    "  </div>\n",
    "</template>\n",
    "\n",
    "<script>\n",
    "export default {\n",
    "  name: 'Games',\n",
    "  data () {\n",
    "    return {}\n",
    "  }\n",
    "}\n",
    "</script>\n",
    "```"
   ]
  },
  {
   "cell_type": "code",
   "execution_count": 87,
   "metadata": {},
   "outputs": [
    {
     "name": "stdout",
     "output_type": "stream",
     "text": [
      "Writing client/src/components/Games.vue\n"
     ]
    }
   ],
   "source": [
    "%%file client/src/components/Games.vue\n",
    "<template>\n",
    "  <div class=\"games\">\n",
    "    This page will list all the games.\n",
    "  </div>\n",
    "</template>\n",
    "\n",
    "<script>\n",
    "export default {\n",
    "  name: 'Games',\n",
    "  data () {\n",
    "    return {}\n",
    "  }\n",
    "}\n",
    "</script>\n",
    "\n"
   ]
  },
  {
   "cell_type": "code",
   "execution_count": 88,
   "metadata": {},
   "outputs": [
    {
     "name": "stdout",
     "output_type": "stream",
     "text": [
      "Games.vue  HelloWorld.vue\r\n"
     ]
    }
   ],
   "source": [
    "ls client/src/components/"
   ]
  },
  {
   "cell_type": "markdown",
   "metadata": {},
   "source": [
    "### Create the route"
   ]
  },
  {
   "cell_type": "code",
   "execution_count": 89,
   "metadata": {},
   "outputs": [
    {
     "name": "stdout",
     "output_type": "stream",
     "text": [
      "import Vue from 'vue'\r\n",
      "import Router from 'vue-router'\r\n",
      "import HelloWorld from '@/components/HelloWorld'\r\n",
      "\r\n",
      "Vue.use(Router)\r\n",
      "\r\n",
      "export default new Router({\r\n",
      "  routes: [\r\n",
      "    {\r\n",
      "      path: '/',\r\n",
      "      name: 'HelloWorld',\r\n",
      "      component: HelloWorld\r\n",
      "    }\r\n",
      "  ]\r\n",
      "})\r\n"
     ]
    }
   ],
   "source": [
    "cat client/src/router/index.js"
   ]
  },
  {
   "cell_type": "markdown",
   "metadata": {},
   "source": [
    "Add the import of the Games component to the router file.\n",
    "\n",
    "```javascript\n",
    "import Games from '@/components/Games'\n",
    "```"
   ]
  },
  {
   "cell_type": "markdown",
   "metadata": {},
   "source": [
    "and add the path to the games page indicating to which component the page will link.\n",
    "\n",
    "```javascript\n",
    "...\n",
    "    {\n",
    "      path: '/games',\n",
    "      name: 'Games',\n",
    "      component: Games\n",
    "    }\n",
    "...\n",
    "```"
   ]
  },
  {
   "cell_type": "code",
   "execution_count": 90,
   "metadata": {},
   "outputs": [
    {
     "name": "stdout",
     "output_type": "stream",
     "text": [
      "Overwriting client/src/router/index.js\n"
     ]
    }
   ],
   "source": [
    "%%file client/src/router/index.js\n",
    "import Vue from 'vue'\n",
    "import Router from 'vue-router'\n",
    "import HelloWorld from '@/components/HelloWorld'\n",
    "import Games from '@/components/Games'\n",
    "\n",
    "Vue.use(Router)\n",
    "\n",
    "export default new Router({\n",
    "  routes: [\n",
    "    {\n",
    "      path: '/',\n",
    "      name: 'HelloWorld',\n",
    "      component: HelloWorld\n",
    "    },\n",
    "    {\n",
    "      path: '/games',\n",
    "      name: 'Games',\n",
    "      component: Games\n",
    "    }\n",
    "  ]\n",
    "})\n",
    "\n"
   ]
  },
  {
   "cell_type": "markdown",
   "metadata": {},
   "source": [
    "#### Verify the new route"
   ]
  },
  {
   "cell_type": "code",
   "execution_count": 91,
   "metadata": {},
   "outputs": [
    {
     "data": {
      "text/plain": [
       "True"
      ]
     },
     "execution_count": 91,
     "metadata": {},
     "output_type": "execute_result"
    }
   ],
   "source": [
    "proc = subprocess.Popen(\"cd client && npm run dev &\", shell=True, stdout=subprocess.PIPE)\n",
    "time.sleep(10)\n",
    "\n",
    "driver = webdriver.Remote(\"http://localhost:4444/wd/hub\", DesiredCapabilities.CHROME)\n",
    "driver.get('http://prod.jitsejan.com:8080/ui/#/games')\n",
    "driver.get_screenshot_as_file('new_route.png')\n",
    "\n",
    "process=!fuser 8080/tcp | awk '{print $1}'\n",
    "vueid = int(process[1])\n",
    "!kill -9 $vueid"
   ]
  },
  {
   "cell_type": "code",
   "execution_count": 92,
   "metadata": {},
   "outputs": [
    {
     "data": {
      "image/png": "[encoded data removed]",
      "text/plain": [
       "<IPython.core.display.Image object>"
      ]
     },
     "execution_count": 92,
     "metadata": {},
     "output_type": "execute_result"
    }
   ],
   "source": [
    "Image(\"new_route.png\")"
   ]
  },
  {
   "cell_type": "markdown",
   "metadata": {},
   "source": [
    "### Connect to back-end\n",
    "We have the route complete, time to connect to the data from the database. For this we will use [axios](https://github.com/axios/axios).\n",
    "#### Install axios"
   ]
  },
  {
   "cell_type": "code",
   "execution_count": 93,
   "metadata": {},
   "outputs": [
    {
     "name": "stdout",
     "output_type": "stream",
     "text": [
      "\u001b[K\u001b[?25h\u001b[37;40mnpm\u001b[0m \u001b[0m\u001b[30;43mWARN\u001b[0m \u001b[0m\u001b[35moptional\u001b[0m SKIPPING OPTIONAL DEPENDENCY: fsevents@1.1.3 (node_modules/fsevents):\n",
      "\u001b[0m\u001b[37;40mnpm\u001b[0m \u001b[0m\u001b[30;43mWARN\u001b[0m \u001b[0m\u001b[35mnotsup\u001b[0m SKIPPING OPTIONAL DEPENDENCY: Unsupported platform for fsevents@1.1.3: wanted {\"os\":\"darwin\",\"arch\":\"any\"} (current: {\"os\":\"linux\",\"arch\":\"x64\"})\n",
      "\u001b[0m\n",
      "+ axios@0.17.1\n",
      "added 3 packages in 10.18s\n"
     ]
    }
   ],
   "source": [
    "!cd client && npm install --save axios"
   ]
  },
  {
   "cell_type": "markdown",
   "metadata": {},
   "source": [
    "#### Setup connection with back-end\n",
    "Create a `services` folder that will contain the API Javascript files."
   ]
  },
  {
   "cell_type": "code",
   "execution_count": 94,
   "metadata": {},
   "outputs": [],
   "source": [
    "mkdir -p client/src/services"
   ]
  },
  {
   "cell_type": "code",
   "execution_count": 95,
   "metadata": {},
   "outputs": [
    {
     "name": "stdout",
     "output_type": "stream",
     "text": [
      "Writing client/src/services/api.js\n"
     ]
    }
   ],
   "source": [
    "%%file client/src/services/api.js\n",
    "import axios from 'axios'\n",
    "\n",
    "export default() => {\n",
    "  return axios.create({\n",
    "    baseURL: `http://prod.jitsejan.com:3000`\n",
    "  })\n",
    "}\n",
    "\n"
   ]
  },
  {
   "cell_type": "markdown",
   "metadata": {},
   "source": [
    "#### Create service to retrieve the games"
   ]
  },
  {
   "cell_type": "code",
   "execution_count": 96,
   "metadata": {},
   "outputs": [
    {
     "name": "stdout",
     "output_type": "stream",
     "text": [
      "Writing client/src/services/GamesService.js\n"
     ]
    }
   ],
   "source": [
    "%%file client/src/services/GamesService.js\n",
    "import api from '@/services/api'\n",
    "\n",
    "export default {\n",
    "  fetchGames () {\n",
    "    return api().get('games')\n",
    "  }\n",
    "}\n",
    "\n"
   ]
  },
  {
   "cell_type": "markdown",
   "metadata": {},
   "source": [
    "#### Add the service to the Games component\n",
    "This component shows all the games available in the database. Note that this is the file that should be updated if you would like a more fancy layout, for example by adding [Bootstrap](https://getbootstrap.com/) or other frameworks.\n",
    "\n",
    "```html\n",
    "<template>\n",
    "  <div class=\"games\">\n",
    "    <div class=\"games-div\" v-for=\"game in games\" :key=\"game._id\">\n",
    "      <p>\n",
    "        <span><b>{{ game.name }}</b></span><br />\n",
    "        <span>{{ game.console }}</span><br />\n",
    "        <span>{{ game.sales }}</span>\n",
    "        <a :href=\"'/ui/#/games/' + game._id\">Details</a>\n",
    "      </p>\n",
    "    </div>\n",
    "  </div>\n",
    "</template>\n",
    "\n",
    "<script>\n",
    "import GamesService from '@/services/GamesService'\n",
    "\n",
    "export default {\n",
    "  name: 'Games',\n",
    "  data () {\n",
    "    return {\n",
    "      games: []\n",
    "    }\n",
    "  },\n",
    "  mounted () {\n",
    "    this.getGames()\n",
    "  },\n",
    "  methods: {\n",
    "    async getGames () {\n",
    "      const response = await GamesService.fetchGames()\n",
    "      this.games = response.data.games\n",
    "    }\n",
    "  }\n",
    "}\n",
    "</script>\n",
    "```"
   ]
  },
  {
   "cell_type": "code",
   "execution_count": 97,
   "metadata": {},
   "outputs": [
    {
     "name": "stdout",
     "output_type": "stream",
     "text": [
      "Overwriting client/src/components/Games.vue\n"
     ]
    }
   ],
   "source": [
    "%%file client/src/components/Games.vue\n",
    "<template>\n",
    "  <div class=\"games\">\n",
    "    <div class=\"games-div\" v-for=\"game in games\" :key=\"game._id\">\n",
    "      <p>\n",
    "        <span><b>{{ game.name }}</b></span><br />\n",
    "        <span>{{ game.console }}</span><br />\n",
    "        <span>{{ game.sales }}</span>\n",
    "        <a :href=\"'/ui/#/games/' + game._id\">Details</a>\n",
    "      </p>\n",
    "    </div>\n",
    "  </div>\n",
    "</template>\n",
    "\n",
    "<script>\n",
    "import GamesService from '@/services/GamesService'\n",
    "\n",
    "export default {\n",
    "  name: 'Games',\n",
    "  data () {\n",
    "    return {\n",
    "      games: []\n",
    "    }\n",
    "  },\n",
    "  mounted () {\n",
    "    this.getGames()\n",
    "  },\n",
    "  methods: {\n",
    "    async getGames () {\n",
    "      const response = await GamesService.fetchGames()\n",
    "      this.games = response.data.games\n",
    "    }\n",
    "  }\n",
    "}\n",
    "</script>\n",
    "\n"
   ]
  },
  {
   "cell_type": "markdown",
   "metadata": {},
   "source": [
    "Start both the Express back-end and the Vue front-end to verify if the data from the API is retrieved with the updated component.\n",
    "\n",
    "Small trick: by setting the logging preferences when starting the webdriver with Selenium, we can actually retrieve the logs you would normally see with the developer tools in the browser."
   ]
  },
  {
   "cell_type": "code",
   "execution_count": 98,
   "metadata": {},
   "outputs": [
    {
     "data": {
      "text/plain": [
       "True"
      ]
     },
     "execution_count": 98,
     "metadata": {},
     "output_type": "execute_result"
    }
   ],
   "source": [
    "vueproc = subprocess.Popen(\"cd client && npm run dev &\", shell=True, stdout=subprocess.PIPE)\n",
    "expressproc = subprocess.Popen(\"cd server && npm start &\", shell=True, stdout=subprocess.PIPE)\n",
    "\n",
    "time.sleep(10)\n",
    "\n",
    "desired = DesiredCapabilities.CHROME\n",
    "desired ['loggingPrefs'] = { 'browser':'ALL' }\n",
    "        \n",
    "driver = webdriver.Remote(\"http://localhost:4444/wd/hub\", desired_capabilities=desired)\n",
    "driver.get('http://prod.jitsejan.com:8080/ui/#/games')\n",
    "driver.get_screenshot_as_file('new_route_with_data.png')\n",
    "\n",
    "vueprocess=!fuser 8080/tcp | awk '{print $1}'\n",
    "vueid = int(vueprocess[1])\n",
    "!kill -9 $vueid\n",
    "\n",
    "expressprocess=!fuser 3000/tcp | awk '{print $1}'\n",
    "expressid = int(expressprocess[1])\n",
    "!kill -9 $expressid"
   ]
  },
  {
   "cell_type": "code",
   "execution_count": 99,
   "metadata": {},
   "outputs": [
    {
     "data": {
      "text/plain": [
       "[{'level': 'INFO',\n",
       "  'message': 'webpack-internal:///./node_modules/webpack/hot/log.js 22:11 \"[HMR] Waiting for update signal from WDS...\"',\n",
       "  'source': 'console-api',\n",
       "  'timestamp': 1516064762951},\n",
       " {'level': 'INFO',\n",
       "  'message': 'webpack-internal:///./node_modules/vue/dist/vue.esm.js 8437:44 \"Download the Vue Devtools extension for a better development experience:\\\\nhttps://github.com/vuejs/vue-devtools\"',\n",
       "  'source': 'console-api',\n",
       "  'timestamp': 1516064763382},\n",
       " {'level': 'SEVERE',\n",
       "  'message': \"http://prod.jitsejan.com:8080/ui/#/games - Failed to load http://prod.jitsejan.com:3000/games: No 'Access-Control-Allow-Origin' header is present on the requested resource. Origin 'http://prod.jitsejan.com:8080' is therefore not allowed access.\",\n",
       "  'source': 'javascript',\n",
       "  'timestamp': 1516064763546},\n",
       " {'level': 'SEVERE',\n",
       "  'message': 'webpack-internal:///./node_modules/axios/lib/core/createError.js 15:14 Uncaught Error: Network Error',\n",
       "  'source': 'javascript',\n",
       "  'timestamp': 1516064763549},\n",
       " {'level': 'SEVERE',\n",
       "  'message': 'webpack-internal:///./node_modules/webpack-dev-server/client/index.js?http://0.0.0.0:8080 171:8 \"[WDS] Disconnected!\"',\n",
       "  'source': 'console-api',\n",
       "  'timestamp': 1516064766361}]"
      ]
     },
     "execution_count": 99,
     "metadata": {},
     "output_type": "execute_result"
    }
   ],
   "source": [
    "logs = driver.get_log('browser')\n",
    "logs"
   ]
  },
  {
   "cell_type": "code",
   "execution_count": 100,
   "metadata": {},
   "outputs": [
    {
     "data": {
      "image/png": "[encoded data removed]",
      "text/plain": [
       "<IPython.core.display.Image object>"
      ]
     },
     "execution_count": 100,
     "metadata": {},
     "output_type": "execute_result"
    }
   ],
   "source": [
    "Image(\"new_route_with_data.png\")"
   ]
  },
  {
   "cell_type": "markdown",
   "metadata": {},
   "source": [
    "As we can see in the logs, we have an issue accessing the back-end because of the Access-Control-Allow-Origin limitation. To circumvent this, we need to make sure that we are allowed to access the API; hece install the package [Cors](https://www.npmjs.com/package/cors) and enable it in the Express application."
   ]
  },
  {
   "cell_type": "code",
   "execution_count": 101,
   "metadata": {},
   "outputs": [
    {
     "name": "stdout",
     "output_type": "stream",
     "text": [
      "\u001b[K\u001b[?25h+ cors@2.8.4m\u001b[90m......\u001b[0m] / postinstall: \u001b[32minfo\u001b[0m \u001b[35mlifecycle\u001b[0m cors@2.8.4~postinstall: cors\u001b[0m\u001b[K\u001b[K\n",
      "added 2 packages in 1.115s\n"
     ]
    }
   ],
   "source": [
    "!cd server && npm install --save cors"
   ]
  },
  {
   "cell_type": "markdown",
   "metadata": {},
   "source": [
    "Add the requirement for the cors package and enable it in the Express app by adding the following to `server/app.js`.\n",
    "\n",
    "```javascript\n",
    "...\n",
    "var cors = require('cors')\n",
    "...\n",
    "app.use(cors())\n",
    "...\n",
    "```"
   ]
  },
  {
   "cell_type": "code",
   "execution_count": 102,
   "metadata": {},
   "outputs": [
    {
     "name": "stdout",
     "output_type": "stream",
     "text": [
      "Overwriting server/app.js\n"
     ]
    }
   ],
   "source": [
    "%%file server/app.js\n",
    "var express = require('express');\n",
    "var path = require('path');\n",
    "var favicon = require('serve-favicon');\n",
    "var logger = require('morgan');\n",
    "var cookieParser = require('cookie-parser');\n",
    "var bodyParser = require('body-parser');\n",
    "// Mongoose connection\n",
    "var mongoose = require('mongoose');\n",
    "mongoose.connect('mongodb://localhost:27017/nintendo');\n",
    "var db = mongoose.connection;\n",
    "db.on(\"error\", console.error.bind(console, \"Connection error\"));\n",
    "db.once(\"openUri\", function(callback){\n",
    "  console.log(\"Connection successful\")\n",
    "});\n",
    "var cors = require(\"cors\")\n",
    "\n",
    "var index = require('./routes/index');\n",
    "var users = require('./routes/users');\n",
    "var games = require('./routes/games');\n",
    "\n",
    "var app = express();\n",
    "app.use(cors());\n",
    "\n",
    "// view engine setup\n",
    "app.set('views', path.join(__dirname, 'views'));\n",
    "app.set('view engine', 'ejs');\n",
    "\n",
    "// uncomment after placing your favicon in /public\n",
    "//app.use(favicon(path.join(__dirname, 'public', 'favicon.ico')));\n",
    "app.use(logger('dev'));\n",
    "app.use(bodyParser.json());\n",
    "app.use(bodyParser.urlencoded({ extended: false }));\n",
    "app.use(cookieParser());\n",
    "app.use(express.static(path.join(__dirname, 'public')));\n",
    "\n",
    "app.use('/', index);\n",
    "app.use('/users', users);\n",
    "app.use('/games', games);\n",
    "\n",
    "// catch 404 and forward to error handler\n",
    "app.use(function(req, res, next) {\n",
    "  var err = new Error('Not Found');\n",
    "  err.status = 404;\n",
    "  next(err);\n",
    "});\n",
    "\n",
    "// error handler\n",
    "app.use(function(err, req, res, next) {\n",
    "  // set locals, only providing error in development\n",
    "  res.locals.message = err.message;\n",
    "  res.locals.error = req.app.get('env') === 'development' ? err : {};\n",
    "\n",
    "  // render the error page\n",
    "  res.status(err.status || 500);\n",
    "  res.render('error');\n",
    "});\n",
    "\n",
    "module.exports = app;"
   ]
  },
  {
   "cell_type": "markdown",
   "metadata": {},
   "source": [
    "Now we are connected and allowed to retrieve the data. We use Selenium and wait for the `games-div` to appear."
   ]
  },
  {
   "cell_type": "code",
   "execution_count": 103,
   "metadata": {
    "scrolled": false
   },
   "outputs": [
    {
     "data": {
      "text/plain": [
       "<selenium.webdriver.remote.webelement.WebElement (session=\"ba1712b1e5ede5037de7ff15d2b109fc\", element=\"0.8736937714035513-1\")>"
      ]
     },
     "execution_count": 103,
     "metadata": {},
     "output_type": "execute_result"
    },
    {
     "data": {
      "text/plain": [
       "True"
      ]
     },
     "execution_count": 103,
     "metadata": {},
     "output_type": "execute_result"
    }
   ],
   "source": [
    "from selenium.webdriver.support.ui import WebDriverWait\n",
    "from selenium.webdriver.support import expected_conditions as EC\n",
    "from selenium.webdriver.common.by import By\n",
    "\n",
    "vueproc = subprocess.Popen(\"cd client && npm run dev &\", shell=True, stdout=subprocess.PIPE)\n",
    "expressproc = subprocess.Popen(\"cd server && npm start &\", shell=True, stdout=subprocess.PIPE)\n",
    "\n",
    "time.sleep(10)\n",
    "\n",
    "desired = DesiredCapabilities.CHROME\n",
    "desired ['loggingPrefs'] = { 'browser':'ALL' }\n",
    "        \n",
    "driver = webdriver.Remote(\"http://localhost:4444/wd/hub\", desired_capabilities=desired)\n",
    "driver.get('http://prod.jitsejan.com:8080/ui/#/games')\n",
    "WebDriverWait(driver, 5).until(EC.presence_of_element_located((By.CLASS_NAME, 'games-div')))\n",
    "driver.refresh()\n",
    "driver.save_screenshot('allgames.png')"
   ]
  },
  {
   "cell_type": "code",
   "execution_count": 104,
   "metadata": {},
   "outputs": [
    {
     "data": {
      "image/png": "[encoded data removed]",
      "text/plain": [
       "<IPython.core.display.Image object>"
      ]
     },
     "execution_count": 104,
     "metadata": {},
     "output_type": "execute_result"
    }
   ],
   "source": [
    "Image(\"allgames.png\")"
   ]
  },
  {
   "cell_type": "markdown",
   "metadata": {},
   "source": [
    "#### Clean up"
   ]
  },
  {
   "cell_type": "code",
   "execution_count": 105,
   "metadata": {},
   "outputs": [],
   "source": [
    "driver.quit()\n",
    "\n",
    "vueprocess=!fuser 8080/tcp | awk '{print $1}'\n",
    "vueid = int(vueprocess[1])\n",
    "!kill -9 $vueid\n",
    "\n",
    "expressprocess=!fuser 3000/tcp | awk '{print $1}'\n",
    "expressid = int(expressprocess[1])\n",
    "!kill -9 $expressid"
   ]
  },
  {
   "cell_type": "markdown",
   "metadata": {},
   "source": [
    "#### Create detail page for the game\n",
    "Create the component and connect to the API by importing the service and execute the promise. Retrieving the data for a game can also be solved by extending the `GamesServices.js` we created earlier by adding another fetch function, but since every problem can be solved in different ways, I chose to use the method as shown in the following file.\n",
    "\n",
    "```html\n",
    "<template>\n",
    "  <div class=\"games-detail\">\n",
    "    <h1>Details for {{ data.name }}</h1>\n",
    "    <img :src=\"'/static/' + data.image\" /><br/>\n",
    "    Console: {{ data.console }}<br/>\n",
    "    Sales: {{ data.sales}} million<br/>\n",
    "  </div>\n",
    "</template>\n",
    "\n",
    "<script>\n",
    "import api from '@/services/api'\n",
    "\n",
    "export default {\n",
    "  name: 'GamesDetail',\n",
    "  data () {\n",
    "    return {\n",
    "      data: ''\n",
    "    }\n",
    "  },\n",
    "  created () {\n",
    "    api().get('games/' + this.$route.params.id)\n",
    "      .then(response => {\n",
    "        this.data = response.data\n",
    "      })\n",
    "      .catch(e => {\n",
    "        this.errors.push(e)\n",
    "      })\n",
    "  }\n",
    "}\n",
    "</script>\n",
    "```"
   ]
  },
  {
   "cell_type": "code",
   "execution_count": 106,
   "metadata": {},
   "outputs": [
    {
     "name": "stdout",
     "output_type": "stream",
     "text": [
      "Writing client/src/components/GamesDetail.vue\n"
     ]
    }
   ],
   "source": [
    "%%file client/src/components/GamesDetail.vue\n",
    "<template>\n",
    "  <div class=\"games-detail\">\n",
    "    <h1>Details for {{ data.name }}</h1>\n",
    "    <img :src=\"'/static/' + data.image\" /><br/>\n",
    "    Console: {{ data.console }}<br/>\n",
    "    Sales: {{ data.sales}} million<br/>\n",
    "  </div>\n",
    "</template>\n",
    "\n",
    "<script>\n",
    "import api from '@/services/api'\n",
    "\n",
    "export default {\n",
    "  name: 'GamesDetail',\n",
    "  data () {\n",
    "    return {\n",
    "      data: ''\n",
    "    }\n",
    "  },\n",
    "  created () {\n",
    "    api().get('games/' + this.$route.params.id)\n",
    "      .then(response => {\n",
    "        this.data = response.data\n",
    "      })\n",
    "      .catch(e => {\n",
    "        this.errors.push(e)\n",
    "      })\n",
    "  }\n",
    "}\n",
    "</script>\n",
    "\n"
   ]
  },
  {
   "cell_type": "markdown",
   "metadata": {},
   "source": [
    "Add the route for the detail page by adding the following to `client/src/router/index.js`:\n",
    "    \n",
    "```javascript\n",
    "...\n",
    "import GamesDetail from '@/components/GamesDetail'\n",
    "...\n",
    "    {\n",
    "      path: '/games/:id',\n",
    "      name: 'GamesDetail',\n",
    "      component: GamesDetail\n",
    "    }\n",
    "```"
   ]
  },
  {
   "cell_type": "code",
   "execution_count": 107,
   "metadata": {},
   "outputs": [
    {
     "name": "stdout",
     "output_type": "stream",
     "text": [
      "Overwriting client/src/router/index.js\n"
     ]
    }
   ],
   "source": [
    "%%file client/src/router/index.js\n",
    "import Vue from 'vue'\n",
    "import Router from 'vue-router'\n",
    "import HelloWorld from '@/components/HelloWorld'\n",
    "import Games from '@/components/Games'\n",
    "import GamesDetail from '@/components/GamesDetail'\n",
    "\n",
    "Vue.use(Router)\n",
    "\n",
    "export default new Router({\n",
    "  routes: [\n",
    "    {\n",
    "      path: '/',\n",
    "      name: 'HelloWorld',\n",
    "      component: HelloWorld\n",
    "    },\n",
    "    {\n",
    "      path: '/games',\n",
    "      name: 'Games',\n",
    "      component: Games\n",
    "    },\n",
    "    {\n",
    "      path: '/games/:id',\n",
    "      name: 'GamesDetail',\n",
    "      component: GamesDetail\n",
    "    }\n",
    "  ]\n",
    "})\n",
    "\n"
   ]
  },
  {
   "cell_type": "markdown",
   "metadata": {},
   "source": [
    "Start the processes"
   ]
  },
  {
   "cell_type": "code",
   "execution_count": 108,
   "metadata": {},
   "outputs": [],
   "source": [
    "vueproc = subprocess.Popen(\"cd client && npm run dev &\", shell=True, stdout=subprocess.PIPE)\n",
    "expressproc = subprocess.Popen(\"cd server && npm start &\", shell=True, stdout=subprocess.PIPE)\n",
    "time.sleep(10)"
   ]
  },
  {
   "cell_type": "markdown",
   "metadata": {},
   "source": [
    "Verify the detail page for a given ID."
   ]
  },
  {
   "cell_type": "code",
   "execution_count": 109,
   "metadata": {},
   "outputs": [
    {
     "data": {
      "text/plain": [
       "True"
      ]
     },
     "execution_count": 109,
     "metadata": {},
     "output_type": "execute_result"
    }
   ],
   "source": [
    "desired = DesiredCapabilities.CHROME\n",
    "desired ['loggingPrefs'] = { 'browser':'ALL' }\n",
    "        \n",
    "driver = webdriver.Remote(\"http://localhost:4444/wd/hub\", desired_capabilities=desired)\n",
    "driver.get('http://prod.jitsejan.com:8080/ui/#/games/'+game_id)\n",
    "driver.save_screenshot('gamedetail.png')"
   ]
  },
  {
   "cell_type": "code",
   "execution_count": 110,
   "metadata": {},
   "outputs": [
    {
     "data": {
      "image/png": "[encoded data removed]",
      "text/plain": [
       "<IPython.core.display.Image object>"
      ]
     },
     "execution_count": 110,
     "metadata": {},
     "output_type": "execute_result"
    }
   ],
   "source": [
    "Image(\"gamedetail.png\")"
   ]
  },
  {
   "cell_type": "markdown",
   "metadata": {},
   "source": [
    "Note: not all images from the source are working properly, but that could easily be fixed by improving the webscraper and verifying the images."
   ]
  },
  {
   "cell_type": "code",
   "execution_count": 111,
   "metadata": {},
   "outputs": [],
   "source": [
    "vueprocess=!fuser 8080/tcp | awk '{print $1}'\n",
    "vueid = int(vueprocess[1])\n",
    "!kill -9 $vueid\n",
    "\n",
    "expressprocess=!fuser 3000/tcp | awk '{print $1}'\n",
    "expressid = int(expressprocess[1])\n",
    "!kill -9 $expressid"
   ]
  },
  {
   "cell_type": "markdown",
   "metadata": {},
   "source": [
    "### Finalize\n",
    "To wrap this notebook up, lets update the generic `App.vue` to make it easier to navigate between the pages by adding a menu to `client/src/App.vue`. Copy the following text to the `client/src/App.vue`.\n",
    "\n",
    "```html\n",
    "<template>\n",
    "  <div id=\"app\">\n",
    "    <router-link :to=\"{ name: 'HelloWorld' }\">Home</router-link>\n",
    "    <router-link :to=\"{ name: 'Games'}\">Games</router-link>\n",
    "    <router-view/>\n",
    "  </div>\n",
    "</template>\n",
    "\n",
    "<script>\n",
    "export default {\n",
    "  name: 'app'\n",
    "}\n",
    "</script>\n",
    "\n",
    "<style>\n",
    "#app {\n",
    "  font-family: 'Avenir', Helvetica, Arial, sans-serif;\n",
    "  -webkit-font-smoothing: antialiased;\n",
    "  -moz-osx-font-smoothing: grayscale;\n",
    "  text-align: center;\n",
    "  color: #2c3e50;\n",
    "  margin-top: 60px;\n",
    "}\n",
    "</style>\n",
    "```"
   ]
  },
  {
   "cell_type": "code",
   "execution_count": 112,
   "metadata": {},
   "outputs": [
    {
     "name": "stdout",
     "output_type": "stream",
     "text": [
      "Overwriting client/src/App.vue\n"
     ]
    }
   ],
   "source": [
    "%%file client/src/App.vue\n",
    "<template>\n",
    "  <div id=\"app\">\n",
    "    <router-link :to=\"{ name: 'HelloWorld' }\">Home</router-link>\n",
    "    <router-link :to=\"{ name: 'Games'}\">Games</router-link>\n",
    "    <router-view/>\n",
    "  </div>\n",
    "</template>\n",
    "\n",
    "<script>\n",
    "export default {\n",
    "  name: 'app'\n",
    "}\n",
    "</script>\n",
    "\n",
    "<style>\n",
    "#app {\n",
    "  font-family: 'Avenir', Helvetica, Arial, sans-serif;\n",
    "  -webkit-font-smoothing: antialiased;\n",
    "  -moz-osx-font-smoothing: grayscale;\n",
    "  text-align: center;\n",
    "  color: #2c3e50;\n",
    "  margin-top: 60px;\n",
    "}\n",
    "</style>\n",
    "\n"
   ]
  },
  {
   "cell_type": "code",
   "execution_count": 113,
   "metadata": {},
   "outputs": [],
   "source": [
    "vueproc = subprocess.Popen(\"cd client && npm run dev &\", shell=True, stdout=subprocess.PIPE)\n",
    "expressproc = subprocess.Popen(\"cd server && npm start &\", shell=True, stdout=subprocess.PIPE)\n",
    "time.sleep(10)"
   ]
  },
  {
   "cell_type": "code",
   "execution_count": 114,
   "metadata": {},
   "outputs": [
    {
     "data": {
      "text/plain": [
       "True"
      ]
     },
     "execution_count": 114,
     "metadata": {},
     "output_type": "execute_result"
    }
   ],
   "source": [
    "desired = DesiredCapabilities.CHROME\n",
    "desired ['loggingPrefs'] = { 'browser':'ALL' }\n",
    "        \n",
    "driver = webdriver.Remote(\"http://localhost:4444/wd/hub\", desired_capabilities=desired)\n",
    "driver.get('http://prod.jitsejan.com:8080')\n",
    "driver.save_screenshot('menuadded.png')"
   ]
  },
  {
   "cell_type": "code",
   "execution_count": 115,
   "metadata": {},
   "outputs": [
    {
     "data": {
      "image/png": "[encoded data removed]",
      "text/plain": [
       "<IPython.core.display.Image object>"
      ]
     },
     "execution_count": 115,
     "metadata": {},
     "output_type": "execute_result"
    }
   ],
   "source": [
    "Image(\"menuadded.png\")"
   ]
  },
  {
   "cell_type": "markdown",
   "metadata": {},
   "source": [
    "#### Clean up"
   ]
  },
  {
   "cell_type": "code",
   "execution_count": 116,
   "metadata": {},
   "outputs": [],
   "source": [
    "%%bash\n",
    "rm -rf client\n",
    "rm -rf server\n",
    "rm -rf iamges"
   ]
  },
  {
   "cell_type": "markdown",
   "metadata": {},
   "source": [
    "## Future work\n",
    "In this example application I did not use any fancy styling or advanced HTML structures to make the website more appealing. Additionally, the API is only used to retrieve data, while obviously it could also used to create data, update it or delete it (CRUD), but for the scope of this notebook I kept it to a minimum. As a third improvement you could choose to put everything of this notebook in one Docker compose file, where MongoDB, Selenium, ExpressJS and VueJS are all containerized, but since I am not planning to port this application to another server, it is fine to simply install the files locally and remove them again after the notebook has finished."
   ]
  }
 ],
 "metadata": {
  "kernelspec": {
   "display_name": "Python 3",
   "language": "python",
   "name": "python3"
  },
  "language_info": {
   "codemirror_mode": {
    "name": "ipython",
    "version": 3
   },
   "file_extension": ".py",
   "mimetype": "text/x-python",
   "name": "python",
   "nbconvert_exporter": "python",
   "pygments_lexer": "ipython3",
   "version": "3.5.2"
  }
 },
 "nbformat": 4,
 "nbformat_minor": 2
}
