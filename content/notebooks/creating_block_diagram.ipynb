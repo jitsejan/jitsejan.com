{
 "cells": [
  {
   "cell_type": "markdown",
   "metadata": {
    "slideshow": {
     "slide_type": "slide"
    }
   },
   "source": [
    "# Creating block diagram"
   ]
  },
  {
   "cell_type": "markdown",
   "metadata": {
    "slideshow": {
     "slide_type": "slide"
    }
   },
   "source": [
    "## Install the blockdiag library\n",
    "We will use the [blockdiag](http://blockdiag.com/en/blockdiag/) library to easily create a block diagram to insert in the Jupyter notebook."
   ]
  },
  {
   "cell_type": "code",
   "execution_count": 1,
   "metadata": {
    "collapsed": false,
    "slideshow": {
     "slide_type": "fragment"
    }
   },
   "outputs": [
    {
     "name": "stdout",
     "output_type": "stream",
     "text": [
      "Collecting blockdiag\n",
      "  Using cached blockdiag-1.5.3-py2.py3-none-any.whl\n",
      "Requirement already satisfied: webcolors in /anaconda/lib/python3.6/site-packages (from blockdiag)\n",
      "Requirement already satisfied: Pillow in /anaconda/lib/python3.6/site-packages (from blockdiag)\n",
      "Requirement already satisfied: setuptools in /anaconda/lib/python3.6/site-packages/setuptools-27.2.0-py3.6.egg (from blockdiag)\n",
      "Requirement already satisfied: funcparserlib in /anaconda/lib/python3.6/site-packages (from blockdiag)\n",
      "Requirement already satisfied: olefile in /anaconda/lib/python3.6/site-packages (from Pillow->blockdiag)\n",
      "Installing collected packages: blockdiag\n",
      "Successfully installed blockdiag-1.5.3\n"
     ]
    }
   ],
   "source": [
    "!pip install blockdiag"
   ]
  },
  {
   "cell_type": "markdown",
   "metadata": {
    "slideshow": {
     "slide_type": "slide"
    }
   },
   "source": [
    "## Diagram definition\n",
    "First we create the folder:"
   ]
  },
  {
   "cell_type": "code",
   "execution_count": 2,
   "metadata": {
    "collapsed": false,
    "slideshow": {
     "slide_type": "fragment"
    }
   },
   "outputs": [
    {
     "name": "stdout",
     "output_type": "stream",
     "text": [
      "mkdir: diagrams: File exists\r\n"
     ]
    }
   ],
   "source": [
    "!mkdir diagrams"
   ]
  },
  {
   "cell_type": "markdown",
   "metadata": {
    "slideshow": {
     "slide_type": "fragment"
    }
   },
   "source": [
    "and we create a new file inside the `diagrams` folder with the definition of the graph:"
   ]
  },
  {
   "cell_type": "code",
   "execution_count": 3,
   "metadata": {
    "collapsed": false,
    "slideshow": {
     "slide_type": "fragment"
    }
   },
   "outputs": [
    {
     "name": "stdout",
     "output_type": "stream",
     "text": [
      "Overwriting diagrams/block_diagram\n"
     ]
    }
   ],
   "source": [
    "%%file diagrams/block_diagram\n",
    "blockdiag {\n",
    "  // Define class (list of attributes)\n",
    "  class emphasis [color = lightblue, style = dashed];\n",
    "  class redline [color = red, style = dotted];\n",
    "\n",
    "  Extract -> Transform -> Load;\n",
    "\n",
    "  // Set class to node\n",
    "  Transform [class = \"emphasis\"];\n",
    "\n",
    "  // Set class to edge\n",
    "  Transform -> Load [class = \"redline\"];\n",
    "}"
   ]
  },
  {
   "cell_type": "markdown",
   "metadata": {
    "slideshow": {
     "slide_type": "slide"
    }
   },
   "source": [
    "## Convert the diagram to PNG\n",
    "Using the `blockdiag` library, we can convert the diagram from the definition to a PNG by running the `blockdiag` command from the command line with the graph definition as first argument:"
   ]
  },
  {
   "cell_type": "code",
   "execution_count": 4,
   "metadata": {
    "collapsed": true,
    "slideshow": {
     "slide_type": "fragment"
    }
   },
   "outputs": [],
   "source": [
    "!blockdiag diagrams/block_diagram"
   ]
  },
  {
   "cell_type": "markdown",
   "metadata": {
    "slideshow": {
     "slide_type": "slide"
    }
   },
   "source": [
    "## Display the PNG\n",
    "By using the display functionality of the Jupyter notebook we can show the generated PNG:"
   ]
  },
  {
   "cell_type": "code",
   "execution_count": 5,
   "metadata": {
    "collapsed": false,
    "slideshow": {
     "slide_type": "fragment"
    }
   },
   "outputs": [
    {
     "data": {
      "image/png": "[encoded data removed]",
      "text/plain": [
       "<IPython.core.display.Image object>"
      ]
     },
     "execution_count": 5,
     "metadata": {},
     "output_type": "execute_result"
    }
   ],
   "source": [
    "from IPython.display import Image\n",
    "Image(\"diagrams/block_diagram.png\")"
   ]
  },
  {
   "cell_type": "markdown",
   "metadata": {
    "slideshow": {
     "slide_type": "slide"
    }
   },
   "source": [
    "## Convert to slides\n",
    "Jupyter has the functionality to convert a Jupyter notebook to a fancy looking presentation. By using `nbconvert` and with the output set to `slides`, the notebook will be translated to an HTML page, which will be transformed into a beautiful presentation by adding the [RevealJS](https://revealjs.com/#/) library."
   ]
  },
  {
   "cell_type": "code",
   "execution_count": 6,
   "metadata": {
    "collapsed": false,
    "slideshow": {
     "slide_type": "fragment"
    }
   },
   "outputs": [
    {
     "name": "stdout",
     "output_type": "stream",
     "text": [
      "[NbConvertApp] Converting notebook creating_block_diagram.ipynb to slides\n",
      "[NbConvertApp] Writing 297425 bytes to creating_block_diagram.slides.html\n"
     ]
    }
   ],
   "source": [
    "!jupyter nbconvert creating_block_diagram.ipynb --to slides"
   ]
  },
  {
   "cell_type": "markdown",
   "metadata": {
    "slideshow": {
     "slide_type": "slide"
    }
   },
   "source": [
    "## Check for resulting HTML\n",
    "After conversion we should see both the .ipynb and .html in the directory."
   ]
  },
  {
   "cell_type": "code",
   "execution_count": 7,
   "metadata": {
    "collapsed": false,
    "slideshow": {
     "slide_type": "fragment"
    }
   },
   "outputs": [
    {
     "name": "stdout",
     "output_type": "stream",
     "text": [
      "-rw-r--r--  1 jitsejan  staff  297489 Jan 15 00:43 creating_block_diagram.slides.html\r\n"
     ]
    }
   ],
   "source": [
    "!ls -la creating_block_diagram.slides.html"
   ]
  },
  {
   "cell_type": "markdown",
   "metadata": {
    "slideshow": {
     "slide_type": "slide"
    }
   },
   "source": [
    "## Retrieve RevealJS\n",
    "To use Jupyter slides we need to download RevealJS to the root directory of the notebooks. We do this by cloning the `reveal.js` Git repository directly in the current folder."
   ]
  },
  {
   "cell_type": "code",
   "execution_count": null,
   "metadata": {
    "collapsed": false,
    "slideshow": {
     "slide_type": "fragment"
    }
   },
   "outputs": [
    {
     "name": "stdout",
     "output_type": "stream",
     "text": [
      "fatal: destination path 'reveal.js' already exists and is not an empty directory.\r\n"
     ]
    }
   ],
   "source": [
    "!git clone https://github.com/hakimel/reveal.js.git"
   ]
  },
  {
   "cell_type": "markdown",
   "metadata": {
    "slideshow": {
     "slide_type": "slide"
    }
   },
   "source": [
    "## Start Python webserver\n",
    "Use `http.server` for Python 3 and `SimpleHTTPServer` when using Python 2 to start the server to view the HTML page."
   ]
  },
  {
   "cell_type": "code",
   "execution_count": null,
   "metadata": {
    "collapsed": false,
    "slideshow": {
     "slide_type": "subslide"
    }
   },
   "outputs": [
    {
     "name": "stdout",
     "output_type": "stream",
     "text": [
      "Serving HTTP on 0.0.0.0 port 8000 (http://0.0.0.0:8000/) ...\r\n"
     ]
    }
   ],
   "source": [
    "!python -m http.server 8000"
   ]
  },
  {
   "cell_type": "markdown",
   "metadata": {
    "slideshow": {
     "slide_type": "subslide"
    }
   },
   "source": [
    "Check port 8000 and open the HTML page containing the slides. In this case the HTML of this notebook will be visible on http://localhost:8000/creating_block_diagram.slides.html#/."
   ]
  }
 ],
 "metadata": {
  "celltoolbar": "Slideshow",
  "kernelspec": {
   "display_name": "Python 3",
   "language": "python",
   "name": "python3"
  },
  "language_info": {
   "codemirror_mode": {
    "name": "ipython",
    "version": 3
   },
   "file_extension": ".py",
   "mimetype": "text/x-python",
   "name": "python",
   "nbconvert_exporter": "python",
   "pygments_lexer": "ipython3",
   "version": "3.6.0"
  }
 },
 "nbformat": 4,
 "nbformat_minor": 2
}
