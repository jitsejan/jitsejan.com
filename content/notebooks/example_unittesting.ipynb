{
 "cells": [
  {
   "cell_type": "markdown",
   "metadata": {},
   "source": [
    "# Example - Unittesting\n",
    "In this example I show how to run a unittest within your Jupyter Notebook with two simple classes."
   ]
  },
  {
   "cell_type": "markdown",
   "metadata": {},
   "source": [
    "## Create two classes\n",
    "### Castle class\n",
    "The important method for the castle is the access method. It will grant access when the character has the powerup 'Super Mushroom'."
   ]
  },
  {
   "cell_type": "code",
   "execution_count": 1,
   "metadata": {
    "collapsed": true
   },
   "outputs": [],
   "source": [
    "class Castle(object):\n",
    "    def __init__(self, name):\n",
    "        self.name = name\n",
    "        self._boss = 'Bowser'\n",
    "        self._world = 'Grass Land'\n",
    "\n",
    "    def access(self, character):\n",
    "        if character.powerup == 'Super Mushroom':\n",
    "            return True\n",
    "        else:\n",
    "            return False\n",
    "    \n",
    "    def get_boss(self):\n",
    "        return self._boss\n",
    "\n",
    "    def get_world(self):\n",
    "        return self._world"
   ]
  },
  {
   "cell_type": "markdown",
   "metadata": {},
   "source": [
    "### Character class\n",
    "By default the powerup of a character is empty."
   ]
  },
  {
   "cell_type": "code",
   "execution_count": 2,
   "metadata": {
    "collapsed": true
   },
   "outputs": [],
   "source": [
    "class Character(object):\n",
    "    def __init__(self, name):\n",
    "        self.name = name\n",
    "        self.powerup = ''\n",
    "\n",
    "    def powerup(self, powerup):\n",
    "        self.powerup = powerup\n",
    "        \n",
    "    def get_powerup(self):\n",
    "        return self.powerup"
   ]
  },
  {
   "cell_type": "markdown",
   "metadata": {},
   "source": [
    "## Create a test class\n",
    "We will create two characters and test that only the right powerup gives access to the castle."
   ]
  },
  {
   "cell_type": "code",
   "execution_count": 5,
   "metadata": {
    "collapsed": true
   },
   "outputs": [],
   "source": [
    "import unittest\n",
    "\n",
    "class CharacterTestClass(unittest.TestCase):\n",
    "    \"\"\" Defines the tests for the Character class \"\"\"\n",
    "    def setUp(self):\n",
    "        \"\"\" Set the castle for the test cases \"\"\"\n",
    "        self.castle = Castle('Bowsers Castle')\n",
    "    \n",
    "    def test_default_cannot_access(self):\n",
    "        \"\"\" Default can not access \"\"\"\n",
    "        default = Character('Default')\n",
    "        self.assertFalse(self.castle.access(default))\n",
    "    \n",
    "    def test_mario_cannot_access(self):\n",
    "        \"\"\" Mario cannot access \"\"\"\n",
    "        mario = Character('Mario')\n",
    "        mario.powerup = 'Starman'\n",
    "        self.assertFalse(self.castle.access(mario))\n",
    "    \n",
    "    def test_peach_can_access(self):\n",
    "        \"\"\" Peach can access \"\"\"\n",
    "        peach = Character('Peach')\n",
    "        peach.powerup = 'Super Mushroom'\n",
    "        self.assertTrue(self.castle.access(peach))\n",
    "\n",
    "    def test_default_castle_boss(self):\n",
    "        \"\"\" Verifty the default boss is Bowser \"\"\"\n",
    "        self.assertEqual(self.castle.get_boss(), \"Bowser\")\n",
    "\n",
    "    def test_default_castle_world(self):\n",
    "        \"\"\" Verify the default world is Grass Land \"\"\"\n",
    "        self.assertEqual(self.castle.get_world(), \"Grass Land\")"
   ]
  },
  {
   "cell_type": "markdown",
   "metadata": {},
   "source": [
    "## Run the test suite"
   ]
  },
  {
   "cell_type": "code",
   "execution_count": 6,
   "metadata": {
    "collapsed": false
   },
   "outputs": [
    {
     "name": "stderr",
     "output_type": "stream",
     "text": [
      "test_default_cannot_access (__main__.CharacterTestClass)\n",
      "Default can not access ... ok\n",
      "test_default_castle_boss (__main__.CharacterTestClass)\n",
      "Verifty the default boss is Bowser ... ok\n",
      "test_default_castle_world (__main__.CharacterTestClass)\n",
      "Verify the default world is Grass Land ... ok\n",
      "test_mario_cannot_access (__main__.CharacterTestClass)\n",
      "Mario cannot access ... ok\n",
      "test_peach_can_access (__main__.CharacterTestClass)\n",
      "Peach can access ... ok\n",
      "\n",
      "----------------------------------------------------------------------\n",
      "Ran 5 tests in 0.004s\n",
      "\n",
      "OK\n"
     ]
    },
    {
     "data": {
      "text/plain": [
       "<unittest.runner.TextTestResult run=5 errors=0 failures=0>"
      ]
     },
     "execution_count": 6,
     "metadata": {},
     "output_type": "execute_result"
    }
   ],
   "source": [
    "import sys\n",
    "suite = unittest.TestLoader().loadTestsFromTestCase(CharacterTestClass)\n",
    "unittest.TextTestRunner(verbosity=4,stream=sys.stderr).run(suite)"
   ]
  }
 ],
 "metadata": {
  "anaconda-cloud": {},
  "kernelspec": {
   "display_name": "Python [Root]",
   "language": "python",
   "name": "Python [Root]"
  },
  "language_info": {
   "codemirror_mode": {
    "name": "ipython",
    "version": 2
   },
   "file_extension": ".py",
   "mimetype": "text/x-python",
   "name": "python",
   "nbconvert_exporter": "python",
   "pygments_lexer": "ipython2",
   "version": "2.7.12"
  }
 },
 "nbformat": 4,
 "nbformat_minor": 1
}
