{
 "cells": [
  {
   "cell_type": "markdown",
   "metadata": {},
   "source": [
    "# ButterCMS\n",
    "\n",
    "## Goal\n",
    "The goal of this notebook is to get myself familiar with ButterCMS, a headless CMS that can be easily integrated with any platform in any language. In the past I've experienced with Joomla, Drupal and WordPress (and Blogger long time ago), where I have <strike>lost</strike> invested a lot of time in simply getting the CMS in place, extending the CMS with more functionality and migrating data between servers. Since I am investigating different ways of using microservices, becoming less platform dependent and overall learning new tools, I use this notebook to show a simple example of ButterCMS in Jupyter.\n",
    "\n",
    "## About\n",
    "<center>\n",
    "    <img src=\"http://files.jitsejan.com/logos/buttercms.PNG\" width=150 />\n",
    "</center>\n",
    "\n",
    "> Add a blog or CMS to your site in minutes\n",
    "Drop-in our Headless CMS and get back to more interesting problems.\n",
    "\n",
    "## Links\n",
    "* [Homepage](https://buttercms.com/)\n",
    "* [Python client](https://buttercms.com/docs/api-client/python)\n",
    "* [VueJS client](https://buttercms.com/docs/api-client/vuejs)"
   ]
  },
  {
   "cell_type": "markdown",
   "metadata": {},
   "source": [
    "## Prerequisites"
   ]
  },
  {
   "cell_type": "code",
   "execution_count": 1,
   "metadata": {},
   "outputs": [],
   "source": [
    "# !pip install buttercms-python"
   ]
  },
  {
   "cell_type": "code",
   "execution_count": 2,
   "metadata": {},
   "outputs": [],
   "source": [
    "import os\n",
    "os.environ['buttercmskey'] = '1b13611e144e11bbce5b484f4064e39638b223a1'"
   ]
  },
  {
   "cell_type": "markdown",
   "metadata": {},
   "source": [
    "<img src=\"http://files.jitsejan.com/screenshots/butterCMS.png\" />"
   ]
  },
  {
   "cell_type": "markdown",
   "metadata": {},
   "source": [
    "## Python implementation\n",
    "\n",
    "<img src=\"http://files.jitsejan.com/logos/python.PNG\" width=150/>"
   ]
  },
  {
   "cell_type": "code",
   "execution_count": 3,
   "metadata": {},
   "outputs": [],
   "source": [
    "from butter_cms import ButterCMS\n",
    "client = ButterCMS(os.getenv('buttercmskey'))"
   ]
  },
  {
   "cell_type": "code",
   "execution_count": 4,
   "metadata": {},
   "outputs": [
    {
     "data": {
      "text/plain": [
       "<butter_cms.ButterCMS at 0x7f58e06f8208>"
      ]
     },
     "execution_count": 4,
     "metadata": {},
     "output_type": "execute_result"
    }
   ],
   "source": [
    "client"
   ]
  },
  {
   "cell_type": "code",
   "execution_count": 5,
   "metadata": {},
   "outputs": [
    {
     "name": "stdout",
     "output_type": "stream",
     "text": [
      "{\n",
      "    \"data\": [\n",
      "        {\n",
      "            \"url\": \"jupyter-notebook\",\n",
      "            \"created\": \"2018-06-14T11:53:54.533383Z\",\n",
      "            \"published\": \"2018-06-14T11:50:00Z\",\n",
      "            \"author\": {\n",
      "                \"first_name\": \"Jitse-Jan\",\n",
      "                \"last_name\": \"van Waterschoot\",\n",
      "                \"email\": \"code@jitsejan.com\",\n",
      "                \"slug\": \"jitse-jan-van-waterschoot\",\n",
      "                \"bio\": \"\",\n",
      "                \"title\": \"\",\n",
      "                \"linkedin_url\": \"\",\n",
      "                \"facebook_url\": \"\",\n",
      "                \"instagram_url\": \"\",\n",
      "                \"pinterest_url\": \"\",\n",
      "                \"twitter_handle\": \"\",\n",
      "                \"profile_image\": \"\"\n",
      "            },\n",
      "            \"categories\": [\n",
      "                {\n",
      "                    \"name\": \"development\",\n",
      "                    \"slug\": \"development\"\n",
      "                }\n",
      "            ],\n",
      "            \"tags\": [\n",
      "                {\n",
      "                    \"name\": \"\",\n",
      "                    \"slug\": \"\"\n",
      "                },\n",
      "                {\n",
      "                    \"name\": \"buttercms\",\n",
      "                    \"slug\": \"buttercms\"\n",
      "                },\n",
      "                {\n",
      "                    \"name\": \"python\",\n",
      "                    \"slug\": \"python\"\n",
      "                },\n",
      "                {\n",
      "                    \"name\": \"vuejs\",\n",
      "                    \"slug\": \"vuejs\"\n",
      "                }\n",
      "            ],\n",
      "            \"featured_image\": \"https://cdn.buttercms.com/eBXUxLoCR4CKQMUnhjur\",\n",
      "            \"slug\": \"jupyter-notebook\",\n",
      "            \"title\": \"Jupyter notebook\",\n",
      "            \"body\": \"<p>I am working on a Jupyter notebook to show how to work with ButterCMS, VuejS and Python and how it all smoothly works together.&nbsp;</p>\",\n",
      "            \"summary\": \"I am working on a Jupyter notebook to show how to work with ButterCMS, VuejS and Python and how it all smoothly works together.\",\n",
      "            \"seo_title\": \"Jupyter notebook\",\n",
      "            \"meta_description\": \"I am working on a Jupyter notebook to show how to work with ButterCMS, VuejS and Python and how it all smoothly works together.\",\n",
      "            \"status\": \"published\"\n",
      "        },\n",
      "        {\n",
      "            \"url\": \"example-post\",\n",
      "            \"created\": \"2018-06-14T11:47:08.121702Z\",\n",
      "            \"published\": \"2018-06-14T11:47:08.121391Z\",\n",
      "            \"author\": {\n",
      "                \"first_name\": \"Jitse-Jan\",\n",
      "                \"last_name\": \"van Waterschoot\",\n",
      "                \"email\": \"code@jitsejan.com\",\n",
      "                \"slug\": \"jitse-jan-van-waterschoot\",\n",
      "                \"bio\": \"\",\n",
      "                \"title\": \"\",\n",
      "                \"linkedin_url\": \"\",\n",
      "                \"facebook_url\": \"\",\n",
      "                \"instagram_url\": \"\",\n",
      "                \"pinterest_url\": \"\",\n",
      "                \"twitter_handle\": \"\",\n",
      "                \"profile_image\": \"\"\n",
      "            },\n",
      "            \"categories\": [\n",
      "                {\n",
      "                    \"name\": \"Example Category\",\n",
      "                    \"slug\": \"example-category\"\n",
      "                }\n",
      "            ],\n",
      "            \"tags\": [\n",
      "                {\n",
      "                    \"name\": \"Example Tag\",\n",
      "                    \"slug\": \"example-tag\"\n",
      "                }\n",
      "            ],\n",
      "            \"featured_image\": \"https://d2devwt40at1e2.cloudfront.net/api/file/tdt3s1OHRO6wfQOpmAHw\",\n",
      "            \"slug\": \"example-post\",\n",
      "            \"title\": \"Example Post\",\n",
      "            \"body\": \"<p>Welcome to ButterCMS! This an example blog post written using Butter.</p>\\n<h3>What's happening here?</h3>\\n<p>If you're viewing this post from your website or command line, you've successfully made a request to&nbsp;the <a href=\\\"https://buttercms.com/docs/api\\\">Butter API</a>. If you haven't already, make sure you have our <a href=\\\"https://buttercms.com/docs/\\\">development guides</a> pulled up for step-by-step instructions on setting up Butter.</p>\\n<h3>How does&nbsp;editing work?</h3>\\n<p>Butter's WYSIWYG editor supports standard text formatting including headings, links, quotes, code, text alignment, and more. You can upload, crop, and resize images which are automatically hosted and delivered through a CDN (see below). You can also edit HTML directly when needed.</p>\\n<figure class=\\\"image\\\"><img src=\\\"https://d2wzhk7xhrnk1x.cloudfront.net/rgPM9aHoSSKnjk44TQlD_butter-blog-post.jpg\\\" alt=\\\"Delivered to you via CDN\\\" />\\n<figcaption>Delivered to you via CDN</figcaption>\\n</figure>\\n<h3>Can I use Butter as a full CMS for&nbsp;things other than a&nbsp;blog?</h3>\\n<p>Yes. Butter can be used as a full CMS for managing dynamic content and creating pages across your entire website or app. Check out our <a href=\\\"https://buttercms.com/docs/\\\">development guides</a> for step-by-step tutorials on setting this up.</p>\\n\",\n",
      "            \"summary\": \"This is an example blog post. Pretty neat huh?\",\n",
      "            \"seo_title\": \"Example Post SEO Optimized Title\",\n",
      "            \"meta_description\": \"This is our example blog posts SEO optimized meta description.\",\n",
      "            \"status\": \"published\"\n",
      "        }\n",
      "    ],\n",
      "    \"meta\": {\n",
      "        \"next_page\": null,\n",
      "        \"count\": 2,\n",
      "        \"previous_page\": null\n",
      "    }\n",
      "}\n"
     ]
    }
   ],
   "source": [
    "import json\n",
    "print(json.dumps(client.posts.all({'page_size': 10, 'page': 1}), indent=4))"
   ]
  },
  {
   "cell_type": "code",
   "execution_count": 6,
   "metadata": {},
   "outputs": [],
   "source": [
    "posts = client.posts.all({'page_size': 10, 'page': 1})"
   ]
  },
  {
   "cell_type": "code",
   "execution_count": 7,
   "metadata": {},
   "outputs": [
    {
     "data": {
      "text/plain": [
       "{'url': 'jupyter-notebook',\n",
       " 'created': '2018-06-14T11:53:54.533383Z',\n",
       " 'published': '2018-06-14T11:50:00Z',\n",
       " 'author': {'first_name': 'Jitse-Jan',\n",
       "  'last_name': 'van Waterschoot',\n",
       "  'email': 'code@jitsejan.com',\n",
       "  'slug': 'jitse-jan-van-waterschoot',\n",
       "  'bio': '',\n",
       "  'title': '',\n",
       "  'linkedin_url': '',\n",
       "  'facebook_url': '',\n",
       "  'instagram_url': '',\n",
       "  'pinterest_url': '',\n",
       "  'twitter_handle': '',\n",
       "  'profile_image': ''},\n",
       " 'categories': [{'name': 'development', 'slug': 'development'}],\n",
       " 'tags': [{'name': '', 'slug': ''},\n",
       "  {'name': 'buttercms', 'slug': 'buttercms'},\n",
       "  {'name': 'python', 'slug': 'python'},\n",
       "  {'name': 'vuejs', 'slug': 'vuejs'}],\n",
       " 'featured_image': 'https://cdn.buttercms.com/eBXUxLoCR4CKQMUnhjur',\n",
       " 'slug': 'jupyter-notebook',\n",
       " 'title': 'Jupyter notebook',\n",
       " 'body': '<p>I am working on a Jupyter notebook to show how to work with ButterCMS, VuejS and Python and how it all smoothly works together.&nbsp;</p>',\n",
       " 'summary': 'I am working on a Jupyter notebook to show how to work with ButterCMS, VuejS and Python and how it all smoothly works together.',\n",
       " 'seo_title': 'Jupyter notebook',\n",
       " 'meta_description': 'I am working on a Jupyter notebook to show how to work with ButterCMS, VuejS and Python and how it all smoothly works together.',\n",
       " 'status': 'published'}"
      ]
     },
     "execution_count": 7,
     "metadata": {},
     "output_type": "execute_result"
    }
   ],
   "source": [
    "posts['data'][0]"
   ]
  },
  {
   "cell_type": "code",
   "execution_count": 8,
   "metadata": {},
   "outputs": [
    {
     "data": {
      "text/plain": [
       "'Jupyter notebook'"
      ]
     },
     "execution_count": 8,
     "metadata": {},
     "output_type": "execute_result"
    }
   ],
   "source": [
    "title = posts['data'][0]['title']\n",
    "title"
   ]
  },
  {
   "cell_type": "markdown",
   "metadata": {},
   "source": [
    "## Javascript implementation\n",
    "\n",
    "<img src=\"http://files.jitsejan.com/logos/javascript.PNG\" width=150 />"
   ]
  },
  {
   "cell_type": "code",
   "execution_count": 9,
   "metadata": {},
   "outputs": [
    {
     "data": {
      "application/javascript": [
       "require.config({\n",
       "    paths: {\n",
       "        buttercms: \"https://cdnjs.buttercms.com/buttercms-1.1.1.min\",\n",
       "    },\n",
       "    shim: {\n",
       "        buttercms: {\n",
       "            exports: \"ButterCMS\"\n",
       "        },\n",
       "    }\n",
       "});"
      ],
      "text/plain": [
       "<IPython.core.display.Javascript object>"
      ]
     },
     "metadata": {},
     "output_type": "display_data"
    }
   ],
   "source": [
    "%%javascript\n",
    "require.config({\n",
    "    paths: {\n",
    "        buttercms: \"https://cdnjs.buttercms.com/buttercms-1.1.1.min\",\n",
    "    },\n",
    "    shim: {\n",
    "        buttercms: {\n",
    "            exports: \"ButterCMS\"\n",
    "        },\n",
    "    }\n",
    "});"
   ]
  },
  {
   "cell_type": "code",
   "execution_count": 10,
   "metadata": {},
   "outputs": [
    {
     "data": {
      "application/javascript": [
       "require(['buttercms'], function(ButterCMS) {\n",
       "    var butter = Butter('1b13611e144e11bbce5b484f4064e39638b223a1');\n",
       "    butter.post.list({page: 1, page_size: 10}).then(function(response) {\n",
       "        console.log(response['data']['data'][0]['title'])\n",
       "        console.log(response['data']['data'][0]['body'])\n",
       "    })\n",
       "});"
      ],
      "text/plain": [
       "<IPython.core.display.Javascript object>"
      ]
     },
     "metadata": {},
     "output_type": "display_data"
    }
   ],
   "source": [
    "%%javascript\n",
    "require(['buttercms'], function(ButterCMS) {\n",
    "    var butter = Butter('1b13611e144e11bbce5b484f4064e39638b223a1');\n",
    "    butter.post.list({page: 1, page_size: 10}).then(function(response) {\n",
    "        console.log(response['data']['data'][0]['title'])\n",
    "        console.log(response['data']['data'][0]['body'])\n",
    "    })\n",
    "});"
   ]
  },
  {
   "cell_type": "markdown",
   "metadata": {},
   "source": [
    "## VueJS implementation\n",
    "\n",
    "<img src=\"http://files.jitsejan.com/logos/vuejs.PNG\" width=150 />\n",
    "\n",
    "Finally an attempt to integrate VueJS with Jupyter using data from the ButterCMS. Following [this guide](https://vuejs.org/v2/cookbook/serverless-blog.html) we are able to add the blog posts to the body of this notebook."
   ]
  },
  {
   "cell_type": "code",
   "execution_count": 11,
   "metadata": {},
   "outputs": [
    {
     "data": {
      "application/javascript": [
       "require.config({\n",
       "    paths: {\n",
       "        buttercms: \"https://cdnjs.buttercms.com/buttercms-1.1.1.min\",\n",
       "        vue: \"https://cdn.jsdelivr.net/npm/vue/dist/vue\"\n",
       "    },\n",
       "    shim: {\n",
       "        buttercms: {\n",
       "            exports: \"ButterCMS\"\n",
       "        },\n",
       "        vue: {\n",
       "            exports: \"Vue\"\n",
       "        }\n",
       "    }\n",
       "});"
      ],
      "text/plain": [
       "<IPython.core.display.Javascript object>"
      ]
     },
     "metadata": {},
     "output_type": "display_data"
    }
   ],
   "source": [
    "%%javascript\n",
    "require.config({\n",
    "    paths: {\n",
    "        buttercms: \"https://cdnjs.buttercms.com/buttercms-1.1.1.min\",\n",
    "        vue: \"https://cdn.jsdelivr.net/npm/vue/dist/vue\"\n",
    "    },\n",
    "    shim: {\n",
    "        buttercms: {\n",
    "            exports: \"ButterCMS\"\n",
    "        },\n",
    "        vue: {\n",
    "            exports: \"Vue\"\n",
    "        }\n",
    "    }\n",
    "});"
   ]
  },
  {
   "cell_type": "code",
   "execution_count": 12,
   "metadata": {},
   "outputs": [
    {
     "data": {
      "text/html": [
       "<script type=\"text/x-template\" id=\"blog-home-template\">\n",
       "    <div id=\"blog-home\">\n",
       "        <h1>{{ page_title }}</h1>\n",
       "        <!-- Create `v-for` and apply a `key` for Vue. Here we are using a combination of the slug and index. -->\n",
       "        <div v-for=\"(post,index) in posts\" :key=\"post.slug + '_' + index\">\n",
       "            <article class=\"media\">\n",
       "                <figure>\n",
       "                  <!-- Bind results using a `:` -->\n",
       "                  <!-- Use a `v-if`/`else` if their is a `featured_image` -->\n",
       "                  <img v-if=\"post.featured_image\" :src=\"post.featured_image\" alt=\"\">\n",
       "                  <img v-else src=\"http://via.placeholder.com/250x250\" alt=\"\">\n",
       "                </figure>\n",
       "                <h2>{{ post.title }}</h2>\n",
       "                <p>{{ post.slug }}</p>\n",
       "            </article>\n",
       "        </div>\n",
       "    </div>\n",
       "</script>"
      ],
      "text/plain": [
       "<IPython.core.display.HTML object>"
      ]
     },
     "metadata": {},
     "output_type": "display_data"
    }
   ],
   "source": [
    "%%html\n",
    "<script type=\"text/x-template\" id=\"blog-home-template\">\n",
    "    <div id=\"blog-home\">\n",
    "        <h1>{{ page_title }}</h1>\n",
    "        <!-- Create `v-for` and apply a `key` for Vue. Here we are using a combination of the slug and index. -->\n",
    "        <div v-for=\"(post,index) in posts\" :key=\"post.slug + '_' + index\">\n",
    "            <article class=\"media\">\n",
    "                <figure>\n",
    "                  <!-- Bind results using a `:` -->\n",
    "                  <!-- Use a `v-if`/`else` if their is a `featured_image` -->\n",
    "                  <img v-if=\"post.featured_image\" :src=\"post.featured_image\" alt=\"\">\n",
    "                  <img v-else src=\"http://via.placeholder.com/250x250\" alt=\"\">\n",
    "                </figure>\n",
    "                <h2>{{ post.title }}</h2>\n",
    "                <p>{{ post.summary }}</p>\n",
    "            </article>\n",
    "        </div>\n",
    "    </div>\n",
    "</script>"
   ]
  },
  {
   "cell_type": "code",
   "execution_count": 13,
   "metadata": {},
   "outputs": [
    {
     "data": {
      "text/html": [
       "    <div id=\"vue-app\">\n",
       "  <blog-home :posts=\"blogPosts\"/>\n",
       "</div>"
      ],
      "text/plain": [
       "<IPython.core.display.HTML object>"
      ]
     },
     "metadata": {},
     "output_type": "display_data"
    }
   ],
   "source": [
    "%%html\n",
    "<div id=\"vue-app\">\n",
    "  <blog-home :posts=\"blogPosts\"/>\n",
    "</div>"
   ]
  },
  {
   "cell_type": "code",
   "execution_count": 14,
   "metadata": {},
   "outputs": [
    {
     "data": {
      "application/javascript": [
       "require(['buttercms', 'vue'], function(ButterCMS, Vue) {\n",
       "    console.log(Vue.version);\n",
       "    var butter = Butter('1b13611e144e11bbce5b484f4064e39638b223a1');\n",
       "    \n",
       "    var BlogHome = Vue.component('blog-home', {\n",
       "      template: '#blog-home-template',\n",
       "      props: {\n",
       "        data: Array,\n",
       "      },\n",
       "      data: function () {\n",
       "        return {\n",
       "            page_title: 'Blog',\n",
       "            posts: []\n",
       "          }\n",
       "      },\n",
       "      methods: {\n",
       "          getPosts() {\n",
       "            butter.post.list({\n",
       "              page: 1,\n",
       "              page_size: 10\n",
       "            }).then((res) => {\n",
       "              this.posts = res.data.data\n",
       "            })\n",
       "          }\n",
       "      },\n",
       "      created() {\n",
       "          this.getPosts()\n",
       "      }\n",
       "    })\n",
       "\n",
       "    var vueApp = new Vue({\n",
       "      el: '#vue-app',\n",
       "      components: {BlogHome: BlogHome},\n",
       "      data: {\n",
       "          blogPosts: []\n",
       "      }\n",
       "    })\n",
       "\n",
       "});"
      ],
      "text/plain": [
       "<IPython.core.display.Javascript object>"
      ]
     },
     "metadata": {},
     "output_type": "display_data"
    }
   ],
   "source": [
    "%%javascript\n",
    "require(['buttercms', 'vue'], function(ButterCMS, Vue) {\n",
    "    console.log(Vue.version);\n",
    "    var butter = Butter('1b13611e144e11bbce5b484f4064e39638b223a1');\n",
    "    \n",
    "    var BlogHome = Vue.component('blog-home', {\n",
    "      template: '#blog-home-template',\n",
    "      props: {\n",
    "        data: Array,\n",
    "      },\n",
    "      data: function () {\n",
    "        return {\n",
    "            page_title: 'Blog',\n",
    "            posts: []\n",
    "          }\n",
    "      },\n",
    "      methods: {\n",
    "          getPosts() {\n",
    "            butter.post.list({\n",
    "              page: 1,\n",
    "              page_size: 10\n",
    "            }).then((res) => {\n",
    "              this.posts = res.data.data\n",
    "            })\n",
    "          }\n",
    "      },\n",
    "      created() {\n",
    "          this.getPosts()\n",
    "      }\n",
    "    })\n",
    "\n",
    "    var vueApp = new Vue({\n",
    "      el: '#vue-app',\n",
    "      components: {BlogHome: BlogHome},\n",
    "      data: {\n",
    "          blogPosts: []\n",
    "      }\n",
    "    })\n",
    "\n",
    "});"
   ]
  },
  {
   "cell_type": "code",
   "execution_count": 15,
   "metadata": {},
   "outputs": [
    {
     "data": {
      "text/html": [
       "<style>\n",
       "#blog-home article{\n",
       "    width: 50%;\n",
       "    float: left;\n",
       "}\n",
       "#blog-home article figure{\n",
       "    height: 250px;\n",
       "}\n",
       "</style>"
      ],
      "text/plain": [
       "<IPython.core.display.HTML object>"
      ]
     },
     "metadata": {},
     "output_type": "display_data"
    }
   ],
   "source": [
    "%%html\n",
    "<style>\n",
    "#blog-home article{\n",
    "    width: 50%;\n",
    "    float: left;\n",
    "}\n",
    "#blog-home article figure{\n",
    "    height: 250px;\n",
    "}\n",
    "</style>"
   ]
  }
 ],
 "metadata": {
  "kernelspec": {
   "display_name": "Python 3",
   "language": "python",
   "name": "python3"
  },
  "language_info": {
   "codemirror_mode": {
    "name": "ipython",
    "version": 3
   },
   "file_extension": ".py",
   "mimetype": "text/x-python",
   "name": "python",
   "nbconvert_exporter": "python",
   "pygments_lexer": "ipython3",
   "version": "3.6.3"
  }
 },
 "nbformat": 4,
 "nbformat_minor": 2
}
