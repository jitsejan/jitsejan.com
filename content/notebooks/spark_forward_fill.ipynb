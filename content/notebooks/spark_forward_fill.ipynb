{
 "cells": [
  {
   "cell_type": "markdown",
   "metadata": {},
   "source": [
    "Recently I had the challenge to figure out the **status** of a certain person in our database on any possible date, while the only thing we store is when the status of a person **changes**. The query I need to answer is similar to the following SQL statement:\n",
    "\n",
    "```sql\n",
    "SELECT status FROM person_statuses WHERE person = \"John Doe\" AND time = current_date()\n",
    "```\n",
    "\n",
    "\n",
    "## Step 1 - Create the data\n",
    "To create the dummy data I will create an event generator. The generated events will be the input for the forward fill exercise. I will use the code I have written for the `data-pipeline-project` from this [repo](https://github.com/jitsejan/data-pipeline-project/blob/master/data_generator/eventgenerator.py). "
   ]
  },
  {
   "cell_type": "code",
   "execution_count": 1,
   "metadata": {},
   "outputs": [],
   "source": [
    "from datetime import datetime, timedelta\n",
    "from faker import Faker\n",
    "import json\n",
    "\n",
    "\n",
    "DATE_END = datetime.now()\n",
    "DATE_START = DATE_END - timedelta(days=31)\n",
    "NUM_EVENTS = 10\n",
    "\n",
    "class EventGenerator:\n",
    "    \"\"\" Defines the EventGenerator \"\"\"\n",
    "\n",
    "    MIN_LIVES = 1\n",
    "    MAX_LIVES = 99\n",
    "    CHARACTERS = [\"Mario\", \"Luigi\", \"Peach\", \"Toad\"]\n",
    "\n",
    "    def __init__(self, num_events, output_type, start_date, end_date, output_file=None):\n",
    "        \"\"\" Initialize the EventGenerator \"\"\"\n",
    "        self.faker = Faker()\n",
    "        self.num_events = num_events\n",
    "        self.output_type = output_type\n",
    "        self.output_file = output_file\n",
    "        self.start_date = start_date\n",
    "        self.end_date = end_date\n",
    "\n",
    "    def _get_date_between(self, date_start, date_end):\n",
    "        \"\"\" Get a date between start and end date \"\"\"\n",
    "        return self.faker.date_between_dates(date_start=date_start, date_end=date_end)\n",
    "\n",
    "    def _generate_events(self):\n",
    "        \"\"\" Generate the metric data \"\"\"\n",
    "        for _ in range(self.num_events):\n",
    "            yield {\n",
    "                \"character\": self.faker.random_element(self.CHARACTERS),\n",
    "                \"world\": self.faker.random_int(min=1, max=8, step=1),\n",
    "                \"level\": self.faker.random_int(min=1, max=4, step=1),\n",
    "                \"lives\": self.faker.random_int(\n",
    "                    min=self.MIN_LIVES, max=self.MAX_LIVES, step=1\n",
    "                ),\n",
    "                \"time\": str(self._get_date_between(self.start_date, self.end_date)),\n",
    "            }\n",
    "\n",
    "    def store_events(self):\n",
    "        if self.output_type == \"jl\":\n",
    "            with open(self.output_file, \"w\") as outputfile:\n",
    "                for event in self._generate_events():\n",
    "                    outputfile.write(f\"{json.dumps(event)}\\n\")\n",
    "        elif self.output_type == \"list\":\n",
    "            return list(self._generate_events())"
   ]
  },
  {
   "cell_type": "markdown",
   "metadata": {},
   "source": [
    "I only want 10 events to keep the dataframe we use in Spark small."
   ]
  },
  {
   "cell_type": "code",
   "execution_count": 2,
   "metadata": {},
   "outputs": [],
   "source": [
    "params = {\n",
    "    \"num_events\": NUM_EVENTS,\n",
    "    \"output_type\": \"list\",\n",
    "    \"start_date\": DATE_START,\n",
    "    \"end_date\": DATE_END,\n",
    "}\n",
    "# Create the event generator\n",
    "generator = EventGenerator(**params)\n",
    "# Create and store the events\n",
    "events = generator.store_events()"
   ]
  },
  {
   "cell_type": "markdown",
   "metadata": {},
   "source": [
    "## Step 2 - Analyze the data\n",
    "The events represent the persons (Nintendo characters) and their status (current world and level). From looking at the data it is obvious there are big gaps in time before the characters advance to the next level. How do we know where Mario was without storing the daily world/level status?"
   ]
  },
  {
   "cell_type": "code",
   "execution_count": 3,
   "metadata": {},
   "outputs": [
    {
     "data": {
      "text/html": [
       "<div>\n",
       "<style scoped>\n",
       "    .dataframe tbody tr th:only-of-type {\n",
       "        vertical-align: middle;\n",
       "    }\n",
       "\n",
       "    .dataframe tbody tr th {\n",
       "        vertical-align: top;\n",
       "    }\n",
       "\n",
       "    .dataframe thead th {\n",
       "        text-align: right;\n",
       "    }\n",
       "</style>\n",
       "<table border=\"1\" class=\"dataframe\">\n",
       "  <thead>\n",
       "    <tr style=\"text-align: right;\">\n",
       "      <th></th>\n",
       "      <th>character</th>\n",
       "      <th>world</th>\n",
       "      <th>level</th>\n",
       "      <th>lives</th>\n",
       "      <th>time</th>\n",
       "    </tr>\n",
       "  </thead>\n",
       "  <tbody>\n",
       "    <tr>\n",
       "      <th>9</th>\n",
       "      <td>Luigi</td>\n",
       "      <td>4</td>\n",
       "      <td>3</td>\n",
       "      <td>9</td>\n",
       "      <td>2020-04-24</td>\n",
       "    </tr>\n",
       "    <tr>\n",
       "      <th>8</th>\n",
       "      <td>Luigi</td>\n",
       "      <td>7</td>\n",
       "      <td>3</td>\n",
       "      <td>42</td>\n",
       "      <td>2020-04-30</td>\n",
       "    </tr>\n",
       "    <tr>\n",
       "      <th>5</th>\n",
       "      <td>Luigi</td>\n",
       "      <td>5</td>\n",
       "      <td>2</td>\n",
       "      <td>53</td>\n",
       "      <td>2020-05-14</td>\n",
       "    </tr>\n",
       "    <tr>\n",
       "      <th>0</th>\n",
       "      <td>Luigi</td>\n",
       "      <td>6</td>\n",
       "      <td>4</td>\n",
       "      <td>99</td>\n",
       "      <td>2020-05-22</td>\n",
       "    </tr>\n",
       "    <tr>\n",
       "      <th>3</th>\n",
       "      <td>Luigi</td>\n",
       "      <td>2</td>\n",
       "      <td>1</td>\n",
       "      <td>41</td>\n",
       "      <td>2020-05-23</td>\n",
       "    </tr>\n",
       "    <tr>\n",
       "      <th>1</th>\n",
       "      <td>Mario</td>\n",
       "      <td>5</td>\n",
       "      <td>3</td>\n",
       "      <td>13</td>\n",
       "      <td>2020-05-02</td>\n",
       "    </tr>\n",
       "    <tr>\n",
       "      <th>2</th>\n",
       "      <td>Mario</td>\n",
       "      <td>4</td>\n",
       "      <td>4</td>\n",
       "      <td>80</td>\n",
       "      <td>2020-05-06</td>\n",
       "    </tr>\n",
       "    <tr>\n",
       "      <th>7</th>\n",
       "      <td>Peach</td>\n",
       "      <td>8</td>\n",
       "      <td>4</td>\n",
       "      <td>55</td>\n",
       "      <td>2020-04-29</td>\n",
       "    </tr>\n",
       "    <tr>\n",
       "      <th>4</th>\n",
       "      <td>Toad</td>\n",
       "      <td>6</td>\n",
       "      <td>3</td>\n",
       "      <td>40</td>\n",
       "      <td>2020-05-11</td>\n",
       "    </tr>\n",
       "    <tr>\n",
       "      <th>6</th>\n",
       "      <td>Toad</td>\n",
       "      <td>6</td>\n",
       "      <td>3</td>\n",
       "      <td>58</td>\n",
       "      <td>2020-05-14</td>\n",
       "    </tr>\n",
       "  </tbody>\n",
       "</table>\n",
       "</div>"
      ],
      "text/plain": [
       "  character  world  level  lives        time\n",
       "9     Luigi      4      3      9  2020-04-24\n",
       "8     Luigi      7      3     42  2020-04-30\n",
       "5     Luigi      5      2     53  2020-05-14\n",
       "0     Luigi      6      4     99  2020-05-22\n",
       "3     Luigi      2      1     41  2020-05-23\n",
       "1     Mario      5      3     13  2020-05-02\n",
       "2     Mario      4      4     80  2020-05-06\n",
       "7     Peach      8      4     55  2020-04-29\n",
       "4      Toad      6      3     40  2020-05-11\n",
       "6      Toad      6      3     58  2020-05-14"
      ]
     },
     "execution_count": 3,
     "metadata": {},
     "output_type": "execute_result"
    }
   ],
   "source": [
    "import pandas as pd\n",
    "pd.DataFrame(events).sort_values([\"character\", \"time\"])"
   ]
  },
  {
   "cell_type": "markdown",
   "metadata": {},
   "source": [
    "## Step 3 - Create Spark Dataframe\n",
    "To create the Spark Dataframe a `SparkSession` is used. I don't use any external libraries right now, since we will use plain (Py)Spark."
   ]
  },
  {
   "cell_type": "code",
   "execution_count": 4,
   "metadata": {},
   "outputs": [],
   "source": [
    "from pyspark.sql import SparkSession, SQLContext\n",
    "from pyspark.sql import functions as F\n",
    "from pyspark.sql.window import Window\n",
    "\n",
    "import os\n",
    "os.environ['PYSPARK_PYTHON'] = \"/data/jupyter/bin/python\"\n",
    "\n",
    "spark = (SparkSession\n",
    "  .builder\n",
    "  .appName(\"Spark Forward Fill\")\n",
    "  .getOrCreate())\n",
    "\n",
    "sc = SQLContext(spark)"
   ]
  },
  {
   "cell_type": "code",
   "execution_count": 5,
   "metadata": {},
   "outputs": [
    {
     "name": "stderr",
     "output_type": "stream",
     "text": [
      "/data/jupyter/lib/python3.6/site-packages/pyspark/sql/session.py:346: UserWarning: inferring schema from dict is deprecated,please use pyspark.sql.Row instead\n",
      "  warnings.warn(\"inferring schema from dict is deprecated,\"\n"
     ]
    }
   ],
   "source": [
    "df = sc.createDataFrame(events)"
   ]
  },
  {
   "cell_type": "code",
   "execution_count": 6,
   "metadata": {},
   "outputs": [
    {
     "name": "stdout",
     "output_type": "stream",
     "text": [
      "+---------+-----+-----+----------+-----+\n",
      "|character|level|lives|      time|world|\n",
      "+---------+-----+-----+----------+-----+\n",
      "|    Luigi|    4|   99|2020-05-22|    6|\n",
      "|    Mario|    3|   13|2020-05-02|    5|\n",
      "|    Mario|    4|   80|2020-05-06|    4|\n",
      "|    Luigi|    1|   41|2020-05-23|    2|\n",
      "|     Toad|    3|   40|2020-05-11|    6|\n",
      "|    Luigi|    2|   53|2020-05-14|    5|\n",
      "|     Toad|    3|   58|2020-05-14|    6|\n",
      "|    Peach|    4|   55|2020-04-29|    8|\n",
      "|    Luigi|    3|   42|2020-04-30|    7|\n",
      "|    Luigi|    3|    9|2020-04-24|    4|\n",
      "+---------+-----+-----+----------+-----+\n",
      "\n"
     ]
    }
   ],
   "source": [
    "df.show()"
   ]
  },
  {
   "cell_type": "markdown",
   "metadata": {},
   "source": [
    "## Step 4 - Correct the data\n",
    "Ensure we have the correct datatypes:"
   ]
  },
  {
   "cell_type": "code",
   "execution_count": 7,
   "metadata": {},
   "outputs": [
    {
     "data": {
      "text/plain": [
       "[('character', 'string'),\n",
       " ('level', 'bigint'),\n",
       " ('lives', 'bigint'),\n",
       " ('time', 'string'),\n",
       " ('world', 'bigint')]"
      ]
     },
     "execution_count": 7,
     "metadata": {},
     "output_type": "execute_result"
    }
   ],
   "source": [
    "df.dtypes"
   ]
  },
  {
   "cell_type": "code",
   "execution_count": 8,
   "metadata": {},
   "outputs": [],
   "source": [
    "df = df.withColumn(\"time\", F.to_date(F.to_timestamp(\"time\")))"
   ]
  },
  {
   "cell_type": "code",
   "execution_count": 9,
   "metadata": {},
   "outputs": [
    {
     "data": {
      "text/plain": [
       "[('character', 'string'),\n",
       " ('level', 'bigint'),\n",
       " ('lives', 'bigint'),\n",
       " ('time', 'date'),\n",
       " ('world', 'bigint')]"
      ]
     },
     "execution_count": 9,
     "metadata": {},
     "output_type": "execute_result"
    }
   ],
   "source": [
    "df.dtypes"
   ]
  },
  {
   "cell_type": "markdown",
   "metadata": {},
   "source": [
    "As a status I combine the world and the level:"
   ]
  },
  {
   "cell_type": "code",
   "execution_count": 10,
   "metadata": {},
   "outputs": [
    {
     "name": "stdout",
     "output_type": "stream",
     "text": [
      "+---------+-----+-----+----------+-----+------+\n",
      "|character|level|lives|      time|world|status|\n",
      "+---------+-----+-----+----------+-----+------+\n",
      "|    Luigi|    4|   99|2020-05-22|    6|   6-4|\n",
      "|    Mario|    3|   13|2020-05-02|    5|   5-3|\n",
      "|    Mario|    4|   80|2020-05-06|    4|   4-4|\n",
      "|    Luigi|    1|   41|2020-05-23|    2|   2-1|\n",
      "|     Toad|    3|   40|2020-05-11|    6|   6-3|\n",
      "|    Luigi|    2|   53|2020-05-14|    5|   5-2|\n",
      "|     Toad|    3|   58|2020-05-14|    6|   6-3|\n",
      "|    Peach|    4|   55|2020-04-29|    8|   8-4|\n",
      "|    Luigi|    3|   42|2020-04-30|    7|   7-3|\n",
      "|    Luigi|    3|    9|2020-04-24|    4|   4-3|\n",
      "+---------+-----+-----+----------+-----+------+\n",
      "\n"
     ]
    }
   ],
   "source": [
    "df = df.withColumn(\"status\", F.concat(F.col('world'), F.lit('-'), F.col('level')))\n",
    "df.show()"
   ]
  },
  {
   "cell_type": "markdown",
   "metadata": {},
   "source": [
    "## Step 5 - Forward fill the data\n",
    "The data should be partitioned by character and ordered by the time. For this I will use a simple window function to go through the data."
   ]
  },
  {
   "cell_type": "code",
   "execution_count": 11,
   "metadata": {
    "scrolled": false
   },
   "outputs": [],
   "source": [
    "w = Window().partitionBy(\"character\").orderBy(\"time\")"
   ]
  },
  {
   "cell_type": "markdown",
   "metadata": {},
   "source": [
    "Apply the window to create a new column where we add the time of the next status update per character."
   ]
  },
  {
   "cell_type": "code",
   "execution_count": 12,
   "metadata": {
    "scrolled": false
   },
   "outputs": [
    {
     "name": "stdout",
     "output_type": "stream",
     "text": [
      "+---------+-----+-----+----------+-----+------+-----------+\n",
      "|character|level|lives|      time|world|status|next_status|\n",
      "+---------+-----+-----+----------+-----+------+-----------+\n",
      "|    Peach|    4|   55|2020-04-29|    8|   8-4|       null|\n",
      "|     Toad|    3|   40|2020-05-11|    6|   6-3| 2020-05-14|\n",
      "|     Toad|    3|   58|2020-05-14|    6|   6-3|       null|\n",
      "|    Mario|    3|   13|2020-05-02|    5|   5-3| 2020-05-06|\n",
      "|    Mario|    4|   80|2020-05-06|    4|   4-4|       null|\n",
      "|    Luigi|    3|    9|2020-04-24|    4|   4-3| 2020-04-30|\n",
      "|    Luigi|    3|   42|2020-04-30|    7|   7-3| 2020-05-14|\n",
      "|    Luigi|    2|   53|2020-05-14|    5|   5-2| 2020-05-22|\n",
      "|    Luigi|    4|   99|2020-05-22|    6|   6-4| 2020-05-23|\n",
      "|    Luigi|    1|   41|2020-05-23|    2|   2-1|       null|\n",
      "+---------+-----+-----+----------+-----+------+-----------+\n",
      "\n"
     ]
    }
   ],
   "source": [
    "df = df.withColumn(\"next_status\", F.lead(\"time\").over(w))\n",
    "df.show()"
   ]
  },
  {
   "cell_type": "markdown",
   "metadata": {},
   "source": [
    "With the `sequence` I create the column containing the dates between the `time` of the status change and the time of the `next_status`. The `sequence` column will contain a list of dates that can be exploded to create a row for each date in the list."
   ]
  },
  {
   "cell_type": "code",
   "execution_count": 13,
   "metadata": {},
   "outputs": [
    {
     "name": "stdout",
     "output_type": "stream",
     "text": [
      "+---------+-----+-----+----------+-----+------+-----------+--------------------+\n",
      "|character|level|lives|      time|world|status|next_status|            sequence|\n",
      "+---------+-----+-----+----------+-----+------+-----------+--------------------+\n",
      "|    Peach|    4|   55|2020-04-29|    8|   8-4|       null|        [2020-04-29]|\n",
      "|     Toad|    3|   40|2020-05-11|    6|   6-3| 2020-05-14|[2020-05-11, 2020...|\n",
      "|     Toad|    3|   58|2020-05-14|    6|   6-3|       null|        [2020-05-14]|\n",
      "|    Mario|    3|   13|2020-05-02|    5|   5-3| 2020-05-06|[2020-05-02, 2020...|\n",
      "|    Mario|    4|   80|2020-05-06|    4|   4-4|       null|        [2020-05-06]|\n",
      "|    Luigi|    3|    9|2020-04-24|    4|   4-3| 2020-04-30|[2020-04-24, 2020...|\n",
      "|    Luigi|    3|   42|2020-04-30|    7|   7-3| 2020-05-14|[2020-04-30, 2020...|\n",
      "|    Luigi|    2|   53|2020-05-14|    5|   5-2| 2020-05-22|[2020-05-14, 2020...|\n",
      "|    Luigi|    4|   99|2020-05-22|    6|   6-4| 2020-05-23|        [2020-05-22]|\n",
      "|    Luigi|    1|   41|2020-05-23|    2|   2-1|       null|        [2020-05-23]|\n",
      "+---------+-----+-----+----------+-----+------+-----------+--------------------+\n",
      "\n"
     ]
    }
   ],
   "source": [
    "df = df.withColumn(\"sequence\", F.when(F.col(\"next_status\").isNotNull(),\n",
    "                               F.expr(\"sequence(to_date(time), date_sub(to_date(next_status),1), interval 1 day)\"))\\\n",
    "                                .otherwise(F.array(\"time\")))\n",
    "df.show()"
   ]
  },
  {
   "cell_type": "markdown",
   "metadata": {},
   "source": [
    "Now `explode` is applied to the `sequence` column which gives the result shown below. As we can see the events are filled from the first status change until the latest status change."
   ]
  },
  {
   "cell_type": "code",
   "execution_count": 14,
   "metadata": {},
   "outputs": [
    {
     "name": "stdout",
     "output_type": "stream",
     "text": [
      "+---------+------+----------+\n",
      "|character|status|      time|\n",
      "+---------+------+----------+\n",
      "|    Peach|   8-4|2020-04-29|\n",
      "|     Toad|   6-3|2020-05-11|\n",
      "|     Toad|   6-3|2020-05-12|\n",
      "|     Toad|   6-3|2020-05-13|\n",
      "|     Toad|   6-3|2020-05-14|\n",
      "|    Mario|   5-3|2020-05-02|\n",
      "|    Mario|   5-3|2020-05-03|\n",
      "|    Mario|   5-3|2020-05-04|\n",
      "|    Mario|   5-3|2020-05-05|\n",
      "|    Mario|   4-4|2020-05-06|\n",
      "|    Luigi|   4-3|2020-04-24|\n",
      "|    Luigi|   4-3|2020-04-25|\n",
      "|    Luigi|   4-3|2020-04-26|\n",
      "|    Luigi|   4-3|2020-04-27|\n",
      "|    Luigi|   4-3|2020-04-28|\n",
      "|    Luigi|   4-3|2020-04-29|\n",
      "|    Luigi|   7-3|2020-04-30|\n",
      "|    Luigi|   7-3|2020-05-01|\n",
      "|    Luigi|   7-3|2020-05-02|\n",
      "|    Luigi|   7-3|2020-05-03|\n",
      "+---------+------+----------+\n",
      "only showing top 20 rows\n",
      "\n"
     ]
    }
   ],
   "source": [
    "df.select(\"character\", \"status\", F.explode(\"sequence\").alias(\"time\")).show()"
   ]
  },
  {
   "cell_type": "markdown",
   "metadata": {},
   "source": [
    "One thing missing in the approach above is that we only know the status until the latest change for each character. What I need is to know what the status is today, so I need to modify the code and create an artifical end date when there is no next status, or the next status is in the past. That way I can fill dates after the last status up until today with that last status. For completeness I will repeat the code that I have created before."
   ]
  },
  {
   "cell_type": "code",
   "execution_count": 15,
   "metadata": {},
   "outputs": [
    {
     "name": "stdout",
     "output_type": "stream",
     "text": [
      "+---------+------+----------+\n",
      "|character|status|      time|\n",
      "+---------+------+----------+\n",
      "|    Peach|   8-4|2020-04-29|\n",
      "|    Peach|   8-4|2020-04-30|\n",
      "|    Peach|   8-4|2020-05-01|\n",
      "|    Peach|   8-4|2020-05-02|\n",
      "|    Peach|   8-4|2020-05-03|\n",
      "|    Peach|   8-4|2020-05-04|\n",
      "|    Peach|   8-4|2020-05-05|\n",
      "|    Peach|   8-4|2020-05-06|\n",
      "|    Peach|   8-4|2020-05-07|\n",
      "|    Peach|   8-4|2020-05-08|\n",
      "|    Peach|   8-4|2020-05-09|\n",
      "|    Peach|   8-4|2020-05-10|\n",
      "|    Peach|   8-4|2020-05-11|\n",
      "|    Peach|   8-4|2020-05-12|\n",
      "|    Peach|   8-4|2020-05-13|\n",
      "|    Peach|   8-4|2020-05-14|\n",
      "|    Peach|   8-4|2020-05-15|\n",
      "|    Peach|   8-4|2020-05-16|\n",
      "|    Peach|   8-4|2020-05-17|\n",
      "|    Peach|   8-4|2020-05-18|\n",
      "+---------+------+----------+\n",
      "only showing top 20 rows\n",
      "\n"
     ]
    }
   ],
   "source": [
    "# Create the dataframe\n",
    "df = sc.createDataFrame(events)\n",
    "# Modify the data type\n",
    "df = df.withColumn(\"time\",\n",
    "                   F.to_date(F.to_timestamp(\"time\")))\n",
    "# Create the status column\n",
    "df = df.withColumn(\"status\",\n",
    "                   F.concat(F.col('world'),\n",
    "                            F.lit('-'),\n",
    "                            F.col('level')))\n",
    "# Apply the window\n",
    "df = df.withColumn(\"next_status\",\n",
    "                   F.lead(\"time\").over(w))\n",
    "# Fill in the empty `next_status` column with today's date\n",
    "df = df.withColumn(\"next_status\",\n",
    "                   F.when(F.col(\"next_status\").isNull(),\n",
    "                          F.expr(\"current_date()\"))\\\n",
    "                           .otherwise(F.col(\"next_status\")))\n",
    "# Apply the sequence\n",
    "df = df.withColumn(\"sequence\",\n",
    "                   F.when(F.col(\"next_status\").isNotNull(),\n",
    "                          F.expr(\"sequence(to_date(time), date_sub(to_date(next_status), 1), interval 1 day)\"))\\\n",
    "                           .otherwise(F.array(\"time\")))\n",
    "# Select the columns and explore the sequence\n",
    "df.select(\"character\", \"status\", F.explode(\"sequence\").alias(\"time\")).show()"
   ]
  },
  {
   "cell_type": "markdown",
   "metadata": {},
   "source": [
    "## Step 6 - Avoid forward filling!\n",
    "From this small test it is clear it is not wise to use the `sequence` to create an event for every date for every character. This will easily become massive and should not be used in reality. The main idea behind trying to do the forward filling is to compare the complexity with Python `pandas`. In Pandas you can forward fill by simply using [`ffill`](https://pandas.pydata.org/pandas-docs/stable/reference/api/pandas.DataFrame.ffill.html). I used the following code to retrieve the same result as in the Spark script above."
   ]
  },
  {
   "cell_type": "code",
   "execution_count": 16,
   "metadata": {},
   "outputs": [
    {
     "name": "stdout",
     "output_type": "stream",
     "text": [
      "Original length: 10, new length: 128\n"
     ]
    },
    {
     "data": {
      "text/html": [
       "<div>\n",
       "<style scoped>\n",
       "    .dataframe tbody tr th:only-of-type {\n",
       "        vertical-align: middle;\n",
       "    }\n",
       "\n",
       "    .dataframe tbody tr th {\n",
       "        vertical-align: top;\n",
       "    }\n",
       "\n",
       "    .dataframe thead th {\n",
       "        text-align: right;\n",
       "    }\n",
       "</style>\n",
       "<table border=\"1\" class=\"dataframe\">\n",
       "  <thead>\n",
       "    <tr style=\"text-align: right;\">\n",
       "      <th></th>\n",
       "      <th>time</th>\n",
       "      <th>character</th>\n",
       "      <th>status</th>\n",
       "    </tr>\n",
       "  </thead>\n",
       "  <tbody>\n",
       "    <tr>\n",
       "      <th>0</th>\n",
       "      <td>2020-04-24</td>\n",
       "      <td>Luigi</td>\n",
       "      <td>4-3</td>\n",
       "    </tr>\n",
       "    <tr>\n",
       "      <th>1</th>\n",
       "      <td>2020-04-25</td>\n",
       "      <td>Luigi</td>\n",
       "      <td>4-3</td>\n",
       "    </tr>\n",
       "    <tr>\n",
       "      <th>2</th>\n",
       "      <td>2020-04-26</td>\n",
       "      <td>Luigi</td>\n",
       "      <td>4-3</td>\n",
       "    </tr>\n",
       "    <tr>\n",
       "      <th>3</th>\n",
       "      <td>2020-04-27</td>\n",
       "      <td>Luigi</td>\n",
       "      <td>4-3</td>\n",
       "    </tr>\n",
       "    <tr>\n",
       "      <th>4</th>\n",
       "      <td>2020-04-28</td>\n",
       "      <td>Luigi</td>\n",
       "      <td>4-3</td>\n",
       "    </tr>\n",
       "    <tr>\n",
       "      <th>5</th>\n",
       "      <td>2020-04-29</td>\n",
       "      <td>Luigi</td>\n",
       "      <td>4-3</td>\n",
       "    </tr>\n",
       "    <tr>\n",
       "      <th>6</th>\n",
       "      <td>2020-04-30</td>\n",
       "      <td>Luigi</td>\n",
       "      <td>7-3</td>\n",
       "    </tr>\n",
       "    <tr>\n",
       "      <th>7</th>\n",
       "      <td>2020-05-01</td>\n",
       "      <td>Luigi</td>\n",
       "      <td>7-3</td>\n",
       "    </tr>\n",
       "    <tr>\n",
       "      <th>8</th>\n",
       "      <td>2020-05-02</td>\n",
       "      <td>Luigi</td>\n",
       "      <td>7-3</td>\n",
       "    </tr>\n",
       "    <tr>\n",
       "      <th>9</th>\n",
       "      <td>2020-05-03</td>\n",
       "      <td>Luigi</td>\n",
       "      <td>7-3</td>\n",
       "    </tr>\n",
       "  </tbody>\n",
       "</table>\n",
       "</div>"
      ],
      "text/plain": [
       "        time character status\n",
       "0 2020-04-24     Luigi    4-3\n",
       "1 2020-04-25     Luigi    4-3\n",
       "2 2020-04-26     Luigi    4-3\n",
       "3 2020-04-27     Luigi    4-3\n",
       "4 2020-04-28     Luigi    4-3\n",
       "5 2020-04-29     Luigi    4-3\n",
       "6 2020-04-30     Luigi    7-3\n",
       "7 2020-05-01     Luigi    7-3\n",
       "8 2020-05-02     Luigi    7-3\n",
       "9 2020-05-03     Luigi    7-3"
      ]
     },
     "execution_count": 16,
     "metadata": {},
     "output_type": "execute_result"
    }
   ],
   "source": [
    "pdf = pd.DataFrame(events)\n",
    "# Convert datatypes\n",
    "pdf['time'] = pd.to_datetime(pdf['time'])\n",
    "# Add status column\n",
    "pdf['status'] = pdf.apply(lambda x: f\"{x['world']}-{x['level']}\", axis=1)\n",
    "# Create full time range as frame\n",
    "timeframe = pd.date_range(start=min(pdf['time']),\n",
    "                          end=datetime.now().date()).to_frame().reset_index(drop=True).rename(columns={0: 'time'})\n",
    "# Merge timeframe into original frame\n",
    "pdf = pdf.merge(timeframe,\n",
    "                left_on='time',\n",
    "                right_on='time',\n",
    "                how='right')\n",
    "# 1. Pivot to get dates on rows and characters as columns\n",
    "# 2. Forward fill values per character\n",
    "# 3. Fill remaining NaNs with False\n",
    "pdf = pdf.pivot(index='time',\n",
    "                columns='character',\n",
    "                values='status')\n",
    "\n",
    "pdf = pdf.fillna(method='ffill')\n",
    "# Drop NaN column and reset the index\n",
    "pdf = pdf.loc[:, pdf.columns.notnull()].reset_index()\n",
    "# Melt the columns back\n",
    "pdf = pd.melt(pdf,\n",
    "              id_vars='time',\n",
    "              value_name='status')\n",
    "print(f\"Original length: {len(events)}, new length: {len(pdf)}\")\n",
    "pdf.head(10)"
   ]
  },
  {
   "cell_type": "markdown",
   "metadata": {},
   "source": [
    "## Step 7 - Be smarter\n",
    "Instead of using the forward fill approach to create all this data, it is a better idea to only add one more column to the table where the end of the status is recorded. For example, if Mario was in level 1-1 seven days ago and today he finally made it to level 1-2, there is no need to create six events containing level 1-1 and one event for level 1-2. Instead it would be better that one event contains 1-1 with start date seven days ago and end date yesterday, plus an event for level 1-2 with start date today and future date somewhere in the future. \n",
    "\n",
    "Coming back to the initial SQL query I can rewrite this easily to a query with `BETWEEN`:\n",
    "\n",
    "```sql\n",
    "SELECT status FROM person_statuses WHERE person = \"John Doe\" AND time = current_date()\n",
    "```\n",
    "\n",
    "is rewritten to\n",
    "\n",
    "```sql\n",
    "SELECT status FROM person_statuses WHERE person = \"John Doe\" AND current_date() BETWEEN time AND endtime\n",
    "```\n",
    "\n",
    "I use a similar script, but will extract one day from the `endtime` column. There is no explode needed with this approach."
   ]
  },
  {
   "cell_type": "code",
   "execution_count": 17,
   "metadata": {
    "scrolled": false
   },
   "outputs": [
    {
     "name": "stdout",
     "output_type": "stream",
     "text": [
      "+---------+------+----------+----------+\n",
      "|character|status|      time|   endtime|\n",
      "+---------+------+----------+----------+\n",
      "|    Peach|   8-4|2020-04-29|2020-05-25|\n",
      "|     Toad|   6-3|2020-05-11|2020-05-13|\n",
      "|     Toad|   6-3|2020-05-14|2020-05-25|\n",
      "|    Mario|   5-3|2020-05-02|2020-05-05|\n",
      "|    Mario|   4-4|2020-05-06|2020-05-25|\n",
      "|    Luigi|   4-3|2020-04-24|2020-04-29|\n",
      "|    Luigi|   7-3|2020-04-30|2020-05-13|\n",
      "|    Luigi|   5-2|2020-05-14|2020-05-21|\n",
      "|    Luigi|   6-4|2020-05-22|2020-05-22|\n",
      "|    Luigi|   2-1|2020-05-23|2020-05-25|\n",
      "+---------+------+----------+----------+\n",
      "\n"
     ]
    }
   ],
   "source": [
    "# Create the dataframe\n",
    "df = sc.createDataFrame(events)\n",
    "# Modify the data type\n",
    "df = df.withColumn(\"time\",\n",
    "                   F.to_date(F.to_timestamp(\"time\")))\n",
    "# Create the status column\n",
    "df = df.withColumn(\"status\",\n",
    "                   F.concat(F.col('world'),\n",
    "                            F.lit('-'),\n",
    "                            F.col('level')))\n",
    "# Apply the window\n",
    "df = df.withColumn(\"endtime\",\n",
    "                   F.lead(\"time\").over(w))\n",
    "# Substract one day from the endtime\n",
    "df = df.withColumn(\"endtime\",\n",
    "                   F.expr(\"date_sub(to_date(endtime), 1)\"))\n",
    "# Fill in the empty `endtime` column with today's date\n",
    "df = df.withColumn(\"endtime\",\n",
    "                   F.when(F.col(\"endtime\").isNull(),\n",
    "                          F.expr(\"current_date()\"))\\\n",
    "                           .otherwise(F.col(\"endtime\")))\n",
    "# Select the columns and explore the sequence\n",
    "df.select(\"character\", \"status\", \"time\", \"endtime\").show()"
   ]
  },
  {
   "cell_type": "markdown",
   "metadata": {},
   "source": [
    "Store the dataframe as temporary view such that I can use SQL to query it with Spark:"
   ]
  },
  {
   "cell_type": "code",
   "execution_count": 18,
   "metadata": {},
   "outputs": [],
   "source": [
    "df.createOrReplaceTempView(\"df\")"
   ]
  },
  {
   "cell_type": "code",
   "execution_count": 19,
   "metadata": {},
   "outputs": [
    {
     "name": "stdout",
     "output_type": "stream",
     "text": [
      "+------+----------+----------+\n",
      "|status|      time|   endtime|\n",
      "+------+----------+----------+\n",
      "|   8-4|2020-04-29|2020-05-25|\n",
      "+------+----------+----------+\n",
      "\n"
     ]
    }
   ],
   "source": [
    "sc.sql(\"SELECT status, time, endtime FROM df WHERE character = 'Peach'\").show()"
   ]
  },
  {
   "cell_type": "code",
   "execution_count": 20,
   "metadata": {},
   "outputs": [
    {
     "name": "stdout",
     "output_type": "stream",
     "text": [
      "+------+\n",
      "|status|\n",
      "+------+\n",
      "|   8-4|\n",
      "+------+\n",
      "\n"
     ]
    }
   ],
   "source": [
    "sc.sql(\"SELECT status FROM df WHERE character = 'Peach' AND '2020-05-24' BETWEEN time AND endtime\").show()"
   ]
  },
  {
   "cell_type": "markdown",
   "metadata": {},
   "source": [
    "Instead of using PySpark to create the dataframe the same can be achieved using SQL."
   ]
  },
  {
   "cell_type": "code",
   "execution_count": 21,
   "metadata": {},
   "outputs": [],
   "source": [
    "# Create the events view\n",
    "eventsdf = sc.createDataFrame(events)\n",
    "eventsdf.createOrReplaceTempView(\"events\")"
   ]
  },
  {
   "cell_type": "code",
   "execution_count": 22,
   "metadata": {
    "scrolled": false
   },
   "outputs": [
    {
     "name": "stdout",
     "output_type": "stream",
     "text": [
      "+---------+------+----------+----------+\n",
      "|character|status|     start|       end|\n",
      "+---------+------+----------+----------+\n",
      "|    Peach|   8-4|2020-04-29|2020-05-25|\n",
      "|     Toad|   6-3|2020-05-11|2020-05-13|\n",
      "|     Toad|   6-3|2020-05-14|2020-05-25|\n",
      "|    Mario|   5-3|2020-05-02|2020-05-05|\n",
      "|    Mario|   4-4|2020-05-06|2020-05-25|\n",
      "|    Luigi|   4-3|2020-04-24|2020-04-29|\n",
      "|    Luigi|   7-3|2020-04-30|2020-05-13|\n",
      "|    Luigi|   5-2|2020-05-14|2020-05-21|\n",
      "|    Luigi|   6-4|2020-05-22|2020-05-22|\n",
      "|    Luigi|   2-1|2020-05-23|2020-05-25|\n",
      "+---------+------+----------+----------+\n",
      "\n"
     ]
    }
   ],
   "source": [
    "sc.sql(\"\"\"\n",
    "WITH statuses AS (\n",
    "    SELECT\n",
    "        character,\n",
    "        CONCAT(world, '-', level) AS status,\n",
    "        to_date(time) AS start,\n",
    "        to_date(DATE_SUB(LEAD(time) OVER (PARTITION BY character ORDER BY time), 1)) AS end\n",
    "    FROM\n",
    "        events\n",
    ")\n",
    "SELECT\n",
    "  character,\n",
    "  status,\n",
    "  start,\n",
    "  IF(end IS NOT NULL, end, current_date()) AS end\n",
    "FROM statuses\n",
    "\"\"\").show()"
   ]
  },
  {
   "cell_type": "markdown",
   "metadata": {},
   "source": [
    "And that's it. This was a good exercise to understand how easy it is to make things too complex.."
   ]
  }
 ],
 "metadata": {
  "kernelspec": {
   "display_name": "Python 3",
   "language": "python",
   "name": "python3"
  },
  "language_info": {
   "codemirror_mode": {
    "name": "ipython",
    "version": 3
   },
   "file_extension": ".py",
   "mimetype": "text/x-python",
   "name": "python",
   "nbconvert_exporter": "python",
   "pygments_lexer": "ipython3",
   "version": "3.6.8"
  }
 },
 "nbformat": 4,
 "nbformat_minor": 2
}