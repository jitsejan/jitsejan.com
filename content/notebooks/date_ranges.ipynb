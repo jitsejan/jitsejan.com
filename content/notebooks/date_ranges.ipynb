{
 "cells": [
  {
   "cell_type": "code",
   "execution_count": 1,
   "metadata": {},
   "outputs": [],
   "source": [
    "import datetime"
   ]
  },
  {
   "cell_type": "code",
   "execution_count": 2,
   "metadata": {},
   "outputs": [],
   "source": [
    "def get_daterange_in_days(start_date, end_date):\n",
    "    \"\"\" Return days between start and end date \"\"\"\n",
    "    start_date = datetime.datetime.strptime(start_date, \"%Y-%m-%d\").date()\n",
    "    end_date = datetime.datetime.strptime(end_date, \"%Y-%m-%d\").date()\n",
    "    for n in range(int((end_date - start_date).days)):\n",
    "        yield start_date + datetime.timedelta(n)"
   ]
  },
  {
   "cell_type": "code",
   "execution_count": 3,
   "metadata": {},
   "outputs": [
    {
     "name": "stdout",
     "output_type": "stream",
     "text": [
      "Current day: 2019-03-01\n",
      "Current day: 2019-03-02\n",
      "Current day: 2019-03-03\n",
      "Current day: 2019-03-04\n",
      "Current day: 2019-03-05\n",
      "Current day: 2019-03-06\n"
     ]
    }
   ],
   "source": [
    "for day in get_daterange_in_days('2019-03-01', '2019-03-07'):\n",
    "    print(f\"Current day: {day}\")"
   ]
  },
  {
   "cell_type": "code",
   "execution_count": 4,
   "metadata": {},
   "outputs": [],
   "source": [
    "def get_daterange_in_months(start_month, end_month):\n",
    "    \"\"\" Returns the months between start and end month \"\"\"\n",
    "    start_month = datetime.datetime.strptime(start_month, \"%Y-%m\").date()\n",
    "    end_month = datetime.datetime.strptime(end_month, \"%Y-%m\").date()\n",
    "    while start_month <= end_month:\n",
    "        if start_month.month >= 12:\n",
    "            next = datetime.date(start_month.year + 1, 1, 1)\n",
    "        else:\n",
    "            next = datetime.date(start_month.year, start_month.month + 1, 1)\n",
    "        last = min(next - datetime.timedelta(1), end_month)\n",
    "        yield (start_month.strftime('%Y-%m'), start_month, last)\n",
    "        start_month = next"
   ]
  },
  {
   "cell_type": "code",
   "execution_count": 5,
   "metadata": {},
   "outputs": [
    {
     "name": "stdout",
     "output_type": "stream",
     "text": [
      "Current month: 2019-01\n",
      "Current month: 2019-02\n",
      "Current month: 2019-03\n"
     ]
    }
   ],
   "source": [
    "for month in get_daterange_in_months('2019-01', '2019-03'):\n",
    "    current_month, startdate, enddate = month\n",
    "    print(f'Current month: {current_month}')"
   ]
  }
 ],
 "metadata": {
  "kernelspec": {
   "display_name": "Python 3",
   "language": "python",
   "name": "python3"
  },
  "language_info": {
   "codemirror_mode": {
    "name": "ipython",
    "version": 3
   },
   "file_extension": ".py",
   "mimetype": "text/x-python",
   "name": "python",
   "nbconvert_exporter": "python",
   "pygments_lexer": "ipython3",
   "version": "3.6.8"
  }
 },
 "nbformat": 4,
 "nbformat_minor": 2
}
