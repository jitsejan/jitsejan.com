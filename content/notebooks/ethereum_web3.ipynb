{
 "cells": [
  {
   "cell_type": "markdown",
   "metadata": {},
   "source": [
    "## Ethereum - Web3\n",
    "Similar to the RPC client, I will use the web3 API to make a transaction on my private blockchain.\n",
    "\n",
    "* [Read The Docs](http://web3py.readthedocs.io/en/latest/)\n",
    "* [GitHub](https://github.com/pipermerriam/web3.py)\n"
   ]
  },
  {
   "cell_type": "code",
   "execution_count": 1,
   "metadata": {
    "collapsed": true
   },
   "outputs": [],
   "source": [
    "from IPython.core.interactiveshell import InteractiveShell\n",
    "InteractiveShell.ast_node_interactivity = \"all\""
   ]
  },
  {
   "cell_type": "markdown",
   "metadata": {},
   "source": [
    "I willl use the Python 2.7 environment since Python 3.6 is not yet supported."
   ]
  },
  {
   "cell_type": "code",
   "execution_count": 2,
   "metadata": {},
   "outputs": [
    {
     "data": {
      "text/plain": [
       "'2.7.13 |Anaconda 4.3.1 (64-bit)| (default, Dec 20 2016, 23:09:15) \\n[GCC 4.4.7 20120313 (Red Hat 4.4.7-1)]'"
      ]
     },
     "execution_count": 2,
     "metadata": {},
     "output_type": "execute_result"
    }
   ],
   "source": [
    "import sys\n",
    "sys.version"
   ]
  },
  {
   "cell_type": "markdown",
   "metadata": {},
   "source": [
    "```shell\n",
    "(python2) jitsejan@jjvps:~$ pip install web3\n",
    "Collecting web3\n",
    "Requirement already satisfied: requests>=2.12.4 in /home/jitsejan/anaconda3/envs/python2/lib/python2.7/site-packages (from web3)\n",
    "Collecting ethereum-utils>=0.2.0 (from web3)\n",
    "Requirement already satisfied: pysha3>=0.3 in /home/jitsejan/anaconda3/envs/python2/lib/python2.7/site-packages (from web3)\n",
    "Collecting ethereum-abi-utils>=0.4.0 (from web3)\n",
    "Requirement already satisfied: rlp>=0.4.7 in /home/jitsejan/anaconda3/envs/python2/lib/python2.7/site-packages (from web3)\n",
    "Collecting pylru>=1.0.9 (from web3)\n",
    "Installing collected packages: ethereum-utils, ethereum-abi-utils, pylru, web3\n",
    "Successfully installed ethereum-abi-utils-0.4.0 ethereum-utils-0.2.0 pylru-1.0.9 web3-3.8.1\n",
    "```"
   ]
  },
  {
   "cell_type": "markdown",
   "metadata": {},
   "source": [
    "Note: make sure `geth` is started with arguments --rpc and --rpcapi=\"db,eth,net,web3,personal,web3\"\n",
    "```shell\n",
    "jitsejan@jjvps:~$ geth --networkid 23 --nodiscover --maxpeers 0  --port 30333 --rpc --rpcapi=\"db,eth,net,web3,personal,miner\"\n",
    "```"
   ]
  },
  {
   "cell_type": "code",
   "execution_count": 3,
   "metadata": {},
   "outputs": [
    {
     "data": {
      "text/plain": [
       "'3.8.1'"
      ]
     },
     "execution_count": 3,
     "metadata": {},
     "output_type": "execute_result"
    }
   ],
   "source": [
    "import web3\n",
    "from web3 import Web3, KeepAliveRPCProvider, IPCProvider\n",
    "web3.__version__"
   ]
  },
  {
   "cell_type": "markdown",
   "metadata": {},
   "source": [
    "## Setup RPC connection"
   ]
  },
  {
   "cell_type": "code",
   "execution_count": 4,
   "metadata": {
    "collapsed": true
   },
   "outputs": [],
   "source": [
    "web3 = Web3(KeepAliveRPCProvider(host='localhost', port='8545'))"
   ]
  },
  {
   "cell_type": "markdown",
   "metadata": {},
   "source": [
    "### Retrieve the accounts"
   ]
  },
  {
   "cell_type": "code",
   "execution_count": 5,
   "metadata": {},
   "outputs": [
    {
     "data": {
      "text/plain": [
       "[u'0x8cf9deda0712f2291fb16739f8759e4a0a575854']"
      ]
     },
     "execution_count": 5,
     "metadata": {},
     "output_type": "execute_result"
    }
   ],
   "source": [
    "web3.eth.accounts"
   ]
  },
  {
   "cell_type": "code",
   "execution_count": 6,
   "metadata": {
    "collapsed": true
   },
   "outputs": [],
   "source": [
    "address = web3.eth.accounts[0]"
   ]
  },
  {
   "cell_type": "markdown",
   "metadata": {},
   "source": [
    "### Set the two other machines"
   ]
  },
  {
   "cell_type": "code",
   "execution_count": 7,
   "metadata": {
    "collapsed": true
   },
   "outputs": [],
   "source": [
    "address_vps_one = \"0xc257beaea430afb3a09640ce7f020c906331f805\"\n",
    "address_vps_two = \"0xe86ee31b7d32b743907fa7438c422a1803717deb\""
   ]
  },
  {
   "cell_type": "markdown",
   "metadata": {},
   "source": [
    "### Show their balances\n",
    "\n"
   ]
  },
  {
   "cell_type": "code",
   "execution_count": 8,
   "metadata": {},
   "outputs": [
    {
     "name": "stdout",
     "output_type": "stream",
     "text": [
      "Host has 411 Ether\n",
      "VPS 1 has 150 Ether\n",
      "VPS 2 has 83 Ether\n"
     ]
    }
   ],
   "source": [
    "print \"Host has %d Ether\"% web3.fromWei(web3.eth.getBalance(address), 'ether')\n",
    "print \"VPS 1 has %d Ether\" % web3.fromWei(web3.eth.getBalance(address_vps_one), 'ether')\n",
    "print \"VPS 2 has %d Ether\" % web3.fromWei(web3.eth.getBalance(address_vps_two), 'ether')\n",
    "prev_host_amount = float(web3.fromWei(web3.eth.getBalance(address), 'ether'))"
   ]
  },
  {
   "cell_type": "markdown",
   "metadata": {
    "collapsed": true
   },
   "source": [
    "## Transaction\n",
    "Lets send 12 Ether from the main machine to VPS one."
   ]
  },
  {
   "cell_type": "code",
   "execution_count": 9,
   "metadata": {
    "collapsed": true
   },
   "outputs": [],
   "source": [
    "amount = 12 # Ether\n",
    "sending_address = address\n",
    "receiving_address = address_vps_one"
   ]
  },
  {
   "cell_type": "markdown",
   "metadata": {},
   "source": [
    "### Get the password to unlock the sending account"
   ]
  },
  {
   "cell_type": "code",
   "execution_count": 10,
   "metadata": {},
   "outputs": [
    {
     "name": "stdout",
     "output_type": "stream",
     "text": [
      "Enter the password for the sender: ········\n"
     ]
    }
   ],
   "source": [
    "from getpass import getpass  \n",
    "pw = getpass(prompt='Enter the password for the sender: ')"
   ]
  },
  {
   "cell_type": "markdown",
   "metadata": {},
   "source": [
    "### Unlock the account"
   ]
  },
  {
   "cell_type": "code",
   "execution_count": 11,
   "metadata": {},
   "outputs": [
    {
     "data": {
      "text/plain": [
       "True"
      ]
     },
     "execution_count": 11,
     "metadata": {},
     "output_type": "execute_result"
    }
   ],
   "source": [
    "web3.personal.unlockAccount(address, pw)"
   ]
  },
  {
   "cell_type": "markdown",
   "metadata": {},
   "source": [
    "### Create the transaction"
   ]
  },
  {
   "cell_type": "code",
   "execution_count": 12,
   "metadata": {
    "collapsed": true
   },
   "outputs": [],
   "source": [
    "params = {}\n",
    "params['to'] = receiving_address\n",
    "params['from'] = sending_address \n",
    "params['value'] = web3.toWei(amount, \"ether\")\n",
    "tx_hash = web3.eth.sendTransaction(params)"
   ]
  },
  {
   "cell_type": "markdown",
   "metadata": {},
   "source": [
    "### Check the transaction"
   ]
  },
  {
   "cell_type": "code",
   "execution_count": 13,
   "metadata": {},
   "outputs": [
    {
     "data": {
      "text/plain": [
       "{u'blockHash': u'0x0000000000000000000000000000000000000000000000000000000000000000',\n",
       " u'blockNumber': None,\n",
       " u'from': u'0x8cf9deda0712f2291fb16739f8759e4a0a575854',\n",
       " u'gas': 90000,\n",
       " u'gasPrice': 20000000000,\n",
       " u'hash': u'0x46e0a5a96dbea0391adbfd401b087ad1d1dfb120684462d8652df7d8b8d7f069',\n",
       " u'input': u'0x',\n",
       " u'nonce': 24,\n",
       " u'r': u'0x63d0a6d39e9f57bf42e874bb268fc11c67cdb72d86cd21a65181b48063ddb531',\n",
       " u's': u'0x44bb390959b28e0f14d4a7891b5ac44c84816a69c2434aeafdc5c94a42997b2b',\n",
       " u'to': u'0xc257beaea430afb3a09640ce7f020c906331f805',\n",
       " u'transactionIndex': 0,\n",
       " u'v': u'0x42',\n",
       " u'value': 12000000000000000000L}"
      ]
     },
     "execution_count": 13,
     "metadata": {},
     "output_type": "execute_result"
    }
   ],
   "source": [
    "web3.eth.getTransaction(tx_hash)"
   ]
  },
  {
   "cell_type": "markdown",
   "metadata": {},
   "source": [
    "### Check the receipt\n",
    "The miner is not running, so the receipt returns nothing"
   ]
  },
  {
   "cell_type": "code",
   "execution_count": 14,
   "metadata": {
    "collapsed": true
   },
   "outputs": [],
   "source": [
    "web3.eth.getTransactionReceipt(tx_hash)"
   ]
  },
  {
   "cell_type": "markdown",
   "metadata": {},
   "source": [
    "### Start and stop the miner\n",
    "Note: web3.admin.sleepBlocks seems not te be available so I use a simple sleep. Within this sleep it could be that there are more than 1 mining cycles."
   ]
  },
  {
   "cell_type": "code",
   "execution_count": 15,
   "metadata": {},
   "outputs": [
    {
     "data": {
      "text/plain": [
       "True"
      ]
     },
     "execution_count": 15,
     "metadata": {},
     "output_type": "execute_result"
    }
   ],
   "source": [
    "import time\n",
    "miner = web3.miner\n",
    "miner.start(1)\n",
    "time.sleep(5)\n",
    "miner.stop()"
   ]
  },
  {
   "cell_type": "markdown",
   "metadata": {},
   "source": [
    "### Check the receipt again\n",
    "Now the transaction has taken place"
   ]
  },
  {
   "cell_type": "code",
   "execution_count": 16,
   "metadata": {},
   "outputs": [
    {
     "data": {
      "text/plain": [
       "{u'blockHash': u'0x635486b2100a4a9de155b57c1a9fad4dfafcf1db1d62f9aa55bd38d6a3864869',\n",
       " u'blockNumber': 110,\n",
       " u'contractAddress': None,\n",
       " u'cumulativeGasUsed': 21000,\n",
       " u'from': u'0x8cf9deda0712f2291fb16739f8759e4a0a575854',\n",
       " u'gasUsed': 21000,\n",
       " u'logs': [],\n",
       " u'logsBloom': u'0x00000000000000000000000000000000000000000000000000000000000000000000000000000000000000000000000000000000000000000000000000000000000000000000000000000000000000000000000000000000000000000000000000000000000000000000000000000000000000000000000000000000000000000000000000000000000000000000000000000000000000000000000000000000000000000000000000000000000000000000000000000000000000000000000000000000000000000000000000000000000000000000000000000000000000000000000000000000000000000000000000000000000000000000000000000000',\n",
       " u'root': u'0xe7ca6b8a99b6e69f52c2834ae84276dd9b0b89daf459c7391d29e2121e49e27e',\n",
       " u'to': u'0xc257beaea430afb3a09640ce7f020c906331f805',\n",
       " u'transactionHash': u'0x46e0a5a96dbea0391adbfd401b087ad1d1dfb120684462d8652df7d8b8d7f069',\n",
       " u'transactionIndex': 0}"
      ]
     },
     "execution_count": 16,
     "metadata": {},
     "output_type": "execute_result"
    }
   ],
   "source": [
    "web3.eth.getTransactionReceipt(tx_hash)"
   ]
  },
  {
   "cell_type": "markdown",
   "metadata": {},
   "source": [
    "### Check the balances again\n",
    "The host should have 12 Ether less, but received 5 Ether for each mining cycle. The first VPS should have received 12 Ether."
   ]
  },
  {
   "cell_type": "code",
   "execution_count": 17,
   "metadata": {},
   "outputs": [
    {
     "name": "stdout",
     "output_type": "stream",
     "text": [
      "Host has 404 Ether\n",
      "VPS 1 has 162 Ether\n",
      "VPS 2 has 83 Ether\n"
     ]
    }
   ],
   "source": [
    "print \"Host has %d Ether\"% web3.fromWei(web3.eth.getBalance(address), 'ether')\n",
    "print \"VPS 1 has %d Ether\" % web3.fromWei(web3.eth.getBalance(address_vps_one), 'ether')\n",
    "print \"VPS 2 has %d Ether\" % web3.fromWei(web3.eth.getBalance(address_vps_two), 'ether')"
   ]
  },
  {
   "cell_type": "code",
   "execution_count": 18,
   "metadata": {},
   "outputs": [
    {
     "name": "stdout",
     "output_type": "stream",
     "text": [
      "1 mining cycle(s) are elapsed\n"
     ]
    }
   ],
   "source": [
    "mine_bonus = 5 # Ether\n",
    "num_cycles = (float(web3.fromWei(web3.eth.getBalance(address), 'ether')) - prev_host_amount + amount)/mine_bonus\n",
    "print \"%d mining cycle(s) are elapsed\" % num_cycles"
   ]
  }
 ],
 "metadata": {
  "kernelspec": {
   "display_name": "Python 2",
   "language": "python",
   "name": "python2"
  },
  "language_info": {
   "codemirror_mode": {
    "name": "ipython",
    "version": 2
   },
   "file_extension": ".py",
   "mimetype": "text/x-python",
   "name": "python",
   "nbconvert_exporter": "python",
   "pygments_lexer": "ipython2",
   "version": "2.7.13"
  }
 },
 "nbformat": 4,
 "nbformat_minor": 2
}
