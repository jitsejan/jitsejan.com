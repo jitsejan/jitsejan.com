{
 "cells": [
  {
   "cell_type": "code",
   "execution_count": 1,
   "metadata": {},
   "outputs": [],
   "source": [
    "import boto3"
   ]
  },
  {
   "cell_type": "code",
   "execution_count": 2,
   "metadata": {},
   "outputs": [
    {
     "data": {
      "text/plain": [
       "'1.9.103'"
      ]
     },
     "execution_count": 2,
     "metadata": {},
     "output_type": "execute_result"
    }
   ],
   "source": [
    "boto3.__version__"
   ]
  },
  {
   "cell_type": "code",
   "execution_count": 3,
   "metadata": {},
   "outputs": [],
   "source": [
    "def get_databases():\n",
    "    \"\"\"\n",
    "    Returns the databases available in the Glue data catalog\n",
    "\n",
    "    :return: list of databases\n",
    "    \"\"\"\n",
    "    return [dat[\"Name\"] for dat in glue_client.get_databases()[\"DatabaseList\"]]"
   ]
  },
  {
   "cell_type": "code",
   "execution_count": 4,
   "metadata": {},
   "outputs": [],
   "source": [
    "def get_tables_for_database(database):\n",
    "    \"\"\"\n",
    "    Returns a list of tables in a Glue database catalog\n",
    "\n",
    "    :param database: Glue database\n",
    "    :return: list of tables\n",
    "    \"\"\"\n",
    "    starting_token = None\n",
    "    next_page = True\n",
    "    tables = []\n",
    "    while next_page:\n",
    "        paginator = glue_client.get_paginator(operation_name=\"get_tables\")\n",
    "        response_iterator = paginator.paginate(\n",
    "            DatabaseName=database,\n",
    "            PaginationConfig={\"PageSize\": 100, \"StartingToken\": starting_token},\n",
    "        )\n",
    "        for elem in response_iterator:\n",
    "            tables += [\n",
    "                {\n",
    "                    \"name\": table[\"Name\"],\n",
    "                }\n",
    "                for table in elem[\"TableList\"]\n",
    "            ]\n",
    "            try:\n",
    "                starting_token = elem[\"NextToken\"]\n",
    "            except:\n",
    "                next_page = False\n",
    "    return tables"
   ]
  },
  {
   "cell_type": "markdown",
   "metadata": {},
   "source": [
    "Setup the Glue client with `boto3`:"
   ]
  },
  {
   "cell_type": "code",
   "execution_count": 5,
   "metadata": {},
   "outputs": [],
   "source": [
    "glue_client = boto3.client('glue', 'eu-west-1')"
   ]
  },
  {
   "cell_type": "markdown",
   "metadata": {},
   "source": [
    "Create two tables in the `default` database:"
   ]
  },
  {
   "cell_type": "code",
   "execution_count": 6,
   "metadata": {},
   "outputs": [
    {
     "data": {
      "text/plain": [
       "{'ResponseMetadata': {'RequestId': 'acd584c0-5536-11e9-9615-03d279e216a7',\n",
       "  'HTTPStatusCode': 200,\n",
       "  'HTTPHeaders': {'date': 'Tue, 02 Apr 2019 11:01:32 GMT',\n",
       "   'content-type': 'application/x-amz-json-1.1',\n",
       "   'content-length': '2',\n",
       "   'connection': 'keep-alive',\n",
       "   'x-amzn-requestid': 'acd584c0-5536-11e9-9615-03d279e216a7'},\n",
       "  'RetryAttempts': 0}}"
      ]
     },
     "execution_count": 6,
     "metadata": {},
     "output_type": "execute_result"
    }
   ],
   "source": [
    "params = {\n",
    "    'DatabaseName': 'default',\n",
    "    'TableInput': {\n",
    "        'Name': 'table_one',\n",
    "    }\n",
    "}\n",
    "glue_client.create_table(**params)\n",
    "params['TableInput'].update({'Name': 'table_two'})\n",
    "glue_client.create_table(**params)"
   ]
  },
  {
   "cell_type": "markdown",
   "metadata": {},
   "source": [
    "List the tables from the databases that contain the string `default`:"
   ]
  },
  {
   "cell_type": "code",
   "execution_count": 7,
   "metadata": {},
   "outputs": [
    {
     "name": "stdout",
     "output_type": "stream",
     "text": [
      "Database: default\n",
      "Table:    table_one\n",
      "Table:    table_two\n"
     ]
    }
   ],
   "source": [
    "for database in [dat for dat in get_databases() if 'default' in dat]:\n",
    "    print(f\"Database: {database}\")\n",
    "    for table in get_tables_for_database(database):\n",
    "        print(f\"Table:    {table['name']}\")"
   ]
  },
  {
   "cell_type": "markdown",
   "metadata": {},
   "source": [
    "Clean-up:"
   ]
  },
  {
   "cell_type": "code",
   "execution_count": 8,
   "metadata": {},
   "outputs": [
    {
     "data": {
      "text/plain": [
       "{'ResponseMetadata': {'RequestId': 'ad5c689b-5536-11e9-b79a-7706853c390d',\n",
       "  'HTTPStatusCode': 200,\n",
       "  'HTTPHeaders': {'date': 'Tue, 02 Apr 2019 11:01:33 GMT',\n",
       "   'content-type': 'application/x-amz-json-1.1',\n",
       "   'content-length': '2',\n",
       "   'connection': 'keep-alive',\n",
       "   'x-amzn-requestid': 'ad5c689b-5536-11e9-b79a-7706853c390d'},\n",
       "  'RetryAttempts': 0}}"
      ]
     },
     "execution_count": 8,
     "metadata": {},
     "output_type": "execute_result"
    }
   ],
   "source": [
    "params = {\n",
    "    'DatabaseName': 'default',\n",
    "    'Name': 'table_one',\n",
    "}\n",
    "glue_client.delete_table(**params)\n",
    "params.update({'Name': 'table_two'})\n",
    "glue_client.delete_table(**params)"
   ]
  },
  {
   "cell_type": "markdown",
   "metadata": {},
   "source": [
    "Verification:"
   ]
  },
  {
   "cell_type": "code",
   "execution_count": 9,
   "metadata": {},
   "outputs": [
    {
     "name": "stdout",
     "output_type": "stream",
     "text": [
      "Database: default\n"
     ]
    }
   ],
   "source": [
    "for database in [dat for dat in get_databases() if 'default' in dat]:\n",
    "    print(f\"Database: {database}\")\n",
    "    for table in get_tables_for_database(database):\n",
    "        print(f\"Table:    {table['name']}\")"
   ]
  }
 ],
 "metadata": {
  "kernelspec": {
   "display_name": "Python 3",
   "language": "python",
   "name": "python3"
  },
  "language_info": {
   "codemirror_mode": {
    "name": "ipython",
    "version": 3
   },
   "file_extension": ".py",
   "mimetype": "text/x-python",
   "name": "python",
   "nbconvert_exporter": "python",
   "pygments_lexer": "ipython3",
   "version": "3.6.8"
  }
 },
 "nbformat": 4,
 "nbformat_minor": 2
}
