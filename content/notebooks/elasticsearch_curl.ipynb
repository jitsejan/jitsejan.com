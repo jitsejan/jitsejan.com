{
 "cells": [
  {
   "cell_type": "markdown",
   "metadata": {},
   "source": [
    "Inspired by this [tutorial](https://qbox.io/blog/building-an-elasticsearch-index-with-python) I tried to continue investigating [Elasticsearch](https://www.elastic.co/products/elasticsearch) since I would like to use a fast indexing tool for the data I am gathering and the applications I am developing."
   ]
  },
  {
   "cell_type": "markdown",
   "metadata": {},
   "source": [
    "## Install the Python library for Elasticsearch\n",
    "https://elasticsearch-py.readthedocs.io/en/master/\n",
    "``` shell\n",
    "$ pip install elasticsearch\n",
    "```\n",
    "\n",
    "Note: on my Mac I installed Elasticsearch through Brew\n",
    "``` shell\n",
    "$ brew install elasticsearch\n",
    "$ brew services start elasticsearch\n",
    "```"
   ]
  },
  {
   "cell_type": "markdown",
   "metadata": {
    "collapsed": true
   },
   "source": [
    "## Creating the data\n",
    "### Read the CSV files\n",
    "Read the character data"
   ]
  },
  {
   "cell_type": "code",
   "execution_count": 1,
   "metadata": {
    "collapsed": false
   },
   "outputs": [
    {
     "data": {
      "text/html": [
       "<div>\n",
       "<table border=\"1\" class=\"dataframe\">\n",
       "  <thead>\n",
       "    <tr style=\"text-align: right;\">\n",
       "      <th></th>\n",
       "      <th>id</th>\n",
       "      <th>name</th>\n",
       "      <th>description</th>\n",
       "      <th>color</th>\n",
       "      <th>occupation</th>\n",
       "      <th>picture</th>\n",
       "    </tr>\n",
       "  </thead>\n",
       "  <tbody>\n",
       "    <tr>\n",
       "      <th>0</th>\n",
       "      <td>2</td>\n",
       "      <td>Luigi</td>\n",
       "      <td>This is Luigi</td>\n",
       "      <td>green</td>\n",
       "      <td>plumber</td>\n",
       "      <td>https://upload.wikimedia.org/wikipedia/en/f/f1...</td>\n",
       "    </tr>\n",
       "    <tr>\n",
       "      <th>1</th>\n",
       "      <td>1</td>\n",
       "      <td>Mario</td>\n",
       "      <td>This is Mario</td>\n",
       "      <td>red</td>\n",
       "      <td>plumber</td>\n",
       "      <td>https://upload.wikimedia.org/wikipedia/en/9/99...</td>\n",
       "    </tr>\n",
       "    <tr>\n",
       "      <th>2</th>\n",
       "      <td>3</td>\n",
       "      <td>Peach</td>\n",
       "      <td>My name is Peach</td>\n",
       "      <td>pink</td>\n",
       "      <td>princess</td>\n",
       "      <td>https://s-media-cache-ak0.pinimg.com/originals...</td>\n",
       "    </tr>\n",
       "    <tr>\n",
       "      <th>3</th>\n",
       "      <td>4</td>\n",
       "      <td>Toad</td>\n",
       "      <td>I like funghi</td>\n",
       "      <td>red</td>\n",
       "      <td>NaN</td>\n",
       "      <td>https://upload.wikimedia.org/wikipedia/en/d/d1...</td>\n",
       "    </tr>\n",
       "  </tbody>\n",
       "</table>\n",
       "</div>"
      ],
      "text/plain": [
       "   id   name       description  color occupation  \\\n",
       "0   2  Luigi     This is Luigi  green    plumber   \n",
       "1   1  Mario     This is Mario    red    plumber   \n",
       "2   3  Peach  My name is Peach   pink   princess   \n",
       "3   4   Toad     I like funghi    red        NaN   \n",
       "\n",
       "                                             picture  \n",
       "0  https://upload.wikimedia.org/wikipedia/en/f/f1...  \n",
       "1  https://upload.wikimedia.org/wikipedia/en/9/99...  \n",
       "2  https://s-media-cache-ak0.pinimg.com/originals...  \n",
       "3  https://upload.wikimedia.org/wikipedia/en/d/d1...  "
      ]
     },
     "execution_count": 1,
     "metadata": {},
     "output_type": "execute_result"
    }
   ],
   "source": [
    "import pandas as pd\n",
    "character_df = pd.read_csv('data/nintendo_characters.csv')\n",
    "character_df"
   ]
  },
  {
   "cell_type": "markdown",
   "metadata": {
    "collapsed": false
   },
   "source": [
    "Remove the NaN"
   ]
  },
  {
   "cell_type": "code",
   "execution_count": 2,
   "metadata": {
    "collapsed": false
   },
   "outputs": [],
   "source": [
    "character_df.occupation = character_df.occupation.fillna('')"
   ]
  },
  {
   "cell_type": "markdown",
   "metadata": {},
   "source": [
    "Read the world data"
   ]
  },
  {
   "cell_type": "code",
   "execution_count": 3,
   "metadata": {
    "collapsed": false
   },
   "outputs": [
    {
     "data": {
      "text/html": [
       "<div>\n",
       "<table border=\"1\" class=\"dataframe\">\n",
       "  <thead>\n",
       "    <tr style=\"text-align: right;\">\n",
       "      <th></th>\n",
       "      <th>id</th>\n",
       "      <th>world</th>\n",
       "      <th>name</th>\n",
       "      <th>image</th>\n",
       "      <th>description</th>\n",
       "      <th>picture</th>\n",
       "    </tr>\n",
       "  </thead>\n",
       "  <tbody>\n",
       "    <tr>\n",
       "      <th>0</th>\n",
       "      <td>1</td>\n",
       "      <td>World 1</td>\n",
       "      <td>Grass Land</td>\n",
       "      <td>Grass Land.PNG</td>\n",
       "      <td>Grass Land is the first world of the game. It ...</td>\n",
       "      <td>https://www.mariowiki.com/images/thumb/f/fa/Gr...</td>\n",
       "    </tr>\n",
       "    <tr>\n",
       "      <th>1</th>\n",
       "      <td>2</td>\n",
       "      <td>World 2</td>\n",
       "      <td>Desert Land</td>\n",
       "      <td>World2SMB3.PNG</td>\n",
       "      <td>Desert Land is the second world of the game. I...</td>\n",
       "      <td>https://www.mariowiki.com/images/thumb/d/d1/Wo...</td>\n",
       "    </tr>\n",
       "    <tr>\n",
       "      <th>2</th>\n",
       "      <td>3</td>\n",
       "      <td>World 3</td>\n",
       "      <td>Water Land</td>\n",
       "      <td>Sea Side.PNG</td>\n",
       "      <td>Water Land is a water-themed region that was r...</td>\n",
       "      <td>https://www.mariowiki.com/images/thumb/b/b7/Se...</td>\n",
       "    </tr>\n",
       "    <tr>\n",
       "      <th>3</th>\n",
       "      <td>4</td>\n",
       "      <td>World 4</td>\n",
       "      <td>Giant Land</td>\n",
       "      <td>SMAS-Big Island Map.PNG</td>\n",
       "      <td>Giant Land is mainly composed of an island in ...</td>\n",
       "      <td>https://www.mariowiki.com/images/thumb/9/9c/SM...</td>\n",
       "    </tr>\n",
       "    <tr>\n",
       "      <th>4</th>\n",
       "      <td>5</td>\n",
       "      <td>World 5</td>\n",
       "      <td>Sky Land</td>\n",
       "      <td>Sky world.PNG</td>\n",
       "      <td>Sky Land is the world that has been conquered ...</td>\n",
       "      <td>https://www.mariowiki.com/images/thumb/6/69/Sk...</td>\n",
       "    </tr>\n",
       "    <tr>\n",
       "      <th>5</th>\n",
       "      <td>6</td>\n",
       "      <td>World 6</td>\n",
       "      <td>Ice Land</td>\n",
       "      <td>SMB36.PNG</td>\n",
       "      <td>Ice Land is an area covered in snow and ice. T...</td>\n",
       "      <td>https://www.mariowiki.com/images/thumb/4/40/SM...</td>\n",
       "    </tr>\n",
       "    <tr>\n",
       "      <th>6</th>\n",
       "      <td>7</td>\n",
       "      <td>World 7</td>\n",
       "      <td>Pipe Land</td>\n",
       "      <td>Pipe maze.PNG</td>\n",
       "      <td>Pipe Land is a series of small islands in a ne...</td>\n",
       "      <td>https://www.mariowiki.com/images/thumb/a/aa/Pi...</td>\n",
       "    </tr>\n",
       "    <tr>\n",
       "      <th>7</th>\n",
       "      <td>8</td>\n",
       "      <td>World 8</td>\n",
       "      <td>Dark Land</td>\n",
       "      <td>Dark land2.PNG</td>\n",
       "      <td>The eighth and final world is ruled by King Bo...</td>\n",
       "      <td>https://www.mariowiki.com/images/thumb/0/01/Da...</td>\n",
       "    </tr>\n",
       "    <tr>\n",
       "      <th>8</th>\n",
       "      <td>9</td>\n",
       "      <td>World 9</td>\n",
       "      <td>Warp Zone</td>\n",
       "      <td>World 9.PNG</td>\n",
       "      <td>World 9 is only accessible by a Warp Whistle. ...</td>\n",
       "      <td>https://www.mariowiki.com/images/thumb/0/09/Wo...</td>\n",
       "    </tr>\n",
       "  </tbody>\n",
       "</table>\n",
       "</div>"
      ],
      "text/plain": [
       "   id    world         name                    image  \\\n",
       "0   1  World 1   Grass Land           Grass Land.PNG   \n",
       "1   2  World 2  Desert Land           World2SMB3.PNG   \n",
       "2   3  World 3   Water Land             Sea Side.PNG   \n",
       "3   4  World 4   Giant Land  SMAS-Big Island Map.PNG   \n",
       "4   5  World 5     Sky Land            Sky world.PNG   \n",
       "5   6  World 6     Ice Land                SMB36.PNG   \n",
       "6   7  World 7    Pipe Land            Pipe maze.PNG   \n",
       "7   8  World 8    Dark Land           Dark land2.PNG   \n",
       "8   9  World 9    Warp Zone              World 9.PNG   \n",
       "\n",
       "                                         description  \\\n",
       "0  Grass Land is the first world of the game. It ...   \n",
       "1  Desert Land is the second world of the game. I...   \n",
       "2  Water Land is a water-themed region that was r...   \n",
       "3  Giant Land is mainly composed of an island in ...   \n",
       "4  Sky Land is the world that has been conquered ...   \n",
       "5  Ice Land is an area covered in snow and ice. T...   \n",
       "6  Pipe Land is a series of small islands in a ne...   \n",
       "7  The eighth and final world is ruled by King Bo...   \n",
       "8  World 9 is only accessible by a Warp Whistle. ...   \n",
       "\n",
       "                                             picture  \n",
       "0  https://www.mariowiki.com/images/thumb/f/fa/Gr...  \n",
       "1  https://www.mariowiki.com/images/thumb/d/d1/Wo...  \n",
       "2  https://www.mariowiki.com/images/thumb/b/b7/Se...  \n",
       "3  https://www.mariowiki.com/images/thumb/9/9c/SM...  \n",
       "4  https://www.mariowiki.com/images/thumb/6/69/Sk...  \n",
       "5  https://www.mariowiki.com/images/thumb/4/40/SM...  \n",
       "6  https://www.mariowiki.com/images/thumb/a/aa/Pi...  \n",
       "7  https://www.mariowiki.com/images/thumb/0/01/Da...  \n",
       "8  https://www.mariowiki.com/images/thumb/0/09/Wo...  "
      ]
     },
     "execution_count": 3,
     "metadata": {},
     "output_type": "execute_result"
    }
   ],
   "source": [
    "world_df = pd.read_csv('data/super_mario_3_worlds.csv', sep=';')\n",
    "world_df"
   ]
  },
  {
   "cell_type": "markdown",
   "metadata": {},
   "source": [
    "## Setup Elasticsearch\n",
    "### Create the parameters"
   ]
  },
  {
   "cell_type": "code",
   "execution_count": 4,
   "metadata": {
    "collapsed": true
   },
   "outputs": [],
   "source": [
    "ES_HOST = {\"host\" : \"localhost\", \"port\" : 9200}\n",
    "INDEX_NAME = 'nintendo'\n",
    "TYPE_NAME = 'character'\n",
    "ID_FIELD = 'id'"
   ]
  },
  {
   "cell_type": "markdown",
   "metadata": {},
   "source": [
    "### Setup the Elasticsearch connector "
   ]
  },
  {
   "cell_type": "code",
   "execution_count": 5,
   "metadata": {
    "collapsed": false
   },
   "outputs": [],
   "source": [
    "from elasticsearch import Elasticsearch\n",
    "es = Elasticsearch(hosts = [ES_HOST])"
   ]
  },
  {
   "cell_type": "markdown",
   "metadata": {},
   "source": [
    "### Create the index\n",
    "Create the index for `nintendo` if it does not exists, otherwise first delete it."
   ]
  },
  {
   "cell_type": "code",
   "execution_count": 6,
   "metadata": {
    "collapsed": false
   },
   "outputs": [
    {
     "name": "stdout",
     "output_type": "stream",
     "text": [
      "Deleting the 'nintendo' index\n",
      "Acknowledged: 'True'\n",
      "Creating the 'nintendo' index!\n",
      "Acknowledged: 'True'\n"
     ]
    }
   ],
   "source": [
    "if es.indices.exists(INDEX_NAME):\n",
    "    print(\"Deleting the '%s' index\" % (INDEX_NAME))\n",
    "    res = es.indices.delete(index = INDEX_NAME)\n",
    "    print(\"Acknowledged: '%s'\" % (res['acknowledged']))\n",
    "\n",
    "request_body = {\n",
    "    \"settings\" : {\n",
    "        \"number_of_shards\": 1,\n",
    "        \"number_of_replicas\": 0\n",
    "    }\n",
    "}\n",
    "print(\"Creating the '%s' index!\" % (INDEX_NAME))\n",
    "res = es.indices.create(index = INDEX_NAME, body = request_body)\n",
    "print(\"Acknowledged: '%s'\" % (res['acknowledged']))"
   ]
  },
  {
   "cell_type": "markdown",
   "metadata": {},
   "source": [
    "### Create the bulk data\n",
    "Loop through the dataframe and create the data to insert into the index."
   ]
  },
  {
   "cell_type": "code",
   "execution_count": 7,
   "metadata": {
    "collapsed": true
   },
   "outputs": [],
   "source": [
    "bulk_data = []"
   ]
  },
  {
   "cell_type": "code",
   "execution_count": 8,
   "metadata": {
    "collapsed": false
   },
   "outputs": [],
   "source": [
    "for index, row in character_df.iterrows():\n",
    "    data_dict = {}\n",
    "    for i in range(len(row)):\n",
    "        data_dict[character_df.columns[i]] = row[i]\n",
    "    op_dict = {\n",
    "        \"index\": {\n",
    "            \"_index\": 'nintendo',\n",
    "            \"_type\": 'character',\n",
    "            \"_id\": data_dict['id']\n",
    "        }\n",
    "    }\n",
    "    bulk_data.append(op_dict)\n",
    "    bulk_data.append(data_dict)"
   ]
  },
  {
   "cell_type": "code",
   "execution_count": 9,
   "metadata": {
    "collapsed": false
   },
   "outputs": [],
   "source": [
    "for index, row in world_df.iterrows():\n",
    "    data_dict = {}\n",
    "    for i in range(len(row)):\n",
    "        data_dict[world_df.columns[i]] = row[i]\n",
    "    op_dict = {\n",
    "        \"index\": {\n",
    "            \"_index\": 'nintendo',\n",
    "            \"_type\": 'world',\n",
    "            \"_id\": data_dict['id']\n",
    "        }\n",
    "    }\n",
    "    bulk_data.append(op_dict)\n",
    "    bulk_data.append(data_dict)"
   ]
  },
  {
   "cell_type": "markdown",
   "metadata": {},
   "source": [
    "## Insert the data into the index"
   ]
  },
  {
   "cell_type": "code",
   "execution_count": 10,
   "metadata": {
    "collapsed": false
   },
   "outputs": [
    {
     "name": "stdout",
     "output_type": "stream",
     "text": [
      "Bulk indexing...\n"
     ]
    }
   ],
   "source": [
    "import json\n",
    "print(\"Bulk indexing...\")\n",
    "res = es.bulk(index = INDEX_NAME, body = bulk_data, refresh = True)"
   ]
  },
  {
   "cell_type": "markdown",
   "metadata": {},
   "source": [
    "## Query using CURL"
   ]
  },
  {
   "cell_type": "code",
   "execution_count": 11,
   "metadata": {
    "collapsed": false
   },
   "outputs": [
    {
     "name": "stdout",
     "output_type": "stream",
     "text": [
      "{\r\n",
      "  \"took\" : 5,\r\n",
      "  \"timed_out\" : false,\r\n",
      "  \"_shards\" : {\r\n",
      "    \"total\" : 2,\r\n",
      "    \"successful\" : 2,\r\n",
      "    \"failed\" : 0\r\n",
      "  },\r\n",
      "  \"hits\" : {\r\n",
      "    \"total\" : 3295,\r\n",
      "    \"max_score\" : 1.0,\r\n",
      "    \"hits\" : [\r\n",
      "      {\r\n",
      "        \"_index\" : \"nintendo\",\r\n",
      "        \"_type\" : \"character\",\r\n",
      "        \"_id\" : \"2\",\r\n",
      "        \"_score\" : 1.0,\r\n",
      "        \"_source\" : {\r\n",
      "          \"id\" : 2,\r\n",
      "          \"name\" : \"Luigi\",\r\n",
      "          \"description\" : \"This is Luigi\",\r\n",
      "          \"color\" : \"green\",\r\n",
      "          \"occupation\" : \"plumber\",\r\n",
      "          \"picture\" : \"https://upload.wikimedia.org/wikipedia/en/f/f1/LuigiNSMBW.png\"\r\n",
      "        }\r\n",
      "      },\r\n",
      "      {\r\n",
      "        \"_index\" : \"nintendo\",\r\n",
      "        \"_type\" : \"character\",\r\n",
      "        \"_id\" : \"1\",\r\n",
      "        \"_score\" : 1.0,\r\n",
      "        \"_source\" : {\r\n",
      "          \"id\" : 1,\r\n",
      "          \"name\" : \"Mario\",\r\n",
      "          \"description\" : \"This is Mario\",\r\n",
      "          \"color\" : \"red\",\r\n",
      "          \"occupation\" : \"plumber\",\r\n",
      "          \"picture\" : \"https://upload.wikimedia.org/wikipedia/en/9/99/MarioSMBW.png\"\r\n",
      "        }\r\n",
      "      },\r\n",
      "      {\r\n",
      "        \"_index\" : \"nintendo\",\r\n",
      "        \"_type\" : \"character\",\r\n",
      "        \"_id\" : \"3\",\r\n",
      "        \"_score\" : 1.0,\r\n",
      "        \"_source\" : {\r\n",
      "          \"id\" : 3,\r\n",
      "          \"name\" : \"Peach\",\r\n",
      "          \"description\" : \"My name is Peach\",\r\n",
      "          \"color\" : \"pink\",\r\n",
      "          \"occupation\" : \"princess\",\r\n",
      "          \"picture\" : \"https://s-media-cache-ak0.pinimg.com/originals/d2/4d/77/d24d77cfbba789256c9c1afa1f69b385.png\"\r\n",
      "        }\r\n",
      "      },\r\n",
      "      {\r\n",
      "        \"_index\" : \"nintendo\",\r\n",
      "        \"_type\" : \"character\",\r\n",
      "        \"_id\" : \"4\",\r\n",
      "        \"_score\" : 1.0,\r\n",
      "        \"_source\" : {\r\n",
      "          \"id\" : 4,\r\n",
      "          \"name\" : \"Toad\",\r\n",
      "          \"description\" : \"I like funghi\",\r\n",
      "          \"color\" : \"red\",\r\n",
      "          \"occupation\" : \"\",\r\n",
      "          \"picture\" : \"https://upload.wikimedia.org/wikipedia/en/d/d1/Toad_3D_Land.png\"\r\n",
      "        }\r\n",
      "      },\r\n",
      "      {\r\n",
      "        \"_index\" : \"nintendo\",\r\n",
      "        \"_type\" : \"world\",\r\n",
      "        \"_id\" : \"1\",\r\n",
      "        \"_score\" : 1.0,\r\n",
      "        \"_source\" : {\r\n",
      "          \"id\" : 1,\r\n",
      "          \"world\" : \"World 1\",\r\n",
      "          \"name\" : \"Grass Land\",\r\n",
      "          \"image\" : \"Grass Land.PNG\",\r\n",
      "          \"description\" : \"Grass Land is the first world of the game. It was attacked by Larry Koopa, who stole the wand of the Grass Land king and turned him into a dog (or a Cobrat from Super Mario Bros. 2 in the remake). The landscape itself is mainly composed of plains, surrounded by hills and even some cliffs in the south. A fortress can be found in the middle of Grass Land, and the king's castle lies to the southeast, surrounded by a circular moat. The enemies Mario encounters here are regular ones, like Goombas, Koopa Troopas and Piranha Plants. The world features a Spade Panel, two Toad Houses and six levels, of which four have to be cleared to reach the king's castle.\",\r\n",
      "          \"picture\" : \"https://www.mariowiki.com/images/thumb/f/fa/Grass_Land.PNG/200px-Grass_Land.PNG\"\r\n",
      "        }\r\n",
      "      },\r\n",
      "      {\r\n",
      "        \"_index\" : \"nintendo\",\r\n",
      "        \"_type\" : \"world\",\r\n",
      "        \"_id\" : \"2\",\r\n",
      "        \"_score\" : 1.0,\r\n",
      "        \"_source\" : {\r\n",
      "          \"id\" : 2,\r\n",
      "          \"world\" : \"World 2\",\r\n",
      "          \"name\" : \"Desert Land\",\r\n",
      "          \"image\" : \"World2SMB3.PNG\",\r\n",
      "          \"description\" : \"Desert Land is the second world of the game. It is a region within a vast desert, filled with sand, palm trees and some pyramids. A fortress is located in the west part of the desert, and a quicksand field can also be found, as well as a great pyramid that the player needs to traverse in order to reach the king's castle. The king was attacked by Morton Koopa Jr., who turned him into a spider (or a Hoopster from Super Mario Bros. 2 in the remake). The world features two Spade Panels and three Toad Houses, of which one lies in a secret area behind a rock that needs to be crushed by a Hammer. The boulder also hides two Fire Brothers which stole the last Warp Whistle. Four of the five levels need to be cleared to get to the great pyramid and the castle. Desert Land houses many desert-related creatures like Fire Snakes and the extremely rare Angry Sun.\",\r\n",
      "          \"picture\" : \"https://www.mariowiki.com/images/thumb/d/d1/World2SMB3.PNG/200px-World2SMB3.PNG\"\r\n",
      "        }\r\n",
      "      },\r\n",
      "      {\r\n",
      "        \"_index\" : \"nintendo\",\r\n",
      "        \"_type\" : \"world\",\r\n",
      "        \"_id\" : \"3\",\r\n",
      "        \"_score\" : 1.0,\r\n",
      "        \"_source\" : {\r\n",
      "          \"id\" : 3,\r\n",
      "          \"world\" : \"World 3\",\r\n",
      "          \"name\" : \"Water Land\",\r\n",
      "          \"image\" : \"Sea Side.PNG\",\r\n",
      "          \"description\" : \"Water Land is a water-themed region that was raided by Wendy O. Koopa, who turned the king into a kappa (or a Dino-Rhino from Super Mario World in the remake). While some levels take place on solid ground, most of the levels and even one of the worlds two fortresses involve water in a certain way. At the northern part of the world map, Mario will encounter drawbridges that open and close in a set pattern. The world's castle is located far to the east on a small, remote island that is only accessible through a Warp Pipe. A boat can be unlocked by using a Hammer on a rock in the south. Through it, the player can reach some bonus Spade Panels and Toad Houses. Water Land contains nine levels in total, of which one can be skipped if a certain drawbridge is closed, and houses several water creatures like Bloopers, Cheep Cheeps, and Big Berthas. The world also introduces a very rare Boo known as a Stretch.\",\r\n",
      "          \"picture\" : \"https://www.mariowiki.com/images/thumb/b/b7/Sea_Side.PNG/200px-Sea_Side.PNG\"\r\n",
      "        }\r\n",
      "      },\r\n",
      "      {\r\n",
      "        \"_index\" : \"nintendo\",\r\n",
      "        \"_type\" : \"world\",\r\n",
      "        \"_id\" : \"4\",\r\n",
      "        \"_score\" : 1.0,\r\n",
      "        \"_source\" : {\r\n",
      "          \"id\" : 4,\r\n",
      "          \"world\" : \"World 4\",\r\n",
      "          \"name\" : \"Giant Land\",\r\n",
      "          \"image\" : \"SMAS-Big Island Map.PNG\",\r\n",
      "          \"description\" : \"Giant Land is mainly composed of an island in the vague shape of a Koopa. It is a relatively green island with plants growing on it that resemble Fire Flowers. The castle at the west coast of the island was attacked by Iggy Koopa, who transformed the king into an orange dinosaur (or Donkey Kong Jr. in the remake). The world has two fortresses, one on the east side and one on a small island in a lake in the world's center. The most prominent feature of Giant Land, which gives this world its name, is the fact that many enlarged versions of regular enemies, blocks, and environmental features can be found here. The world features four Toad Houses, two Spade Panels and six levels, of which five need to be cleared to reach the king's castle.\",\r\n",
      "          \"picture\" : \"https://www.mariowiki.com/images/thumb/9/9c/SMAS-Big_Island_Map.PNG/200px-SMAS-Big_Island_Map.PNG\"\r\n",
      "        }\r\n",
      "      },\r\n",
      "      {\r\n",
      "        \"_index\" : \"nintendo\",\r\n",
      "        \"_type\" : \"world\",\r\n",
      "        \"_id\" : \"5\",\r\n",
      "        \"_score\" : 1.0,\r\n",
      "        \"_source\" : {\r\n",
      "          \"id\" : 5,\r\n",
      "          \"world\" : \"World 5\",\r\n",
      "          \"name\" : \"Sky Land\",\r\n",
      "          \"image\" : \"Sky world.PNG\",\r\n",
      "          \"description\" : \"Sky Land is the world that has been conquered by Roy Koopa, who has turned its king into a condor (Albatoss in the remake). It is divided into two parts: a ground part and a sky part. The player begins on the ground. The most notable feature of this area is the possibility to gain the Goomba's Shoe, an item that can be obtained in level 5-3. After clearing the levels on the ground, the player can reach a spiraling tower that reaches up to the sky. The main part of the level is located here, and there are also some creatures exclusively to this realm, namely the Para-Beetle. After clearing the tower that serves as a link between the two areas, the player can go back to the ground, but they will have to clear the tower again on their way up. If the Koopaling isn't defeated at the first try, his Airship will be able to move freely between sky and ground. There are nine levels in total, three Spade Panels, three Toad Houses and two fortresses. The castle is on the southwest part of the sky part.\",\r\n",
      "          \"picture\" : \"https://www.mariowiki.com/images/thumb/6/69/Sky_world.PNG/200px-Sky_world.PNG\"\r\n",
      "        }\r\n",
      "      },\r\n",
      "      {\r\n",
      "        \"_index\" : \"nintendo\",\r\n",
      "        \"_type\" : \"world\",\r\n",
      "        \"_id\" : \"6\",\r\n",
      "        \"_score\" : 1.0,\r\n",
      "        \"_source\" : {\r\n",
      "          \"id\" : 6,\r\n",
      "          \"world\" : \"World 6\",\r\n",
      "          \"name\" : \"Ice Land\",\r\n",
      "          \"image\" : \"SMB36.PNG\",\r\n",
      "          \"description\" : \"Ice Land is an area covered in snow and ice. The castle was attacked by Lemmy Koopa - who has turned its king into a fur seal (Monty Mole in the remake) and Mario has to venture there and reclaim the magic wand just like in the previous worlds. Before he can reach the castle however, the player has to navigate Mario through the levels of Ice Land. These levels feature frozen ground which makes movement more difficult, as Mario has poor footing on them and is likely to slip off into a bottomless pit. In some levels, the player can find ice blocks that contain coins or enemies. These blocks can only be melted with one of Fire Mario's fireballs. There are ten levels in total, three Spade Panels, two Toad Houses, and three fortresses. The castle is far to the east near the sea.\",\r\n",
      "          \"picture\" : \"https://www.mariowiki.com/images/thumb/4/40/SMB36.PNG/200px-SMB36.PNG\"\r\n",
      "        }\r\n",
      "      }\r\n",
      "    ]\r\n",
      "  }\r\n",
      "}\r\n"
     ]
    }
   ],
   "source": [
    "!curl -XGET 'http://localhost:9200/_search?pretty'"
   ]
  },
  {
   "cell_type": "markdown",
   "metadata": {
    "collapsed": false
   },
   "source": [
    "Search all worlds:\n",
    "``` shell\n",
    "curl -XGET 'http://localhost:9200/nintendo/world/_search?pretty'\n",
    "```\n",
    "Pagination:\n",
    "``` shell\n",
    "curl -XGET 'http://localhost:9200/nintendo/world/_search?size=2&from=2&pretty'\n",
    "```\n",
    "Specify the fields you want to be returned:\n",
    "``` shell\n",
    "curl -XGET 'http://localhost:9200/nintendo/character/_search?pretty&q=name:Luigi&fields=name,occupation'\n",
    "```\n",
    "Search for the word 'pipe':\n",
    "``` shell\n",
    "curl -XGET 'http://localhost:9200/nintendo/world/_search?pretty&q=pipe'\n",
    "```"
   ]
  }
 ],
 "metadata": {
  "kernelspec": {
   "display_name": "Python 3",
   "language": "python",
   "name": "python3"
  },
  "language_info": {
   "codemirror_mode": {
    "name": "ipython",
    "version": 3
   },
   "file_extension": ".py",
   "mimetype": "text/x-python",
   "name": "python",
   "nbconvert_exporter": "python",
   "pygments_lexer": "ipython3",
   "version": "3.6.0"
  }
 },
 "nbformat": 4,
 "nbformat_minor": 2
}
