{
 "cells": [
  {
   "cell_type": "markdown",
   "metadata": {},
   "source": [
    "# Faker"
   ]
  },
  {
   "cell_type": "markdown",
   "metadata": {},
   "source": [
    "A quick introduction to Faker.\n",
    "\n",
    "## Installation"
   ]
  },
  {
   "cell_type": "code",
   "execution_count": 1,
   "metadata": {},
   "outputs": [
    {
     "name": "stdout",
     "output_type": "stream",
     "text": [
      "Collecting Faker\n",
      "  Using cached https://files.pythonhosted.org/packages/d4/ed/2fd5337ed405c4258dde1254e60f4e8ef9f1787576c0a2cd0d750b1716a6/Faker-2.0.3-py2.py3-none-any.whl\n",
      "Requirement already satisfied: six>=1.10 in /Users/j.waterschoot/.local/share/virtualenvs/pdf-project-FE8EO07q/lib/python3.7/site-packages (from Faker) (1.12.0)\n",
      "Requirement already satisfied: python-dateutil>=2.4 in /Users/j.waterschoot/.local/share/virtualenvs/pdf-project-FE8EO07q/lib/python3.7/site-packages (from Faker) (2.8.0)\n",
      "Requirement already satisfied: text-unidecode==1.3 in /Users/j.waterschoot/.local/share/virtualenvs/pdf-project-FE8EO07q/lib/python3.7/site-packages (from Faker) (1.3)\n",
      "Installing collected packages: Faker\n",
      "Successfully installed Faker-2.0.3\n"
     ]
    }
   ],
   "source": [
    "%%sh\n",
    "pip install Faker"
   ]
  },
  {
   "cell_type": "markdown",
   "metadata": {},
   "source": [
    "## Initialization"
   ]
  },
  {
   "cell_type": "code",
   "execution_count": 2,
   "metadata": {},
   "outputs": [],
   "source": [
    "from faker import Faker\n",
    "faker = Faker()"
   ]
  },
  {
   "cell_type": "markdown",
   "metadata": {},
   "source": [
    "## Implementation\n",
    "Create a random integer:"
   ]
  },
  {
   "cell_type": "code",
   "execution_count": 3,
   "metadata": {},
   "outputs": [
    {
     "data": {
      "text/plain": [
       "2"
      ]
     },
     "execution_count": 3,
     "metadata": {},
     "output_type": "execute_result"
    }
   ],
   "source": [
    "faker.random_int(min=1, max=8, step=1)"
   ]
  },
  {
   "cell_type": "markdown",
   "metadata": {},
   "source": [
    "Run it a second time and it _might_ give another integer:"
   ]
  },
  {
   "cell_type": "code",
   "execution_count": 4,
   "metadata": {},
   "outputs": [
    {
     "data": {
      "text/plain": [
       "2"
      ]
     },
     "execution_count": 4,
     "metadata": {},
     "output_type": "execute_result"
    }
   ],
   "source": [
    "faker.random_int(min=1, max=8, step=1)"
   ]
  },
  {
   "cell_type": "markdown",
   "metadata": {},
   "source": [
    "Or we can define a list with some elements and create random element with Faker:"
   ]
  },
  {
   "cell_type": "code",
   "execution_count": 5,
   "metadata": {},
   "outputs": [
    {
     "data": {
      "text/plain": [
       "'Luigi'"
      ]
     },
     "execution_count": 5,
     "metadata": {},
     "output_type": "execute_result"
    }
   ],
   "source": [
    "characters = [\"Mario\", \"Luigi\", \"Peach\", \"Toad\"]\n",
    "faker.random_element(characters)"
   ]
  },
  {
   "cell_type": "code",
   "execution_count": 6,
   "metadata": {},
   "outputs": [
    {
     "data": {
      "text/plain": [
       "'Toad'"
      ]
     },
     "execution_count": 6,
     "metadata": {},
     "output_type": "execute_result"
    }
   ],
   "source": [
    "faker.random_element(characters)"
   ]
  },
  {
   "cell_type": "markdown",
   "metadata": {},
   "source": [
    "Additionally, we can create a date between a start and end date, i.e. the last month:"
   ]
  },
  {
   "cell_type": "code",
   "execution_count": 7,
   "metadata": {},
   "outputs": [],
   "source": [
    "import datetime\n",
    "from dateutil.relativedelta import relativedelta\n",
    "\n",
    "date_end = datetime.datetime.now()\n",
    "date_start = date_end + relativedelta(months=-1)"
   ]
  },
  {
   "cell_type": "code",
   "execution_count": 8,
   "metadata": {},
   "outputs": [
    {
     "data": {
      "text/plain": [
       "datetime.date(2019, 10, 27)"
      ]
     },
     "execution_count": 8,
     "metadata": {},
     "output_type": "execute_result"
    }
   ],
   "source": [
    "faker.date_between_dates(date_start=date_start, date_end=date_end)"
   ]
  },
  {
   "cell_type": "code",
   "execution_count": 9,
   "metadata": {},
   "outputs": [
    {
     "data": {
      "text/plain": [
       "datetime.date(2019, 10, 12)"
      ]
     },
     "execution_count": 9,
     "metadata": {},
     "output_type": "execute_result"
    }
   ],
   "source": [
    "faker.date_between_dates(date_start=date_start, date_end=date_end)"
   ]
  },
  {
   "cell_type": "markdown",
   "metadata": {},
   "source": [
    "## Event generator\n",
    "Let's put this together to make an event generator that can be used to create fake data for any other project."
   ]
  },
  {
   "cell_type": "code",
   "execution_count": 10,
   "metadata": {},
   "outputs": [
    {
     "name": "stdout",
     "output_type": "stream",
     "text": [
      "[\n",
      "  {\n",
      "    \"character\": \"Mario\",\n",
      "    \"lives\": 12,\n",
      "    \"time\": \"2019-10-01\"\n",
      "  },\n",
      "  {\n",
      "    \"character\": \"Peach\",\n",
      "    \"lives\": 78,\n",
      "    \"time\": \"2019-10-14\"\n",
      "  }\n",
      "]\n"
     ]
    }
   ],
   "source": [
    "import json\n",
    "\n",
    "CHARACTERS = [\"Mario\", \"Luigi\", \"Peach\", \"Toad\"]\n",
    "DATE_END = datetime.datetime.now()\n",
    "DATE_START = DATE_END + relativedelta(months=-1)\n",
    "MAX_LIVES = 100\n",
    "MIN_LIVES = 1\n",
    "NUM_EVENTS = 2\n",
    "\n",
    "def _generate_events():\n",
    "    \"\"\" Generate the metric data \"\"\"\n",
    "    for _ in range(NUM_EVENTS):\n",
    "        yield {\n",
    "            \"character\": faker.random_element(CHARACTERS),\n",
    "            \"lives\": faker.random_int(min=MIN_LIVES, max=MAX_LIVES, step=1),\n",
    "            \"time\": str(faker.date_between_dates(DATE_START, DATE_END)),\n",
    "        }\n",
    "\n",
    "print(json.dumps(list(_generate_events()), indent=2))"
   ]
  },
  {
   "cell_type": "markdown",
   "metadata": {},
   "source": [
    "C'est tout! Please use this wiseley."
   ]
  }
 ],
 "metadata": {
  "kernelspec": {
   "display_name": "Python 3",
   "language": "python",
   "name": "python3"
  },
  "language_info": {
   "codemirror_mode": {
    "name": "ipython",
    "version": 3
   },
   "file_extension": ".py",
   "mimetype": "text/x-python",
   "name": "python",
   "nbconvert_exporter": "python",
   "pygments_lexer": "ipython3",
   "version": "3.7.3"
  }
 },
 "nbformat": 4,
 "nbformat_minor": 2
}
