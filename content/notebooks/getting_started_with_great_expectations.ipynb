{
 "cells": [
  {
   "cell_type": "markdown",
   "id": "9e36f344",
   "metadata": {},
   "source": [
    "# Great Expectations\n",
    "This notebook describes an experiment to get to know Great Expectations better. In the approach below we will use the core API rather than the configuration option for the expectations.\n",
    "\n",
    "## Create events with the data generator\n",
    "I will reuse some code I have written before to generate events."
   ]
  },
  {
   "cell_type": "markdown",
   "id": "4ee2c866",
   "metadata": {},
   "source": [
    "```\n",
    "!pip install mimesis\n",
    "```"
   ]
  },
  {
   "cell_type": "markdown",
   "id": "13c4a2e1",
   "metadata": {},
   "source": [
    "The next bit defines the `EventGenerator` and shows five different keys will be created per event."
   ]
  },
  {
   "cell_type": "code",
   "execution_count": 1,
   "id": "23dff6eb",
   "metadata": {},
   "outputs": [],
   "source": [
    "from mimesis.random import Random\n",
    "from mimesis import Datetime\n",
    "import json\n",
    "\n",
    "\n",
    "class EventGenerator:\n",
    "    \"\"\" Defines the EventGenerator \"\"\"\n",
    "\n",
    "    MIN_LIVES = 1\n",
    "    MAX_LIVES = 99\n",
    "    CHARACTERS = [\"Mario\", \"Luigi\", \"Peach\", \"Toad\"]\n",
    "\n",
    "    def __init__(self, start_date, end_date, num_events=10, output_type=None, output_file=None):\n",
    "        \"\"\" Initialize the EventGenerator \"\"\"\n",
    "        self.datetime = Datetime()\n",
    "        self.random = Random()\n",
    "        self.num_events = num_events\n",
    "        self.output_type = output_type\n",
    "        self.output_file = output_file\n",
    "        self.start_date = start_date\n",
    "        self.end_date = end_date\n",
    "\n",
    "    def _get_date_between(self, date_start, date_end):\n",
    "        \"\"\" Get a date between start and end date \"\"\"\n",
    "        return self.random.choice(self.datetime.bulk_create_datetimes(self.start_date, self.end_date, days=1))\n",
    "\n",
    "    def _generate_events(self):\n",
    "        \"\"\" Generate the metric data \"\"\"\n",
    "        for _ in range(self.num_events):\n",
    "            yield {\n",
    "                \"character\": self.random.choice(self.CHARACTERS),\n",
    "                \"world\": self.random.randint(1, 8),\n",
    "                \"level\": self.random.randint(1, 4),\n",
    "                \"lives\": self.random.randint(self.MIN_LIVES, self.MAX_LIVES),\n",
    "                \"time\": str(self._get_date_between(self.start_date, self.end_date)),\n",
    "            }\n",
    "\n",
    "    def store_events(self):\n",
    "        if self.output_type == \"jl\":\n",
    "            with open(self.output_file, \"w\") as outputfile:\n",
    "                for event in self._generate_events():\n",
    "                    outputfile.write(f\"{json.dumps(event)}\\n\")\n",
    "        elif self.output_type == \"list\":\n",
    "            return list(self._generate_events())\n",
    "        else:\n",
    "            return self._generate_events()"
   ]
  },
  {
   "cell_type": "markdown",
   "id": "2d240bd5",
   "metadata": {},
   "source": [
    "The next step is to create the generator before calling the event generators main function."
   ]
  },
  {
   "cell_type": "code",
   "execution_count": 2,
   "id": "1a67935e",
   "metadata": {},
   "outputs": [],
   "source": [
    "import datetime\n",
    "from dateutil.relativedelta import relativedelta\n",
    "\n",
    "\n",
    "DATE_END = datetime.datetime.now()\n",
    "DATE_START = DATE_END + relativedelta(months=-1)\n",
    "\n",
    "params = {\n",
    "    \"num_events\": 10,\n",
    "    \"start_date\": DATE_START,\n",
    "    \"end_date\": DATE_END,\n",
    "}\n",
    "# Create the event generator\n",
    "generator = EventGenerator(**params)"
   ]
  },
  {
   "cell_type": "markdown",
   "id": "c0641b10",
   "metadata": {},
   "source": [
    "Create the dataframe with Pandas."
   ]
  },
  {
   "cell_type": "code",
   "execution_count": 3,
   "id": "1efcce66",
   "metadata": {},
   "outputs": [],
   "source": [
    "import pandas as pd\n",
    "\n",
    "df = pd.DataFrame(generator._generate_events())"
   ]
  },
  {
   "cell_type": "code",
   "execution_count": null,
   "id": "b0ad70d4",
   "metadata": {},
   "outputs": [],
   "source": [
    "df.head(10)"
   ]
  },
  {
   "cell_type": "markdown",
   "id": "96e1913d",
   "metadata": {},
   "source": [
    "## Data validation\n",
    "To check the static data I will use [Great Expectations](http://greatexpectations.io) with a minimal set of tests."
   ]
  },
  {
   "cell_type": "markdown",
   "id": "ed179f1c",
   "metadata": {},
   "source": [
    "```shell\n",
    "!pip install great_expectations\n",
    "```"
   ]
  },
  {
   "cell_type": "code",
   "execution_count": 5,
   "id": "5c550be9",
   "metadata": {},
   "outputs": [],
   "source": [
    "import great_expectations as ge"
   ]
  },
  {
   "cell_type": "markdown",
   "id": "2606839b",
   "metadata": {},
   "source": [
    "To actually use Great Expectations against your data you need to import the data through a GE dataframe which is simply a wrapped Pandas dataframe with GE functionality."
   ]
  },
  {
   "cell_type": "code",
   "execution_count": 6,
   "id": "e6febf78",
   "metadata": {},
   "outputs": [],
   "source": [
    "gedf = ge.from_pandas(df)"
   ]
  },
  {
   "cell_type": "code",
   "execution_count": 7,
   "id": "080b02d0",
   "metadata": {},
   "outputs": [
    {
     "data": {
      "text/html": [
       "<div>\n",
       "<style scoped>\n",
       "    .dataframe tbody tr th:only-of-type {\n",
       "        vertical-align: middle;\n",
       "    }\n",
       "\n",
       "    .dataframe tbody tr th {\n",
       "        vertical-align: top;\n",
       "    }\n",
       "\n",
       "    .dataframe thead th {\n",
       "        text-align: right;\n",
       "    }\n",
       "</style>\n",
       "<table border=\"1\" class=\"dataframe\">\n",
       "  <thead>\n",
       "    <tr style=\"text-align: right;\">\n",
       "      <th></th>\n",
       "      <th>character</th>\n",
       "      <th>world</th>\n",
       "      <th>level</th>\n",
       "      <th>lives</th>\n",
       "      <th>time</th>\n",
       "    </tr>\n",
       "  </thead>\n",
       "  <tbody>\n",
       "    <tr>\n",
       "      <th>0</th>\n",
       "      <td>Mario</td>\n",
       "      <td>2</td>\n",
       "      <td>3</td>\n",
       "      <td>39</td>\n",
       "      <td>2022-01-23 02:21:12.724933</td>\n",
       "    </tr>\n",
       "    <tr>\n",
       "      <th>1</th>\n",
       "      <td>Peach</td>\n",
       "      <td>8</td>\n",
       "      <td>2</td>\n",
       "      <td>7</td>\n",
       "      <td>2022-02-02 02:21:12.724933</td>\n",
       "    </tr>\n",
       "    <tr>\n",
       "      <th>2</th>\n",
       "      <td>Mario</td>\n",
       "      <td>5</td>\n",
       "      <td>2</td>\n",
       "      <td>69</td>\n",
       "      <td>2022-01-31 02:21:12.724933</td>\n",
       "    </tr>\n",
       "    <tr>\n",
       "      <th>3</th>\n",
       "      <td>Toad</td>\n",
       "      <td>6</td>\n",
       "      <td>4</td>\n",
       "      <td>9</td>\n",
       "      <td>2022-02-10 02:21:12.724933</td>\n",
       "    </tr>\n",
       "    <tr>\n",
       "      <th>4</th>\n",
       "      <td>Peach</td>\n",
       "      <td>2</td>\n",
       "      <td>4</td>\n",
       "      <td>94</td>\n",
       "      <td>2022-02-15 02:21:12.724933</td>\n",
       "    </tr>\n",
       "    <tr>\n",
       "      <th>5</th>\n",
       "      <td>Toad</td>\n",
       "      <td>6</td>\n",
       "      <td>3</td>\n",
       "      <td>11</td>\n",
       "      <td>2022-02-09 02:21:12.724933</td>\n",
       "    </tr>\n",
       "    <tr>\n",
       "      <th>6</th>\n",
       "      <td>Toad</td>\n",
       "      <td>4</td>\n",
       "      <td>3</td>\n",
       "      <td>28</td>\n",
       "      <td>2022-01-29 02:21:12.724933</td>\n",
       "    </tr>\n",
       "    <tr>\n",
       "      <th>7</th>\n",
       "      <td>Luigi</td>\n",
       "      <td>7</td>\n",
       "      <td>1</td>\n",
       "      <td>96</td>\n",
       "      <td>2022-02-16 02:21:12.724933</td>\n",
       "    </tr>\n",
       "    <tr>\n",
       "      <th>8</th>\n",
       "      <td>Peach</td>\n",
       "      <td>2</td>\n",
       "      <td>3</td>\n",
       "      <td>72</td>\n",
       "      <td>2022-02-02 02:21:12.724933</td>\n",
       "    </tr>\n",
       "    <tr>\n",
       "      <th>9</th>\n",
       "      <td>Luigi</td>\n",
       "      <td>3</td>\n",
       "      <td>1</td>\n",
       "      <td>46</td>\n",
       "      <td>2022-02-14 02:21:12.724933</td>\n",
       "    </tr>\n",
       "  </tbody>\n",
       "</table>\n",
       "</div>"
      ],
      "text/plain": [
       "  character  world  level  lives                        time\n",
       "0     Mario      2      3     39  2022-01-23 02:21:12.724933\n",
       "1     Peach      8      2      7  2022-02-02 02:21:12.724933\n",
       "2     Mario      5      2     69  2022-01-31 02:21:12.724933\n",
       "3      Toad      6      4      9  2022-02-10 02:21:12.724933\n",
       "4     Peach      2      4     94  2022-02-15 02:21:12.724933\n",
       "5      Toad      6      3     11  2022-02-09 02:21:12.724933\n",
       "6      Toad      4      3     28  2022-01-29 02:21:12.724933\n",
       "7     Luigi      7      1     96  2022-02-16 02:21:12.724933\n",
       "8     Peach      2      3     72  2022-02-02 02:21:12.724933\n",
       "9     Luigi      3      1     46  2022-02-14 02:21:12.724933"
      ]
     },
     "execution_count": 7,
     "metadata": {},
     "output_type": "execute_result"
    }
   ],
   "source": [
    "gedf"
   ]
  },
  {
   "cell_type": "markdown",
   "id": "eb5967dd",
   "metadata": {},
   "source": [
    "The world column should have values from 1 to 8. "
   ]
  },
  {
   "cell_type": "code",
   "execution_count": 8,
   "id": "a84ee7c8",
   "metadata": {},
   "outputs": [],
   "source": [
    "gedf.expect_column_values_to_be_between(column=\"world\", min_value=1, max_value=8)"
   ]
  },
  {
   "cell_type": "code",
   "execution_count": 9,
   "id": "c0aa2064",
   "metadata": {},
   "outputs": [
    {
     "data": {
      "text/plain": [
       "{\n",
       "  \"exception_info\": {\n",
       "    \"raised_exception\": false,\n",
       "    \"exception_traceback\": null,\n",
       "    \"exception_message\": null\n",
       "  },\n",
       "  \"meta\": {},\n",
       "  \"result\": {\n",
       "    \"element_count\": 10,\n",
       "    \"missing_count\": 0,\n",
       "    \"missing_percent\": 0.0,\n",
       "    \"unexpected_count\": 0,\n",
       "    \"unexpected_percent\": 0.0,\n",
       "    \"unexpected_percent_total\": 0.0,\n",
       "    \"unexpected_percent_nonmissing\": 0.0,\n",
       "    \"partial_unexpected_list\": []\n",
       "  },\n",
       "  \"success\": true\n",
       "}"
      ]
     },
     "execution_count": 9,
     "metadata": {},
     "output_type": "execute_result"
    }
   ],
   "source": [
    "gedf.expect_column_values_to_be_in_set(column=\"character\", value_set=[\"Mario\", \"Luigi\", \"Peach\", \"Toad\"])"
   ]
  },
  {
   "cell_type": "code",
   "execution_count": 10,
   "id": "0b5a89e6",
   "metadata": {},
   "outputs": [
    {
     "data": {
      "text/plain": [
       "{\n",
       "  \"expectation_suite_name\": \"default\",\n",
       "  \"meta\": {\n",
       "    \"great_expectations_version\": \"0.14.7\"\n",
       "  },\n",
       "  \"ge_cloud_id\": null,\n",
       "  \"expectations\": [\n",
       "    {\n",
       "      \"kwargs\": {\n",
       "        \"column\": \"world\",\n",
       "        \"min_value\": 1,\n",
       "        \"max_value\": 8\n",
       "      },\n",
       "      \"meta\": {},\n",
       "      \"expectation_type\": \"expect_column_values_to_be_between\"\n",
       "    },\n",
       "    {\n",
       "      \"kwargs\": {\n",
       "        \"column\": \"character\",\n",
       "        \"value_set\": [\n",
       "          \"Mario\",\n",
       "          \"Luigi\",\n",
       "          \"Peach\",\n",
       "          \"Toad\"\n",
       "        ]\n",
       "      },\n",
       "      \"meta\": {},\n",
       "      \"expectation_type\": \"expect_column_values_to_be_in_set\"\n",
       "    }\n",
       "  ],\n",
       "  \"data_asset_type\": \"Dataset\"\n",
       "}"
      ]
     },
     "execution_count": 10,
     "metadata": {},
     "output_type": "execute_result"
    }
   ],
   "source": [
    "gedf.get_expectation_suite()"
   ]
  },
  {
   "cell_type": "markdown",
   "id": "6a6468b2",
   "metadata": {},
   "source": [
    "Write the final expectations to file to be used later in the pipeline."
   ]
  },
  {
   "cell_type": "code",
   "execution_count": 11,
   "id": "947d3d8a",
   "metadata": {},
   "outputs": [],
   "source": [
    "import json\n",
    "\n",
    "with open( \"ge_expectation_file.json\", \"w\") as fh:\n",
    "    fh.write(\n",
    "        json.dumps(gedf.get_expectation_suite().to_json_dict())\n",
    "    )"
   ]
  },
  {
   "cell_type": "markdown",
   "id": "5ddd2b53",
   "metadata": {},
   "source": [
    "We can quickly check the content of the configuration file that has been created. This file can now be used when calling Great Expectations from the command line."
   ]
  },
  {
   "cell_type": "code",
   "execution_count": 17,
   "id": "8f1942ba",
   "metadata": {},
   "outputs": [
    {
     "name": "stdout",
     "output_type": "stream",
     "text": [
      "{\r\n",
      "    \"expectation_suite_name\": \"default\",\r\n",
      "    \"meta\": {\r\n",
      "        \"great_expectations_version\": \"0.14.7\"\r\n",
      "    },\r\n",
      "    \"ge_cloud_id\": null,\r\n",
      "    \"expectations\": [\r\n",
      "        {\r\n",
      "            \"kwargs\": {\r\n",
      "                \"column\": \"world\",\r\n",
      "                \"min_value\": 1,\r\n",
      "                \"max_value\": 8\r\n",
      "            },\r\n",
      "            \"meta\": {},\r\n",
      "            \"expectation_type\": \"expect_column_values_to_be_between\"\r\n",
      "        },\r\n",
      "        {\r\n",
      "            \"kwargs\": {\r\n",
      "                \"column\": \"character\",\r\n",
      "                \"value_set\": [\r\n",
      "                    \"Mario\",\r\n",
      "                    \"Luigi\",\r\n",
      "                    \"Peach\",\r\n",
      "                    \"Toad\"\r\n",
      "                ]\r\n",
      "            },\r\n",
      "            \"meta\": {},\r\n",
      "            \"expectation_type\": \"expect_column_values_to_be_in_set\"\r\n",
      "        }\r\n",
      "    ],\r\n",
      "    \"data_asset_type\": \"Dataset\"\r\n",
      "}\r\n"
     ]
    }
   ],
   "source": [
    "!cat ge_expectation_file.json | python -m json.tool"
   ]
  }
 ],
 "metadata": {
  "kernelspec": {
   "display_name": "Python 3 (ipykernel)",
   "language": "python",
   "name": "python3"
  },
  "language_info": {
   "codemirror_mode": {
    "name": "ipython",
    "version": 3
   },
   "file_extension": ".py",
   "mimetype": "text/x-python",
   "name": "python",
   "nbconvert_exporter": "python",
   "pygments_lexer": "ipython3",
   "version": "3.9.5"
  }
 },
 "nbformat": 4,
 "nbformat_minor": 5
}
