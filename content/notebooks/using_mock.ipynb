{
 "cells": [
  {
   "cell_type": "markdown",
   "metadata": {},
   "source": [
    "# Example - Using mock"
   ]
  },
  {
   "cell_type": "markdown",
   "metadata": {},
   "source": [
    "## Imports"
   ]
  },
  {
   "cell_type": "code",
   "execution_count": 35,
   "metadata": {
    "collapsed": false
   },
   "outputs": [],
   "source": [
    "import sys\n",
    "import unittest\n",
    "# Python compatibility\n",
    "if sys.version_info < (3,3):\n",
    "    import mock\n",
    "else:\n",
    "    import unittest.mock as mock"
   ]
  },
  {
   "cell_type": "markdown",
   "metadata": {},
   "source": [
    "## The mock object"
   ]
  },
  {
   "cell_type": "markdown",
   "metadata": {},
   "source": [
    "Create a mock object:"
   ]
  },
  {
   "cell_type": "code",
   "execution_count": 8,
   "metadata": {
    "collapsed": false
   },
   "outputs": [],
   "source": [
    "m = mock.Mock()"
   ]
  },
  {
   "cell_type": "markdown",
   "metadata": {},
   "source": [
    "Show the attributes of the object: "
   ]
  },
  {
   "cell_type": "code",
   "execution_count": 9,
   "metadata": {
    "collapsed": false
   },
   "outputs": [
    {
     "data": {
      "text/plain": [
       "['assert_any_call',\n",
       " 'assert_called_once_with',\n",
       " 'assert_called_with',\n",
       " 'assert_has_calls',\n",
       " 'assert_not_called',\n",
       " 'attach_mock',\n",
       " 'call_args',\n",
       " 'call_args_list',\n",
       " 'call_count',\n",
       " 'called',\n",
       " 'configure_mock',\n",
       " 'method_calls',\n",
       " 'mock_add_spec',\n",
       " 'mock_calls',\n",
       " 'reset_mock',\n",
       " 'return_value',\n",
       " 'side_effect']"
      ]
     },
     "execution_count": 9,
     "metadata": {},
     "output_type": "execute_result"
    }
   ],
   "source": [
    "dir(m)"
   ]
  },
  {
   "cell_type": "markdown",
   "metadata": {},
   "source": [
    "Print a fake attribute. It doesn't exist, but will be shown."
   ]
  },
  {
   "cell_type": "code",
   "execution_count": 12,
   "metadata": {
    "collapsed": false
   },
   "outputs": [
    {
     "data": {
      "text/plain": [
       "<Mock name='mock.fake_attribute' id='2582717621248'>"
      ]
     },
     "execution_count": 12,
     "metadata": {},
     "output_type": "execute_result"
    }
   ],
   "source": [
    "m.fake_attribute"
   ]
  },
  {
   "cell_type": "markdown",
   "metadata": {},
   "source": [
    "Again show the object. This time the `fake_attribute` will be shown too."
   ]
  },
  {
   "cell_type": "code",
   "execution_count": 13,
   "metadata": {
    "collapsed": false
   },
   "outputs": [
    {
     "data": {
      "text/plain": [
       "['assert_any_call',\n",
       " 'assert_called_once_with',\n",
       " 'assert_called_with',\n",
       " 'assert_has_calls',\n",
       " 'assert_not_called',\n",
       " 'attach_mock',\n",
       " 'call_args',\n",
       " 'call_args_list',\n",
       " 'call_count',\n",
       " 'called',\n",
       " 'configure_mock',\n",
       " 'fake_attribute',\n",
       " 'method_calls',\n",
       " 'mock_add_spec',\n",
       " 'mock_calls',\n",
       " 'reset_mock',\n",
       " 'return_value',\n",
       " 'side_effect']"
      ]
     },
     "execution_count": 13,
     "metadata": {},
     "output_type": "execute_result"
    }
   ],
   "source": [
    "dir(m)"
   ]
  },
  {
   "cell_type": "markdown",
   "metadata": {},
   "source": [
    "Set a return value for the newly introduced attribute and retrieve it."
   ]
  },
  {
   "cell_type": "code",
   "execution_count": 14,
   "metadata": {
    "collapsed": false
   },
   "outputs": [
    {
     "data": {
      "text/plain": [
       "'Fake return value'"
      ]
     },
     "execution_count": 14,
     "metadata": {},
     "output_type": "execute_result"
    }
   ],
   "source": [
    "m.fake_attribute.return_value = \"Fake return value\"\n",
    "m.fake_attribute()"
   ]
  },
  {
   "cell_type": "markdown",
   "metadata": {},
   "source": [
    "Create another attribute, but this time assign a (fake) function to its `return_value`."
   ]
  },
  {
   "cell_type": "code",
   "execution_count": 108,
   "metadata": {
    "collapsed": false
   },
   "outputs": [
    {
     "data": {
      "text/plain": [
       "<Mock name='mock.another_attribute.print_fake_value()' id='2582735302608'>"
      ]
     },
     "execution_count": 108,
     "metadata": {},
     "output_type": "execute_result"
    }
   ],
   "source": [
    "def print_fake_value():\n",
    "    print(\"Fake function is called!\")\n",
    "\n",
    "m.another_attribute.return_value = print_fake_value\n",
    "m.another_attribute()"
   ]
  },
  {
   "cell_type": "markdown",
   "metadata": {},
   "source": [
    "Same exercise with a function with an argument:"
   ]
  },
  {
   "cell_type": "code",
   "execution_count": 21,
   "metadata": {
    "collapsed": false
   },
   "outputs": [
    {
     "data": {
      "text/plain": [
       "<function __main__.print_fake_value_with_arg>"
      ]
     },
     "execution_count": 21,
     "metadata": {},
     "output_type": "execute_result"
    }
   ],
   "source": [
    "def print_fake_value_with_arg(argument):\n",
    "    print(\"Fake argument %s\" % argument)\n",
    "\n",
    "m.the_third_attribute.return_value = print_fake_value_with_arg\n",
    "m.the_third_attribute('Print me')"
   ]
  },
  {
   "cell_type": "markdown",
   "metadata": {},
   "source": [
    "You can also create a custom exception by using the `side_effect`. It can be an exception, callable or an iterable."
   ]
  },
  {
   "cell_type": "code",
   "execution_count": 22,
   "metadata": {
    "collapsed": false
   },
   "outputs": [
    {
     "ename": "ValueError",
     "evalue": "Super error",
     "output_type": "error",
     "traceback": [
      "\u001b[0;31m---------------------------------------------------------------------------\u001b[0m",
      "\u001b[0;31mValueError\u001b[0m                                Traceback (most recent call last)",
      "\u001b[0;32m<ipython-input-22-197c49fcbb5e>\u001b[0m in \u001b[0;36m<module>\u001b[0;34m()\u001b[0m\n\u001b[1;32m      1\u001b[0m \u001b[0mm\u001b[0m\u001b[1;33m.\u001b[0m\u001b[0msome_function\u001b[0m\u001b[1;33m.\u001b[0m\u001b[0mside_effect\u001b[0m \u001b[1;33m=\u001b[0m \u001b[0mValueError\u001b[0m\u001b[1;33m(\u001b[0m\u001b[1;34m\"Super error\"\u001b[0m\u001b[1;33m)\u001b[0m\u001b[1;33m\u001b[0m\u001b[0m\n\u001b[0;32m----> 2\u001b[0;31m \u001b[0mm\u001b[0m\u001b[1;33m.\u001b[0m\u001b[0msome_function\u001b[0m\u001b[1;33m(\u001b[0m\u001b[1;33m)\u001b[0m\u001b[1;33m\u001b[0m\u001b[0m\n\u001b[0m",
      "\u001b[0;32mC:\\Users\\J-J van Waterschoot\\Anaconda3\\lib\\unittest\\mock.py\u001b[0m in \u001b[0;36m__call__\u001b[0;34m(_mock_self, *args, **kwargs)\u001b[0m\n\u001b[1;32m    915\u001b[0m         \u001b[1;31m# in the signature\u001b[0m\u001b[1;33m\u001b[0m\u001b[1;33m\u001b[0m\u001b[0m\n\u001b[1;32m    916\u001b[0m         \u001b[0m_mock_self\u001b[0m\u001b[1;33m.\u001b[0m\u001b[0m_mock_check_sig\u001b[0m\u001b[1;33m(\u001b[0m\u001b[1;33m*\u001b[0m\u001b[0margs\u001b[0m\u001b[1;33m,\u001b[0m \u001b[1;33m**\u001b[0m\u001b[0mkwargs\u001b[0m\u001b[1;33m)\u001b[0m\u001b[1;33m\u001b[0m\u001b[0m\n\u001b[0;32m--> 917\u001b[0;31m         \u001b[1;32mreturn\u001b[0m \u001b[0m_mock_self\u001b[0m\u001b[1;33m.\u001b[0m\u001b[0m_mock_call\u001b[0m\u001b[1;33m(\u001b[0m\u001b[1;33m*\u001b[0m\u001b[0margs\u001b[0m\u001b[1;33m,\u001b[0m \u001b[1;33m**\u001b[0m\u001b[0mkwargs\u001b[0m\u001b[1;33m)\u001b[0m\u001b[1;33m\u001b[0m\u001b[0m\n\u001b[0m\u001b[1;32m    918\u001b[0m \u001b[1;33m\u001b[0m\u001b[0m\n\u001b[1;32m    919\u001b[0m \u001b[1;33m\u001b[0m\u001b[0m\n",
      "\u001b[0;32mC:\\Users\\J-J van Waterschoot\\Anaconda3\\lib\\unittest\\mock.py\u001b[0m in \u001b[0;36m_mock_call\u001b[0;34m(_mock_self, *args, **kwargs)\u001b[0m\n\u001b[1;32m    971\u001b[0m         \u001b[1;32mif\u001b[0m \u001b[0meffect\u001b[0m \u001b[1;32mis\u001b[0m \u001b[1;32mnot\u001b[0m \u001b[1;32mNone\u001b[0m\u001b[1;33m:\u001b[0m\u001b[1;33m\u001b[0m\u001b[0m\n\u001b[1;32m    972\u001b[0m             \u001b[1;32mif\u001b[0m \u001b[0m_is_exception\u001b[0m\u001b[1;33m(\u001b[0m\u001b[0meffect\u001b[0m\u001b[1;33m)\u001b[0m\u001b[1;33m:\u001b[0m\u001b[1;33m\u001b[0m\u001b[0m\n\u001b[0;32m--> 973\u001b[0;31m                 \u001b[1;32mraise\u001b[0m \u001b[0meffect\u001b[0m\u001b[1;33m\u001b[0m\u001b[0m\n\u001b[0m\u001b[1;32m    974\u001b[0m \u001b[1;33m\u001b[0m\u001b[0m\n\u001b[1;32m    975\u001b[0m             \u001b[1;32mif\u001b[0m \u001b[1;32mnot\u001b[0m \u001b[0m_callable\u001b[0m\u001b[1;33m(\u001b[0m\u001b[0meffect\u001b[0m\u001b[1;33m)\u001b[0m\u001b[1;33m:\u001b[0m\u001b[1;33m\u001b[0m\u001b[0m\n",
      "\u001b[0;31mValueError\u001b[0m: Super error"
     ]
    }
   ],
   "source": [
    "m.some_function.side_effect = ValueError(\"Super error\")\n",
    "m.some_function()"
   ]
  },
  {
   "cell_type": "markdown",
   "metadata": {},
   "source": [
    "To make it an iterable, the following can be used. By calling the mock several times, it will return the values until the limit of the range is reached."
   ]
  },
  {
   "cell_type": "code",
   "execution_count": 23,
   "metadata": {
    "collapsed": false
   },
   "outputs": [
    {
     "data": {
      "text/plain": [
       "0"
      ]
     },
     "execution_count": 23,
     "metadata": {},
     "output_type": "execute_result"
    }
   ],
   "source": [
    "m.some_iteration_thing.side_effect = range(2)\n",
    "m.some_iteration_thing()"
   ]
  },
  {
   "cell_type": "code",
   "execution_count": 24,
   "metadata": {
    "collapsed": false
   },
   "outputs": [
    {
     "data": {
      "text/plain": [
       "1"
      ]
     },
     "execution_count": 24,
     "metadata": {},
     "output_type": "execute_result"
    }
   ],
   "source": [
    "m.some_iteration_thing()"
   ]
  },
  {
   "cell_type": "code",
   "execution_count": 25,
   "metadata": {
    "collapsed": false
   },
   "outputs": [
    {
     "ename": "StopIteration",
     "evalue": "",
     "output_type": "error",
     "traceback": [
      "\u001b[0;31m---------------------------------------------------------------------------\u001b[0m",
      "\u001b[0;31mStopIteration\u001b[0m                             Traceback (most recent call last)",
      "\u001b[0;32m<ipython-input-25-218e10d9f5de>\u001b[0m in \u001b[0;36m<module>\u001b[0;34m()\u001b[0m\n\u001b[0;32m----> 1\u001b[0;31m \u001b[0mm\u001b[0m\u001b[1;33m.\u001b[0m\u001b[0msome_iteration_thing\u001b[0m\u001b[1;33m(\u001b[0m\u001b[1;33m)\u001b[0m\u001b[1;33m\u001b[0m\u001b[0m\n\u001b[0m",
      "\u001b[0;32mC:\\Users\\J-J van Waterschoot\\Anaconda3\\lib\\unittest\\mock.py\u001b[0m in \u001b[0;36m__call__\u001b[0;34m(_mock_self, *args, **kwargs)\u001b[0m\n\u001b[1;32m    915\u001b[0m         \u001b[1;31m# in the signature\u001b[0m\u001b[1;33m\u001b[0m\u001b[1;33m\u001b[0m\u001b[0m\n\u001b[1;32m    916\u001b[0m         \u001b[0m_mock_self\u001b[0m\u001b[1;33m.\u001b[0m\u001b[0m_mock_check_sig\u001b[0m\u001b[1;33m(\u001b[0m\u001b[1;33m*\u001b[0m\u001b[0margs\u001b[0m\u001b[1;33m,\u001b[0m \u001b[1;33m**\u001b[0m\u001b[0mkwargs\u001b[0m\u001b[1;33m)\u001b[0m\u001b[1;33m\u001b[0m\u001b[0m\n\u001b[0;32m--> 917\u001b[0;31m         \u001b[1;32mreturn\u001b[0m \u001b[0m_mock_self\u001b[0m\u001b[1;33m.\u001b[0m\u001b[0m_mock_call\u001b[0m\u001b[1;33m(\u001b[0m\u001b[1;33m*\u001b[0m\u001b[0margs\u001b[0m\u001b[1;33m,\u001b[0m \u001b[1;33m**\u001b[0m\u001b[0mkwargs\u001b[0m\u001b[1;33m)\u001b[0m\u001b[1;33m\u001b[0m\u001b[0m\n\u001b[0m\u001b[1;32m    918\u001b[0m \u001b[1;33m\u001b[0m\u001b[0m\n\u001b[1;32m    919\u001b[0m \u001b[1;33m\u001b[0m\u001b[0m\n",
      "\u001b[0;32mC:\\Users\\J-J van Waterschoot\\Anaconda3\\lib\\unittest\\mock.py\u001b[0m in \u001b[0;36m_mock_call\u001b[0;34m(_mock_self, *args, **kwargs)\u001b[0m\n\u001b[1;32m    974\u001b[0m \u001b[1;33m\u001b[0m\u001b[0m\n\u001b[1;32m    975\u001b[0m             \u001b[1;32mif\u001b[0m \u001b[1;32mnot\u001b[0m \u001b[0m_callable\u001b[0m\u001b[1;33m(\u001b[0m\u001b[0meffect\u001b[0m\u001b[1;33m)\u001b[0m\u001b[1;33m:\u001b[0m\u001b[1;33m\u001b[0m\u001b[0m\n\u001b[0;32m--> 976\u001b[0;31m                 \u001b[0mresult\u001b[0m \u001b[1;33m=\u001b[0m \u001b[0mnext\u001b[0m\u001b[1;33m(\u001b[0m\u001b[0meffect\u001b[0m\u001b[1;33m)\u001b[0m\u001b[1;33m\u001b[0m\u001b[0m\n\u001b[0m\u001b[1;32m    977\u001b[0m                 \u001b[1;32mif\u001b[0m \u001b[0m_is_exception\u001b[0m\u001b[1;33m(\u001b[0m\u001b[0mresult\u001b[0m\u001b[1;33m)\u001b[0m\u001b[1;33m:\u001b[0m\u001b[1;33m\u001b[0m\u001b[0m\n\u001b[1;32m    978\u001b[0m                     \u001b[1;32mraise\u001b[0m \u001b[0mresult\u001b[0m\u001b[1;33m\u001b[0m\u001b[0m\n",
      "\u001b[0;31mStopIteration\u001b[0m: "
     ]
    }
   ],
   "source": [
    "m.some_iteration_thing()"
   ]
  },
  {
   "cell_type": "markdown",
   "metadata": {},
   "source": [
    "Finally you can also pass a callable to the `side_effect`, by doing the following:"
   ]
  },
  {
   "cell_type": "code",
   "execution_count": 27,
   "metadata": {
    "collapsed": false
   },
   "outputs": [
    {
     "name": "stdout",
     "output_type": "stream",
     "text": [
      "This is a side function!\n"
     ]
    },
    {
     "data": {
      "text/plain": [
       "<Mock name='mock.some_simple_function()' id='2582717767408'>"
      ]
     },
     "execution_count": 27,
     "metadata": {},
     "output_type": "execute_result"
    }
   ],
   "source": [
    "def side_function():\n",
    "    print('This is a side function!')\n",
    "    \n",
    "m.some_simple_function.side_effect = side_function()\n",
    "m.some_simple_function()"
   ]
  },
  {
   "cell_type": "code",
   "execution_count": 28,
   "metadata": {
    "collapsed": false
   },
   "outputs": [
    {
     "name": "stdout",
     "output_type": "stream",
     "text": [
      "This is a side function with argument: No argument!\n"
     ]
    }
   ],
   "source": [
    "def side_function_with_arg(argument):\n",
    "    print('This is a side function with argument: %s' % argument)\n",
    "    \n",
    "m.some_simple_function_with_arg.side_effect = side_function_with_arg\n",
    "m.some_simple_function_with_arg('No argument!')"
   ]
  },
  {
   "cell_type": "markdown",
   "metadata": {},
   "source": [
    "An important function of the `side_effect` is that you can pass it a class, which can be helpful if you are testing code and verify the behaviour of the class"
   ]
  },
  {
   "cell_type": "code",
   "execution_count": 29,
   "metadata": {
    "collapsed": false
   },
   "outputs": [
    {
     "data": {
      "text/plain": [
       "<__main__.Car at 0x25955fdd6a0>"
      ]
     },
     "execution_count": 29,
     "metadata": {},
     "output_type": "execute_result"
    }
   ],
   "source": [
    "class Car(object):\n",
    "    def __init__(self, name):\n",
    "        self._name = name\n",
    "    def print_name(self):\n",
    "        print(\"Name: %s\" % self._name)\n",
    "        \n",
    "m.a_car_attribute.side_effect = Car\n",
    "car = m.a_car_attribute.side_effect('My red car')\n",
    "car"
   ]
  },
  {
   "cell_type": "code",
   "execution_count": 30,
   "metadata": {
    "collapsed": false
   },
   "outputs": [
    {
     "name": "stdout",
     "output_type": "stream",
     "text": [
      "Name: My red car\n"
     ]
    }
   ],
   "source": [
    "car.print_name()"
   ]
  },
  {
   "cell_type": "markdown",
   "metadata": {
    "collapsed": true
   },
   "source": [
    "## Testing\n",
    "### Castle\n",
    "Lets define the castle class:"
   ]
  },
  {
   "cell_type": "code",
   "execution_count": 99,
   "metadata": {
    "collapsed": true
   },
   "outputs": [],
   "source": [
    "class Castle(object):\n",
    "    def __init__(self, name):\n",
    "        self.name = name\n",
    "        self.boss = 'Bowser'\n",
    "        self.world = 'Grass Land'\n",
    "\n",
    "    def access(self, character):\n",
    "        if character.powerup == 'Super Mushroom':\n",
    "            return True\n",
    "        else:\n",
    "            return False\n",
    "    \n",
    "    def get_boss(self):\n",
    "        return self.boss\n",
    "\n",
    "    def get_world(self):\n",
    "        return self.world"
   ]
  },
  {
   "cell_type": "markdown",
   "metadata": {},
   "source": [
    "We will also define a character class:"
   ]
  },
  {
   "cell_type": "code",
   "execution_count": 100,
   "metadata": {
    "collapsed": false
   },
   "outputs": [],
   "source": [
    "class Character(object):\n",
    "    def __init__(self, name):\n",
    "        self.name = name\n",
    "        self.powerup = ''\n",
    "\n",
    "    def powerup(self, powerup):\n",
    "        self.powerup = powerup\n",
    "\n",
    "    def get_powerup(self):\n",
    "        return self.powerup"
   ]
  },
  {
   "cell_type": "markdown",
   "metadata": {},
   "source": [
    "Finally we will define a testclass to test the functionality of the classes."
   ]
  },
  {
   "cell_type": "code",
   "execution_count": 101,
   "metadata": {
    "collapsed": false
   },
   "outputs": [],
   "source": [
    "class CharacterTestClass(unittest.TestCase):\n",
    "    \"\"\" Defines the tests for the Character class \"\"\"\n",
    "    def setUp(self):\n",
    "        \"\"\" Set the castle for the test cases \"\"\"\n",
    "        self.castle = Castle('Bowsers Castle')\n",
    "        \n",
    "    def test_mock_access_denied(self):\n",
    "        \"\"\" Access denied for star powerup \"\"\"\n",
    "        mock_character = mock.Mock(powerup = 'Starman')\n",
    "        self.assertFalse(self.castle.access(mock_character))\n",
    "   \n",
    "    def test_mock_access_granted(self):\n",
    "        \"\"\" Access granted for mushroom powerup \"\"\"\n",
    "        mock_character = mock.Mock(powerup = 'Super Mushroom')\n",
    "        self.assertTrue(self.castle.access(mock_character))\n",
    "        \n",
    "    def test_default_castle_boss(self):\n",
    "        \"\"\" Verifty the default boss is Bowser \"\"\"\n",
    "        self.assertEqual(self.castle.get_boss(), \"Bowser\")\n",
    "        \n",
    "    def test_default_castle_world(self):\n",
    "        \"\"\" Verify the default world is Grass Land \"\"\"\n",
    "        self.assertEqual(self.castle.get_world(), \"Grass Land\")\n",
    "\n",
    "    # Mock a class method\n",
    "    @mock.patch.object(Castle, 'get_boss')\n",
    "    def test_mock_castle_boss(self, mock_get_boss):\n",
    "        mock_get_boss.return_value = \"Hammer Bro\"\n",
    "        self.assertEqual(self.castle.get_boss(), \"Hammer Bro\")\n",
    "        self.assertEqual(self.castle.get_world(), \"Grass Land\")\n",
    "        \n",
    "    # Mock an instance\n",
    "    @mock.patch(__name__+'.Castle')\n",
    "    def test_mock_castle(self, MockCastle):\n",
    "        instance = MockCastle\n",
    "        instance.get_boss.return_value = \"Toad\"\n",
    "        instance.get_world.return_value = \"Desert Land\"\n",
    "        self.castle = Castle\n",
    "        self.assertEqual(self.castle.get_boss(), \"Toad\")\n",
    "        self.assertEqual(self.castle.get_world(), \"Desert Land\")\n",
    "        \n",
    "    # Mock an instance method\n",
    "    def test_mock_castle_instance_method(self):\n",
    "        # Boss is still Bowser\n",
    "        self.assertNotEqual(self.castle.get_boss(), \"Koopa Troopa\")\n",
    "        # Set a return_value for the get_boss method\n",
    "        self.castle.get_boss = mock.Mock(return_value = \"Koopa Troopa\")\n",
    "        # Boss is Koopa Troopa now\n",
    "        self.assertEqual(self.castle.get_boss(), \"Koopa Troopa\")\n",
    "        \n",
    "    def test_castle_with_more_bosses(self):\n",
    "        multi_boss_castle = mock.Mock()\n",
    "        # Set a list as side_effect for the get_boss method\n",
    "        multi_boss_castle.get_boss.side_effect = [\"Goomba\", \"Boo\"]\n",
    "        # First value is Goomba\n",
    "        self.assertEqual(multi_boss_castle.get_boss(), \"Goomba\")\n",
    "        # Second value is Boo\n",
    "        self.assertEqual(multi_boss_castle.get_boss(), \"Boo\")\n",
    "        # Third value does not exist and raises a StopIteration\n",
    "        self.assertRaises(StopIteration, multi_boss_castle.get_boss)\n",
    "         \n",
    "    def test_calls_to_castle(self):\n",
    "        self.castle.access = mock.Mock()\n",
    "        self.castle.access.return_value = \"No access\"\n",
    "        # We should retrieve no access for everybody\n",
    "        self.assertEqual(self.castle.access('Let me in'), \"No access\")\n",
    "        self.assertEqual(self.castle.access('Let me in, please'), \"No access\")\n",
    "        self.assertEqual(self.castle.access('Let me in, please sir!'), \"No access\")\n",
    "        # Verify the length of the arguments list\n",
    "        self.assertEqual(len(self.castle.access.call_args_list), 3)\n"
   ]
  },
  {
   "cell_type": "markdown",
   "metadata": {},
   "source": [
    "## Run the test suite"
   ]
  },
  {
   "cell_type": "code",
   "execution_count": 102,
   "metadata": {
    "collapsed": false
   },
   "outputs": [
    {
     "name": "stderr",
     "output_type": "stream",
     "text": [
      "test_calls_to_castle (__main__.CharacterTestClass) ... ok\n",
      "test_castle_with_more_bosses (__main__.CharacterTestClass) ... ok\n",
      "test_default_castle_boss (__main__.CharacterTestClass)\n",
      "Verifty the default boss is Bowser ... ok\n",
      "test_default_castle_world (__main__.CharacterTestClass)\n",
      "Verify the default world is Grass Land ... ok\n",
      "test_mock_access_denied (__main__.CharacterTestClass)\n",
      "Access denied for star powerup ... ok\n",
      "test_mock_access_granted (__main__.CharacterTestClass)\n",
      "Access granted for mushroom powerup ... ok\n",
      "test_mock_castle (__main__.CharacterTestClass) ... ok\n",
      "test_mock_castle_boss (__main__.CharacterTestClass) ... ok\n",
      "test_mock_castle_instance_method (__main__.CharacterTestClass) ... ok\n",
      "\n",
      "----------------------------------------------------------------------\n",
      "Ran 9 tests in 0.016s\n",
      "\n",
      "OK\n"
     ]
    },
    {
     "data": {
      "text/plain": [
       "<unittest.runner.TextTestResult run=9 errors=0 failures=0>"
      ]
     },
     "execution_count": 102,
     "metadata": {},
     "output_type": "execute_result"
    }
   ],
   "source": [
    "import sys\n",
    "suite = unittest.TestLoader().loadTestsFromTestCase(CharacterTestClass)\n",
    "unittest.TextTestRunner(verbosity=4,stream=sys.stderr).run(suite)"
   ]
  },
  {
   "cell_type": "code",
   "execution_count": 103,
   "metadata": {
    "collapsed": false
   },
   "outputs": [],
   "source": [
    "class CharacterCastleTestClass(unittest.TestCase):\n",
    "    \"\"\" Defines the tests for the Character and Castle class together \"\"\"\n",
    "    @mock.patch(__name__+'.Castle')\n",
    "    @mock.patch(__name__+'.Character')\n",
    "    def test_mock_castle_and_character(self, MockCharacter, MockCastle):\n",
    "        # Note the order of the arguments of this test\n",
    "        MockCastle.name = 'Mocked Castle'\n",
    "        MockCharacter.name = 'Mocked Character'\n",
    "        self.assertEqual(Castle.name, 'Mocked Castle')\n",
    "        self.assertEqual(Character.name, 'Mocked Character')\n",
    "    \n",
    "    def test_fake_powerup(self):\n",
    "        character = Character(\"Sentinel Character\")\n",
    "        character.powerup = mock.Mock()\n",
    "        character.powerup.return_value = mock.sentinel.fake_superpower\n",
    "        self.assertEqual(character.powerup(), mock.sentinel.fake_superpower)\n",
    "        \n",
    "    def test_castle_with_more_powerups(self):\n",
    "        self.castle = Castle('Beautiful Castle')\n",
    "        multi_characters = mock.Mock()\n",
    "        # Set a list as side_effect for the get_boss method\n",
    "        multi_characters.get_powerup.side_effect = [\"mushroom\", \"star\"]\n",
    "        # First value is mushroom\n",
    "        self.assertEqual(multi_characters.get_powerup(), \"mushroom\")\n",
    "        # Second value is star\n",
    "        self.assertEqual(multi_characters.get_powerup(), \"star\")\n",
    "        # Third value does not exist and raises a StopIteration\n",
    "        self.assertRaises(StopIteration, multi_characters.get_powerup)"
   ]
  },
  {
   "cell_type": "code",
   "execution_count": 104,
   "metadata": {
    "collapsed": false
   },
   "outputs": [
    {
     "name": "stderr",
     "output_type": "stream",
     "text": [
      "test_castle_with_more_powerups (__main__.CharacterCastleTestClass) ... ok\n",
      "test_fake_powerup (__main__.CharacterCastleTestClass) ... ok\n",
      "test_mock_castle_and_character (__main__.CharacterCastleTestClass) ... ok\n",
      "\n",
      "----------------------------------------------------------------------\n",
      "Ran 3 tests in 0.006s\n",
      "\n",
      "OK\n"
     ]
    },
    {
     "data": {
      "text/plain": [
       "<unittest.runner.TextTestResult run=3 errors=0 failures=0>"
      ]
     },
     "execution_count": 104,
     "metadata": {},
     "output_type": "execute_result"
    }
   ],
   "source": [
    "suite = unittest.TestLoader().loadTestsFromTestCase(CharacterCastleTestClass)\n",
    "unittest.TextTestRunner(verbosity=2,stream=sys.stderr).run(suite)"
   ]
  }
 ],
 "metadata": {
  "anaconda-cloud": {},
  "kernelspec": {
   "display_name": "Python 3",
   "language": "python",
   "name": "python3"
  },
  "language_info": {
   "codemirror_mode": {
    "name": "ipython",
    "version": 3
   },
   "file_extension": ".py",
   "mimetype": "text/x-python",
   "name": "python",
   "nbconvert_exporter": "python",
   "pygments_lexer": "ipython3",
   "version": "3.6.0"
  }
 },
 "nbformat": 4,
 "nbformat_minor": 1
}
